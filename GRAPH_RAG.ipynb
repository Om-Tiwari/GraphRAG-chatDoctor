{
  "metadata": {
    "colab": {
      "provenance": [],
      "include_colab_link": true
    },
    "kernelspec": {
      "name": "python3",
      "display_name": "Python 3"
    },
    "language_info": {
      "name": "python",
      "version": "3.10.14",
      "mimetype": "text/x-python",
      "codemirror_mode": {
        "name": "ipython",
        "version": 3
      },
      "pygments_lexer": "ipython3",
      "nbconvert_exporter": "python",
      "file_extension": ".py"
    },
    "widgets": {
      "application/vnd.jupyter.widget-state+json": {
        "0edc5c962bd346ca85ee46d82fc55399": {
          "model_module": "yfiles-jupyter-graphs",
          "model_name": "GraphModel",
          "model_module_version": "^1.8.1",
          "state": {
            "_context_pane_mapping": [
              {
                "id": "Neighborhood",
                "title": "Neighborhood"
              },
              {
                "id": "Data",
                "title": "Data"
              },
              {
                "id": "Search",
                "title": "Search"
              },
              {
                "id": "About",
                "title": "About"
              }
            ],
            "_data_importer": "neo4j",
            "_directed": true,
            "_dom_classes": [],
            "_edges": [
              {
                "id": 1152922604118474800,
                "start": 1,
                "end": 2,
                "properties": {
                  "label": "CONSULTS"
                },
                "label": "CONSULTS",
                "color": "#2196F3",
                "thickness_factor": 1,
                "directed": true
              },
              {
                "id": 6917530127152710000,
                "start": 1,
                "end": 60,
                "properties": {
                  "label": "CONSULTS"
                },
                "label": "CONSULTS",
                "color": "#2196F3",
                "thickness_factor": 1,
                "directed": true
              },
              {
                "id": 6917530127152710000,
                "start": 1,
                "end": 240,
                "properties": {
                  "label": "CONSULTS"
                },
                "label": "CONSULTS",
                "color": "#2196F3",
                "thickness_factor": 1,
                "directed": true
              },
              {
                "id": 1152923703630102500,
                "start": 1,
                "end": 3,
                "properties": {
                  "label": "HAS"
                },
                "label": "HAS",
                "color": "#4CAF50",
                "thickness_factor": 1,
                "directed": true
              },
              {
                "id": 1155175503443787800,
                "start": 1,
                "end": 18,
                "properties": {
                  "label": "HAS"
                },
                "label": "HAS",
                "color": "#4CAF50",
                "thickness_factor": 1,
                "directed": true
              },
              {
                "id": 6917531226664337000,
                "start": 1,
                "end": 62,
                "properties": {
                  "label": "HAS"
                },
                "label": "HAS",
                "color": "#4CAF50",
                "thickness_factor": 1,
                "directed": true
              },
              {
                "id": 6917531226664337000,
                "start": 1,
                "end": 196,
                "properties": {
                  "label": "HAS"
                },
                "label": "HAS",
                "color": "#4CAF50",
                "thickness_factor": 1,
                "directed": true
              },
              {
                "id": 6917531226664337000,
                "start": 1,
                "end": 214,
                "properties": {
                  "label": "HAS"
                },
                "label": "HAS",
                "color": "#4CAF50",
                "thickness_factor": 1,
                "directed": true
              },
              {
                "id": 1152927002164985900,
                "start": 1,
                "end": 6,
                "properties": {
                  "label": "EXPERIENCES_PAIN_IN"
                },
                "label": "EXPERIENCES_PAIN_IN",
                "color": "#F44336",
                "thickness_factor": 1,
                "directed": true
              },
              {
                "id": 1152928101676613600,
                "start": 1,
                "end": 23,
                "properties": {
                  "label": "TREATED_WITH"
                },
                "label": "TREATED_WITH",
                "color": "#607D8B",
                "thickness_factor": 1,
                "directed": true
              },
              {
                "id": 1152929201188241400,
                "start": 1,
                "end": 8,
                "properties": {
                  "label": "SHOULD_CONSULT"
                },
                "label": "SHOULD_CONSULT",
                "color": "#673AB7",
                "thickness_factor": 1,
                "directed": true
              },
              {
                "id": 1152931400211497000,
                "start": 1,
                "end": 15,
                "properties": {
                  "label": "TAKES"
                },
                "label": "TAKES",
                "color": "#CDDC39",
                "thickness_factor": 1,
                "directed": true
              },
              {
                "id": 6917538923245732000,
                "start": 1,
                "end": 67,
                "properties": {
                  "label": "TAKES"
                },
                "label": "TAKES",
                "color": "#CDDC39",
                "thickness_factor": 1,
                "directed": true
              },
              {
                "id": 6917538923245732000,
                "start": 1,
                "end": 95,
                "properties": {
                  "label": "TAKES"
                },
                "label": "TAKES",
                "color": "#CDDC39",
                "thickness_factor": 1,
                "directed": true
              },
              {
                "id": 6917538923245732000,
                "start": 1,
                "end": 96,
                "properties": {
                  "label": "TAKES"
                },
                "label": "TAKES",
                "color": "#CDDC39",
                "thickness_factor": 1,
                "directed": true
              },
              {
                "id": 6917538923245732000,
                "start": 1,
                "end": 258,
                "properties": {
                  "label": "TAKES"
                },
                "label": "TAKES",
                "color": "#CDDC39",
                "thickness_factor": 1,
                "directed": true
              },
              {
                "id": 6917538923245732000,
                "start": 1,
                "end": 310,
                "properties": {
                  "label": "TAKES"
                },
                "label": "TAKES",
                "color": "#CDDC39",
                "thickness_factor": 1,
                "directed": true
              },
              {
                "id": 1152932499723124700,
                "start": 1,
                "end": 16,
                "properties": {
                  "label": "EXPERIENCES"
                },
                "label": "EXPERIENCES",
                "color": "#9E9E9E",
                "thickness_factor": 1,
                "directed": true
              },
              {
                "id": 1155184299536810000,
                "start": 1,
                "end": 17,
                "properties": {
                  "label": "EXPERIENCES"
                },
                "label": "EXPERIENCES",
                "color": "#9E9E9E",
                "thickness_factor": 1,
                "directed": true
              },
              {
                "id": 6917540022757360000,
                "start": 1,
                "end": 56,
                "properties": {
                  "label": "EXPERIENCES"
                },
                "label": "EXPERIENCES",
                "color": "#9E9E9E",
                "thickness_factor": 1,
                "directed": true
              },
              {
                "id": 6917544420803871000,
                "start": 1,
                "end": 44,
                "properties": {
                  "label": "PATIENT"
                },
                "label": "PATIENT",
                "color": "#9C27B0",
                "thickness_factor": 1,
                "directed": true
              },
              {
                "id": 6917547719338754000,
                "start": 1,
                "end": 77,
                "properties": {
                  "label": "HAS_CONDITION"
                },
                "label": "HAS_CONDITION",
                "color": "#2196F3",
                "thickness_factor": 1,
                "directed": true
              },
              {
                "id": 6917547719338754000,
                "start": 1,
                "end": 205,
                "properties": {
                  "label": "HAS_CONDITION"
                },
                "label": "HAS_CONDITION",
                "color": "#2196F3",
                "thickness_factor": 1,
                "directed": true
              },
              {
                "id": 6917555415920148000,
                "start": 1,
                "end": 44,
                "properties": {
                  "label": "CONSULTED"
                },
                "label": "CONSULTED",
                "color": "#4CAF50",
                "thickness_factor": 1,
                "directed": true
              },
              {
                "id": 6917555415920148000,
                "start": 1,
                "end": 124,
                "properties": {
                  "label": "CONSULTED"
                },
                "label": "CONSULTED",
                "color": "#4CAF50",
                "thickness_factor": 1,
                "directed": true
              },
              {
                "id": 6917559813966660000,
                "start": 1,
                "end": 47,
                "properties": {
                  "label": "EXPERIENCED"
                },
                "label": "EXPERIENCED",
                "color": "#F44336",
                "thickness_factor": 1,
                "directed": true
              },
              {
                "id": 6917563112501543000,
                "start": 1,
                "end": 50,
                "properties": {
                  "label": "MAY_TAKE"
                },
                "label": "MAY_TAKE",
                "color": "#607D8B",
                "thickness_factor": 1,
                "directed": true
              },
              {
                "id": 6917575207129448000,
                "start": 1,
                "end": 74,
                "properties": {
                  "label": "HAS_DISEASE"
                },
                "label": "HAS_DISEASE",
                "color": "#673AB7",
                "thickness_factor": 1,
                "directed": true
              },
              {
                "id": 6917575207129448000,
                "start": 1,
                "end": 75,
                "properties": {
                  "label": "HAS_DISEASE"
                },
                "label": "HAS_DISEASE",
                "color": "#673AB7",
                "thickness_factor": 1,
                "directed": true
              },
              {
                "id": 6917575207129448000,
                "start": 1,
                "end": 76,
                "properties": {
                  "label": "HAS_DISEASE"
                },
                "label": "HAS_DISEASE",
                "color": "#673AB7",
                "thickness_factor": 1,
                "directed": true
              },
              {
                "id": 6917576306641076000,
                "start": 1,
                "end": 78,
                "properties": {
                  "label": "MAY_BE_VULNERABLE_TO"
                },
                "label": "MAY_BE_VULNERABLE_TO",
                "color": "#CDDC39",
                "thickness_factor": 1,
                "directed": true
              },
              {
                "id": 6917582903710843000,
                "start": 1,
                "end": 94,
                "properties": {
                  "label": "SUFFERS_FROM"
                },
                "label": "SUFFERS_FROM",
                "color": "#9E9E9E",
                "thickness_factor": 1,
                "directed": true
              },
              {
                "id": 6917589500780610000,
                "start": 1,
                "end": 125,
                "properties": {
                  "label": "TAKING"
                },
                "label": "TAKING",
                "color": "#9C27B0",
                "thickness_factor": 1,
                "directed": true
              },
              {
                "id": 6917589500780610000,
                "start": 1,
                "end": 126,
                "properties": {
                  "label": "TAKING"
                },
                "label": "TAKING",
                "color": "#9C27B0",
                "thickness_factor": 1,
                "directed": true
              },
              {
                "id": 6917590600292237000,
                "start": 1,
                "end": 30,
                "properties": {
                  "label": "TOOK"
                },
                "label": "TOOK",
                "color": "#2196F3",
                "thickness_factor": 1,
                "directed": true
              },
              {
                "id": 6917590600292237000,
                "start": 1,
                "end": 127,
                "properties": {
                  "label": "TOOK"
                },
                "label": "TOOK",
                "color": "#2196F3",
                "thickness_factor": 1,
                "directed": true
              },
              {
                "id": 6917591699803865000,
                "start": 1,
                "end": 129,
                "properties": {
                  "label": "SUFFERING_FROM"
                },
                "label": "SUFFERING_FROM",
                "color": "#4CAF50",
                "thickness_factor": 1,
                "directed": true
              },
              {
                "id": 6917591699803865000,
                "start": 1,
                "end": 130,
                "properties": {
                  "label": "SUFFERING_FROM"
                },
                "label": "SUFFERING_FROM",
                "color": "#4CAF50",
                "thickness_factor": 1,
                "directed": true
              },
              {
                "id": 6917604893943398000,
                "start": 1,
                "end": 247,
                "properties": {
                  "label": "MAY_HAVE"
                },
                "label": "MAY_HAVE",
                "color": "#F44336",
                "thickness_factor": 1,
                "directed": true
              },
              {
                "id": 6917604893943398000,
                "start": 1,
                "end": 264,
                "properties": {
                  "label": "MAY_HAVE"
                },
                "label": "MAY_HAVE",
                "color": "#F44336",
                "thickness_factor": 1,
                "directed": true
              },
              {
                "id": 6917604893943398000,
                "start": 1,
                "end": 313,
                "properties": {
                  "label": "MAY_HAVE"
                },
                "label": "MAY_HAVE",
                "color": "#F44336",
                "thickness_factor": 1,
                "directed": true
              },
              {
                "id": 6917604893943398000,
                "start": 1,
                "end": 314,
                "properties": {
                  "label": "MAY_HAVE"
                },
                "label": "MAY_HAVE",
                "color": "#F44336",
                "thickness_factor": 1,
                "directed": true
              },
              {
                "id": 6917604893943398000,
                "start": 1,
                "end": 328,
                "properties": {
                  "label": "MAY_HAVE"
                },
                "label": "MAY_HAVE",
                "color": "#F44336",
                "thickness_factor": 1,
                "directed": true
              },
              {
                "id": 6917613690036421000,
                "start": 1,
                "end": 206,
                "properties": {
                  "label": "USES"
                },
                "label": "USES",
                "color": "#607D8B",
                "thickness_factor": 1,
                "directed": true
              },
              {
                "id": 6917613690036421000,
                "start": 1,
                "end": 217,
                "properties": {
                  "label": "USES"
                },
                "label": "USES",
                "color": "#607D8B",
                "thickness_factor": 1,
                "directed": true
              },
              {
                "id": 6917623585641071000,
                "start": 1,
                "end": 243,
                "properties": {
                  "label": "POSSIBLY_EXPERIENCING"
                },
                "label": "POSSIBLY_EXPERIENCING",
                "color": "#673AB7",
                "thickness_factor": 1,
                "directed": true
              },
              {
                "id": 1153019361141719000,
                "start": 1,
                "end": 101,
                "properties": {
                  "label": "EXPERIENCING"
                },
                "label": "EXPERIENCING",
                "color": "#CDDC39",
                "thickness_factor": 1,
                "directed": true
              },
              {
                "id": 1155271160955404300,
                "start": 1,
                "end": 244,
                "properties": {
                  "label": "EXPERIENCING"
                },
                "label": "EXPERIENCING",
                "color": "#CDDC39",
                "thickness_factor": 1,
                "directed": true
              },
              {
                "id": 6917626884175954000,
                "start": 1,
                "end": 320,
                "properties": {
                  "label": "EXPERIENCING"
                },
                "label": "EXPERIENCING",
                "color": "#CDDC39",
                "thickness_factor": 1,
                "directed": true
              },
              {
                "id": 1153020460653346800,
                "start": 1,
                "end": 2,
                "properties": {
                  "label": "VISITING"
                },
                "label": "VISITING",
                "color": "#9E9E9E",
                "thickness_factor": 1,
                "directed": true
              },
              {
                "id": 6917627983687582000,
                "start": 1,
                "end": 242,
                "properties": {
                  "label": "VISITING"
                },
                "label": "VISITING",
                "color": "#9E9E9E",
                "thickness_factor": 1,
                "directed": true
              },
              {
                "id": 6917629083199209000,
                "start": 1,
                "end": 246,
                "properties": {
                  "label": "CONCERNED_ABOUT"
                },
                "label": "CONCERNED_ABOUT",
                "color": "#9C27B0",
                "thickness_factor": 1,
                "directed": true
              },
              {
                "id": 1153023759188230100,
                "start": 1,
                "end": 11,
                "properties": {
                  "label": "RULES_OUT"
                },
                "label": "RULES_OUT",
                "color": "#2196F3",
                "thickness_factor": 1,
                "directed": true
              },
              {
                "id": 6917633481245721000,
                "start": 1,
                "end": 271,
                "properties": {
                  "label": "FAMILY_MEMBER"
                },
                "label": "FAMILY_MEMBER",
                "color": "#4CAF50",
                "thickness_factor": 1,
                "directed": true
              },
              {
                "id": 6917640078315487000,
                "start": 1,
                "end": 287,
                "properties": {
                  "label": "TREATMENT"
                },
                "label": "TREATMENT",
                "color": "#F44336",
                "thickness_factor": 1,
                "directed": true
              },
              {
                "id": 6917646675385254000,
                "start": 1,
                "end": 307,
                "properties": {
                  "label": "UNLIKELY_TO_HAVE"
                },
                "label": "UNLIKELY_TO_HAVE",
                "color": "#607D8B",
                "thickness_factor": 1,
                "directed": true
              },
              {
                "id": 6917647774896882000,
                "start": 1,
                "end": 26,
                "properties": {
                  "label": "VISITS"
                },
                "label": "VISITS",
                "color": "#673AB7",
                "thickness_factor": 1,
                "directed": true
              },
              {
                "id": 6917648874408509000,
                "start": 1,
                "end": 212,
                "properties": {
                  "label": "UNDERGOES"
                },
                "label": "UNDERGOES",
                "color": "#CDDC39",
                "thickness_factor": 1,
                "directed": true
              },
              {
                "id": 6917651073431765000,
                "start": 1,
                "end": 321,
                "properties": {
                  "label": "MAY_DEVELOP"
                },
                "label": "MAY_DEVELOP",
                "color": "#9E9E9E",
                "thickness_factor": 1,
                "directed": true
              },
              {
                "id": 1152933599234752500,
                "start": 2,
                "end": 19,
                "properties": {
                  "label": "RECOMMENDS"
                },
                "label": "RECOMMENDS",
                "color": "#9C27B0",
                "thickness_factor": 1,
                "directed": true
              },
              {
                "id": 6917541122268987000,
                "start": 2,
                "end": 72,
                "properties": {
                  "label": "RECOMMENDS"
                },
                "label": "RECOMMENDS",
                "color": "#9C27B0",
                "thickness_factor": 1,
                "directed": true
              },
              {
                "id": 6917541122268987000,
                "start": 2,
                "end": 135,
                "properties": {
                  "label": "RECOMMENDS"
                },
                "label": "RECOMMENDS",
                "color": "#9C27B0",
                "thickness_factor": 1,
                "directed": true
              },
              {
                "id": 6917541122268987000,
                "start": 2,
                "end": 308,
                "properties": {
                  "label": "RECOMMENDS"
                },
                "label": "RECOMMENDS",
                "color": "#9C27B0",
                "thickness_factor": 1,
                "directed": true
              },
              {
                "id": 6917541122268987000,
                "start": 2,
                "end": 312,
                "properties": {
                  "label": "RECOMMENDS"
                },
                "label": "RECOMMENDS",
                "color": "#9C27B0",
                "thickness_factor": 1,
                "directed": true
              },
              {
                "id": 6917541122268987000,
                "start": 2,
                "end": 318,
                "properties": {
                  "label": "RECOMMENDS"
                },
                "label": "RECOMMENDS",
                "color": "#9C27B0",
                "thickness_factor": 1,
                "directed": true
              },
              {
                "id": 1152934698746380300,
                "start": 2,
                "end": 20,
                "properties": {
                  "label": "RECOMMENDS_TESTING_FOR"
                },
                "label": "RECOMMENDS_TESTING_FOR",
                "color": "#2196F3",
                "thickness_factor": 1,
                "directed": true
              },
              {
                "id": 1152935798258008000,
                "start": 2,
                "end": 25,
                "properties": {
                  "label": "ADVISOR"
                },
                "label": "ADVISOR",
                "color": "#4CAF50",
                "thickness_factor": 1,
                "directed": true
              },
              {
                "id": 1152937997281263600,
                "start": 2,
                "end": 26,
                "properties": {
                  "label": "AFFILIATED_WITH"
                },
                "label": "AFFILIATED_WITH",
                "color": "#F44336",
                "thickness_factor": 1,
                "directed": true
              },
              {
                "id": 1155190896606576600,
                "start": 2,
                "end": 25,
                "properties": {
                  "label": "TREATS"
                },
                "label": "TREATS",
                "color": "#607D8B",
                "thickness_factor": 1,
                "directed": true
              },
              {
                "id": 6917546619827126000,
                "start": 2,
                "end": 29,
                "properties": {
                  "label": "TREATS"
                },
                "label": "TREATS",
                "color": "#607D8B",
                "thickness_factor": 1,
                "directed": true
              },
              {
                "id": 6917552117385265000,
                "start": 2,
                "end": 29,
                "properties": {
                  "label": "ADVISING"
                },
                "label": "ADVISING",
                "color": "#673AB7",
                "thickness_factor": 1,
                "directed": true
              },
              {
                "id": 6917552117385265000,
                "start": 2,
                "end": 238,
                "properties": {
                  "label": "ADVISING"
                },
                "label": "ADVISING",
                "color": "#673AB7",
                "thickness_factor": 1,
                "directed": true
              },
              {
                "id": 1155198593187971000,
                "start": 2,
                "end": 1,
                "properties": {
                  "label": "ADVISES"
                },
                "label": "ADVISES",
                "color": "#CDDC39",
                "thickness_factor": 1,
                "directed": true
              },
              {
                "id": 1152946793374285800,
                "start": 2,
                "end": 29,
                "properties": {
                  "label": "ADVISES"
                },
                "label": "ADVISES",
                "color": "#CDDC39",
                "thickness_factor": 1,
                "directed": true
              },
              {
                "id": 6917571908594565000,
                "start": 2,
                "end": 68,
                "properties": {
                  "label": "DIAGNOSES"
                },
                "label": "DIAGNOSES",
                "color": "#9E9E9E",
                "thickness_factor": 1,
                "directed": true
              },
              {
                "id": 6917571908594565000,
                "start": 2,
                "end": 101,
                "properties": {
                  "label": "DIAGNOSES"
                },
                "label": "DIAGNOSES",
                "color": "#9E9E9E",
                "thickness_factor": 1,
                "directed": true
              },
              {
                "id": 6917573008106193000,
                "start": 2,
                "end": 69,
                "properties": {
                  "label": "PRESCRIBES"
                },
                "label": "PRESCRIBES",
                "color": "#9C27B0",
                "thickness_factor": 1,
                "directed": true
              },
              {
                "id": 6917573008106193000,
                "start": 2,
                "end": 70,
                "properties": {
                  "label": "PRESCRIBES"
                },
                "label": "PRESCRIBES",
                "color": "#9C27B0",
                "thickness_factor": 1,
                "directed": true
              },
              {
                "id": 6917573008106193000,
                "start": 2,
                "end": 97,
                "properties": {
                  "label": "PRESCRIBES"
                },
                "label": "PRESCRIBES",
                "color": "#9C27B0",
                "thickness_factor": 1,
                "directed": true
              },
              {
                "id": 6917573008106193000,
                "start": 2,
                "end": 316,
                "properties": {
                  "label": "PRESCRIBES"
                },
                "label": "PRESCRIBES",
                "color": "#9C27B0",
                "thickness_factor": 1,
                "directed": true
              },
              {
                "id": 6917573008106193000,
                "start": 2,
                "end": 317,
                "properties": {
                  "label": "PRESCRIBES"
                },
                "label": "PRESCRIBES",
                "color": "#9C27B0",
                "thickness_factor": 1,
                "directed": true
              },
              {
                "id": 1152977579699863600,
                "start": 2,
                "end": 29,
                "properties": {
                  "label": "TREATED"
                },
                "label": "TREATED",
                "color": "#2196F3",
                "thickness_factor": 1,
                "directed": true
              },
              {
                "id": 6917598296873632000,
                "start": 2,
                "end": 210,
                "properties": {
                  "label": "REFERS"
                },
                "label": "REFERS",
                "color": "#4CAF50",
                "thickness_factor": 1,
                "directed": true
              },
              {
                "id": 6917608192478282000,
                "start": 2,
                "end": 198,
                "properties": {
                  "label": "VIEWED"
                },
                "label": "VIEWED",
                "color": "#F44336",
                "thickness_factor": 1,
                "directed": true
              },
              {
                "id": 6917616988571304000,
                "start": 2,
                "end": 210,
                "properties": {
                  "label": "REFERS_TO"
                },
                "label": "REFERS_TO",
                "color": "#607D8B",
                "thickness_factor": 1,
                "directed": true
              },
              {
                "id": 1153018261630091300,
                "start": 2,
                "end": 1,
                "properties": {
                  "label": "CONSULTING"
                },
                "label": "CONSULTING",
                "color": "#673AB7",
                "thickness_factor": 1,
                "directed": true
              },
              {
                "id": 1153022659676602400,
                "start": 2,
                "end": 1,
                "properties": {
                  "label": "ASSISTING"
                },
                "label": "ASSISTING",
                "color": "#CDDC39",
                "thickness_factor": 1,
                "directed": true
              },
              {
                "id": 1153030356257996800,
                "start": 2,
                "end": 1,
                "properties": {
                  "label": "CONSULTATION"
                },
                "label": "CONSULTATION",
                "color": "#9E9E9E",
                "thickness_factor": 1,
                "directed": true
              },
              {
                "id": 6917638978803859000,
                "start": 2,
                "end": 287,
                "properties": {
                  "label": "PRESCRIPTION"
                },
                "label": "PRESCRIPTION",
                "color": "#9C27B0",
                "thickness_factor": 1,
                "directed": true
              },
              {
                "id": 6917638978803859000,
                "start": 2,
                "end": 288,
                "properties": {
                  "label": "PRESCRIPTION"
                },
                "label": "PRESCRIPTION",
                "color": "#9C27B0",
                "thickness_factor": 1,
                "directed": true
              },
              {
                "id": 6917638978803859000,
                "start": 2,
                "end": 289,
                "properties": {
                  "label": "PRESCRIPTION"
                },
                "label": "PRESCRIPTION",
                "color": "#9C27B0",
                "thickness_factor": 1,
                "directed": true
              },
              {
                "id": 6917653272455021000,
                "start": 2,
                "end": 338,
                "properties": {
                  "label": "EXAMINES"
                },
                "label": "EXAMINES",
                "color": "#2196F3",
                "thickness_factor": 1,
                "directed": true
              },
              {
                "id": 1152924803141730300,
                "start": 3,
                "end": 4,
                "properties": {
                  "label": "CAUSES"
                },
                "label": "CAUSES",
                "color": "#4CAF50",
                "thickness_factor": 1,
                "directed": true
              },
              {
                "id": 1152925902653358000,
                "start": 4,
                "end": 5,
                "properties": {
                  "label": "AFFECTS"
                },
                "label": "AFFECTS",
                "color": "#F44336",
                "thickness_factor": 1,
                "directed": true
              },
              {
                "id": 1152925902653358000,
                "start": 10,
                "end": 12,
                "properties": {
                  "label": "AFFECTS"
                },
                "label": "AFFECTS",
                "color": "#F44336",
                "thickness_factor": 1,
                "directed": true
              },
              {
                "id": 1152930300699869200,
                "start": 10,
                "end": 11,
                "properties": {
                  "label": "IMPACTS"
                },
                "label": "IMPACTS",
                "color": "#607D8B",
                "thickness_factor": 1,
                "directed": true
              },
              {
                "id": 6917530127152710000,
                "start": 25,
                "end": 221,
                "properties": {
                  "label": "CONSULTS"
                },
                "label": "CONSULTS",
                "color": "#2196F3",
                "thickness_factor": 1,
                "directed": true
              },
              {
                "id": 1152929201188241400,
                "start": 25,
                "end": 188,
                "properties": {
                  "label": "SHOULD_CONSULT"
                },
                "label": "SHOULD_CONSULT",
                "color": "#673AB7",
                "thickness_factor": 1,
                "directed": true
              },
              {
                "id": 1152932499723124700,
                "start": 25,
                "end": 177,
                "properties": {
                  "label": "EXPERIENCES"
                },
                "label": "EXPERIENCES",
                "color": "#9E9E9E",
                "thickness_factor": 1,
                "directed": true
              },
              {
                "id": 1155184299536810000,
                "start": 25,
                "end": 178,
                "properties": {
                  "label": "EXPERIENCES"
                },
                "label": "EXPERIENCES",
                "color": "#9E9E9E",
                "thickness_factor": 1,
                "directed": true
              },
              {
                "id": 1157436099350495200,
                "start": 25,
                "end": 179,
                "properties": {
                  "label": "EXPERIENCES"
                },
                "label": "EXPERIENCES",
                "color": "#9E9E9E",
                "thickness_factor": 1,
                "directed": true
              },
              {
                "id": 1152936897769635800,
                "start": 25,
                "end": 2,
                "properties": {
                  "label": "PATIENT"
                },
                "label": "PATIENT",
                "color": "#9C27B0",
                "thickness_factor": 1,
                "directed": true
              },
              {
                "id": 1152940196304519200,
                "start": 25,
                "end": 101,
                "properties": {
                  "label": "HAS_CONDITION"
                },
                "label": "HAS_CONDITION",
                "color": "#2196F3",
                "thickness_factor": 1,
                "directed": true
              },
              {
                "id": 6917547719338754000,
                "start": 25,
                "end": 222,
                "properties": {
                  "label": "HAS_CONDITION"
                },
                "label": "HAS_CONDITION",
                "color": "#2196F3",
                "thickness_factor": 1,
                "directed": true
              },
              {
                "id": 6917547719338754000,
                "start": 25,
                "end": 224,
                "properties": {
                  "label": "HAS_CONDITION"
                },
                "label": "HAS_CONDITION",
                "color": "#2196F3",
                "thickness_factor": 1,
                "directed": true
              },
              {
                "id": 1152995171885908000,
                "start": 25,
                "end": 180,
                "properties": {
                  "label": "UNDERWENT"
                },
                "label": "UNDERWENT",
                "color": "#673AB7",
                "thickness_factor": 1,
                "directed": true
              },
              {
                "id": 1155246971699593200,
                "start": 25,
                "end": 181,
                "properties": {
                  "label": "UNDERWENT"
                },
                "label": "UNDERWENT",
                "color": "#673AB7",
                "thickness_factor": 1,
                "directed": true
              },
              {
                "id": 1157498771513278500,
                "start": 25,
                "end": 182,
                "properties": {
                  "label": "UNDERWENT"
                },
                "label": "UNDERWENT",
                "color": "#673AB7",
                "thickness_factor": 1,
                "directed": true
              },
              {
                "id": 1159750571326963700,
                "start": 25,
                "end": 183,
                "properties": {
                  "label": "UNDERWENT"
                },
                "label": "UNDERWENT",
                "color": "#673AB7",
                "thickness_factor": 1,
                "directed": true
              },
              {
                "id": 1162002371140649000,
                "start": 25,
                "end": 184,
                "properties": {
                  "label": "UNDERWENT"
                },
                "label": "UNDERWENT",
                "color": "#673AB7",
                "thickness_factor": 1,
                "directed": true
              },
              {
                "id": 1164254170954334200,
                "start": 25,
                "end": 185,
                "properties": {
                  "label": "UNDERWENT"
                },
                "label": "UNDERWENT",
                "color": "#673AB7",
                "thickness_factor": 1,
                "directed": true
              },
              {
                "id": 1152996271397535700,
                "start": 25,
                "end": 186,
                "properties": {
                  "label": "HAS_LOW_LEVELS_OF"
                },
                "label": "HAS_LOW_LEVELS_OF",
                "color": "#CDDC39",
                "thickness_factor": 1,
                "directed": true
              },
              {
                "id": 1155248071211221000,
                "start": 25,
                "end": 187,
                "properties": {
                  "label": "HAS_LOW_LEVELS_OF"
                },
                "label": "HAS_LOW_LEVELS_OF",
                "color": "#CDDC39",
                "thickness_factor": 1,
                "directed": true
              },
              {
                "id": 1152997370909163500,
                "start": 25,
                "end": 189,
                "properties": {
                  "label": "MAY_HAVE"
                },
                "label": "MAY_HAVE",
                "color": "#F44336",
                "thickness_factor": 1,
                "directed": true
              },
              {
                "id": 1155249170722848800,
                "start": 25,
                "end": 190,
                "properties": {
                  "label": "MAY_HAVE"
                },
                "label": "MAY_HAVE",
                "color": "#F44336",
                "thickness_factor": 1,
                "directed": true
              },
              {
                "id": 1157500970536534000,
                "start": 25,
                "end": 191,
                "properties": {
                  "label": "MAY_HAVE"
                },
                "label": "MAY_HAVE",
                "color": "#F44336",
                "thickness_factor": 1,
                "directed": true
              },
              {
                "id": 1159752770350219300,
                "start": 25,
                "end": 192,
                "properties": {
                  "label": "MAY_HAVE"
                },
                "label": "MAY_HAVE",
                "color": "#F44336",
                "thickness_factor": 1,
                "directed": true
              },
              {
                "id": 1152931400211497000,
                "start": 29,
                "end": 30,
                "properties": {
                  "label": "TAKES"
                },
                "label": "TAKES",
                "color": "#CDDC39",
                "thickness_factor": 1,
                "directed": true
              },
              {
                "id": 1155183200025182200,
                "start": 29,
                "end": 31,
                "properties": {
                  "label": "TAKES"
                },
                "label": "TAKES",
                "color": "#CDDC39",
                "thickness_factor": 1,
                "directed": true
              },
              {
                "id": 1157434999838867500,
                "start": 29,
                "end": 32,
                "properties": {
                  "label": "TAKES"
                },
                "label": "TAKES",
                "color": "#CDDC39",
                "thickness_factor": 1,
                "directed": true
              },
              {
                "id": 6917540022757360000,
                "start": 29,
                "end": 99,
                "properties": {
                  "label": "EXPERIENCES"
                },
                "label": "EXPERIENCES",
                "color": "#9E9E9E",
                "thickness_factor": 1,
                "directed": true
              },
              {
                "id": 6917540022757360000,
                "start": 29,
                "end": 100,
                "properties": {
                  "label": "EXPERIENCES"
                },
                "label": "EXPERIENCES",
                "color": "#9E9E9E",
                "thickness_factor": 1,
                "directed": true
              },
              {
                "id": 1152940196304519200,
                "start": 29,
                "end": 28,
                "properties": {
                  "label": "HAS_CONDITION"
                },
                "label": "HAS_CONDITION",
                "color": "#2196F3",
                "thickness_factor": 1,
                "directed": true
              },
              {
                "id": 6917547719338754000,
                "start": 29,
                "end": 40,
                "properties": {
                  "label": "HAS_CONDITION"
                },
                "label": "HAS_CONDITION",
                "color": "#2196F3",
                "thickness_factor": 1,
                "directed": true
              },
              {
                "id": 6917547719338754000,
                "start": 29,
                "end": 41,
                "properties": {
                  "label": "HAS_CONDITION"
                },
                "label": "HAS_CONDITION",
                "color": "#2196F3",
                "thickness_factor": 1,
                "directed": true
              },
              {
                "id": 6917547719338754000,
                "start": 29,
                "end": 42,
                "properties": {
                  "label": "HAS_CONDITION"
                },
                "label": "HAS_CONDITION",
                "color": "#2196F3",
                "thickness_factor": 1,
                "directed": true
              },
              {
                "id": 1152941295816147000,
                "start": 29,
                "end": 37,
                "properties": {
                  "label": "HAD_SEX_WITH"
                },
                "label": "HAD_SEX_WITH",
                "color": "#9E9E9E",
                "thickness_factor": 1,
                "directed": true
              },
              {
                "id": 1152942395327774700,
                "start": 29,
                "end": 36,
                "properties": {
                  "label": "USED"
                },
                "label": "USED",
                "color": "#9C27B0",
                "thickness_factor": 1,
                "directed": true
              },
              {
                "id": 1152943494839402500,
                "start": 29,
                "end": 35,
                "properties": {
                  "label": "EXPOSED_TO"
                },
                "label": "EXPOSED_TO",
                "color": "#2196F3",
                "thickness_factor": 1,
                "directed": true
              },
              {
                "id": 6917553216896893000,
                "start": 29,
                "end": 39,
                "properties": {
                  "label": "HAS_RESULT"
                },
                "label": "HAS_RESULT",
                "color": "#4CAF50",
                "thickness_factor": 1,
                "directed": true
              },
              {
                "id": 6917559813966660000,
                "start": 29,
                "end": 102,
                "properties": {
                  "label": "EXPERIENCED"
                },
                "label": "EXPERIENCED",
                "color": "#F44336",
                "thickness_factor": 1,
                "directed": true
              },
              {
                "id": 6917584003222471000,
                "start": 29,
                "end": 101,
                "properties": {
                  "label": "DIAGNOSED_WITH"
                },
                "label": "DIAGNOSED_WITH",
                "color": "#F44336",
                "thickness_factor": 1,
                "directed": true
              },
              {
                "id": 1152922604118474800,
                "start": 33,
                "end": 29,
                "properties": {
                  "label": "CONSULTS"
                },
                "label": "CONSULTS",
                "color": "#2196F3",
                "thickness_factor": 1,
                "directed": true
              },
              {
                "id": 1152987475304513500,
                "start": 33,
                "end": 334,
                "properties": {
                  "label": "PERFORMS"
                },
                "label": "PERFORMS",
                "color": "#607D8B",
                "thickness_factor": 1,
                "directed": true
              },
              {
                "id": 1152948992397541400,
                "start": 44,
                "end": 45,
                "properties": {
                  "label": "ORDERED"
                },
                "label": "ORDERED",
                "color": "#673AB7",
                "thickness_factor": 1,
                "directed": true
              },
              {
                "id": 6919846798152434000,
                "start": 44,
                "end": 137,
                "properties": {
                  "label": "PERFORMS"
                },
                "label": "PERFORMS",
                "color": "#607D8B",
                "thickness_factor": 1,
                "directed": true
              },
              {
                "id": 1152950091909169200,
                "start": 45,
                "end": 46,
                "properties": {
                  "label": "RESULTED_IN"
                },
                "label": "RESULTED_IN",
                "color": "#CDDC39",
                "thickness_factor": 1,
                "directed": true
              },
              {
                "id": 1152951191420797000,
                "start": 46,
                "end": 11,
                "properties": {
                  "label": "RULED_OUT"
                },
                "label": "RULED_OUT",
                "color": "#9E9E9E",
                "thickness_factor": 1,
                "directed": true
              },
              {
                "id": 1152953390444052500,
                "start": 47,
                "end": 48,
                "properties": {
                  "label": "AFFECTED"
                },
                "label": "AFFECTED",
                "color": "#9C27B0",
                "thickness_factor": 1,
                "directed": true
              },
              {
                "id": 1152954489955680300,
                "start": 48,
                "end": 49,
                "properties": {
                  "label": "REGULATED"
                },
                "label": "REGULATED",
                "color": "#2196F3",
                "thickness_factor": 1,
                "directed": true
              },
              {
                "id": 1152956688978935800,
                "start": 52,
                "end": 53,
                "properties": {
                  "label": "INGESTED"
                },
                "label": "INGESTED",
                "color": "#4CAF50",
                "thickness_factor": 1,
                "directed": true
              },
              {
                "id": 1152957788490563600,
                "start": 52,
                "end": 54,
                "properties": {
                  "label": "MISTAKEN_FOR"
                },
                "label": "MISTAKEN_FOR",
                "color": "#F44336",
                "thickness_factor": 1,
                "directed": true
              },
              {
                "id": 1152958888002191400,
                "start": 52,
                "end": 2,
                "properties": {
                  "label": "SEEKING_ADVICE"
                },
                "label": "SEEKING_ADVICE",
                "color": "#607D8B",
                "thickness_factor": 1,
                "directed": true
              },
              {
                "id": 1152983077258002400,
                "start": 52,
                "end": 132,
                "properties": {
                  "label": "TOOK"
                },
                "label": "TOOK",
                "color": "#2196F3",
                "thickness_factor": 1,
                "directed": true
              },
              {
                "id": 1155234877071687700,
                "start": 52,
                "end": 133,
                "properties": {
                  "label": "TOOK"
                },
                "label": "TOOK",
                "color": "#2196F3",
                "thickness_factor": 1,
                "directed": true
              },
              {
                "id": 1152995171885908000,
                "start": 52,
                "end": 302,
                "properties": {
                  "label": "UNDERWENT"
                },
                "label": "UNDERWENT",
                "color": "#673AB7",
                "thickness_factor": 1,
                "directed": true
              },
              {
                "id": 1152959987513819100,
                "start": 56,
                "end": 57,
                "properties": {
                  "label": "NOT_TYPICAL_OF"
                },
                "label": "NOT_TYPICAL_OF",
                "color": "#673AB7",
                "thickness_factor": 1,
                "directed": true
              },
              {
                "id": 1152962186537074700,
                "start": 58,
                "end": 56,
                "properties": {
                  "label": "RELATED_TO"
                },
                "label": "RELATED_TO",
                "color": "#CDDC39",
                "thickness_factor": 1,
                "directed": true
              },
              {
                "id": 1152961087025447000,
                "start": 59,
                "end": 56,
                "properties": {
                  "label": "TRIGGERS"
                },
                "label": "TRIGGERS",
                "color": "#9E9E9E",
                "thickness_factor": 1,
                "directed": true
              },
              {
                "id": 1152987475304513500,
                "start": 60,
                "end": 157,
                "properties": {
                  "label": "PERFORMS"
                },
                "label": "PERFORMS",
                "color": "#607D8B",
                "thickness_factor": 1,
                "directed": true
              },
              {
                "id": 1152963286048702500,
                "start": 62,
                "end": 63,
                "properties": {
                  "label": "INDICATES"
                },
                "label": "INDICATES",
                "color": "#9C27B0",
                "thickness_factor": 1,
                "directed": true
              },
              {
                "id": 1152966584583585800,
                "start": 70,
                "end": 71,
                "properties": {
                  "label": "CONTAINS"
                },
                "label": "CONTAINS",
                "color": "#2196F3",
                "thickness_factor": 1,
                "directed": true
              },
              {
                "id": 1152969883118469000,
                "start": 80,
                "end": 81,
                "properties": {
                  "label": "ASSOCIATED_WITH"
                },
                "label": "ASSOCIATED_WITH",
                "color": "#4CAF50",
                "thickness_factor": 1,
                "directed": true
              },
              {
                "id": 1152969883118469000,
                "start": 81,
                "end": 83,
                "properties": {
                  "label": "ASSOCIATED_WITH"
                },
                "label": "ASSOCIATED_WITH",
                "color": "#4CAF50",
                "thickness_factor": 1,
                "directed": true
              },
              {
                "id": 6919829205966389000,
                "start": 82,
                "end": 80,
                "properties": {
                  "label": "ASSOCIATED_WITH"
                },
                "label": "ASSOCIATED_WITH",
                "color": "#4CAF50",
                "thickness_factor": 1,
                "directed": true
              },
              {
                "id": 1152970982630097000,
                "start": 84,
                "end": 80,
                "properties": {
                  "label": "MEASURED_BY"
                },
                "label": "MEASURED_BY",
                "color": "#F44336",
                "thickness_factor": 1,
                "directed": true
              },
              {
                "id": 1152972082141724700,
                "start": 85,
                "end": 80,
                "properties": {
                  "label": "TREATED_BY"
                },
                "label": "TREATED_BY",
                "color": "#607D8B",
                "thickness_factor": 1,
                "directed": true
              },
              {
                "id": 1152973181653352400,
                "start": 86,
                "end": 80,
                "properties": {
                  "label": "CONSULTED_BY"
                },
                "label": "CONSULTED_BY",
                "color": "#673AB7",
                "thickness_factor": 1,
                "directed": true
              },
              {
                "id": 1152928101676613600,
                "start": 88,
                "end": 89,
                "properties": {
                  "label": "TREATED_WITH"
                },
                "label": "TREATED_WITH",
                "color": "#607D8B",
                "thickness_factor": 1,
                "directed": true
              },
              {
                "id": 1152974281164980200,
                "start": 88,
                "end": 90,
                "properties": {
                  "label": "LEADS_TO"
                },
                "label": "LEADS_TO",
                "color": "#CDDC39",
                "thickness_factor": 1,
                "directed": true
              },
              {
                "id": 1152974281164980200,
                "start": 90,
                "end": 91,
                "properties": {
                  "label": "LEADS_TO"
                },
                "label": "LEADS_TO",
                "color": "#CDDC39",
                "thickness_factor": 1,
                "directed": true
              },
              {
                "id": 6919833604012900000,
                "start": 92,
                "end": 90,
                "properties": {
                  "label": "LEADS_TO"
                },
                "label": "LEADS_TO",
                "color": "#CDDC39",
                "thickness_factor": 1,
                "directed": true
              },
              {
                "id": 1152978679211491300,
                "start": 103,
                "end": 99,
                "properties": {
                  "label": "RELIEVES"
                },
                "label": "RELIEVES",
                "color": "#9E9E9E",
                "thickness_factor": 1,
                "directed": true
              },
              {
                "id": 1152978679211491300,
                "start": 104,
                "end": 99,
                "properties": {
                  "label": "RELIEVES"
                },
                "label": "RELIEVES",
                "color": "#9E9E9E",
                "thickness_factor": 1,
                "directed": true
              },
              {
                "id": 1152978679211491300,
                "start": 105,
                "end": 99,
                "properties": {
                  "label": "RELIEVES"
                },
                "label": "RELIEVES",
                "color": "#9E9E9E",
                "thickness_factor": 1,
                "directed": true
              },
              {
                "id": 1152978679211491300,
                "start": 106,
                "end": 99,
                "properties": {
                  "label": "RELIEVES"
                },
                "label": "RELIEVES",
                "color": "#9E9E9E",
                "thickness_factor": 1,
                "directed": true
              },
              {
                "id": 1152962186537074700,
                "start": 108,
                "end": 101,
                "properties": {
                  "label": "RELATED_TO"
                },
                "label": "RELATED_TO",
                "color": "#CDDC39",
                "thickness_factor": 1,
                "directed": true
              },
              {
                "id": 1152962186537074700,
                "start": 109,
                "end": 101,
                "properties": {
                  "label": "RELATED_TO"
                },
                "label": "RELATED_TO",
                "color": "#CDDC39",
                "thickness_factor": 1,
                "directed": true
              },
              {
                "id": 1152939096792891400,
                "start": 110,
                "end": 101,
                "properties": {
                  "label": "TREATS"
                },
                "label": "TREATS",
                "color": "#607D8B",
                "thickness_factor": 1,
                "directed": true
              },
              {
                "id": 1152922604118474800,
                "start": 112,
                "end": 2,
                "properties": {
                  "label": "CONSULTS"
                },
                "label": "CONSULTS",
                "color": "#2196F3",
                "thickness_factor": 1,
                "directed": true
              },
              {
                "id": 1152940196304519200,
                "start": 112,
                "end": 139,
                "properties": {
                  "label": "HAS_CONDITION"
                },
                "label": "HAS_CONDITION",
                "color": "#2196F3",
                "thickness_factor": 1,
                "directed": true
              },
              {
                "id": 1155191996118204400,
                "start": 112,
                "end": 140,
                "properties": {
                  "label": "HAS_CONDITION"
                },
                "label": "HAS_CONDITION",
                "color": "#2196F3",
                "thickness_factor": 1,
                "directed": true
              },
              {
                "id": 1157443795931889700,
                "start": 112,
                "end": 141,
                "properties": {
                  "label": "HAS_CONDITION"
                },
                "label": "HAS_CONDITION",
                "color": "#2196F3",
                "thickness_factor": 1,
                "directed": true
              },
              {
                "id": 1159695595745575000,
                "start": 112,
                "end": 142,
                "properties": {
                  "label": "HAS_CONDITION"
                },
                "label": "HAS_CONDITION",
                "color": "#2196F3",
                "thickness_factor": 1,
                "directed": true
              },
              {
                "id": 1152967684095213600,
                "start": 112,
                "end": 143,
                "properties": {
                  "label": "HAS_DISEASE"
                },
                "label": "HAS_DISEASE",
                "color": "#673AB7",
                "thickness_factor": 1,
                "directed": true
              },
              {
                "id": 1155219483908898800,
                "start": 112,
                "end": 144,
                "properties": {
                  "label": "HAS_DISEASE"
                },
                "label": "HAS_DISEASE",
                "color": "#673AB7",
                "thickness_factor": 1,
                "directed": true
              },
              {
                "id": 1157471283722584000,
                "start": 112,
                "end": 145,
                "properties": {
                  "label": "HAS_DISEASE"
                },
                "label": "HAS_DISEASE",
                "color": "#673AB7",
                "thickness_factor": 1,
                "directed": true
              },
              {
                "id": 1159723083536269300,
                "start": 112,
                "end": 146,
                "properties": {
                  "label": "HAS_DISEASE"
                },
                "label": "HAS_DISEASE",
                "color": "#673AB7",
                "thickness_factor": 1,
                "directed": true
              },
              {
                "id": 1161974883349954600,
                "start": 112,
                "end": 150,
                "properties": {
                  "label": "HAS_DISEASE"
                },
                "label": "HAS_DISEASE",
                "color": "#673AB7",
                "thickness_factor": 1,
                "directed": true
              },
              {
                "id": 1152976480188235800,
                "start": 112,
                "end": 116,
                "properties": {
                  "label": "DIAGNOSED_WITH"
                },
                "label": "DIAGNOSED_WITH",
                "color": "#F44336",
                "thickness_factor": 1,
                "directed": true
              },
              {
                "id": 1155228280001921000,
                "start": 112,
                "end": 117,
                "properties": {
                  "label": "DIAGNOSED_WITH"
                },
                "label": "DIAGNOSED_WITH",
                "color": "#F44336",
                "thickness_factor": 1,
                "directed": true
              },
              {
                "id": 1157480079815606300,
                "start": 112,
                "end": 118,
                "properties": {
                  "label": "DIAGNOSED_WITH"
                },
                "label": "DIAGNOSED_WITH",
                "color": "#F44336",
                "thickness_factor": 1,
                "directed": true
              },
              {
                "id": 1152988574816141300,
                "start": 112,
                "end": 147,
                "properties": {
                  "label": "HAS_FAMILY_HISTORY_OF"
                },
                "label": "HAS_FAMILY_HISTORY_OF",
                "color": "#9C27B0",
                "thickness_factor": 1,
                "directed": true
              },
              {
                "id": 1155240374629826600,
                "start": 112,
                "end": 148,
                "properties": {
                  "label": "HAS_FAMILY_HISTORY_OF"
                },
                "label": "HAS_FAMILY_HISTORY_OF",
                "color": "#9C27B0",
                "thickness_factor": 1,
                "directed": true
              },
              {
                "id": 1157492174443511800,
                "start": 112,
                "end": 149,
                "properties": {
                  "label": "HAS_FAMILY_HISTORY_OF"
                },
                "label": "HAS_FAMILY_HISTORY_OF",
                "color": "#9C27B0",
                "thickness_factor": 1,
                "directed": true
              },
              {
                "id": 6917614789548048000,
                "start": 112,
                "end": 208,
                "properties": {
                  "label": "HAS_MEDICAL_CONDITION"
                },
                "label": "HAS_MEDICAL_CONDITION",
                "color": "#2196F3",
                "thickness_factor": 1,
                "directed": true
              },
              {
                "id": 1152977579699863600,
                "start": 113,
                "end": 112,
                "properties": {
                  "label": "TREATED"
                },
                "label": "TREATED",
                "color": "#2196F3",
                "thickness_factor": 1,
                "directed": true
              },
              {
                "id": 1152977579699863600,
                "start": 114,
                "end": 112,
                "properties": {
                  "label": "TREATED"
                },
                "label": "TREATED",
                "color": "#2196F3",
                "thickness_factor": 1,
                "directed": true
              },
              {
                "id": 1152977579699863600,
                "start": 115,
                "end": 112,
                "properties": {
                  "label": "TREATED"
                },
                "label": "TREATED",
                "color": "#2196F3",
                "thickness_factor": 1,
                "directed": true
              },
              {
                "id": 1152962186537074700,
                "start": 117,
                "end": 120,
                "properties": {
                  "label": "RELATED_TO"
                },
                "label": "RELATED_TO",
                "color": "#CDDC39",
                "thickness_factor": 1,
                "directed": true
              },
              {
                "id": 1152969883118469000,
                "start": 120,
                "end": 121,
                "properties": {
                  "label": "ASSOCIATED_WITH"
                },
                "label": "ASSOCIATED_WITH",
                "color": "#4CAF50",
                "thickness_factor": 1,
                "directed": true
              },
              {
                "id": 1152979778723119000,
                "start": 122,
                "end": 120,
                "properties": {
                  "label": "DISCUSSED_IN"
                },
                "label": "DISCUSSED_IN",
                "color": "#4CAF50",
                "thickness_factor": 1,
                "directed": true
              },
              {
                "id": 1152939096792891400,
                "start": 124,
                "end": 195,
                "properties": {
                  "label": "TREATS"
                },
                "label": "TREATS",
                "color": "#607D8B",
                "thickness_factor": 1,
                "directed": true
              },
              {
                "id": 1152980878234747000,
                "start": 124,
                "end": 128,
                "properties": {
                  "label": "DIAGNOSED"
                },
                "label": "DIAGNOSED",
                "color": "#F44336",
                "thickness_factor": 1,
                "directed": true
              },
              {
                "id": 6917592799315493000,
                "start": 132,
                "end": 137,
                "properties": {
                  "label": "INDUCES"
                },
                "label": "INDUCES",
                "color": "#607D8B",
                "thickness_factor": 1,
                "directed": true
              },
              {
                "id": 6919844599129178000,
                "start": 133,
                "end": 137,
                "properties": {
                  "label": "INDUCES"
                },
                "label": "INDUCES",
                "color": "#607D8B",
                "thickness_factor": 1,
                "directed": true
              },
              {
                "id": 1152986375792886000,
                "start": 134,
                "end": 11,
                "properties": {
                  "label": "DETECTS"
                },
                "label": "DETECTS",
                "color": "#673AB7",
                "thickness_factor": 1,
                "directed": true
              },
              {
                "id": 1152986375792886000,
                "start": 135,
                "end": 11,
                "properties": {
                  "label": "DETECTS"
                },
                "label": "DETECTS",
                "color": "#673AB7",
                "thickness_factor": 1,
                "directed": true
              },
              {
                "id": 1153017162118463700,
                "start": 135,
                "end": 11,
                "properties": {
                  "label": "USED_TO_DETECT"
                },
                "label": "USED_TO_DETECT",
                "color": "#CDDC39",
                "thickness_factor": 1,
                "directed": true
              },
              {
                "id": 6917594998338748000,
                "start": 136,
                "end": 137,
                "properties": {
                  "label": "PERFORMS"
                },
                "label": "PERFORMS",
                "color": "#607D8B",
                "thickness_factor": 1,
                "directed": true
              },
              {
                "id": 1152987475304513800,
                "start": 152,
                "end": 153,
                "properties": {
                  "label": "PERFORMS"
                },
                "label": "PERFORMS",
                "color": "#607D8B",
                "thickness_factor": 1,
                "directed": true
              },
              {
                "id": 1152989674327769300,
                "start": 153,
                "end": 154,
                "properties": {
                  "label": "REQUIRES"
                },
                "label": "REQUIRES",
                "color": "#9E9E9E",
                "thickness_factor": 1,
                "directed": true
              },
              {
                "id": 1155241474141454600,
                "start": 153,
                "end": 155,
                "properties": {
                  "label": "REQUIRES"
                },
                "label": "REQUIRES",
                "color": "#9E9E9E",
                "thickness_factor": 1,
                "directed": true
              },
              {
                "id": 1157493273955139800,
                "start": 153,
                "end": 156,
                "properties": {
                  "label": "REQUIRES"
                },
                "label": "REQUIRES",
                "color": "#9E9E9E",
                "thickness_factor": 1,
                "directed": true
              },
              {
                "id": 1152990773839397000,
                "start": 153,
                "end": 60,
                "properties": {
                  "label": "REFERS"
                },
                "label": "REFERS",
                "color": "#4CAF50",
                "thickness_factor": 1,
                "directed": true
              },
              {
                "id": 1152991873351025000,
                "start": 153,
                "end": 158,
                "properties": {
                  "label": "EXCLUDES"
                },
                "label": "EXCLUDES",
                "color": "#9C27B0",
                "thickness_factor": 1,
                "directed": true
              },
              {
                "id": 1155243673164710100,
                "start": 153,
                "end": 159,
                "properties": {
                  "label": "EXCLUDES"
                },
                "label": "EXCLUDES",
                "color": "#9C27B0",
                "thickness_factor": 1,
                "directed": true
              },
              {
                "id": 1152928101676614000,
                "start": 161,
                "end": 170,
                "properties": {
                  "label": "TREATED_WITH"
                },
                "label": "TREATED_WITH",
                "color": "#607D8B",
                "thickness_factor": 1,
                "directed": true
              },
              {
                "id": 1155179901490299100,
                "start": 161,
                "end": 171,
                "properties": {
                  "label": "TREATED_WITH"
                },
                "label": "TREATED_WITH",
                "color": "#607D8B",
                "thickness_factor": 1,
                "directed": true
              },
              {
                "id": 1152969883118469400,
                "start": 161,
                "end": 163,
                "properties": {
                  "label": "ASSOCIATED_WITH"
                },
                "label": "ASSOCIATED_WITH",
                "color": "#4CAF50",
                "thickness_factor": 1,
                "directed": true
              },
              {
                "id": 1155221682932154600,
                "start": 161,
                "end": 164,
                "properties": {
                  "label": "ASSOCIATED_WITH"
                },
                "label": "ASSOCIATED_WITH",
                "color": "#4CAF50",
                "thickness_factor": 1,
                "directed": true
              },
              {
                "id": 1152992972862652700,
                "start": 161,
                "end": 165,
                "properties": {
                  "label": "CHARACTERIZED_BY"
                },
                "label": "CHARACTERIZED_BY",
                "color": "#2196F3",
                "thickness_factor": 1,
                "directed": true
              },
              {
                "id": 1155244772676338000,
                "start": 161,
                "end": 166,
                "properties": {
                  "label": "CHARACTERIZED_BY"
                },
                "label": "CHARACTERIZED_BY",
                "color": "#2196F3",
                "thickness_factor": 1,
                "directed": true
              },
              {
                "id": 1157496572490023200,
                "start": 161,
                "end": 167,
                "properties": {
                  "label": "CHARACTERIZED_BY"
                },
                "label": "CHARACTERIZED_BY",
                "color": "#2196F3",
                "thickness_factor": 1,
                "directed": true
              },
              {
                "id": 1159748372303708400,
                "start": 161,
                "end": 168,
                "properties": {
                  "label": "CHARACTERIZED_BY"
                },
                "label": "CHARACTERIZED_BY",
                "color": "#2196F3",
                "thickness_factor": 1,
                "directed": true
              },
              {
                "id": 1162000172117393700,
                "start": 161,
                "end": 169,
                "properties": {
                  "label": "CHARACTERIZED_BY"
                },
                "label": "CHARACTERIZED_BY",
                "color": "#2196F3",
                "thickness_factor": 1,
                "directed": true
              },
              {
                "id": 1152994072374280400,
                "start": 172,
                "end": 161,
                "properties": {
                  "label": "INCREASES_RISK_OF"
                },
                "label": "INCREASES_RISK_OF",
                "color": "#4CAF50",
                "thickness_factor": 1,
                "directed": true
              },
              {
                "id": 1152994072374280400,
                "start": 173,
                "end": 161,
                "properties": {
                  "label": "INCREASES_RISK_OF"
                },
                "label": "INCREASES_RISK_OF",
                "color": "#4CAF50",
                "thickness_factor": 1,
                "directed": true
              },
              {
                "id": 1152994072374280400,
                "start": 174,
                "end": 161,
                "properties": {
                  "label": "INCREASES_RISK_OF"
                },
                "label": "INCREASES_RISK_OF",
                "color": "#4CAF50",
                "thickness_factor": 1,
                "directed": true
              },
              {
                "id": 1152994072374280400,
                "start": 175,
                "end": 161,
                "properties": {
                  "label": "INCREASES_RISK_OF"
                },
                "label": "INCREASES_RISK_OF",
                "color": "#4CAF50",
                "thickness_factor": 1,
                "directed": true
              },
              {
                "id": 1152998470420791600,
                "start": 194,
                "end": 195,
                "properties": {
                  "label": "ENTERED"
                },
                "label": "ENTERED",
                "color": "#F44336",
                "thickness_factor": 1,
                "directed": true
              },
              {
                "id": 1152999569932419300,
                "start": 195,
                "end": 196,
                "properties": {
                  "label": "CONNECTED"
                },
                "label": "CONNECTED",
                "color": "#607D8B",
                "thickness_factor": 1,
                "directed": true
              },
              {
                "id": 1152966584583586000,
                "start": 196,
                "end": 215,
                "properties": {
                  "label": "CONTAINS"
                },
                "label": "CONTAINS",
                "color": "#2196F3",
                "thickness_factor": 1,
                "directed": true
              },
              {
                "id": 1153001768955675000,
                "start": 198,
                "end": 199,
                "properties": {
                  "label": "SHOWS"
                },
                "label": "SHOWS",
                "color": "#673AB7",
                "thickness_factor": 1,
                "directed": true
              },
              {
                "id": 1153002868467302700,
                "start": 198,
                "end": 200,
                "properties": {
                  "label": "DOES_NOT_SHOW"
                },
                "label": "DOES_NOT_SHOW",
                "color": "#CDDC39",
                "thickness_factor": 1,
                "directed": true
              },
              {
                "id": 1155254668280988000,
                "start": 198,
                "end": 201,
                "properties": {
                  "label": "DOES_NOT_SHOW"
                },
                "label": "DOES_NOT_SHOW",
                "color": "#CDDC39",
                "thickness_factor": 1,
                "directed": true
              },
              {
                "id": 1153005067490558200,
                "start": 199,
                "end": 203,
                "properties": {
                  "label": "IS_ALSO_KNOWN_AS"
                },
                "label": "IS_ALSO_KNOWN_AS",
                "color": "#9E9E9E",
                "thickness_factor": 1,
                "directed": true
              },
              {
                "id": 1153003967978930400,
                "start": 202,
                "end": 199,
                "properties": {
                  "label": "MAY_INVOLVE"
                },
                "label": "MAY_INVOLVE",
                "color": "#9C27B0",
                "thickness_factor": 1,
                "directed": true
              },
              {
                "id": 1152939096792891600,
                "start": 206,
                "end": 205,
                "properties": {
                  "label": "TREATS"
                },
                "label": "TREATS",
                "color": "#607D8B",
                "thickness_factor": 1,
                "directed": true
              },
              {
                "id": 1153008366025441500,
                "start": 208,
                "end": 209,
                "properties": {
                  "label": "LOCATED_IN"
                },
                "label": "LOCATED_IN",
                "color": "#2196F3",
                "thickness_factor": 1,
                "directed": true
              },
              {
                "id": 1153010565048697000,
                "start": 210,
                "end": 212,
                "properties": {
                  "label": "ORDERS"
                },
                "label": "ORDERS",
                "color": "#4CAF50",
                "thickness_factor": 1,
                "directed": true
              },
              {
                "id": 1153011664560324900,
                "start": 211,
                "end": 208,
                "properties": {
                  "label": "POSSIBLE_DIAGNOSIS"
                },
                "label": "POSSIBLE_DIAGNOSIS",
                "color": "#F44336",
                "thickness_factor": 1,
                "directed": true
              },
              {
                "id": 1153042450885902600,
                "start": 212,
                "end": 324,
                "properties": {
                  "label": "TARGETS"
                },
                "label": "TARGETS",
                "color": "#607D8B",
                "thickness_factor": 1,
                "directed": true
              },
              {
                "id": 1152974281164980500,
                "start": 215,
                "end": 216,
                "properties": {
                  "label": "LEADS_TO"
                },
                "label": "LEADS_TO",
                "color": "#CDDC39",
                "thickness_factor": 1,
                "directed": true
              },
              {
                "id": 6917532326175965000,
                "start": 216,
                "end": 218,
                "properties": {
                  "label": "CAUSES"
                },
                "label": "CAUSES",
                "color": "#4CAF50",
                "thickness_factor": 1,
                "directed": true
              },
              {
                "id": 1152922604118475000,
                "start": 220,
                "end": 221,
                "properties": {
                  "label": "CONSULTS"
                },
                "label": "CONSULTS",
                "color": "#2196F3",
                "thickness_factor": 1,
                "directed": true
              },
              {
                "id": 1153012764071952600,
                "start": 222,
                "end": 223,
                "properties": {
                  "label": "IS_TYPE"
                },
                "label": "IS_TYPE",
                "color": "#673AB7",
                "thickness_factor": 1,
                "directed": true
              },
              {
                "id": 1152928101676614000,
                "start": 226,
                "end": 230,
                "properties": {
                  "label": "TREATED_WITH"
                },
                "label": "TREATED_WITH",
                "color": "#607D8B",
                "thickness_factor": 1,
                "directed": true
              },
              {
                "id": 1155179901490299100,
                "start": 226,
                "end": 231,
                "properties": {
                  "label": "TREATED_WITH"
                },
                "label": "TREATED_WITH",
                "color": "#607D8B",
                "thickness_factor": 1,
                "directed": true
              },
              {
                "id": 1157431701303984400,
                "start": 226,
                "end": 232,
                "properties": {
                  "label": "TREATED_WITH"
                },
                "label": "TREATED_WITH",
                "color": "#607D8B",
                "thickness_factor": 1,
                "directed": true
              },
              {
                "id": 1159683501117669600,
                "start": 226,
                "end": 233,
                "properties": {
                  "label": "TREATED_WITH"
                },
                "label": "TREATED_WITH",
                "color": "#607D8B",
                "thickness_factor": 1,
                "directed": true
              },
              {
                "id": 1161935300931355000,
                "start": 226,
                "end": 234,
                "properties": {
                  "label": "TREATED_WITH"
                },
                "label": "TREATED_WITH",
                "color": "#607D8B",
                "thickness_factor": 1,
                "directed": true
              },
              {
                "id": 1164187100745040100,
                "start": 226,
                "end": 235,
                "properties": {
                  "label": "TREATED_WITH"
                },
                "label": "TREATED_WITH",
                "color": "#607D8B",
                "thickness_factor": 1,
                "directed": true
              },
              {
                "id": 1166438900558725400,
                "start": 226,
                "end": 236,
                "properties": {
                  "label": "TREATED_WITH"
                },
                "label": "TREATED_WITH",
                "color": "#607D8B",
                "thickness_factor": 1,
                "directed": true
              },
              {
                "id": 1152972082141725000,
                "start": 226,
                "end": 228,
                "properties": {
                  "label": "TREATED_BY"
                },
                "label": "TREATED_BY",
                "color": "#607D8B",
                "thickness_factor": 1,
                "directed": true
              },
              {
                "id": 1153013863583580400,
                "start": 226,
                "end": 212,
                "properties": {
                  "label": "DIAGNOSED_BY"
                },
                "label": "DIAGNOSED_BY",
                "color": "#CDDC39",
                "thickness_factor": 1,
                "directed": true
              },
              {
                "id": 1155265663397265700,
                "start": 226,
                "end": 227,
                "properties": {
                  "label": "DIAGNOSED_BY"
                },
                "label": "DIAGNOSED_BY",
                "color": "#CDDC39",
                "thickness_factor": 1,
                "directed": true
              },
              {
                "id": 1153014963095208200,
                "start": 226,
                "end": 229,
                "properties": {
                  "label": "TREATED_AT"
                },
                "label": "TREATED_AT",
                "color": "#9E9E9E",
                "thickness_factor": 1,
                "directed": true
              },
              {
                "id": 1152976480188236000,
                "start": 238,
                "end": 239,
                "properties": {
                  "label": "DIAGNOSED_WITH"
                },
                "label": "DIAGNOSED_WITH",
                "color": "#F44336",
                "thickness_factor": 1,
                "directed": true
              },
              {
                "id": 1153016062606836000,
                "start": 238,
                "end": 11,
                "properties": {
                  "label": "POSSIBLY_EXPERIENCING"
                },
                "label": "POSSIBLY_EXPERIENCING",
                "color": "#673AB7",
                "thickness_factor": 1,
                "directed": true
              },
              {
                "id": 1153018261630091500,
                "start": 240,
                "end": 238,
                "properties": {
                  "label": "CONSULTING"
                },
                "label": "CONSULTING",
                "color": "#673AB7",
                "thickness_factor": 1,
                "directed": true
              },
              {
                "id": 1152925902653358300,
                "start": 249,
                "end": 196,
                "properties": {
                  "label": "AFFECTS"
                },
                "label": "AFFECTS",
                "color": "#F44336",
                "thickness_factor": 1,
                "directed": true
              },
              {
                "id": 1155177702467043600,
                "start": 249,
                "end": 251,
                "properties": {
                  "label": "AFFECTS"
                },
                "label": "AFFECTS",
                "color": "#F44336",
                "thickness_factor": 1,
                "directed": true
              },
              {
                "id": 1157429502280728800,
                "start": 249,
                "end": 252,
                "properties": {
                  "label": "AFFECTS"
                },
                "label": "AFFECTS",
                "color": "#F44336",
                "thickness_factor": 1,
                "directed": true
              },
              {
                "id": 1153008366025441500,
                "start": 249,
                "end": 250,
                "properties": {
                  "label": "LOCATED_IN"
                },
                "label": "LOCATED_IN",
                "color": "#2196F3",
                "thickness_factor": 1,
                "directed": true
              },
              {
                "id": 1152939096792891600,
                "start": 253,
                "end": 249,
                "properties": {
                  "label": "TREATS"
                },
                "label": "TREATS",
                "color": "#607D8B",
                "thickness_factor": 1,
                "directed": true
              },
              {
                "id": 1152939096792891600,
                "start": 254,
                "end": 249,
                "properties": {
                  "label": "TREATS"
                },
                "label": "TREATS",
                "color": "#607D8B",
                "thickness_factor": 1,
                "directed": true
              },
              {
                "id": 1152939096792891600,
                "start": 255,
                "end": 249,
                "properties": {
                  "label": "TREATS"
                },
                "label": "TREATS",
                "color": "#607D8B",
                "thickness_factor": 1,
                "directed": true
              },
              {
                "id": 1152939096792891600,
                "start": 256,
                "end": 249,
                "properties": {
                  "label": "TREATS"
                },
                "label": "TREATS",
                "color": "#607D8B",
                "thickness_factor": 1,
                "directed": true
              },
              {
                "id": 1152924803141730600,
                "start": 258,
                "end": 259,
                "properties": {
                  "label": "CAUSES"
                },
                "label": "CAUSES",
                "color": "#4CAF50",
                "thickness_factor": 1,
                "directed": true
              },
              {
                "id": 1152981977746375000,
                "start": 271,
                "end": 273,
                "properties": {
                  "label": "TAKING"
                },
                "label": "TAKING",
                "color": "#9C27B0",
                "thickness_factor": 1,
                "directed": true
              },
              {
                "id": 1155233777560060200,
                "start": 271,
                "end": 274,
                "properties": {
                  "label": "TAKING"
                },
                "label": "TAKING",
                "color": "#9C27B0",
                "thickness_factor": 1,
                "directed": true
              },
              {
                "id": 1157485577373745400,
                "start": 271,
                "end": 275,
                "properties": {
                  "label": "TAKING"
                },
                "label": "TAKING",
                "color": "#9C27B0",
                "thickness_factor": 1,
                "directed": true
              },
              {
                "id": 1159737377187430700,
                "start": 271,
                "end": 276,
                "properties": {
                  "label": "TAKING"
                },
                "label": "TAKING",
                "color": "#9C27B0",
                "thickness_factor": 1,
                "directed": true
              },
              {
                "id": 1161989177001116000,
                "start": 271,
                "end": 277,
                "properties": {
                  "label": "TAKING"
                },
                "label": "TAKING",
                "color": "#9C27B0",
                "thickness_factor": 1,
                "directed": true
              },
              {
                "id": 1164240976814801200,
                "start": 271,
                "end": 278,
                "properties": {
                  "label": "TAKING"
                },
                "label": "TAKING",
                "color": "#9C27B0",
                "thickness_factor": 1,
                "directed": true
              },
              {
                "id": 1166492776628486400,
                "start": 271,
                "end": 279,
                "properties": {
                  "label": "TAKING"
                },
                "label": "TAKING",
                "color": "#9C27B0",
                "thickness_factor": 1,
                "directed": true
              },
              {
                "id": 1153024858699858200,
                "start": 271,
                "end": 272,
                "properties": {
                  "label": "PATIENT_OF"
                },
                "label": "PATIENT_OF",
                "color": "#9C27B0",
                "thickness_factor": 1,
                "directed": true
              },
              {
                "id": 1153027057723113700,
                "start": 272,
                "end": 271,
                "properties": {
                  "label": "TREATING"
                },
                "label": "TREATING",
                "color": "#2196F3",
                "thickness_factor": 1,
                "directed": true
              },
              {
                "id": 1152962186537075000,
                "start": 281,
                "end": 284,
                "properties": {
                  "label": "RELATED_TO"
                },
                "label": "RELATED_TO",
                "color": "#CDDC39",
                "thickness_factor": 1,
                "directed": true
              },
              {
                "id": 1153028157234741500,
                "start": 282,
                "end": 283,
                "properties": {
                  "label": "INTERACTS_WITH"
                },
                "label": "INTERACTS_WITH",
                "color": "#4CAF50",
                "thickness_factor": 1,
                "directed": true
              },
              {
                "id": 1153029256746369300,
                "start": 283,
                "end": 285,
                "properties": {
                  "label": "MAY_CAUSE"
                },
                "label": "MAY_CAUSE",
                "color": "#F44336",
                "thickness_factor": 1,
                "directed": true
              },
              {
                "id": 1153033654792880400,
                "start": 291,
                "end": 292,
                "properties": {
                  "label": "SYNONYM"
                },
                "label": "SYNONYM",
                "color": "#607D8B",
                "thickness_factor": 1,
                "directed": true
              },
              {
                "id": 1153034754304508200,
                "start": 291,
                "end": 293,
                "properties": {
                  "label": "TRIGGER"
                },
                "label": "TRIGGER",
                "color": "#673AB7",
                "thickness_factor": 1,
                "directed": true
              },
              {
                "id": 1155286554118193400,
                "start": 291,
                "end": 294,
                "properties": {
                  "label": "TRIGGER"
                },
                "label": "TRIGGER",
                "color": "#673AB7",
                "thickness_factor": 1,
                "directed": true
              },
              {
                "id": 1152948992397541600,
                "start": 295,
                "end": 297,
                "properties": {
                  "label": "ORDERED"
                },
                "label": "ORDERED",
                "color": "#673AB7",
                "thickness_factor": 1,
                "directed": true
              },
              {
                "id": 1153035853816136000,
                "start": 295,
                "end": 296,
                "properties": {
                  "label": "PRESCRIBED"
                },
                "label": "PRESCRIBED",
                "color": "#CDDC39",
                "thickness_factor": 1,
                "directed": true
              },
              {
                "id": 1152986375792886000,
                "start": 297,
                "end": 298,
                "properties": {
                  "label": "DETECTS"
                },
                "label": "DETECTS",
                "color": "#673AB7",
                "thickness_factor": 1,
                "directed": true
              },
              {
                "id": 1152924803141730600,
                "start": 298,
                "end": 291,
                "properties": {
                  "label": "CAUSES"
                },
                "label": "CAUSES",
                "color": "#4CAF50",
                "thickness_factor": 1,
                "directed": true
              },
              {
                "id": 6917644476361998000,
                "start": 299,
                "end": 300,
                "properties": {
                  "label": "OFFERS"
                },
                "label": "OFFERS",
                "color": "#9E9E9E",
                "thickness_factor": 1,
                "directed": true
              },
              {
                "id": 1153032555281252600,
                "start": 304,
                "end": 236,
                "properties": {
                  "label": "TREATMENT"
                },
                "label": "TREATMENT",
                "color": "#F44336",
                "thickness_factor": 1,
                "directed": true
              },
              {
                "id": 1153038052839391500,
                "start": 304,
                "end": 4,
                "properties": {
                  "label": "COMPLICATION"
                },
                "label": "COMPLICATION",
                "color": "#9C27B0",
                "thickness_factor": 1,
                "directed": true
              },
              {
                "id": 1152925902653358300,
                "start": 305,
                "end": 304,
                "properties": {
                  "label": "AFFECTS"
                },
                "label": "AFFECTS",
                "color": "#F44336",
                "thickness_factor": 1,
                "directed": true
              },
              {
                "id": 1152962186537075000,
                "start": 320,
                "end": 322,
                "properties": {
                  "label": "RELATED_TO"
                },
                "label": "RELATED_TO",
                "color": "#CDDC39",
                "thickness_factor": 1,
                "directed": true
              },
              {
                "id": 1155221682932154600,
                "start": 320,
                "end": 147,
                "properties": {
                  "label": "ASSOCIATED_WITH"
                },
                "label": "ASSOCIATED_WITH",
                "color": "#4CAF50",
                "thickness_factor": 1,
                "directed": true
              },
              {
                "id": 1152969883118469400,
                "start": 320,
                "end": 321,
                "properties": {
                  "label": "ASSOCIATED_WITH"
                },
                "label": "ASSOCIATED_WITH",
                "color": "#4CAF50",
                "thickness_factor": 1,
                "directed": true
              },
              {
                "id": 1152972082141725000,
                "start": 320,
                "end": 236,
                "properties": {
                  "label": "TREATED_BY"
                },
                "label": "TREATED_BY",
                "color": "#607D8B",
                "thickness_factor": 1,
                "directed": true
              },
              {
                "id": 1152966584583586000,
                "start": 324,
                "end": 325,
                "properties": {
                  "label": "CONTAINS"
                },
                "label": "CONTAINS",
                "color": "#2196F3",
                "thickness_factor": 1,
                "directed": true
              },
              {
                "id": 1152997370909163800,
                "start": 324,
                "end": 326,
                "properties": {
                  "label": "MAY_HAVE"
                },
                "label": "MAY_HAVE",
                "color": "#F44336",
                "thickness_factor": 1,
                "directed": true
              },
              {
                "id": 1153044649909158100,
                "start": 330,
                "end": 331,
                "properties": {
                  "label": "TREATMENT_FOR"
                },
                "label": "TREATMENT_FOR",
                "color": "#2196F3",
                "thickness_factor": 1,
                "directed": true
              },
              {
                "id": 1152924803141730600,
                "start": 332,
                "end": 336,
                "properties": {
                  "label": "CAUSES"
                },
                "label": "CAUSES",
                "color": "#4CAF50",
                "thickness_factor": 1,
                "directed": true
              },
              {
                "id": 1152989674327769300,
                "start": 333,
                "end": 334,
                "properties": {
                  "label": "REQUIRES"
                },
                "label": "REQUIRES",
                "color": "#9E9E9E",
                "thickness_factor": 1,
                "directed": true
              },
              {
                "id": 1152924803141730600,
                "start": 335,
                "end": 336,
                "properties": {
                  "label": "CAUSES"
                },
                "label": "CAUSES",
                "color": "#4CAF50",
                "thickness_factor": 1,
                "directed": true
              },
              {
                "id": 1152940196304519400,
                "start": 338,
                "end": 339,
                "properties": {
                  "label": "HAS_CONDITION"
                },
                "label": "HAS_CONDITION",
                "color": "#2196F3",
                "thickness_factor": 1,
                "directed": true
              },
              {
                "id": 1153012764071952600,
                "start": 339,
                "end": 340,
                "properties": {
                  "label": "IS_TYPE"
                },
                "label": "IS_TYPE",
                "color": "#673AB7",
                "thickness_factor": 1,
                "directed": true
              }
            ],
            "_graph_layout": {},
            "_highlight": [],
            "_license": {},
            "_model_module": "yfiles-jupyter-graphs",
            "_model_module_version": "^1.8.1",
            "_model_name": "GraphModel",
            "_neighborhood": {},
            "_nodes": [
              {
                "id": 1,
                "properties": {
                  "id": "User",
                  "label": "User:__Entity__:Person"
                },
                "color": "#2196F3",
                "styles": {},
                "label": "User",
                "scale_factor": 1,
                "type": "#2196F3",
                "size": [
                  55,
                  55
                ],
                "position": [
                  0,
                  0
                ]
              },
              {
                "id": 2,
                "properties": {
                  "id": "Doctor",
                  "label": "Doctor:__Entity__:Person"
                },
                "color": "#4CAF50",
                "styles": {},
                "label": "Doctor",
                "scale_factor": 1,
                "type": "#4CAF50",
                "size": [
                  55,
                  55
                ],
                "position": [
                  0,
                  0
                ]
              },
              {
                "id": 60,
                "properties": {
                  "id": "Neurologist",
                  "label": "Medical professional:__Entity__:Specialist"
                },
                "color": "#F44336",
                "styles": {},
                "label": "Neurologist",
                "scale_factor": 1,
                "type": "#F44336",
                "size": [
                  55,
                  55
                ],
                "position": [
                  0,
                  0
                ]
              },
              {
                "id": 240,
                "properties": {
                  "id": "Obstetrician And Gynaecologist",
                  "label": "Medical specialist:__Entity__:Medical_specialist"
                },
                "color": "#607D8B",
                "styles": {},
                "label": "Obstetrician And Gynaecologist",
                "scale_factor": 1,
                "type": "#607D8B",
                "size": [
                  55,
                  55
                ],
                "position": [
                  0,
                  0
                ]
              },
              {
                "id": 3,
                "properties": {
                  "id": "Mumps",
                  "label": "Disease:__Entity__"
                },
                "color": "#673AB7",
                "styles": {},
                "label": "Mumps",
                "scale_factor": 1,
                "type": "#673AB7",
                "size": [
                  55,
                  55
                ],
                "position": [
                  0,
                  0
                ]
              },
              {
                "id": 18,
                "properties": {
                  "id": "Sex",
                  "label": "__Entity__:Sex"
                },
                "color": "#CDDC39",
                "styles": {},
                "label": "Sex",
                "scale_factor": 1,
                "type": "#CDDC39",
                "size": [
                  55,
                  55
                ],
                "position": [
                  0,
                  0
                ]
              },
              {
                "id": 62,
                "properties": {
                  "id": "Usg Report",
                  "label": "__Entity__:Medical report"
                },
                "color": "#9E9E9E",
                "styles": {},
                "label": "Usg Report",
                "scale_factor": 1,
                "type": "#9E9E9E",
                "size": [
                  55,
                  55
                ],
                "position": [
                  0,
                  0
                ]
              },
              {
                "id": 196,
                "properties": {
                  "id": "Mouth",
                  "label": "Body part:__Entity__"
                },
                "color": "#9C27B0",
                "styles": {},
                "label": "Mouth",
                "scale_factor": 1,
                "type": "#9C27B0",
                "size": [
                  55,
                  55
                ],
                "position": [
                  0,
                  0
                ]
              },
              {
                "id": 214,
                "properties": {
                  "id": "Teeth",
                  "label": "Body part:__Entity__"
                },
                "color": "#9C27B0",
                "styles": {},
                "label": "Teeth",
                "scale_factor": 1,
                "type": "#9C27B0",
                "size": [
                  55,
                  55
                ],
                "position": [
                  0,
                  0
                ]
              },
              {
                "id": 6,
                "properties": {
                  "id": "Vas Deferens",
                  "label": "Body part:__Entity__"
                },
                "color": "#9C27B0",
                "styles": {},
                "label": "Vas Deferens",
                "scale_factor": 1,
                "type": "#9C27B0",
                "size": [
                  55,
                  55
                ],
                "position": [
                  0,
                  0
                ]
              },
              {
                "id": 23,
                "properties": {
                  "id": "Ceftum",
                  "label": "__Entity__:Medication"
                },
                "color": "#2196F3",
                "styles": {},
                "label": "Ceftum",
                "scale_factor": 1,
                "type": "#2196F3",
                "size": [
                  55,
                  55
                ],
                "position": [
                  0,
                  0
                ]
              },
              {
                "id": 8,
                "properties": {
                  "id": "Sexologist",
                  "label": "__Entity__:Professional"
                },
                "color": "#4CAF50",
                "styles": {},
                "label": "Sexologist",
                "scale_factor": 1,
                "type": "#4CAF50",
                "size": [
                  55,
                  55
                ],
                "position": [
                  0,
                  0
                ]
              },
              {
                "id": 15,
                "properties": {
                  "id": "Yaz Contraceptive Pill",
                  "label": "__Entity__:Contraceptive pill"
                },
                "color": "#F44336",
                "styles": {},
                "label": "Yaz Contraceptive Pill",
                "scale_factor": 1,
                "type": "#F44336",
                "size": [
                  55,
                  55
                ],
                "position": [
                  0,
                  0
                ]
              },
              {
                "id": 67,
                "properties": {
                  "id": "Susten 200 Mg",
                  "label": "__Entity__:Medication"
                },
                "color": "#2196F3",
                "styles": {},
                "label": "Susten 200 Mg",
                "scale_factor": 1,
                "type": "#2196F3",
                "size": [
                  55,
                  55
                ],
                "position": [
                  0,
                  0
                ]
              },
              {
                "id": 95,
                "properties": {
                  "id": "Clonafit 0.25 Mg",
                  "label": "__Entity__:Medication"
                },
                "color": "#2196F3",
                "styles": {},
                "label": "Clonafit 0.25 Mg",
                "scale_factor": 1,
                "type": "#2196F3",
                "size": [
                  55,
                  55
                ],
                "position": [
                  0,
                  0
                ]
              },
              {
                "id": 96,
                "properties": {
                  "id": "Betonix-10",
                  "label": "__Entity__:Medication"
                },
                "color": "#2196F3",
                "styles": {},
                "label": "Betonix-10",
                "scale_factor": 1,
                "type": "#2196F3",
                "size": [
                  55,
                  55
                ],
                "position": [
                  0,
                  0
                ]
              },
              {
                "id": 258,
                "properties": {
                  "id": "I-Pill",
                  "label": "__Entity__:Medication"
                },
                "color": "#2196F3",
                "styles": {},
                "label": "I-Pill",
                "scale_factor": 1,
                "type": "#2196F3",
                "size": [
                  55,
                  55
                ],
                "position": [
                  0,
                  0
                ]
              },
              {
                "id": 310,
                "properties": {
                  "id": "Emergency Contraceptive Pill",
                  "label": "__Entity__:Medication"
                },
                "color": "#2196F3",
                "styles": {},
                "label": "Emergency Contraceptive Pill",
                "scale_factor": 1,
                "type": "#2196F3",
                "size": [
                  55,
                  55
                ],
                "position": [
                  0,
                  0
                ]
              },
              {
                "id": 16,
                "properties": {
                  "id": "Period",
                  "label": "__Entity__:Period"
                },
                "color": "#607D8B",
                "styles": {},
                "label": "Period",
                "scale_factor": 1,
                "type": "#607D8B",
                "size": [
                  55,
                  55
                ],
                "position": [
                  0,
                  0
                ]
              },
              {
                "id": 17,
                "properties": {
                  "id": "Brown Discharge",
                  "label": "Discharge:__Entity__"
                },
                "color": "#673AB7",
                "styles": {},
                "label": "Brown Discharge",
                "scale_factor": 1,
                "type": "#673AB7",
                "size": [
                  55,
                  55
                ],
                "position": [
                  0,
                  0
                ]
              },
              {
                "id": 56,
                "properties": {
                  "id": "Numbness",
                  "label": "__Entity__:Symptom"
                },
                "color": "#CDDC39",
                "styles": {},
                "label": "Numbness",
                "scale_factor": 1,
                "type": "#CDDC39",
                "size": [
                  55,
                  55
                ],
                "position": [
                  0,
                  0
                ]
              },
              {
                "id": 44,
                "properties": {
                  "id": "Gynecologist",
                  "label": "Doctor:Medical professional:__Entity__"
                },
                "color": "#9E9E9E",
                "styles": {},
                "label": "Gynecologist",
                "scale_factor": 1,
                "type": "#9E9E9E",
                "size": [
                  55,
                  55
                ],
                "position": [
                  0,
                  0
                ]
              },
              {
                "id": 77,
                "properties": {
                  "id": "Hashimoto'S Disease",
                  "label": "__Entity__:Autoimmune condition"
                },
                "color": "#9C27B0",
                "styles": {},
                "label": "Hashimoto'S Disease",
                "scale_factor": 1,
                "type": "#9C27B0",
                "size": [
                  55,
                  55
                ],
                "position": [
                  0,
                  0
                ]
              },
              {
                "id": 205,
                "properties": {
                  "id": "Acne",
                  "label": "__Entity__:Condition"
                },
                "color": "#2196F3",
                "styles": {},
                "label": "Acne",
                "scale_factor": 1,
                "type": "#2196F3",
                "size": [
                  55,
                  55
                ],
                "position": [
                  0,
                  0
                ]
              },
              {
                "id": 124,
                "properties": {
                  "id": "Ent Doctor",
                  "label": "Doctor:__Entity__"
                },
                "color": "#4CAF50",
                "styles": {},
                "label": "Ent Doctor",
                "scale_factor": 1,
                "type": "#4CAF50",
                "size": [
                  55,
                  55
                ],
                "position": [
                  0,
                  0
                ]
              },
              {
                "id": 47,
                "properties": {
                  "id": "Sex Induced Stress",
                  "label": "__Entity__:Medical condition"
                },
                "color": "#F44336",
                "styles": {},
                "label": "Sex Induced Stress",
                "scale_factor": 1,
                "type": "#F44336",
                "size": [
                  55,
                  55
                ],
                "position": [
                  0,
                  0
                ]
              },
              {
                "id": 50,
                "properties": {
                  "id": "Progesterone",
                  "label": "Hormone:__Entity__"
                },
                "color": "#607D8B",
                "styles": {},
                "label": "Progesterone",
                "scale_factor": 1,
                "type": "#607D8B",
                "size": [
                  55,
                  55
                ],
                "position": [
                  0,
                  0
                ]
              },
              {
                "id": 74,
                "properties": {
                  "id": "Glandular Fever",
                  "label": "Disease:__Entity__"
                },
                "color": "#673AB7",
                "styles": {},
                "label": "Glandular Fever",
                "scale_factor": 1,
                "type": "#673AB7",
                "size": [
                  55,
                  55
                ],
                "position": [
                  0,
                  0
                ]
              },
              {
                "id": 75,
                "properties": {
                  "id": "Shingles",
                  "label": "Disease:__Entity__"
                },
                "color": "#673AB7",
                "styles": {},
                "label": "Shingles",
                "scale_factor": 1,
                "type": "#673AB7",
                "size": [
                  55,
                  55
                ],
                "position": [
                  0,
                  0
                ]
              },
              {
                "id": 76,
                "properties": {
                  "id": "Influenza",
                  "label": "Disease:__Entity__"
                },
                "color": "#673AB7",
                "styles": {},
                "label": "Influenza",
                "scale_factor": 1,
                "type": "#673AB7",
                "size": [
                  55,
                  55
                ],
                "position": [
                  0,
                  0
                ]
              },
              {
                "id": 78,
                "properties": {
                  "id": "Coronavirus",
                  "label": "__Entity__:Virus"
                },
                "color": "#673AB7",
                "styles": {},
                "label": "Coronavirus",
                "scale_factor": 1,
                "type": "#673AB7",
                "size": [
                  55,
                  55
                ],
                "position": [
                  0,
                  0
                ]
              },
              {
                "id": 94,
                "properties": {
                  "id": "Aquagenic Pruritus",
                  "label": "Disease:__Entity__"
                },
                "color": "#673AB7",
                "styles": {},
                "label": "Aquagenic Pruritus",
                "scale_factor": 1,
                "type": "#673AB7",
                "size": [
                  55,
                  55
                ],
                "position": [
                  0,
                  0
                ]
              },
              {
                "id": 125,
                "properties": {
                  "id": "Afrin Spray",
                  "label": "__Entity__:Medication"
                },
                "color": "#2196F3",
                "styles": {},
                "label": "Afrin Spray",
                "scale_factor": 1,
                "type": "#2196F3",
                "size": [
                  55,
                  55
                ],
                "position": [
                  0,
                  0
                ]
              },
              {
                "id": 126,
                "properties": {
                  "id": "Sudafed",
                  "label": "__Entity__:Medication"
                },
                "color": "#2196F3",
                "styles": {},
                "label": "Sudafed",
                "scale_factor": 1,
                "type": "#2196F3",
                "size": [
                  55,
                  55
                ],
                "position": [
                  0,
                  0
                ]
              },
              {
                "id": 30,
                "properties": {
                  "id": "Amoxicillin",
                  "label": "__Entity__:Medication"
                },
                "color": "#2196F3",
                "styles": {},
                "label": "Amoxicillin",
                "scale_factor": 1,
                "type": "#2196F3",
                "size": [
                  55,
                  55
                ],
                "position": [
                  0,
                  0
                ]
              },
              {
                "id": 127,
                "properties": {
                  "id": "Prednisone",
                  "label": "__Entity__:Medication"
                },
                "color": "#2196F3",
                "styles": {},
                "label": "Prednisone",
                "scale_factor": 1,
                "type": "#2196F3",
                "size": [
                  55,
                  55
                ],
                "position": [
                  0,
                  0
                ]
              },
              {
                "id": 129,
                "properties": {
                  "id": "Cold",
                  "label": "__Entity__:Medical condition"
                },
                "color": "#F44336",
                "styles": {},
                "label": "Cold",
                "scale_factor": 1,
                "type": "#F44336",
                "size": [
                  55,
                  55
                ],
                "position": [
                  0,
                  0
                ]
              },
              {
                "id": 130,
                "properties": {
                  "id": "Sinus Infection",
                  "label": "__Entity__:Medical condition"
                },
                "color": "#F44336",
                "styles": {},
                "label": "Sinus Infection",
                "scale_factor": 1,
                "type": "#F44336",
                "size": [
                  55,
                  55
                ],
                "position": [
                  0,
                  0
                ]
              },
              {
                "id": 247,
                "properties": {
                  "id": "Pneumonia",
                  "label": "Disease:__Entity__"
                },
                "color": "#673AB7",
                "styles": {},
                "label": "Pneumonia",
                "scale_factor": 1,
                "type": "#673AB7",
                "size": [
                  55,
                  55
                ],
                "position": [
                  0,
                  0
                ]
              },
              {
                "id": 264,
                "properties": {
                  "id": "Urinary Tract Infection",
                  "label": "Disease:__Entity__"
                },
                "color": "#673AB7",
                "styles": {},
                "label": "Urinary Tract Infection",
                "scale_factor": 1,
                "type": "#673AB7",
                "size": [
                  55,
                  55
                ],
                "position": [
                  0,
                  0
                ]
              },
              {
                "id": 313,
                "properties": {
                  "id": "Abortus",
                  "label": "__Entity__:Medical condition"
                },
                "color": "#F44336",
                "styles": {},
                "label": "Abortus",
                "scale_factor": 1,
                "type": "#F44336",
                "size": [
                  55,
                  55
                ],
                "position": [
                  0,
                  0
                ]
              },
              {
                "id": 314,
                "properties": {
                  "id": "Proliferative Phase Disorder",
                  "label": "__Entity__:Medical condition"
                },
                "color": "#F44336",
                "styles": {},
                "label": "Proliferative Phase Disorder",
                "scale_factor": 1,
                "type": "#F44336",
                "size": [
                  55,
                  55
                ],
                "position": [
                  0,
                  0
                ]
              },
              {
                "id": 328,
                "properties": {
                  "id": "Pancreatic Cancer",
                  "label": "Disease:__Entity__"
                },
                "color": "#673AB7",
                "styles": {},
                "label": "Pancreatic Cancer",
                "scale_factor": 1,
                "type": "#673AB7",
                "size": [
                  55,
                  55
                ],
                "position": [
                  0,
                  0
                ]
              },
              {
                "id": 206,
                "properties": {
                  "id": "Mometasone",
                  "label": "__Entity__:Medication"
                },
                "color": "#2196F3",
                "styles": {},
                "label": "Mometasone",
                "scale_factor": 1,
                "type": "#2196F3",
                "size": [
                  55,
                  55
                ],
                "position": [
                  0,
                  0
                ]
              },
              {
                "id": 217,
                "properties": {
                  "id": "Toothpaste",
                  "label": "Product:__Entity__"
                },
                "color": "#CDDC39",
                "styles": {},
                "label": "Toothpaste",
                "scale_factor": 1,
                "type": "#CDDC39",
                "size": [
                  55,
                  55
                ],
                "position": [
                  0,
                  0
                ]
              },
              {
                "id": 243,
                "properties": {
                  "id": "Astigmatism",
                  "label": "__Entity__:Condition"
                },
                "color": "#2196F3",
                "styles": {},
                "label": "Astigmatism",
                "scale_factor": 1,
                "type": "#2196F3",
                "size": [
                  55,
                  55
                ],
                "position": [
                  0,
                  0
                ]
              },
              {
                "id": 101,
                "properties": {
                  "id": "Anxiety",
                  "label": "__Entity__:Medical condition:Condition"
                },
                "color": "#9E9E9E",
                "styles": {},
                "label": "Anxiety",
                "scale_factor": 1,
                "type": "#9E9E9E",
                "size": [
                  55,
                  55
                ],
                "position": [
                  0,
                  0
                ]
              },
              {
                "id": 244,
                "properties": {
                  "id": "Floaters",
                  "label": "__Entity__:Condition"
                },
                "color": "#2196F3",
                "styles": {},
                "label": "Floaters",
                "scale_factor": 1,
                "type": "#2196F3",
                "size": [
                  55,
                  55
                ],
                "position": [
                  0,
                  0
                ]
              },
              {
                "id": 320,
                "properties": {
                  "id": "Retinal Detachment",
                  "label": "__Entity__:Medical condition"
                },
                "color": "#F44336",
                "styles": {},
                "label": "Retinal Detachment",
                "scale_factor": 1,
                "type": "#F44336",
                "size": [
                  55,
                  55
                ],
                "position": [
                  0,
                  0
                ]
              },
              {
                "id": 242,
                "properties": {
                  "id": "Optometrist",
                  "label": "__Entity__:Person"
                },
                "color": "#9C27B0",
                "styles": {},
                "label": "Optometrist",
                "scale_factor": 1,
                "type": "#9C27B0",
                "size": [
                  55,
                  55
                ],
                "position": [
                  0,
                  0
                ]
              },
              {
                "id": 246,
                "properties": {
                  "id": "Covid-19",
                  "label": "Disease:__Entity__"
                },
                "color": "#673AB7",
                "styles": {},
                "label": "Covid-19",
                "scale_factor": 1,
                "type": "#673AB7",
                "size": [
                  55,
                  55
                ],
                "position": [
                  0,
                  0
                ]
              },
              {
                "id": 11,
                "properties": {
                  "id": "Pregnancy",
                  "label": "__Entity__:Medical condition:Condition"
                },
                "color": "#9E9E9E",
                "styles": {},
                "label": "Pregnancy",
                "scale_factor": 1,
                "type": "#9E9E9E",
                "size": [
                  55,
                  55
                ],
                "position": [
                  0,
                  0
                ]
              },
              {
                "id": 271,
                "properties": {
                  "id": "Father",
                  "label": "__Entity__:Person"
                },
                "color": "#9C27B0",
                "styles": {},
                "label": "Father",
                "scale_factor": 1,
                "type": "#9C27B0",
                "size": [
                  55,
                  55
                ],
                "position": [
                  0,
                  0
                ]
              },
              {
                "id": 287,
                "properties": {
                  "id": "Otinex Ear Drops",
                  "label": "__Entity__:Medication"
                },
                "color": "#2196F3",
                "styles": {},
                "label": "Otinex Ear Drops",
                "scale_factor": 1,
                "type": "#2196F3",
                "size": [
                  55,
                  55
                ],
                "position": [
                  0,
                  0
                ]
              },
              {
                "id": 307,
                "properties": {
                  "id": "Sexually Transmitted Diseases",
                  "label": "Disease:__Entity__"
                },
                "color": "#673AB7",
                "styles": {},
                "label": "Sexually Transmitted Diseases",
                "scale_factor": 1,
                "type": "#673AB7",
                "size": [
                  55,
                  55
                ],
                "position": [
                  0,
                  0
                ]
              },
              {
                "id": 26,
                "properties": {
                  "id": "Chat Doctor Forum",
                  "label": "__Entity__:Organization"
                },
                "color": "#2196F3",
                "styles": {},
                "label": "Chat Doctor Forum",
                "scale_factor": 1,
                "type": "#2196F3",
                "size": [
                  55,
                  55
                ],
                "position": [
                  0,
                  0
                ]
              },
              {
                "id": 212,
                "properties": {
                  "id": "X-Ray",
                  "label": "__Entity__:Medical test"
                },
                "color": "#4CAF50",
                "styles": {},
                "label": "X-Ray",
                "scale_factor": 1,
                "type": "#4CAF50",
                "size": [
                  55,
                  55
                ],
                "position": [
                  0,
                  0
                ]
              },
              {
                "id": 321,
                "properties": {
                  "id": "Diabetes",
                  "label": "Disease:__Entity__:Medical condition"
                },
                "color": "#F44336",
                "styles": {},
                "label": "Diabetes",
                "scale_factor": 1,
                "type": "#F44336",
                "size": [
                  55,
                  55
                ],
                "position": [
                  0,
                  0
                ]
              },
              {
                "id": 19,
                "properties": {
                  "id": "Pregnancy Test",
                  "label": "Pregnancy test:__Entity__"
                },
                "color": "#607D8B",
                "styles": {},
                "label": "Pregnancy Test",
                "scale_factor": 1,
                "type": "#607D8B",
                "size": [
                  55,
                  55
                ],
                "position": [
                  0,
                  0
                ]
              },
              {
                "id": 72,
                "properties": {
                  "id": "Ultrasound",
                  "label": "__Entity__:Medical test"
                },
                "color": "#4CAF50",
                "styles": {},
                "label": "Ultrasound",
                "scale_factor": 1,
                "type": "#4CAF50",
                "size": [
                  55,
                  55
                ],
                "position": [
                  0,
                  0
                ]
              },
              {
                "id": 135,
                "properties": {
                  "id": "Urine Pregnancy Test",
                  "label": "__Entity__:Medical test"
                },
                "color": "#4CAF50",
                "styles": {},
                "label": "Urine Pregnancy Test",
                "scale_factor": 1,
                "type": "#4CAF50",
                "size": [
                  55,
                  55
                ],
                "position": [
                  0,
                  0
                ]
              },
              {
                "id": 308,
                "properties": {
                  "id": "Cranberry Juice Extract Tablet",
                  "label": "__Entity__:Medication"
                },
                "color": "#2196F3",
                "styles": {},
                "label": "Cranberry Juice Extract Tablet",
                "scale_factor": 1,
                "type": "#2196F3",
                "size": [
                  55,
                  55
                ],
                "position": [
                  0,
                  0
                ]
              },
              {
                "id": 312,
                "properties": {
                  "id": "Ultrasound Pelvis",
                  "label": "__Entity__:Medical test"
                },
                "color": "#4CAF50",
                "styles": {},
                "label": "Ultrasound Pelvis",
                "scale_factor": 1,
                "type": "#4CAF50",
                "size": [
                  55,
                  55
                ],
                "position": [
                  0,
                  0
                ]
              },
              {
                "id": 318,
                "properties": {
                  "id": "Augmentin Dds Syrup",
                  "label": "__Entity__:Medication"
                },
                "color": "#2196F3",
                "styles": {},
                "label": "Augmentin Dds Syrup",
                "scale_factor": 1,
                "type": "#2196F3",
                "size": [
                  55,
                  55
                ],
                "position": [
                  0,
                  0
                ]
              },
              {
                "id": 20,
                "properties": {
                  "id": "Stds",
                  "label": "__Entity__:Stds"
                },
                "color": "#673AB7",
                "styles": {},
                "label": "Stds",
                "scale_factor": 1,
                "type": "#673AB7",
                "size": [
                  55,
                  55
                ],
                "position": [
                  0,
                  0
                ]
              },
              {
                "id": 25,
                "properties": {
                  "id": "Son",
                  "label": "Patient:__Entity__:Person"
                },
                "color": "#CDDC39",
                "styles": {},
                "label": "Son",
                "scale_factor": 1,
                "type": "#CDDC39",
                "size": [
                  55,
                  55
                ],
                "position": [
                  0,
                  0
                ]
              },
              {
                "id": 29,
                "properties": {
                  "id": "Patient",
                  "label": "__Entity__:Person"
                },
                "color": "#9C27B0",
                "styles": {},
                "label": "Patient",
                "scale_factor": 1,
                "type": "#9C27B0",
                "size": [
                  55,
                  55
                ],
                "position": [
                  0,
                  0
                ]
              },
              {
                "id": 238,
                "properties": {
                  "id": "Fiancee",
                  "label": "__Entity__:Person"
                },
                "color": "#9C27B0",
                "styles": {},
                "label": "Fiancee",
                "scale_factor": 1,
                "type": "#9C27B0",
                "size": [
                  55,
                  55
                ],
                "position": [
                  0,
                  0
                ]
              },
              {
                "id": 68,
                "properties": {
                  "id": "Threatened Abortion",
                  "label": "__Entity__:Medical condition"
                },
                "color": "#F44336",
                "styles": {},
                "label": "Threatened Abortion",
                "scale_factor": 1,
                "type": "#F44336",
                "size": [
                  55,
                  55
                ],
                "position": [
                  0,
                  0
                ]
              },
              {
                "id": 69,
                "properties": {
                  "id": "Bed Rest",
                  "label": "__Entity__:Treatment"
                },
                "color": "#9E9E9E",
                "styles": {},
                "label": "Bed Rest",
                "scale_factor": 1,
                "type": "#9E9E9E",
                "size": [
                  55,
                  55
                ],
                "position": [
                  0,
                  0
                ]
              },
              {
                "id": 70,
                "properties": {
                  "id": "Mbryosafe Sachet",
                  "label": "__Entity__:Medication"
                },
                "color": "#2196F3",
                "styles": {},
                "label": "Mbryosafe Sachet",
                "scale_factor": 1,
                "type": "#2196F3",
                "size": [
                  55,
                  55
                ],
                "position": [
                  0,
                  0
                ]
              },
              {
                "id": 97,
                "properties": {
                  "id": "Teczine-M (Monteleukast And Levocetirizine)",
                  "label": "__Entity__:Medication"
                },
                "color": "#2196F3",
                "styles": {},
                "label": "Teczine-M (Monteleukast And Levocetirizine)",
                "scale_factor": 1,
                "type": "#2196F3",
                "size": [
                  55,
                  55
                ],
                "position": [
                  0,
                  0
                ]
              },
              {
                "id": 316,
                "properties": {
                  "id": "Benadryl",
                  "label": "__Entity__:Medication"
                },
                "color": "#2196F3",
                "styles": {},
                "label": "Benadryl",
                "scale_factor": 1,
                "type": "#2196F3",
                "size": [
                  55,
                  55
                ],
                "position": [
                  0,
                  0
                ]
              },
              {
                "id": 317,
                "properties": {
                  "id": "Crocin Ds",
                  "label": "__Entity__:Medication"
                },
                "color": "#2196F3",
                "styles": {},
                "label": "Crocin Ds",
                "scale_factor": 1,
                "type": "#2196F3",
                "size": [
                  55,
                  55
                ],
                "position": [
                  0,
                  0
                ]
              },
              {
                "id": 210,
                "properties": {
                  "id": "Orthopedic Surgeon",
                  "label": "Medical professional:__Entity__:Person"
                },
                "color": "#9C27B0",
                "styles": {},
                "label": "Orthopedic Surgeon",
                "scale_factor": 1,
                "type": "#9C27B0",
                "size": [
                  55,
                  55
                ],
                "position": [
                  0,
                  0
                ]
              },
              {
                "id": 198,
                "properties": {
                  "id": "Mri",
                  "label": "__Entity__:Medical test"
                },
                "color": "#4CAF50",
                "styles": {},
                "label": "Mri",
                "scale_factor": 1,
                "type": "#4CAF50",
                "size": [
                  55,
                  55
                ],
                "position": [
                  0,
                  0
                ]
              },
              {
                "id": 288,
                "properties": {
                  "id": "Ciplox (Ciprofloxacin)",
                  "label": "__Entity__:Medication"
                },
                "color": "#2196F3",
                "styles": {},
                "label": "Ciplox (Ciprofloxacin)",
                "scale_factor": 1,
                "type": "#2196F3",
                "size": [
                  55,
                  55
                ],
                "position": [
                  0,
                  0
                ]
              },
              {
                "id": 289,
                "properties": {
                  "id": "Candid (Clotrimazole And Lidocaine)",
                  "label": "__Entity__:Medication"
                },
                "color": "#2196F3",
                "styles": {},
                "label": "Candid (Clotrimazole And Lidocaine)",
                "scale_factor": 1,
                "type": "#2196F3",
                "size": [
                  55,
                  55
                ],
                "position": [
                  0,
                  0
                ]
              },
              {
                "id": 338,
                "properties": {
                  "id": "Baby Girl",
                  "label": "__Entity__:Person"
                },
                "color": "#9C27B0",
                "styles": {},
                "label": "Baby Girl",
                "scale_factor": 1,
                "type": "#9C27B0",
                "size": [
                  55,
                  55
                ],
                "position": [
                  0,
                  0
                ]
              },
              {
                "id": 4,
                "properties": {
                  "id": "Infection",
                  "label": "Disease:__Entity__:Medical complication:Condition"
                },
                "color": "#2196F3",
                "styles": {},
                "label": "Infection",
                "scale_factor": 1,
                "type": "#2196F3",
                "size": [
                  55,
                  55
                ],
                "position": [
                  0,
                  0
                ]
              },
              {
                "id": 5,
                "properties": {
                  "id": "Testes",
                  "label": "Body part:__Entity__"
                },
                "color": "#9C27B0",
                "styles": {},
                "label": "Testes",
                "scale_factor": 1,
                "type": "#9C27B0",
                "size": [
                  55,
                  55
                ],
                "position": [
                  0,
                  0
                ]
              },
              {
                "id": 10,
                "properties": {
                  "id": "Cocaine",
                  "label": "__Entity__:Substance"
                },
                "color": "#4CAF50",
                "styles": {},
                "label": "Cocaine",
                "scale_factor": 1,
                "type": "#4CAF50",
                "size": [
                  55,
                  55
                ],
                "position": [
                  0,
                  0
                ]
              },
              {
                "id": 12,
                "properties": {
                  "id": "Sperm",
                  "label": "Body part:__Entity__:Biological entity"
                },
                "color": "#F44336",
                "styles": {},
                "label": "Sperm",
                "scale_factor": 1,
                "type": "#F44336",
                "size": [
                  55,
                  55
                ],
                "position": [
                  0,
                  0
                ]
              },
              {
                "id": 221,
                "properties": {
                  "id": "Dermatologist",
                  "label": "__Entity__:Person"
                },
                "color": "#9C27B0",
                "styles": {},
                "label": "Dermatologist",
                "scale_factor": 1,
                "type": "#9C27B0",
                "size": [
                  55,
                  55
                ],
                "position": [
                  0,
                  0
                ]
              },
              {
                "id": 188,
                "properties": {
                  "id": "Endocrinologist",
                  "label": "__Entity__:Specialist"
                },
                "color": "#607D8B",
                "styles": {},
                "label": "Endocrinologist",
                "scale_factor": 1,
                "type": "#607D8B",
                "size": [
                  55,
                  55
                ],
                "position": [
                  0,
                  0
                ]
              },
              {
                "id": 177,
                "properties": {
                  "id": "Heart Palpitations",
                  "label": "__Entity__:Symptom"
                },
                "color": "#CDDC39",
                "styles": {},
                "label": "Heart Palpitations",
                "scale_factor": 1,
                "type": "#CDDC39",
                "size": [
                  55,
                  55
                ],
                "position": [
                  0,
                  0
                ]
              },
              {
                "id": 178,
                "properties": {
                  "id": "Sweaty Palms And Feet",
                  "label": "__Entity__:Symptom"
                },
                "color": "#CDDC39",
                "styles": {},
                "label": "Sweaty Palms And Feet",
                "scale_factor": 1,
                "type": "#CDDC39",
                "size": [
                  55,
                  55
                ],
                "position": [
                  0,
                  0
                ]
              },
              {
                "id": 179,
                "properties": {
                  "id": "Lightheadedness",
                  "label": "__Entity__:Symptom"
                },
                "color": "#CDDC39",
                "styles": {},
                "label": "Lightheadedness",
                "scale_factor": 1,
                "type": "#CDDC39",
                "size": [
                  55,
                  55
                ],
                "position": [
                  0,
                  0
                ]
              },
              {
                "id": 222,
                "properties": {
                  "id": "Rash",
                  "label": "__Entity__:Condition"
                },
                "color": "#2196F3",
                "styles": {},
                "label": "Rash",
                "scale_factor": 1,
                "type": "#2196F3",
                "size": [
                  55,
                  55
                ],
                "position": [
                  0,
                  0
                ]
              },
              {
                "id": 224,
                "properties": {
                  "id": "Fever",
                  "label": "__Entity__:Condition"
                },
                "color": "#2196F3",
                "styles": {},
                "label": "Fever",
                "scale_factor": 1,
                "type": "#2196F3",
                "size": [
                  55,
                  55
                ],
                "position": [
                  0,
                  0
                ]
              },
              {
                "id": 180,
                "properties": {
                  "id": "Tsh",
                  "label": "Test:__Entity__"
                },
                "color": "#673AB7",
                "styles": {},
                "label": "Tsh",
                "scale_factor": 1,
                "type": "#673AB7",
                "size": [
                  55,
                  55
                ],
                "position": [
                  0,
                  0
                ]
              },
              {
                "id": 181,
                "properties": {
                  "id": "Ekg",
                  "label": "Test:__Entity__"
                },
                "color": "#673AB7",
                "styles": {},
                "label": "Ekg",
                "scale_factor": 1,
                "type": "#673AB7",
                "size": [
                  55,
                  55
                ],
                "position": [
                  0,
                  0
                ]
              },
              {
                "id": 182,
                "properties": {
                  "id": "Lung Scans",
                  "label": "Test:__Entity__"
                },
                "color": "#673AB7",
                "styles": {},
                "label": "Lung Scans",
                "scale_factor": 1,
                "type": "#673AB7",
                "size": [
                  55,
                  55
                ],
                "position": [
                  0,
                  0
                ]
              },
              {
                "id": 183,
                "properties": {
                  "id": "Blood Panels",
                  "label": "Test:__Entity__"
                },
                "color": "#673AB7",
                "styles": {},
                "label": "Blood Panels",
                "scale_factor": 1,
                "type": "#673AB7",
                "size": [
                  55,
                  55
                ],
                "position": [
                  0,
                  0
                ]
              },
              {
                "id": 184,
                "properties": {
                  "id": "Thyroid Panel",
                  "label": "Test:__Entity__"
                },
                "color": "#673AB7",
                "styles": {},
                "label": "Thyroid Panel",
                "scale_factor": 1,
                "type": "#673AB7",
                "size": [
                  55,
                  55
                ],
                "position": [
                  0,
                  0
                ]
              },
              {
                "id": 185,
                "properties": {
                  "id": "Urine Test",
                  "label": "Test:__Entity__"
                },
                "color": "#673AB7",
                "styles": {},
                "label": "Urine Test",
                "scale_factor": 1,
                "type": "#673AB7",
                "size": [
                  55,
                  55
                ],
                "position": [
                  0,
                  0
                ]
              },
              {
                "id": 186,
                "properties": {
                  "id": "Iodine",
                  "label": "__Entity__:Substance"
                },
                "color": "#4CAF50",
                "styles": {},
                "label": "Iodine",
                "scale_factor": 1,
                "type": "#4CAF50",
                "size": [
                  55,
                  55
                ],
                "position": [
                  0,
                  0
                ]
              },
              {
                "id": 187,
                "properties": {
                  "id": "Selenium",
                  "label": "__Entity__:Substance"
                },
                "color": "#4CAF50",
                "styles": {},
                "label": "Selenium",
                "scale_factor": 1,
                "type": "#4CAF50",
                "size": [
                  55,
                  55
                ],
                "position": [
                  0,
                  0
                ]
              },
              {
                "id": 189,
                "properties": {
                  "id": "Hyperthyroidism",
                  "label": "__Entity__:Condition"
                },
                "color": "#2196F3",
                "styles": {},
                "label": "Hyperthyroidism",
                "scale_factor": 1,
                "type": "#2196F3",
                "size": [
                  55,
                  55
                ],
                "position": [
                  0,
                  0
                ]
              },
              {
                "id": 190,
                "properties": {
                  "id": "Hypothyroidism",
                  "label": "__Entity__:Condition"
                },
                "color": "#2196F3",
                "styles": {},
                "label": "Hypothyroidism",
                "scale_factor": 1,
                "type": "#2196F3",
                "size": [
                  55,
                  55
                ],
                "position": [
                  0,
                  0
                ]
              },
              {
                "id": 191,
                "properties": {
                  "id": "Hashimoto'S",
                  "label": "__Entity__:Condition"
                },
                "color": "#2196F3",
                "styles": {},
                "label": "Hashimoto'S",
                "scale_factor": 1,
                "type": "#2196F3",
                "size": [
                  55,
                  55
                ],
                "position": [
                  0,
                  0
                ]
              },
              {
                "id": 192,
                "properties": {
                  "id": "Thyroid Cancer",
                  "label": "__Entity__:Condition"
                },
                "color": "#2196F3",
                "styles": {},
                "label": "Thyroid Cancer",
                "scale_factor": 1,
                "type": "#2196F3",
                "size": [
                  55,
                  55
                ],
                "position": [
                  0,
                  0
                ]
              },
              {
                "id": 31,
                "properties": {
                  "id": "Ibuprofen",
                  "label": "__Entity__:Medication"
                },
                "color": "#2196F3",
                "styles": {},
                "label": "Ibuprofen",
                "scale_factor": 1,
                "type": "#2196F3",
                "size": [
                  55,
                  55
                ],
                "position": [
                  0,
                  0
                ]
              },
              {
                "id": 32,
                "properties": {
                  "id": "Augmentin",
                  "label": "__Entity__:Medication"
                },
                "color": "#2196F3",
                "styles": {},
                "label": "Augmentin",
                "scale_factor": 1,
                "type": "#2196F3",
                "size": [
                  55,
                  55
                ],
                "position": [
                  0,
                  0
                ]
              },
              {
                "id": 99,
                "properties": {
                  "id": "Facial_Tightness",
                  "label": "__Entity__:Condition"
                },
                "color": "#2196F3",
                "styles": {},
                "label": "Facial_Tightness",
                "scale_factor": 1,
                "type": "#2196F3",
                "size": [
                  55,
                  55
                ],
                "position": [
                  0,
                  0
                ]
              },
              {
                "id": 100,
                "properties": {
                  "id": "Burning_Sensation",
                  "label": "__Entity__:Condition"
                },
                "color": "#2196F3",
                "styles": {},
                "label": "Burning_Sensation",
                "scale_factor": 1,
                "type": "#2196F3",
                "size": [
                  55,
                  55
                ],
                "position": [
                  0,
                  0
                ]
              },
              {
                "id": 28,
                "properties": {
                  "id": "Wisdom Teeth",
                  "label": "__Entity__:Medical condition"
                },
                "color": "#F44336",
                "styles": {},
                "label": "Wisdom Teeth",
                "scale_factor": 1,
                "type": "#F44336",
                "size": [
                  55,
                  55
                ],
                "position": [
                  0,
                  0
                ]
              },
              {
                "id": 40,
                "properties": {
                  "id": "Right-Sided Nodule",
                  "label": "__Entity__:Medical condition"
                },
                "color": "#F44336",
                "styles": {},
                "label": "Right-Sided Nodule",
                "scale_factor": 1,
                "type": "#F44336",
                "size": [
                  55,
                  55
                ],
                "position": [
                  0,
                  0
                ]
              },
              {
                "id": 41,
                "properties": {
                  "id": "Intrapulmonary Lymph Node",
                  "label": "__Entity__:Medical condition"
                },
                "color": "#F44336",
                "styles": {},
                "label": "Intrapulmonary Lymph Node",
                "scale_factor": 1,
                "type": "#F44336",
                "size": [
                  55,
                  55
                ],
                "position": [
                  0,
                  0
                ]
              },
              {
                "id": 42,
                "properties": {
                  "id": "Thymic Hyperplasia",
                  "label": "__Entity__:Medical condition"
                },
                "color": "#F44336",
                "styles": {},
                "label": "Thymic Hyperplasia",
                "scale_factor": 1,
                "type": "#F44336",
                "size": [
                  55,
                  55
                ],
                "position": [
                  0,
                  0
                ]
              },
              {
                "id": 37,
                "properties": {
                  "id": "Sex Worker",
                  "label": "__Entity__:Person"
                },
                "color": "#9C27B0",
                "styles": {},
                "label": "Sex Worker",
                "scale_factor": 1,
                "type": "#9C27B0",
                "size": [
                  55,
                  55
                ],
                "position": [
                  0,
                  0
                ]
              },
              {
                "id": 36,
                "properties": {
                  "id": "Condom",
                  "label": "__Entity__:Object"
                },
                "color": "#CDDC39",
                "styles": {},
                "label": "Condom",
                "scale_factor": 1,
                "type": "#CDDC39",
                "size": [
                  55,
                  55
                ],
                "position": [
                  0,
                  0
                ]
              },
              {
                "id": 35,
                "properties": {
                  "id": "Hiv",
                  "label": "Disease:__Entity__"
                },
                "color": "#673AB7",
                "styles": {},
                "label": "Hiv",
                "scale_factor": 1,
                "type": "#673AB7",
                "size": [
                  55,
                  55
                ],
                "position": [
                  0,
                  0
                ]
              },
              {
                "id": 39,
                "properties": {
                  "id": "Ct Chest Result",
                  "label": "__Entity__:Medical result"
                },
                "color": "#9E9E9E",
                "styles": {},
                "label": "Ct Chest Result",
                "scale_factor": 1,
                "type": "#9E9E9E",
                "size": [
                  55,
                  55
                ],
                "position": [
                  0,
                  0
                ]
              },
              {
                "id": 102,
                "properties": {
                  "id": "Heartburn",
                  "label": "__Entity__:Condition"
                },
                "color": "#2196F3",
                "styles": {},
                "label": "Heartburn",
                "scale_factor": 1,
                "type": "#2196F3",
                "size": [
                  55,
                  55
                ],
                "position": [
                  0,
                  0
                ]
              },
              {
                "id": 33,
                "properties": {
                  "id": "Dentist",
                  "label": "__Entity__:Person:Professional"
                },
                "color": "#9C27B0",
                "styles": {},
                "label": "Dentist",
                "scale_factor": 1,
                "type": "#9C27B0",
                "size": [
                  55,
                  55
                ],
                "position": [
                  0,
                  0
                ]
              },
              {
                "id": 334,
                "properties": {
                  "id": "Scaling And Root Planing",
                  "label": "__Entity__:Procedure"
                },
                "color": "#2196F3",
                "styles": {},
                "label": "Scaling And Root Planing",
                "scale_factor": 1,
                "type": "#2196F3",
                "size": [
                  55,
                  55
                ],
                "position": [
                  0,
                  0
                ]
              },
              {
                "id": 45,
                "properties": {
                  "id": "Blood Sample",
                  "label": "__Entity__:Medical test"
                },
                "color": "#4CAF50",
                "styles": {},
                "label": "Blood Sample",
                "scale_factor": 1,
                "type": "#4CAF50",
                "size": [
                  55,
                  55
                ],
                "position": [
                  0,
                  0
                ]
              },
              {
                "id": 137,
                "properties": {
                  "id": "Abortion",
                  "label": "__Entity__"
                },
                "color": "#4CAF50",
                "styles": {},
                "label": "Abortion",
                "scale_factor": 1,
                "type": "#4CAF50",
                "size": [
                  55,
                  55
                ],
                "position": [
                  0,
                  0
                ]
              },
              {
                "id": 46,
                "properties": {
                  "id": "Serum Beta Hcg Levels",
                  "label": "Medical measurement:__Entity__"
                },
                "color": "#F44336",
                "styles": {},
                "label": "Serum Beta Hcg Levels",
                "scale_factor": 1,
                "type": "#F44336",
                "size": [
                  55,
                  55
                ],
                "position": [
                  0,
                  0
                ]
              },
              {
                "id": 48,
                "properties": {
                  "id": "Reproductive Hormones",
                  "label": "__Entity__:Hormones"
                },
                "color": "#607D8B",
                "styles": {},
                "label": "Reproductive Hormones",
                "scale_factor": 1,
                "type": "#607D8B",
                "size": [
                  55,
                  55
                ],
                "position": [
                  0,
                  0
                ]
              },
              {
                "id": 49,
                "properties": {
                  "id": "Menses",
                  "label": "__Entity__:Menstrual cycle"
                },
                "color": "#673AB7",
                "styles": {},
                "label": "Menses",
                "scale_factor": 1,
                "type": "#673AB7",
                "size": [
                  55,
                  55
                ],
                "position": [
                  0,
                  0
                ]
              },
              {
                "id": 52,
                "properties": {
                  "id": "Friend",
                  "label": "__Entity__:Person"
                },
                "color": "#9C27B0",
                "styles": {},
                "label": "Friend",
                "scale_factor": 1,
                "type": "#9C27B0",
                "size": [
                  55,
                  55
                ],
                "position": [
                  0,
                  0
                ]
              },
              {
                "id": 53,
                "properties": {
                  "id": "Phenol",
                  "label": "__Entity__:Substance"
                },
                "color": "#4CAF50",
                "styles": {},
                "label": "Phenol",
                "scale_factor": 1,
                "type": "#4CAF50",
                "size": [
                  55,
                  55
                ],
                "position": [
                  0,
                  0
                ]
              },
              {
                "id": 54,
                "properties": {
                  "id": "Milk",
                  "label": "__Entity__:Substance"
                },
                "color": "#4CAF50",
                "styles": {},
                "label": "Milk",
                "scale_factor": 1,
                "type": "#4CAF50",
                "size": [
                  55,
                  55
                ],
                "position": [
                  0,
                  0
                ]
              },
              {
                "id": 132,
                "properties": {
                  "id": "Mifepristone",
                  "label": "__Entity__:Medication:Drug"
                },
                "color": "#CDDC39",
                "styles": {},
                "label": "Mifepristone",
                "scale_factor": 1,
                "type": "#CDDC39",
                "size": [
                  55,
                  55
                ],
                "position": [
                  0,
                  0
                ]
              },
              {
                "id": 133,
                "properties": {
                  "id": "Misoprostol",
                  "label": "__Entity__:Medication:Drug"
                },
                "color": "#CDDC39",
                "styles": {},
                "label": "Misoprostol",
                "scale_factor": 1,
                "type": "#CDDC39",
                "size": [
                  55,
                  55
                ],
                "position": [
                  0,
                  0
                ]
              },
              {
                "id": 302,
                "properties": {
                  "id": "Usg",
                  "label": "__Entity__:Medical test"
                },
                "color": "#4CAF50",
                "styles": {},
                "label": "Usg",
                "scale_factor": 1,
                "type": "#4CAF50",
                "size": [
                  55,
                  55
                ],
                "position": [
                  0,
                  0
                ]
              },
              {
                "id": 57,
                "properties": {
                  "id": "Neurological Disorders",
                  "label": "__Entity__:Medical condition"
                },
                "color": "#F44336",
                "styles": {},
                "label": "Neurological Disorders",
                "scale_factor": 1,
                "type": "#F44336",
                "size": [
                  55,
                  55
                ],
                "position": [
                  0,
                  0
                ]
              },
              {
                "id": 58,
                "properties": {
                  "id": "Muscle Spasm",
                  "label": "__Entity__:Medical condition"
                },
                "color": "#F44336",
                "styles": {},
                "label": "Muscle Spasm",
                "scale_factor": 1,
                "type": "#F44336",
                "size": [
                  55,
                  55
                ],
                "position": [
                  0,
                  0
                ]
              },
              {
                "id": 59,
                "properties": {
                  "id": "Emotional Stress",
                  "label": "__Entity__:Medical condition"
                },
                "color": "#F44336",
                "styles": {},
                "label": "Emotional Stress",
                "scale_factor": 1,
                "type": "#F44336",
                "size": [
                  55,
                  55
                ],
                "position": [
                  0,
                  0
                ]
              },
              {
                "id": 157,
                "properties": {
                  "id": "Brain Mri",
                  "label": "__Entity__:Mri"
                },
                "color": "#9E9E9E",
                "styles": {},
                "label": "Brain Mri",
                "scale_factor": 1,
                "type": "#9E9E9E",
                "size": [
                  55,
                  55
                ],
                "position": [
                  0,
                  0
                ]
              },
              {
                "id": 63,
                "properties": {
                  "id": "Intrauterine Pregnancy",
                  "label": "__Entity__:Medical condition"
                },
                "color": "#F44336",
                "styles": {},
                "label": "Intrauterine Pregnancy",
                "scale_factor": 1,
                "type": "#F44336",
                "size": [
                  55,
                  55
                ],
                "position": [
                  0,
                  0
                ]
              },
              {
                "id": 71,
                "properties": {
                  "id": "L-Arginine",
                  "label": "__Entity__:Nutrient"
                },
                "color": "#9C27B0",
                "styles": {},
                "label": "L-Arginine",
                "scale_factor": 1,
                "type": "#9C27B0",
                "size": [
                  55,
                  55
                ],
                "position": [
                  0,
                  0
                ]
              },
              {
                "id": 80,
                "properties": {
                  "id": "Ferritin",
                  "label": "__Entity__:Protein"
                },
                "color": "#2196F3",
                "styles": {},
                "label": "Ferritin",
                "scale_factor": 1,
                "type": "#2196F3",
                "size": [
                  55,
                  55
                ],
                "position": [
                  0,
                  0
                ]
              },
              {
                "id": 81,
                "properties": {
                  "id": "Hemochromatosis",
                  "label": "Disease:__Entity__"
                },
                "color": "#673AB7",
                "styles": {},
                "label": "Hemochromatosis",
                "scale_factor": 1,
                "type": "#673AB7",
                "size": [
                  55,
                  55
                ],
                "position": [
                  0,
                  0
                ]
              },
              {
                "id": 83,
                "properties": {
                  "id": "Hfe Gene Mutation",
                  "label": "__Entity__:Gene mutation"
                },
                "color": "#4CAF50",
                "styles": {},
                "label": "Hfe Gene Mutation",
                "scale_factor": 1,
                "type": "#4CAF50",
                "size": [
                  55,
                  55
                ],
                "position": [
                  0,
                  0
                ]
              },
              {
                "id": 82,
                "properties": {
                  "id": "Fibromyalgia",
                  "label": "Disease:__Entity__"
                },
                "color": "#673AB7",
                "styles": {},
                "label": "Fibromyalgia",
                "scale_factor": 1,
                "type": "#673AB7",
                "size": [
                  55,
                  55
                ],
                "position": [
                  0,
                  0
                ]
              },
              {
                "id": 84,
                "properties": {
                  "id": "Transferrin Saturation",
                  "label": "__Entity__:Medical test"
                },
                "color": "#4CAF50",
                "styles": {},
                "label": "Transferrin Saturation",
                "scale_factor": 1,
                "type": "#4CAF50",
                "size": [
                  55,
                  55
                ],
                "position": [
                  0,
                  0
                ]
              },
              {
                "id": 85,
                "properties": {
                  "id": "Phlebotomy",
                  "label": "__Entity__:Medical procedure"
                },
                "color": "#F44336",
                "styles": {},
                "label": "Phlebotomy",
                "scale_factor": 1,
                "type": "#F44336",
                "size": [
                  55,
                  55
                ],
                "position": [
                  0,
                  0
                ]
              },
              {
                "id": 86,
                "properties": {
                  "id": "Hematologist",
                  "label": "Medical specialist:__Entity__"
                },
                "color": "#607D8B",
                "styles": {},
                "label": "Hematologist",
                "scale_factor": 1,
                "type": "#607D8B",
                "size": [
                  55,
                  55
                ],
                "position": [
                  0,
                  0
                ]
              },
              {
                "id": 88,
                "properties": {
                  "id": "Bacterial Vaginosis",
                  "label": "__Entity__:Medical condition"
                },
                "color": "#F44336",
                "styles": {},
                "label": "Bacterial Vaginosis",
                "scale_factor": 1,
                "type": "#F44336",
                "size": [
                  55,
                  55
                ],
                "position": [
                  0,
                  0
                ]
              },
              {
                "id": 89,
                "properties": {
                  "id": "Metronidazole",
                  "label": "__Entity__:Medication"
                },
                "color": "#2196F3",
                "styles": {},
                "label": "Metronidazole",
                "scale_factor": 1,
                "type": "#2196F3",
                "size": [
                  55,
                  55
                ],
                "position": [
                  0,
                  0
                ]
              },
              {
                "id": 90,
                "properties": {
                  "id": "Pid",
                  "label": "__Entity__:Medical condition"
                },
                "color": "#F44336",
                "styles": {},
                "label": "Pid",
                "scale_factor": 1,
                "type": "#F44336",
                "size": [
                  55,
                  55
                ],
                "position": [
                  0,
                  0
                ]
              },
              {
                "id": 91,
                "properties": {
                  "id": "Infertility",
                  "label": "__Entity__:Medical condition"
                },
                "color": "#F44336",
                "styles": {},
                "label": "Infertility",
                "scale_factor": 1,
                "type": "#F44336",
                "size": [
                  55,
                  55
                ],
                "position": [
                  0,
                  0
                ]
              },
              {
                "id": 92,
                "properties": {
                  "id": "Vaginal Infections",
                  "label": "__Entity__:Medical condition"
                },
                "color": "#F44336",
                "styles": {},
                "label": "Vaginal Infections",
                "scale_factor": 1,
                "type": "#F44336",
                "size": [
                  55,
                  55
                ],
                "position": [
                  0,
                  0
                ]
              },
              {
                "id": 103,
                "properties": {
                  "id": "Lying_Down",
                  "label": "__Entity__"
                },
                "color": "#4CAF50",
                "styles": {},
                "label": "Lying_Down",
                "scale_factor": 1,
                "type": "#4CAF50",
                "size": [
                  55,
                  55
                ],
                "position": [
                  0,
                  0
                ]
              },
              {
                "id": 104,
                "properties": {
                  "id": "Eating",
                  "label": "__Entity__"
                },
                "color": "#4CAF50",
                "styles": {},
                "label": "Eating",
                "scale_factor": 1,
                "type": "#4CAF50",
                "size": [
                  55,
                  55
                ],
                "position": [
                  0,
                  0
                ]
              },
              {
                "id": 105,
                "properties": {
                  "id": "Exercising",
                  "label": "__Entity__"
                },
                "color": "#4CAF50",
                "styles": {},
                "label": "Exercising",
                "scale_factor": 1,
                "type": "#4CAF50",
                "size": [
                  55,
                  55
                ],
                "position": [
                  0,
                  0
                ]
              },
              {
                "id": 106,
                "properties": {
                  "id": "Drinking_Alcohol",
                  "label": "__Entity__"
                },
                "color": "#4CAF50",
                "styles": {},
                "label": "Drinking_Alcohol",
                "scale_factor": 1,
                "type": "#4CAF50",
                "size": [
                  55,
                  55
                ],
                "position": [
                  0,
                  0
                ]
              },
              {
                "id": 108,
                "properties": {
                  "id": "Vitamin D Deficiency",
                  "label": "__Entity__:Medical condition"
                },
                "color": "#F44336",
                "styles": {},
                "label": "Vitamin D Deficiency",
                "scale_factor": 1,
                "type": "#F44336",
                "size": [
                  55,
                  55
                ],
                "position": [
                  0,
                  0
                ]
              },
              {
                "id": 109,
                "properties": {
                  "id": "Bulging Disc",
                  "label": "__Entity__:Medical condition"
                },
                "color": "#F44336",
                "styles": {},
                "label": "Bulging Disc",
                "scale_factor": 1,
                "type": "#F44336",
                "size": [
                  55,
                  55
                ],
                "position": [
                  0,
                  0
                ]
              },
              {
                "id": 110,
                "properties": {
                  "id": "Magnesium Supplements",
                  "label": "__Entity__:Medication"
                },
                "color": "#2196F3",
                "styles": {},
                "label": "Magnesium Supplements",
                "scale_factor": 1,
                "type": "#2196F3",
                "size": [
                  55,
                  55
                ],
                "position": [
                  0,
                  0
                ]
              },
              {
                "id": 112,
                "properties": {
                  "id": "Mother",
                  "label": "__Entity__:Person"
                },
                "color": "#9C27B0",
                "styles": {},
                "label": "Mother",
                "scale_factor": 1,
                "type": "#9C27B0",
                "size": [
                  55,
                  55
                ],
                "position": [
                  0,
                  0
                ]
              },
              {
                "id": 139,
                "properties": {
                  "id": "Achilles Tendon",
                  "label": "Body part:__Entity__"
                },
                "color": "#9C27B0",
                "styles": {},
                "label": "Achilles Tendon",
                "scale_factor": 1,
                "type": "#9C27B0",
                "size": [
                  55,
                  55
                ],
                "position": [
                  0,
                  0
                ]
              },
              {
                "id": 140,
                "properties": {
                  "id": "Knees",
                  "label": "Body part:__Entity__"
                },
                "color": "#9C27B0",
                "styles": {},
                "label": "Knees",
                "scale_factor": 1,
                "type": "#9C27B0",
                "size": [
                  55,
                  55
                ],
                "position": [
                  0,
                  0
                ]
              },
              {
                "id": 141,
                "properties": {
                  "id": "Hips",
                  "label": "Body part:__Entity__"
                },
                "color": "#9C27B0",
                "styles": {},
                "label": "Hips",
                "scale_factor": 1,
                "type": "#9C27B0",
                "size": [
                  55,
                  55
                ],
                "position": [
                  0,
                  0
                ]
              },
              {
                "id": 142,
                "properties": {
                  "id": "Shoulders",
                  "label": "Body part:__Entity__"
                },
                "color": "#9C27B0",
                "styles": {},
                "label": "Shoulders",
                "scale_factor": 1,
                "type": "#9C27B0",
                "size": [
                  55,
                  55
                ],
                "position": [
                  0,
                  0
                ]
              },
              {
                "id": 143,
                "properties": {
                  "id": "Osteoporosis",
                  "label": "Disease:__Entity__"
                },
                "color": "#673AB7",
                "styles": {},
                "label": "Osteoporosis",
                "scale_factor": 1,
                "type": "#673AB7",
                "size": [
                  55,
                  55
                ],
                "position": [
                  0,
                  0
                ]
              },
              {
                "id": 144,
                "properties": {
                  "id": "High Bp",
                  "label": "Disease:__Entity__"
                },
                "color": "#673AB7",
                "styles": {},
                "label": "High Bp",
                "scale_factor": 1,
                "type": "#673AB7",
                "size": [
                  55,
                  55
                ],
                "position": [
                  0,
                  0
                ]
              },
              {
                "id": 145,
                "properties": {
                  "id": "Kidney Stones",
                  "label": "Disease:__Entity__"
                },
                "color": "#673AB7",
                "styles": {},
                "label": "Kidney Stones",
                "scale_factor": 1,
                "type": "#673AB7",
                "size": [
                  55,
                  55
                ],
                "position": [
                  0,
                  0
                ]
              },
              {
                "id": 146,
                "properties": {
                  "id": "Constipation",
                  "label": "Disease:__Entity__"
                },
                "color": "#673AB7",
                "styles": {},
                "label": "Constipation",
                "scale_factor": 1,
                "type": "#673AB7",
                "size": [
                  55,
                  55
                ],
                "position": [
                  0,
                  0
                ]
              },
              {
                "id": 150,
                "properties": {
                  "id": "Menorrhagia",
                  "label": "Disease:__Entity__"
                },
                "color": "#673AB7",
                "styles": {},
                "label": "Menorrhagia",
                "scale_factor": 1,
                "type": "#673AB7",
                "size": [
                  55,
                  55
                ],
                "position": [
                  0,
                  0
                ]
              },
              {
                "id": 116,
                "properties": {
                  "id": "Tb",
                  "label": "Disease:__Entity__"
                },
                "color": "#673AB7",
                "styles": {},
                "label": "Tb",
                "scale_factor": 1,
                "type": "#673AB7",
                "size": [
                  55,
                  55
                ],
                "position": [
                  0,
                  0
                ]
              },
              {
                "id": 117,
                "properties": {
                  "id": "Peripheral Neuropathy",
                  "label": "Disease:__Entity__:Medical condition"
                },
                "color": "#F44336",
                "styles": {},
                "label": "Peripheral Neuropathy",
                "scale_factor": 1,
                "type": "#F44336",
                "size": [
                  55,
                  55
                ],
                "position": [
                  0,
                  0
                ]
              },
              {
                "id": 118,
                "properties": {
                  "id": "Arthritis",
                  "label": "Disease:__Entity__"
                },
                "color": "#673AB7",
                "styles": {},
                "label": "Arthritis",
                "scale_factor": 1,
                "type": "#673AB7",
                "size": [
                  55,
                  55
                ],
                "position": [
                  0,
                  0
                ]
              },
              {
                "id": 147,
                "properties": {
                  "id": "Hypertension",
                  "label": "Disease:__Entity__:Medical condition"
                },
                "color": "#F44336",
                "styles": {},
                "label": "Hypertension",
                "scale_factor": 1,
                "type": "#F44336",
                "size": [
                  55,
                  55
                ],
                "position": [
                  0,
                  0
                ]
              },
              {
                "id": 148,
                "properties": {
                  "id": "Cad",
                  "label": "Disease:__Entity__"
                },
                "color": "#673AB7",
                "styles": {},
                "label": "Cad",
                "scale_factor": 1,
                "type": "#673AB7",
                "size": [
                  55,
                  55
                ],
                "position": [
                  0,
                  0
                ]
              },
              {
                "id": 149,
                "properties": {
                  "id": "Uterine Cancer",
                  "label": "Disease:__Entity__"
                },
                "color": "#673AB7",
                "styles": {},
                "label": "Uterine Cancer",
                "scale_factor": 1,
                "type": "#673AB7",
                "size": [
                  55,
                  55
                ],
                "position": [
                  0,
                  0
                ]
              },
              {
                "id": 208,
                "properties": {
                  "id": "Tumor",
                  "label": "__Entity__:Medical condition"
                },
                "color": "#F44336",
                "styles": {},
                "label": "Tumor",
                "scale_factor": 1,
                "type": "#F44336",
                "size": [
                  55,
                  55
                ],
                "position": [
                  0,
                  0
                ]
              },
              {
                "id": 113,
                "properties": {
                  "id": "Local Md Doctor",
                  "label": "Doctor:__Entity__"
                },
                "color": "#4CAF50",
                "styles": {},
                "label": "Local Md Doctor",
                "scale_factor": 1,
                "type": "#4CAF50",
                "size": [
                  55,
                  55
                ],
                "position": [
                  0,
                  0
                ]
              },
              {
                "id": 114,
                "properties": {
                  "id": "Neuro Experts",
                  "label": "__Entity__:Experts"
                },
                "color": "#673AB7",
                "styles": {},
                "label": "Neuro Experts",
                "scale_factor": 1,
                "type": "#673AB7",
                "size": [
                  55,
                  55
                ],
                "position": [
                  0,
                  0
                ]
              },
              {
                "id": 115,
                "properties": {
                  "id": "Rheumatologist",
                  "label": "Doctor:__Entity__"
                },
                "color": "#4CAF50",
                "styles": {},
                "label": "Rheumatologist",
                "scale_factor": 1,
                "type": "#4CAF50",
                "size": [
                  55,
                  55
                ],
                "position": [
                  0,
                  0
                ]
              },
              {
                "id": 120,
                "properties": {
                  "id": "Isoniazid-Induced Peripheral Neuropathy",
                  "label": "__Entity__:Medical condition"
                },
                "color": "#F44336",
                "styles": {},
                "label": "Isoniazid-Induced Peripheral Neuropathy",
                "scale_factor": 1,
                "type": "#F44336",
                "size": [
                  55,
                  55
                ],
                "position": [
                  0,
                  0
                ]
              },
              {
                "id": 121,
                "properties": {
                  "id": "Anti-Tubercular Treatment",
                  "label": "Medical treatment:__Entity__"
                },
                "color": "#CDDC39",
                "styles": {},
                "label": "Anti-Tubercular Treatment",
                "scale_factor": 1,
                "type": "#CDDC39",
                "size": [
                  55,
                  55
                ],
                "position": [
                  0,
                  0
                ]
              },
              {
                "id": 122,
                "properties": {
                  "id": "Chatdoctor",
                  "label": "__Entity__:Forum"
                },
                "color": "#9E9E9E",
                "styles": {},
                "label": "Chatdoctor",
                "scale_factor": 1,
                "type": "#9E9E9E",
                "size": [
                  55,
                  55
                ],
                "position": [
                  0,
                  0
                ]
              },
              {
                "id": 195,
                "properties": {
                  "id": "Nose",
                  "label": "Body part:__Entity__"
                },
                "color": "#9C27B0",
                "styles": {},
                "label": "Nose",
                "scale_factor": 1,
                "type": "#9C27B0",
                "size": [
                  55,
                  55
                ],
                "position": [
                  0,
                  0
                ]
              },
              {
                "id": 128,
                "properties": {
                  "id": "Eustachian Tube Issue",
                  "label": "__Entity__:Medical condition"
                },
                "color": "#F44336",
                "styles": {},
                "label": "Eustachian Tube Issue",
                "scale_factor": 1,
                "type": "#F44336",
                "size": [
                  55,
                  55
                ],
                "position": [
                  0,
                  0
                ]
              },
              {
                "id": 134,
                "properties": {
                  "id": "Serum Beta-Hcg Test",
                  "label": "__Entity__:Medical test"
                },
                "color": "#4CAF50",
                "styles": {},
                "label": "Serum Beta-Hcg Test",
                "scale_factor": 1,
                "type": "#4CAF50",
                "size": [
                  55,
                  55
                ],
                "position": [
                  0,
                  0
                ]
              },
              {
                "id": 136,
                "properties": {
                  "id": "Ultrasound Guided Dilation And Curettage Procedure",
                  "label": "__Entity__:Surgical procedure"
                },
                "color": "#9C27B0",
                "styles": {},
                "label": "Ultrasound Guided Dilation And Curettage Procedure",
                "scale_factor": 1,
                "type": "#9C27B0",
                "size": [
                  55,
                  55
                ],
                "position": [
                  0,
                  0
                ]
              },
              {
                "id": 152,
                "properties": {
                  "id": "Ent Specialist",
                  "label": "__Entity__:Specialist"
                },
                "color": "#607D8B",
                "styles": {},
                "label": "Ent Specialist",
                "scale_factor": 1,
                "type": "#607D8B",
                "size": [
                  55,
                  55
                ],
                "position": [
                  0,
                  0
                ]
              },
              {
                "id": 153,
                "properties": {
                  "id": "Ent Specialist Consultation",
                  "label": "Consultation:__Entity__"
                },
                "color": "#2196F3",
                "styles": {},
                "label": "Ent Specialist Consultation",
                "scale_factor": 1,
                "type": "#2196F3",
                "size": [
                  55,
                  55
                ],
                "position": [
                  0,
                  0
                ]
              },
              {
                "id": 154,
                "properties": {
                  "id": "Sinus X-Ray Study",
                  "label": "__Entity__:Study"
                },
                "color": "#4CAF50",
                "styles": {},
                "label": "Sinus X-Ray Study",
                "scale_factor": 1,
                "type": "#4CAF50",
                "size": [
                  55,
                  55
                ],
                "position": [
                  0,
                  0
                ]
              },
              {
                "id": 155,
                "properties": {
                  "id": "Inflammation Tests",
                  "label": "__Entity__:Tests"
                },
                "color": "#F44336",
                "styles": {},
                "label": "Inflammation Tests",
                "scale_factor": 1,
                "type": "#F44336",
                "size": [
                  55,
                  55
                ],
                "position": [
                  0,
                  0
                ]
              },
              {
                "id": 156,
                "properties": {
                  "id": "Thyroid Hormone Levels",
                  "label": "Levels:__Entity__"
                },
                "color": "#607D8B",
                "styles": {},
                "label": "Thyroid Hormone Levels",
                "scale_factor": 1,
                "type": "#607D8B",
                "size": [
                  55,
                  55
                ],
                "position": [
                  0,
                  0
                ]
              },
              {
                "id": 158,
                "properties": {
                  "id": "Inner Ear Disorder",
                  "label": "__Entity__:Disorder"
                },
                "color": "#673AB7",
                "styles": {},
                "label": "Inner Ear Disorder",
                "scale_factor": 1,
                "type": "#673AB7",
                "size": [
                  55,
                  55
                ],
                "position": [
                  0,
                  0
                ]
              },
              {
                "id": 159,
                "properties": {
                  "id": "Thyroid Gland Dysfunction",
                  "label": "Dysfunction:__Entity__"
                },
                "color": "#CDDC39",
                "styles": {},
                "label": "Thyroid Gland Dysfunction",
                "scale_factor": 1,
                "type": "#CDDC39",
                "size": [
                  55,
                  55
                ],
                "position": [
                  0,
                  0
                ]
              },
              {
                "id": 161,
                "properties": {
                  "id": "Trench Mouth",
                  "label": "Disease:__Entity__"
                },
                "color": "#673AB7",
                "styles": {},
                "label": "Trench Mouth",
                "scale_factor": 1,
                "type": "#673AB7",
                "size": [
                  55,
                  55
                ],
                "position": [
                  0,
                  0
                ]
              },
              {
                "id": 170,
                "properties": {
                  "id": "Antibiotic Regimen",
                  "label": "__Entity__:Treatment"
                },
                "color": "#9E9E9E",
                "styles": {},
                "label": "Antibiotic Regimen",
                "scale_factor": 1,
                "type": "#9E9E9E",
                "size": [
                  55,
                  55
                ],
                "position": [
                  0,
                  0
                ]
              },
              {
                "id": 171,
                "properties": {
                  "id": "Medicated Mouth Rinses",
                  "label": "__Entity__:Treatment"
                },
                "color": "#9E9E9E",
                "styles": {},
                "label": "Medicated Mouth Rinses",
                "scale_factor": 1,
                "type": "#9E9E9E",
                "size": [
                  55,
                  55
                ],
                "position": [
                  0,
                  0
                ]
              },
              {
                "id": 163,
                "properties": {
                  "id": "Hiv Infection",
                  "label": "Disease:__Entity__"
                },
                "color": "#673AB7",
                "styles": {},
                "label": "Hiv Infection",
                "scale_factor": 1,
                "type": "#673AB7",
                "size": [
                  55,
                  55
                ],
                "position": [
                  0,
                  0
                ]
              },
              {
                "id": 164,
                "properties": {
                  "id": "Nutritional Deficiencies",
                  "label": "__Entity__:Condition"
                },
                "color": "#2196F3",
                "styles": {},
                "label": "Nutritional Deficiencies",
                "scale_factor": 1,
                "type": "#2196F3",
                "size": [
                  55,
                  55
                ],
                "position": [
                  0,
                  0
                ]
              },
              {
                "id": 165,
                "properties": {
                  "id": "Gum Necrosis",
                  "label": "__Entity__:Symptom"
                },
                "color": "#CDDC39",
                "styles": {},
                "label": "Gum Necrosis",
                "scale_factor": 1,
                "type": "#CDDC39",
                "size": [
                  55,
                  55
                ],
                "position": [
                  0,
                  0
                ]
              },
              {
                "id": 166,
                "properties": {
                  "id": "Ulceration",
                  "label": "__Entity__:Symptom"
                },
                "color": "#CDDC39",
                "styles": {},
                "label": "Ulceration",
                "scale_factor": 1,
                "type": "#CDDC39",
                "size": [
                  55,
                  55
                ],
                "position": [
                  0,
                  0
                ]
              },
              {
                "id": 167,
                "properties": {
                  "id": "Pain",
                  "label": "__Entity__:Symptom"
                },
                "color": "#CDDC39",
                "styles": {},
                "label": "Pain",
                "scale_factor": 1,
                "type": "#CDDC39",
                "size": [
                  55,
                  55
                ],
                "position": [
                  0,
                  0
                ]
              },
              {
                "id": 168,
                "properties": {
                  "id": "Bleeding",
                  "label": "__Entity__:Symptom"
                },
                "color": "#CDDC39",
                "styles": {},
                "label": "Bleeding",
                "scale_factor": 1,
                "type": "#CDDC39",
                "size": [
                  55,
                  55
                ],
                "position": [
                  0,
                  0
                ]
              },
              {
                "id": 169,
                "properties": {
                  "id": "Fetid Odor",
                  "label": "__Entity__:Symptom"
                },
                "color": "#CDDC39",
                "styles": {},
                "label": "Fetid Odor",
                "scale_factor": 1,
                "type": "#CDDC39",
                "size": [
                  55,
                  55
                ],
                "position": [
                  0,
                  0
                ]
              },
              {
                "id": 172,
                "properties": {
                  "id": "Immunocompromised Diseases",
                  "label": "__Entity__:Condition"
                },
                "color": "#2196F3",
                "styles": {},
                "label": "Immunocompromised Diseases",
                "scale_factor": 1,
                "type": "#2196F3",
                "size": [
                  55,
                  55
                ],
                "position": [
                  0,
                  0
                ]
              },
              {
                "id": 173,
                "properties": {
                  "id": "Respiratory Infection",
                  "label": "Disease:__Entity__"
                },
                "color": "#673AB7",
                "styles": {},
                "label": "Respiratory Infection",
                "scale_factor": 1,
                "type": "#673AB7",
                "size": [
                  55,
                  55
                ],
                "position": [
                  0,
                  0
                ]
              },
              {
                "id": 174,
                "properties": {
                  "id": "Poor Nutrition",
                  "label": "__Entity__:Condition"
                },
                "color": "#2196F3",
                "styles": {},
                "label": "Poor Nutrition",
                "scale_factor": 1,
                "type": "#2196F3",
                "size": [
                  55,
                  55
                ],
                "position": [
                  0,
                  0
                ]
              },
              {
                "id": 175,
                "properties": {
                  "id": "Smoking",
                  "label": "__Entity__:Habit"
                },
                "color": "#9E9E9E",
                "styles": {},
                "label": "Smoking",
                "scale_factor": 1,
                "type": "#9E9E9E",
                "size": [
                  55,
                  55
                ],
                "position": [
                  0,
                  0
                ]
              },
              {
                "id": 194,
                "properties": {
                  "id": "Spider",
                  "label": "Insect:__Entity__"
                },
                "color": "#9C27B0",
                "styles": {},
                "label": "Spider",
                "scale_factor": 1,
                "type": "#9C27B0",
                "size": [
                  55,
                  55
                ],
                "position": [
                  0,
                  0
                ]
              },
              {
                "id": 215,
                "properties": {
                  "id": "Bacteria",
                  "label": "Organism:__Entity__"
                },
                "color": "#2196F3",
                "styles": {},
                "label": "Bacteria",
                "scale_factor": 1,
                "type": "#2196F3",
                "size": [
                  55,
                  55
                ],
                "position": [
                  0,
                  0
                ]
              },
              {
                "id": 199,
                "properties": {
                  "id": "Mastoiditis",
                  "label": "__Entity__:Medical condition"
                },
                "color": "#F44336",
                "styles": {},
                "label": "Mastoiditis",
                "scale_factor": 1,
                "type": "#F44336",
                "size": [
                  55,
                  55
                ],
                "position": [
                  0,
                  0
                ]
              },
              {
                "id": 200,
                "properties": {
                  "id": "Meningitis",
                  "label": "__Entity__:Medical condition"
                },
                "color": "#F44336",
                "styles": {},
                "label": "Meningitis",
                "scale_factor": 1,
                "type": "#F44336",
                "size": [
                  55,
                  55
                ],
                "position": [
                  0,
                  0
                ]
              },
              {
                "id": 201,
                "properties": {
                  "id": "Subdural Empyema",
                  "label": "__Entity__:Medical condition"
                },
                "color": "#F44336",
                "styles": {},
                "label": "Subdural Empyema",
                "scale_factor": 1,
                "type": "#F44336",
                "size": [
                  55,
                  55
                ],
                "position": [
                  0,
                  0
                ]
              },
              {
                "id": 203,
                "properties": {
                  "id": "Otomastoiditis",
                  "label": "__Entity__:Medical condition"
                },
                "color": "#F44336",
                "styles": {},
                "label": "Otomastoiditis",
                "scale_factor": 1,
                "type": "#F44336",
                "size": [
                  55,
                  55
                ],
                "position": [
                  0,
                  0
                ]
              },
              {
                "id": 202,
                "properties": {
                  "id": "Middle Ear Infection",
                  "label": "__Entity__:Medical condition"
                },
                "color": "#F44336",
                "styles": {},
                "label": "Middle Ear Infection",
                "scale_factor": 1,
                "type": "#F44336",
                "size": [
                  55,
                  55
                ],
                "position": [
                  0,
                  0
                ]
              },
              {
                "id": 209,
                "properties": {
                  "id": "Shoulder",
                  "label": "Body part:__Entity__"
                },
                "color": "#9C27B0",
                "styles": {},
                "label": "Shoulder",
                "scale_factor": 1,
                "type": "#9C27B0",
                "size": [
                  55,
                  55
                ],
                "position": [
                  0,
                  0
                ]
              },
              {
                "id": 211,
                "properties": {
                  "id": "Lipoma",
                  "label": "__Entity__:Medical condition"
                },
                "color": "#F44336",
                "styles": {},
                "label": "Lipoma",
                "scale_factor": 1,
                "type": "#F44336",
                "size": [
                  55,
                  55
                ],
                "position": [
                  0,
                  0
                ]
              },
              {
                "id": 324,
                "properties": {
                  "id": "Shoulder Region",
                  "label": "Body part:__Entity__"
                },
                "color": "#9C27B0",
                "styles": {},
                "label": "Shoulder Region",
                "scale_factor": 1,
                "type": "#9C27B0",
                "size": [
                  55,
                  55
                ],
                "position": [
                  0,
                  0
                ]
              },
              {
                "id": 216,
                "properties": {
                  "id": "Plaque",
                  "label": "__Entity__:Substance"
                },
                "color": "#4CAF50",
                "styles": {},
                "label": "Plaque",
                "scale_factor": 1,
                "type": "#4CAF50",
                "size": [
                  55,
                  55
                ],
                "position": [
                  0,
                  0
                ]
              },
              {
                "id": 218,
                "properties": {
                  "id": "Bad Smell",
                  "label": "__Entity__"
                },
                "color": "#4CAF50",
                "styles": {},
                "label": "Bad Smell",
                "scale_factor": 1,
                "type": "#4CAF50",
                "size": [
                  55,
                  55
                ],
                "position": [
                  0,
                  0
                ]
              },
              {
                "id": 220,
                "properties": {
                  "id": "Pediatrician",
                  "label": "__Entity__:Person"
                },
                "color": "#9C27B0",
                "styles": {},
                "label": "Pediatrician",
                "scale_factor": 1,
                "type": "#9C27B0",
                "size": [
                  55,
                  55
                ],
                "position": [
                  0,
                  0
                ]
              },
              {
                "id": 223,
                "properties": {
                  "id": "Urticaria",
                  "label": "__Entity__:Condition"
                },
                "color": "#2196F3",
                "styles": {},
                "label": "Urticaria",
                "scale_factor": 1,
                "type": "#2196F3",
                "size": [
                  55,
                  55
                ],
                "position": [
                  0,
                  0
                ]
              },
              {
                "id": 226,
                "properties": {
                  "id": "Intraarticular Fracture Of The Right Fifth Metacarpal",
                  "label": "__Entity__:Injury"
                },
                "color": "#4CAF50",
                "styles": {},
                "label": "Intraarticular Fracture Of The Right Fifth Metacarpal",
                "scale_factor": 1,
                "type": "#4CAF50",
                "size": [
                  55,
                  55
                ],
                "position": [
                  0,
                  0
                ]
              },
              {
                "id": 230,
                "properties": {
                  "id": "Buddy Taping",
                  "label": "Medical treatment:__Entity__"
                },
                "color": "#CDDC39",
                "styles": {},
                "label": "Buddy Taping",
                "scale_factor": 1,
                "type": "#CDDC39",
                "size": [
                  55,
                  55
                ],
                "position": [
                  0,
                  0
                ]
              },
              {
                "id": 231,
                "properties": {
                  "id": "Rice Treatment",
                  "label": "Medical treatment:__Entity__"
                },
                "color": "#CDDC39",
                "styles": {},
                "label": "Rice Treatment",
                "scale_factor": 1,
                "type": "#CDDC39",
                "size": [
                  55,
                  55
                ],
                "position": [
                  0,
                  0
                ]
              },
              {
                "id": 232,
                "properties": {
                  "id": "Plaster Slab Application",
                  "label": "Medical treatment:__Entity__"
                },
                "color": "#CDDC39",
                "styles": {},
                "label": "Plaster Slab Application",
                "scale_factor": 1,
                "type": "#CDDC39",
                "size": [
                  55,
                  55
                ],
                "position": [
                  0,
                  0
                ]
              },
              {
                "id": 233,
                "properties": {
                  "id": "Ice Application",
                  "label": "Medical treatment:__Entity__"
                },
                "color": "#CDDC39",
                "styles": {},
                "label": "Ice Application",
                "scale_factor": 1,
                "type": "#CDDC39",
                "size": [
                  55,
                  55
                ],
                "position": [
                  0,
                  0
                ]
              },
              {
                "id": 234,
                "properties": {
                  "id": "Compression Bandage",
                  "label": "Medical treatment:__Entity__"
                },
                "color": "#CDDC39",
                "styles": {},
                "label": "Compression Bandage",
                "scale_factor": 1,
                "type": "#CDDC39",
                "size": [
                  55,
                  55
                ],
                "position": [
                  0,
                  0
                ]
              },
              {
                "id": 235,
                "properties": {
                  "id": "Elevation",
                  "label": "Medical treatment:__Entity__"
                },
                "color": "#CDDC39",
                "styles": {},
                "label": "Elevation",
                "scale_factor": 1,
                "type": "#CDDC39",
                "size": [
                  55,
                  55
                ],
                "position": [
                  0,
                  0
                ]
              },
              {
                "id": 236,
                "properties": {
                  "id": "Surgery",
                  "label": "Medical treatment:__Entity__"
                },
                "color": "#CDDC39",
                "styles": {},
                "label": "Surgery",
                "scale_factor": 1,
                "type": "#CDDC39",
                "size": [
                  55,
                  55
                ],
                "position": [
                  0,
                  0
                ]
              },
              {
                "id": 228,
                "properties": {
                  "id": "Orif",
                  "label": "__Entity__:Surgical procedure"
                },
                "color": "#9C27B0",
                "styles": {},
                "label": "Orif",
                "scale_factor": 1,
                "type": "#9C27B0",
                "size": [
                  55,
                  55
                ],
                "position": [
                  0,
                  0
                ]
              },
              {
                "id": 227,
                "properties": {
                  "id": "Ct Scan",
                  "label": "__Entity__:Medical test"
                },
                "color": "#4CAF50",
                "styles": {},
                "label": "Ct Scan",
                "scale_factor": 1,
                "type": "#4CAF50",
                "size": [
                  55,
                  55
                ],
                "position": [
                  0,
                  0
                ]
              },
              {
                "id": 229,
                "properties": {
                  "id": "Fracture Clinic",
                  "label": "Medical facility:__Entity__"
                },
                "color": "#F44336",
                "styles": {},
                "label": "Fracture Clinic",
                "scale_factor": 1,
                "type": "#F44336",
                "size": [
                  55,
                  55
                ],
                "position": [
                  0,
                  0
                ]
              },
              {
                "id": 239,
                "properties": {
                  "id": "Dengue",
                  "label": "Disease:__Entity__"
                },
                "color": "#673AB7",
                "styles": {},
                "label": "Dengue",
                "scale_factor": 1,
                "type": "#673AB7",
                "size": [
                  55,
                  55
                ],
                "position": [
                  0,
                  0
                ]
              },
              {
                "id": 249,
                "properties": {
                  "id": "Wisdom Tooth",
                  "label": "__Entity__:Condition"
                },
                "color": "#2196F3",
                "styles": {},
                "label": "Wisdom Tooth",
                "scale_factor": 1,
                "type": "#2196F3",
                "size": [
                  55,
                  55
                ],
                "position": [
                  0,
                  0
                ]
              },
              {
                "id": 251,
                "properties": {
                  "id": "Gums",
                  "label": "Body part:__Entity__"
                },
                "color": "#9C27B0",
                "styles": {},
                "label": "Gums",
                "scale_factor": 1,
                "type": "#9C27B0",
                "size": [
                  55,
                  55
                ],
                "position": [
                  0,
                  0
                ]
              },
              {
                "id": 252,
                "properties": {
                  "id": "Neck",
                  "label": "Body part:__Entity__"
                },
                "color": "#9C27B0",
                "styles": {},
                "label": "Neck",
                "scale_factor": 1,
                "type": "#9C27B0",
                "size": [
                  55,
                  55
                ],
                "position": [
                  0,
                  0
                ]
              },
              {
                "id": 250,
                "properties": {
                  "id": "Lower Left Region",
                  "label": "Location:__Entity__"
                },
                "color": "#607D8B",
                "styles": {},
                "label": "Lower Left Region",
                "scale_factor": 1,
                "type": "#607D8B",
                "size": [
                  55,
                  55
                ],
                "position": [
                  0,
                  0
                ]
              },
              {
                "id": 253,
                "properties": {
                  "id": "Zerodol Mr",
                  "label": "__Entity__:Medication"
                },
                "color": "#2196F3",
                "styles": {},
                "label": "Zerodol Mr",
                "scale_factor": 1,
                "type": "#2196F3",
                "size": [
                  55,
                  55
                ],
                "position": [
                  0,
                  0
                ]
              },
              {
                "id": 254,
                "properties": {
                  "id": "Acelofenac",
                  "label": "__Entity__:Medication"
                },
                "color": "#2196F3",
                "styles": {},
                "label": "Acelofenac",
                "scale_factor": 1,
                "type": "#2196F3",
                "size": [
                  55,
                  55
                ],
                "position": [
                  0,
                  0
                ]
              },
              {
                "id": 255,
                "properties": {
                  "id": "Tizanidine",
                  "label": "__Entity__:Medication"
                },
                "color": "#2196F3",
                "styles": {},
                "label": "Tizanidine",
                "scale_factor": 1,
                "type": "#2196F3",
                "size": [
                  55,
                  55
                ],
                "position": [
                  0,
                  0
                ]
              },
              {
                "id": 256,
                "properties": {
                  "id": "Pantoprazole",
                  "label": "__Entity__:Medication"
                },
                "color": "#2196F3",
                "styles": {},
                "label": "Pantoprazole",
                "scale_factor": 1,
                "type": "#2196F3",
                "size": [
                  55,
                  55
                ],
                "position": [
                  0,
                  0
                ]
              },
              {
                "id": 259,
                "properties": {
                  "id": "Hormonal Imbalance",
                  "label": "__Entity__:Medical condition"
                },
                "color": "#F44336",
                "styles": {},
                "label": "Hormonal Imbalance",
                "scale_factor": 1,
                "type": "#F44336",
                "size": [
                  55,
                  55
                ],
                "position": [
                  0,
                  0
                ]
              },
              {
                "id": 273,
                "properties": {
                  "id": "Metoprolol Tartrate",
                  "label": "__Entity__:Medication"
                },
                "color": "#2196F3",
                "styles": {},
                "label": "Metoprolol Tartrate",
                "scale_factor": 1,
                "type": "#2196F3",
                "size": [
                  55,
                  55
                ],
                "position": [
                  0,
                  0
                ]
              },
              {
                "id": 274,
                "properties": {
                  "id": "Potassium Chloride",
                  "label": "__Entity__:Medication"
                },
                "color": "#2196F3",
                "styles": {},
                "label": "Potassium Chloride",
                "scale_factor": 1,
                "type": "#2196F3",
                "size": [
                  55,
                  55
                ],
                "position": [
                  0,
                  0
                ]
              },
              {
                "id": 275,
                "properties": {
                  "id": "Losartan Potassium",
                  "label": "__Entity__:Medication"
                },
                "color": "#2196F3",
                "styles": {},
                "label": "Losartan Potassium",
                "scale_factor": 1,
                "type": "#2196F3",
                "size": [
                  55,
                  55
                ],
                "position": [
                  0,
                  0
                ]
              },
              {
                "id": 276,
                "properties": {
                  "id": "Warfarin Sodium",
                  "label": "__Entity__:Medication"
                },
                "color": "#2196F3",
                "styles": {},
                "label": "Warfarin Sodium",
                "scale_factor": 1,
                "type": "#2196F3",
                "size": [
                  55,
                  55
                ],
                "position": [
                  0,
                  0
                ]
              },
              {
                "id": 277,
                "properties": {
                  "id": "Atorvastatin",
                  "label": "__Entity__:Medication"
                },
                "color": "#2196F3",
                "styles": {},
                "label": "Atorvastatin",
                "scale_factor": 1,
                "type": "#2196F3",
                "size": [
                  55,
                  55
                ],
                "position": [
                  0,
                  0
                ]
              },
              {
                "id": 278,
                "properties": {
                  "id": "Digozin",
                  "label": "__Entity__:Medication"
                },
                "color": "#2196F3",
                "styles": {},
                "label": "Digozin",
                "scale_factor": 1,
                "type": "#2196F3",
                "size": [
                  55,
                  55
                ],
                "position": [
                  0,
                  0
                ]
              },
              {
                "id": 279,
                "properties": {
                  "id": "Furosemide",
                  "label": "__Entity__:Medication"
                },
                "color": "#2196F3",
                "styles": {},
                "label": "Furosemide",
                "scale_factor": 1,
                "type": "#2196F3",
                "size": [
                  55,
                  55
                ],
                "position": [
                  0,
                  0
                ]
              },
              {
                "id": 272,
                "properties": {
                  "id": "Cardiologist",
                  "label": "__Entity__:Person"
                },
                "color": "#9C27B0",
                "styles": {},
                "label": "Cardiologist",
                "scale_factor": 1,
                "type": "#9C27B0",
                "size": [
                  55,
                  55
                ],
                "position": [
                  0,
                  0
                ]
              },
              {
                "id": 281,
                "properties": {
                  "id": "Frusemide",
                  "label": "__Entity__:Diuretic"
                },
                "color": "#673AB7",
                "styles": {},
                "label": "Frusemide",
                "scale_factor": 1,
                "type": "#673AB7",
                "size": [
                  55,
                  55
                ],
                "position": [
                  0,
                  0
                ]
              },
              {
                "id": 284,
                "properties": {
                  "id": "Valve Surgeries",
                  "label": "__Entity__:Medical procedure"
                },
                "color": "#F44336",
                "styles": {},
                "label": "Valve Surgeries",
                "scale_factor": 1,
                "type": "#F44336",
                "size": [
                  55,
                  55
                ],
                "position": [
                  0,
                  0
                ]
              },
              {
                "id": 282,
                "properties": {
                  "id": "Aspirin",
                  "label": "__Entity__:Medication"
                },
                "color": "#2196F3",
                "styles": {},
                "label": "Aspirin",
                "scale_factor": 1,
                "type": "#2196F3",
                "size": [
                  55,
                  55
                ],
                "position": [
                  0,
                  0
                ]
              },
              {
                "id": 283,
                "properties": {
                  "id": "Warfarin",
                  "label": "__Entity__:Medication"
                },
                "color": "#2196F3",
                "styles": {},
                "label": "Warfarin",
                "scale_factor": 1,
                "type": "#2196F3",
                "size": [
                  55,
                  55
                ],
                "position": [
                  0,
                  0
                ]
              },
              {
                "id": 285,
                "properties": {
                  "id": "Brain Hemorrhages",
                  "label": "__Entity__:Medical condition"
                },
                "color": "#F44336",
                "styles": {},
                "label": "Brain Hemorrhages",
                "scale_factor": 1,
                "type": "#F44336",
                "size": [
                  55,
                  55
                ],
                "position": [
                  0,
                  0
                ]
              },
              {
                "id": 291,
                "properties": {
                  "id": "Hives",
                  "label": "__Entity__:Condition"
                },
                "color": "#2196F3",
                "styles": {},
                "label": "Hives",
                "scale_factor": 1,
                "type": "#2196F3",
                "size": [
                  55,
                  55
                ],
                "position": [
                  0,
                  0
                ]
              },
              {
                "id": 292,
                "properties": {
                  "id": "Chronic Urticaria",
                  "label": "__Entity__:Condition"
                },
                "color": "#2196F3",
                "styles": {},
                "label": "Chronic Urticaria",
                "scale_factor": 1,
                "type": "#2196F3",
                "size": [
                  55,
                  55
                ],
                "position": [
                  0,
                  0
                ]
              },
              {
                "id": 293,
                "properties": {
                  "id": "Climate",
                  "label": "__Entity__:Environmental factor"
                },
                "color": "#CDDC39",
                "styles": {},
                "label": "Climate",
                "scale_factor": 1,
                "type": "#CDDC39",
                "size": [
                  55,
                  55
                ],
                "position": [
                  0,
                  0
                ]
              },
              {
                "id": 294,
                "properties": {
                  "id": "Exercise",
                  "label": "__Entity__:Activity"
                },
                "color": "#9E9E9E",
                "styles": {},
                "label": "Exercise",
                "scale_factor": 1,
                "type": "#9E9E9E",
                "size": [
                  55,
                  55
                ],
                "position": [
                  0,
                  0
                ]
              },
              {
                "id": 295,
                "properties": {
                  "id": "Family Doctor",
                  "label": "Medical professional:__Entity__"
                },
                "color": "#9C27B0",
                "styles": {},
                "label": "Family Doctor",
                "scale_factor": 1,
                "type": "#9C27B0",
                "size": [
                  55,
                  55
                ],
                "position": [
                  0,
                  0
                ]
              },
              {
                "id": 297,
                "properties": {
                  "id": "Blood Test",
                  "label": "__Entity__:Medical test"
                },
                "color": "#4CAF50",
                "styles": {},
                "label": "Blood Test",
                "scale_factor": 1,
                "type": "#4CAF50",
                "size": [
                  55,
                  55
                ],
                "position": [
                  0,
                  0
                ]
              },
              {
                "id": 296,
                "properties": {
                  "id": "Cetirizine (Zyrtec)",
                  "label": "__Entity__:Medication"
                },
                "color": "#2196F3",
                "styles": {},
                "label": "Cetirizine (Zyrtec)",
                "scale_factor": 1,
                "type": "#2196F3",
                "size": [
                  55,
                  55
                ],
                "position": [
                  0,
                  0
                ]
              },
              {
                "id": 298,
                "properties": {
                  "id": "Allergen",
                  "label": "__Entity__:Substance"
                },
                "color": "#4CAF50",
                "styles": {},
                "label": "Allergen",
                "scale_factor": 1,
                "type": "#4CAF50",
                "size": [
                  55,
                  55
                ],
                "position": [
                  0,
                  0
                ]
              },
              {
                "id": 299,
                "properties": {
                  "id": "Allergy Specialist",
                  "label": "Medical professional:__Entity__"
                },
                "color": "#9C27B0",
                "styles": {},
                "label": "Allergy Specialist",
                "scale_factor": 1,
                "type": "#9C27B0",
                "size": [
                  55,
                  55
                ],
                "position": [
                  0,
                  0
                ]
              },
              {
                "id": 300,
                "properties": {
                  "id": "Immunotherapy",
                  "label": "__Entity__"
                },
                "color": "#4CAF50",
                "styles": {},
                "label": "Immunotherapy",
                "scale_factor": 1,
                "type": "#4CAF50",
                "size": [
                  55,
                  55
                ],
                "position": [
                  0,
                  0
                ]
              },
              {
                "id": 304,
                "properties": {
                  "id": "Hydrocele",
                  "label": "__Entity__:Medical condition"
                },
                "color": "#F44336",
                "styles": {},
                "label": "Hydrocele",
                "scale_factor": 1,
                "type": "#F44336",
                "size": [
                  55,
                  55
                ],
                "position": [
                  0,
                  0
                ]
              },
              {
                "id": 305,
                "properties": {
                  "id": "Physical Exercise",
                  "label": "__Entity__:Activity"
                },
                "color": "#9E9E9E",
                "styles": {},
                "label": "Physical Exercise",
                "scale_factor": 1,
                "type": "#9E9E9E",
                "size": [
                  55,
                  55
                ],
                "position": [
                  0,
                  0
                ]
              },
              {
                "id": 322,
                "properties": {
                  "id": "Vitreous Hemorrhage",
                  "label": "__Entity__:Medical condition"
                },
                "color": "#F44336",
                "styles": {},
                "label": "Vitreous Hemorrhage",
                "scale_factor": 1,
                "type": "#F44336",
                "size": [
                  55,
                  55
                ],
                "position": [
                  0,
                  0
                ]
              },
              {
                "id": 325,
                "properties": {
                  "id": "Soft Tissue",
                  "label": "Body part:__Entity__"
                },
                "color": "#9C27B0",
                "styles": {},
                "label": "Soft Tissue",
                "scale_factor": 1,
                "type": "#9C27B0",
                "size": [
                  55,
                  55
                ],
                "position": [
                  0,
                  0
                ]
              },
              {
                "id": 326,
                "properties": {
                  "id": "Bony Injury",
                  "label": "__Entity__:Medical condition"
                },
                "color": "#F44336",
                "styles": {},
                "label": "Bony Injury",
                "scale_factor": 1,
                "type": "#F44336",
                "size": [
                  55,
                  55
                ],
                "position": [
                  0,
                  0
                ]
              },
              {
                "id": 330,
                "properties": {
                  "id": "Bruxism",
                  "label": "__Entity__:Condition"
                },
                "color": "#2196F3",
                "styles": {},
                "label": "Bruxism",
                "scale_factor": 1,
                "type": "#2196F3",
                "size": [
                  55,
                  55
                ],
                "position": [
                  0,
                  0
                ]
              },
              {
                "id": 331,
                "properties": {
                  "id": "Mouth Guards",
                  "label": "__Entity__:Treatment"
                },
                "color": "#9E9E9E",
                "styles": {},
                "label": "Mouth Guards",
                "scale_factor": 1,
                "type": "#9E9E9E",
                "size": [
                  55,
                  55
                ],
                "position": [
                  0,
                  0
                ]
              },
              {
                "id": 332,
                "properties": {
                  "id": "Grade 1 Mobility",
                  "label": "__Entity__:Condition"
                },
                "color": "#2196F3",
                "styles": {},
                "label": "Grade 1 Mobility",
                "scale_factor": 1,
                "type": "#2196F3",
                "size": [
                  55,
                  55
                ],
                "position": [
                  0,
                  0
                ]
              },
              {
                "id": 336,
                "properties": {
                  "id": "Loose Teeth",
                  "label": "__Entity__:Symptom"
                },
                "color": "#CDDC39",
                "styles": {},
                "label": "Loose Teeth",
                "scale_factor": 1,
                "type": "#CDDC39",
                "size": [
                  55,
                  55
                ],
                "position": [
                  0,
                  0
                ]
              },
              {
                "id": 333,
                "properties": {
                  "id": "Grade 2 Mobility",
                  "label": "__Entity__:Condition"
                },
                "color": "#2196F3",
                "styles": {},
                "label": "Grade 2 Mobility",
                "scale_factor": 1,
                "type": "#2196F3",
                "size": [
                  55,
                  55
                ],
                "position": [
                  0,
                  0
                ]
              },
              {
                "id": 335,
                "properties": {
                  "id": "Night Grinding",
                  "label": "__Entity__:Habit"
                },
                "color": "#9E9E9E",
                "styles": {},
                "label": "Night Grinding",
                "scale_factor": 1,
                "type": "#9E9E9E",
                "size": [
                  55,
                  55
                ],
                "position": [
                  0,
                  0
                ]
              },
              {
                "id": 339,
                "properties": {
                  "id": "Birthmarks",
                  "label": "__Entity__:Condition"
                },
                "color": "#2196F3",
                "styles": {},
                "label": "Birthmarks",
                "scale_factor": 1,
                "type": "#2196F3",
                "size": [
                  55,
                  55
                ],
                "position": [
                  0,
                  0
                ]
              },
              {
                "id": 340,
                "properties": {
                  "id": "Cafe Lait Macules",
                  "label": "__Entity__:Condition"
                },
                "color": "#2196F3",
                "styles": {},
                "label": "Cafe Lait Macules",
                "scale_factor": 1,
                "type": "#2196F3",
                "size": [
                  55,
                  55
                ],
                "position": [
                  0,
                  0
                ]
              }
            ],
            "_overview": {
              "enabled": null,
              "overview_set": false
            },
            "_selected_graph": [
              [],
              []
            ],
            "_sidebar": {
              "enabled": false,
              "start_with": null
            },
            "_view_count": null,
            "_view_module": "yfiles-jupyter-graphs",
            "_view_module_version": "^1.8.1",
            "_view_name": "GraphView",
            "layout": "IPY_MODEL_4ada399236004de08cc5d9fa4d94dd6f",
            "tabbable": null,
            "tooltip": null
          }
        },
        "4ada399236004de08cc5d9fa4d94dd6f": {
          "model_module": "@jupyter-widgets/base",
          "model_name": "LayoutModel",
          "model_module_version": "2.0.0",
          "state": {
            "_model_module": "@jupyter-widgets/base",
            "_model_module_version": "2.0.0",
            "_model_name": "LayoutModel",
            "_view_count": null,
            "_view_module": "@jupyter-widgets/base",
            "_view_module_version": "2.0.0",
            "_view_name": "LayoutView",
            "align_content": null,
            "align_items": null,
            "align_self": null,
            "border_bottom": null,
            "border_left": null,
            "border_right": null,
            "border_top": null,
            "bottom": null,
            "display": null,
            "flex": null,
            "flex_flow": null,
            "grid_area": null,
            "grid_auto_columns": null,
            "grid_auto_flow": null,
            "grid_auto_rows": null,
            "grid_column": null,
            "grid_gap": null,
            "grid_row": null,
            "grid_template_areas": null,
            "grid_template_columns": null,
            "grid_template_rows": null,
            "height": "800px",
            "justify_content": null,
            "justify_items": null,
            "left": null,
            "margin": null,
            "max_height": null,
            "max_width": null,
            "min_height": null,
            "min_width": null,
            "object_fit": null,
            "object_position": null,
            "order": null,
            "overflow": null,
            "padding": null,
            "right": null,
            "top": null,
            "visibility": null,
            "width": "100%"
          }
        },
        "7ccd9735b6574ae1af463f887d2ee91f": {
          "model_module": "@jupyter-widgets/controls",
          "model_name": "HBoxModel",
          "model_module_version": "2.0.0",
          "state": {
            "_dom_classes": [],
            "_model_module": "@jupyter-widgets/controls",
            "_model_module_version": "2.0.0",
            "_model_name": "HBoxModel",
            "_view_count": null,
            "_view_module": "@jupyter-widgets/controls",
            "_view_module_version": "2.0.0",
            "_view_name": "HBoxView",
            "box_style": "",
            "children": [
              "IPY_MODEL_f680342074a446f3860b9fdcbe35b948",
              "IPY_MODEL_49dfa1f46b0742c28a6a84a23a81581d",
              "IPY_MODEL_0285f5e0bf974fd8824988803bd81720"
            ],
            "layout": "IPY_MODEL_de63c7f565704a9d93c845e2d41ac9e2",
            "tabbable": null,
            "tooltip": null
          }
        },
        "f680342074a446f3860b9fdcbe35b948": {
          "model_module": "@jupyter-widgets/controls",
          "model_name": "HTMLModel",
          "model_module_version": "2.0.0",
          "state": {
            "_dom_classes": [],
            "_model_module": "@jupyter-widgets/controls",
            "_model_module_version": "2.0.0",
            "_model_name": "HTMLModel",
            "_view_count": null,
            "_view_module": "@jupyter-widgets/controls",
            "_view_module_version": "2.0.0",
            "_view_name": "HTMLView",
            "description": "",
            "description_allow_html": false,
            "layout": "IPY_MODEL_751d292f2f2e45278d3dff9300545bf5",
            "placeholder": "​",
            "style": "IPY_MODEL_98dab7d87e1e4ec19bc52b77d2900f84",
            "tabbable": null,
            "tooltip": null,
            "value": "modules.json: 100%"
          }
        },
        "49dfa1f46b0742c28a6a84a23a81581d": {
          "model_module": "@jupyter-widgets/controls",
          "model_name": "FloatProgressModel",
          "model_module_version": "2.0.0",
          "state": {
            "_dom_classes": [],
            "_model_module": "@jupyter-widgets/controls",
            "_model_module_version": "2.0.0",
            "_model_name": "FloatProgressModel",
            "_view_count": null,
            "_view_module": "@jupyter-widgets/controls",
            "_view_module_version": "2.0.0",
            "_view_name": "ProgressView",
            "bar_style": "success",
            "description": "",
            "description_allow_html": false,
            "layout": "IPY_MODEL_0ab0d4650cf94983a15615a7ca5da803",
            "max": 349,
            "min": 0,
            "orientation": "horizontal",
            "style": "IPY_MODEL_6fe44fb85dbf448793f1338730faa784",
            "tabbable": null,
            "tooltip": null,
            "value": 349
          }
        },
        "0285f5e0bf974fd8824988803bd81720": {
          "model_module": "@jupyter-widgets/controls",
          "model_name": "HTMLModel",
          "model_module_version": "2.0.0",
          "state": {
            "_dom_classes": [],
            "_model_module": "@jupyter-widgets/controls",
            "_model_module_version": "2.0.0",
            "_model_name": "HTMLModel",
            "_view_count": null,
            "_view_module": "@jupyter-widgets/controls",
            "_view_module_version": "2.0.0",
            "_view_name": "HTMLView",
            "description": "",
            "description_allow_html": false,
            "layout": "IPY_MODEL_10f3b109629649d792f6431dd139b0f7",
            "placeholder": "​",
            "style": "IPY_MODEL_cfe19e05362a403f85b0261a48cdbbda",
            "tabbable": null,
            "tooltip": null,
            "value": " 349/349 [00:00&lt;00:00, 19.2kB/s]"
          }
        },
        "de63c7f565704a9d93c845e2d41ac9e2": {
          "model_module": "@jupyter-widgets/base",
          "model_name": "LayoutModel",
          "model_module_version": "2.0.0",
          "state": {
            "_model_module": "@jupyter-widgets/base",
            "_model_module_version": "2.0.0",
            "_model_name": "LayoutModel",
            "_view_count": null,
            "_view_module": "@jupyter-widgets/base",
            "_view_module_version": "2.0.0",
            "_view_name": "LayoutView",
            "align_content": null,
            "align_items": null,
            "align_self": null,
            "border_bottom": null,
            "border_left": null,
            "border_right": null,
            "border_top": null,
            "bottom": null,
            "display": null,
            "flex": null,
            "flex_flow": null,
            "grid_area": null,
            "grid_auto_columns": null,
            "grid_auto_flow": null,
            "grid_auto_rows": null,
            "grid_column": null,
            "grid_gap": null,
            "grid_row": null,
            "grid_template_areas": null,
            "grid_template_columns": null,
            "grid_template_rows": null,
            "height": null,
            "justify_content": null,
            "justify_items": null,
            "left": null,
            "margin": null,
            "max_height": null,
            "max_width": null,
            "min_height": null,
            "min_width": null,
            "object_fit": null,
            "object_position": null,
            "order": null,
            "overflow": null,
            "padding": null,
            "right": null,
            "top": null,
            "visibility": null,
            "width": null
          }
        },
        "751d292f2f2e45278d3dff9300545bf5": {
          "model_module": "@jupyter-widgets/base",
          "model_name": "LayoutModel",
          "model_module_version": "2.0.0",
          "state": {
            "_model_module": "@jupyter-widgets/base",
            "_model_module_version": "2.0.0",
            "_model_name": "LayoutModel",
            "_view_count": null,
            "_view_module": "@jupyter-widgets/base",
            "_view_module_version": "2.0.0",
            "_view_name": "LayoutView",
            "align_content": null,
            "align_items": null,
            "align_self": null,
            "border_bottom": null,
            "border_left": null,
            "border_right": null,
            "border_top": null,
            "bottom": null,
            "display": null,
            "flex": null,
            "flex_flow": null,
            "grid_area": null,
            "grid_auto_columns": null,
            "grid_auto_flow": null,
            "grid_auto_rows": null,
            "grid_column": null,
            "grid_gap": null,
            "grid_row": null,
            "grid_template_areas": null,
            "grid_template_columns": null,
            "grid_template_rows": null,
            "height": null,
            "justify_content": null,
            "justify_items": null,
            "left": null,
            "margin": null,
            "max_height": null,
            "max_width": null,
            "min_height": null,
            "min_width": null,
            "object_fit": null,
            "object_position": null,
            "order": null,
            "overflow": null,
            "padding": null,
            "right": null,
            "top": null,
            "visibility": null,
            "width": null
          }
        },
        "98dab7d87e1e4ec19bc52b77d2900f84": {
          "model_module": "@jupyter-widgets/controls",
          "model_name": "HTMLStyleModel",
          "model_module_version": "2.0.0",
          "state": {
            "_model_module": "@jupyter-widgets/controls",
            "_model_module_version": "2.0.0",
            "_model_name": "HTMLStyleModel",
            "_view_count": null,
            "_view_module": "@jupyter-widgets/base",
            "_view_module_version": "2.0.0",
            "_view_name": "StyleView",
            "background": null,
            "description_width": "",
            "font_size": null,
            "text_color": null
          }
        },
        "0ab0d4650cf94983a15615a7ca5da803": {
          "model_module": "@jupyter-widgets/base",
          "model_name": "LayoutModel",
          "model_module_version": "2.0.0",
          "state": {
            "_model_module": "@jupyter-widgets/base",
            "_model_module_version": "2.0.0",
            "_model_name": "LayoutModel",
            "_view_count": null,
            "_view_module": "@jupyter-widgets/base",
            "_view_module_version": "2.0.0",
            "_view_name": "LayoutView",
            "align_content": null,
            "align_items": null,
            "align_self": null,
            "border_bottom": null,
            "border_left": null,
            "border_right": null,
            "border_top": null,
            "bottom": null,
            "display": null,
            "flex": null,
            "flex_flow": null,
            "grid_area": null,
            "grid_auto_columns": null,
            "grid_auto_flow": null,
            "grid_auto_rows": null,
            "grid_column": null,
            "grid_gap": null,
            "grid_row": null,
            "grid_template_areas": null,
            "grid_template_columns": null,
            "grid_template_rows": null,
            "height": null,
            "justify_content": null,
            "justify_items": null,
            "left": null,
            "margin": null,
            "max_height": null,
            "max_width": null,
            "min_height": null,
            "min_width": null,
            "object_fit": null,
            "object_position": null,
            "order": null,
            "overflow": null,
            "padding": null,
            "right": null,
            "top": null,
            "visibility": null,
            "width": null
          }
        },
        "6fe44fb85dbf448793f1338730faa784": {
          "model_module": "@jupyter-widgets/controls",
          "model_name": "ProgressStyleModel",
          "model_module_version": "2.0.0",
          "state": {
            "_model_module": "@jupyter-widgets/controls",
            "_model_module_version": "2.0.0",
            "_model_name": "ProgressStyleModel",
            "_view_count": null,
            "_view_module": "@jupyter-widgets/base",
            "_view_module_version": "2.0.0",
            "_view_name": "StyleView",
            "bar_color": null,
            "description_width": ""
          }
        },
        "10f3b109629649d792f6431dd139b0f7": {
          "model_module": "@jupyter-widgets/base",
          "model_name": "LayoutModel",
          "model_module_version": "2.0.0",
          "state": {
            "_model_module": "@jupyter-widgets/base",
            "_model_module_version": "2.0.0",
            "_model_name": "LayoutModel",
            "_view_count": null,
            "_view_module": "@jupyter-widgets/base",
            "_view_module_version": "2.0.0",
            "_view_name": "LayoutView",
            "align_content": null,
            "align_items": null,
            "align_self": null,
            "border_bottom": null,
            "border_left": null,
            "border_right": null,
            "border_top": null,
            "bottom": null,
            "display": null,
            "flex": null,
            "flex_flow": null,
            "grid_area": null,
            "grid_auto_columns": null,
            "grid_auto_flow": null,
            "grid_auto_rows": null,
            "grid_column": null,
            "grid_gap": null,
            "grid_row": null,
            "grid_template_areas": null,
            "grid_template_columns": null,
            "grid_template_rows": null,
            "height": null,
            "justify_content": null,
            "justify_items": null,
            "left": null,
            "margin": null,
            "max_height": null,
            "max_width": null,
            "min_height": null,
            "min_width": null,
            "object_fit": null,
            "object_position": null,
            "order": null,
            "overflow": null,
            "padding": null,
            "right": null,
            "top": null,
            "visibility": null,
            "width": null
          }
        },
        "cfe19e05362a403f85b0261a48cdbbda": {
          "model_module": "@jupyter-widgets/controls",
          "model_name": "HTMLStyleModel",
          "model_module_version": "2.0.0",
          "state": {
            "_model_module": "@jupyter-widgets/controls",
            "_model_module_version": "2.0.0",
            "_model_name": "HTMLStyleModel",
            "_view_count": null,
            "_view_module": "@jupyter-widgets/base",
            "_view_module_version": "2.0.0",
            "_view_name": "StyleView",
            "background": null,
            "description_width": "",
            "font_size": null,
            "text_color": null
          }
        },
        "e65f1b4c46254686b0d4aa4966e9c9cb": {
          "model_module": "@jupyter-widgets/base",
          "model_name": "LayoutModel",
          "model_module_version": "2.0.0",
          "state": {
            "_model_module": "@jupyter-widgets/base",
            "_model_module_version": "2.0.0",
            "_model_name": "LayoutModel",
            "_view_count": null,
            "_view_module": "@jupyter-widgets/base",
            "_view_module_version": "2.0.0",
            "_view_name": "LayoutView",
            "align_content": null,
            "align_items": null,
            "align_self": null,
            "border_bottom": null,
            "border_left": null,
            "border_right": null,
            "border_top": null,
            "bottom": null,
            "display": null,
            "flex": null,
            "flex_flow": null,
            "grid_area": null,
            "grid_auto_columns": null,
            "grid_auto_flow": null,
            "grid_auto_rows": null,
            "grid_column": null,
            "grid_gap": null,
            "grid_row": null,
            "grid_template_areas": null,
            "grid_template_columns": null,
            "grid_template_rows": null,
            "height": null,
            "justify_content": null,
            "justify_items": null,
            "left": null,
            "margin": null,
            "max_height": null,
            "max_width": null,
            "min_height": null,
            "min_width": null,
            "object_fit": null,
            "object_position": null,
            "order": null,
            "overflow": null,
            "padding": null,
            "right": null,
            "top": null,
            "visibility": null,
            "width": null
          }
        },
        "8da70deba34f4e3192261b98892dfca1": {
          "model_module": "@jupyter-widgets/controls",
          "model_name": "ProgressStyleModel",
          "model_module_version": "2.0.0",
          "state": {
            "_model_module": "@jupyter-widgets/controls",
            "_model_module_version": "2.0.0",
            "_model_name": "ProgressStyleModel",
            "_view_count": null,
            "_view_module": "@jupyter-widgets/base",
            "_view_module_version": "2.0.0",
            "_view_name": "StyleView",
            "bar_color": null,
            "description_width": ""
          }
        },
        "e252e3af375e4653bb8915e0523f91de": {
          "model_module": "@jupyter-widgets/base",
          "model_name": "LayoutModel",
          "model_module_version": "2.0.0",
          "state": {
            "_model_module": "@jupyter-widgets/base",
            "_model_module_version": "2.0.0",
            "_model_name": "LayoutModel",
            "_view_count": null,
            "_view_module": "@jupyter-widgets/base",
            "_view_module_version": "2.0.0",
            "_view_name": "LayoutView",
            "align_content": null,
            "align_items": null,
            "align_self": null,
            "border_bottom": null,
            "border_left": null,
            "border_right": null,
            "border_top": null,
            "bottom": null,
            "display": null,
            "flex": null,
            "flex_flow": null,
            "grid_area": null,
            "grid_auto_columns": null,
            "grid_auto_flow": null,
            "grid_auto_rows": null,
            "grid_column": null,
            "grid_gap": null,
            "grid_row": null,
            "grid_template_areas": null,
            "grid_template_columns": null,
            "grid_template_rows": null,
            "height": null,
            "justify_content": null,
            "justify_items": null,
            "left": null,
            "margin": null,
            "max_height": null,
            "max_width": null,
            "min_height": null,
            "min_width": null,
            "object_fit": null,
            "object_position": null,
            "order": null,
            "overflow": null,
            "padding": null,
            "right": null,
            "top": null,
            "visibility": null,
            "width": null
          }
        },
        "b4f4a79ddff34fa7b61e1dc5a5a27d03": {
          "model_module": "@jupyter-widgets/controls",
          "model_name": "HTMLStyleModel",
          "model_module_version": "2.0.0",
          "state": {
            "_model_module": "@jupyter-widgets/controls",
            "_model_module_version": "2.0.0",
            "_model_name": "HTMLStyleModel",
            "_view_count": null,
            "_view_module": "@jupyter-widgets/base",
            "_view_module_version": "2.0.0",
            "_view_name": "StyleView",
            "background": null,
            "description_width": "",
            "font_size": null,
            "text_color": null
          }
        },
        "a991c0a280804d799a8cfb6e89c4c420": {
          "model_module": "@jupyter-widgets/base",
          "model_name": "LayoutModel",
          "model_module_version": "2.0.0",
          "state": {
            "_model_module": "@jupyter-widgets/base",
            "_model_module_version": "2.0.0",
            "_model_name": "LayoutModel",
            "_view_count": null,
            "_view_module": "@jupyter-widgets/base",
            "_view_module_version": "2.0.0",
            "_view_name": "LayoutView",
            "align_content": null,
            "align_items": null,
            "align_self": null,
            "border_bottom": null,
            "border_left": null,
            "border_right": null,
            "border_top": null,
            "bottom": null,
            "display": null,
            "flex": null,
            "flex_flow": null,
            "grid_area": null,
            "grid_auto_columns": null,
            "grid_auto_flow": null,
            "grid_auto_rows": null,
            "grid_column": null,
            "grid_gap": null,
            "grid_row": null,
            "grid_template_areas": null,
            "grid_template_columns": null,
            "grid_template_rows": null,
            "height": null,
            "justify_content": null,
            "justify_items": null,
            "left": null,
            "margin": null,
            "max_height": null,
            "max_width": null,
            "min_height": null,
            "min_width": null,
            "object_fit": null,
            "object_position": null,
            "order": null,
            "overflow": null,
            "padding": null,
            "right": null,
            "top": null,
            "visibility": null,
            "width": null
          }
        },
        "66ce7bd4030d4036afb6dd21a8a756fe": {
          "model_module": "@jupyter-widgets/controls",
          "model_name": "HTMLStyleModel",
          "model_module_version": "2.0.0",
          "state": {
            "_model_module": "@jupyter-widgets/controls",
            "_model_module_version": "2.0.0",
            "_model_name": "HTMLStyleModel",
            "_view_count": null,
            "_view_module": "@jupyter-widgets/base",
            "_view_module_version": "2.0.0",
            "_view_name": "StyleView",
            "background": null,
            "description_width": "",
            "font_size": null,
            "text_color": null
          }
        },
        "e42458663db543a1b87aff32d945be64": {
          "model_module": "@jupyter-widgets/controls",
          "model_name": "HTMLModel",
          "model_module_version": "2.0.0",
          "state": {
            "_dom_classes": [],
            "_model_module": "@jupyter-widgets/controls",
            "_model_module_version": "2.0.0",
            "_model_name": "HTMLModel",
            "_view_count": null,
            "_view_module": "@jupyter-widgets/controls",
            "_view_module_version": "2.0.0",
            "_view_name": "HTMLView",
            "description": "",
            "description_allow_html": false,
            "layout": "IPY_MODEL_e252e3af375e4653bb8915e0523f91de",
            "placeholder": "​",
            "style": "IPY_MODEL_b4f4a79ddff34fa7b61e1dc5a5a27d03",
            "tabbable": null,
            "tooltip": null,
            "value": "config_sentence_transformers.json: 100%"
          }
        },
        "037adc8e916a467e8932e3bce7e2b5ae": {
          "model_module": "@jupyter-widgets/controls",
          "model_name": "FloatProgressModel",
          "model_module_version": "2.0.0",
          "state": {
            "_dom_classes": [],
            "_model_module": "@jupyter-widgets/controls",
            "_model_module_version": "2.0.0",
            "_model_name": "FloatProgressModel",
            "_view_count": null,
            "_view_module": "@jupyter-widgets/controls",
            "_view_module_version": "2.0.0",
            "_view_name": "ProgressView",
            "bar_style": "success",
            "description": "",
            "description_allow_html": false,
            "layout": "IPY_MODEL_e65f1b4c46254686b0d4aa4966e9c9cb",
            "max": 116,
            "min": 0,
            "orientation": "horizontal",
            "style": "IPY_MODEL_8da70deba34f4e3192261b98892dfca1",
            "tabbable": null,
            "tooltip": null,
            "value": 116
          }
        },
        "e824fe3061514c2ea034b754cf181fb5": {
          "model_module": "@jupyter-widgets/controls",
          "model_name": "HTMLModel",
          "model_module_version": "2.0.0",
          "state": {
            "_dom_classes": [],
            "_model_module": "@jupyter-widgets/controls",
            "_model_module_version": "2.0.0",
            "_model_name": "HTMLModel",
            "_view_count": null,
            "_view_module": "@jupyter-widgets/controls",
            "_view_module_version": "2.0.0",
            "_view_name": "HTMLView",
            "description": "",
            "description_allow_html": false,
            "layout": "IPY_MODEL_a991c0a280804d799a8cfb6e89c4c420",
            "placeholder": "​",
            "style": "IPY_MODEL_66ce7bd4030d4036afb6dd21a8a756fe",
            "tabbable": null,
            "tooltip": null,
            "value": " 116/116 [00:00&lt;00:00, 4.94kB/s]"
          }
        },
        "e42170bfbc4046f2a7e9b9e221b6f5a6": {
          "model_module": "@jupyter-widgets/base",
          "model_name": "LayoutModel",
          "model_module_version": "2.0.0",
          "state": {
            "_model_module": "@jupyter-widgets/base",
            "_model_module_version": "2.0.0",
            "_model_name": "LayoutModel",
            "_view_count": null,
            "_view_module": "@jupyter-widgets/base",
            "_view_module_version": "2.0.0",
            "_view_name": "LayoutView",
            "align_content": null,
            "align_items": null,
            "align_self": null,
            "border_bottom": null,
            "border_left": null,
            "border_right": null,
            "border_top": null,
            "bottom": null,
            "display": null,
            "flex": null,
            "flex_flow": null,
            "grid_area": null,
            "grid_auto_columns": null,
            "grid_auto_flow": null,
            "grid_auto_rows": null,
            "grid_column": null,
            "grid_gap": null,
            "grid_row": null,
            "grid_template_areas": null,
            "grid_template_columns": null,
            "grid_template_rows": null,
            "height": null,
            "justify_content": null,
            "justify_items": null,
            "left": null,
            "margin": null,
            "max_height": null,
            "max_width": null,
            "min_height": null,
            "min_width": null,
            "object_fit": null,
            "object_position": null,
            "order": null,
            "overflow": null,
            "padding": null,
            "right": null,
            "top": null,
            "visibility": null,
            "width": null
          }
        },
        "e851634384a04ba485489fd1628eddbe": {
          "model_module": "@jupyter-widgets/controls",
          "model_name": "HBoxModel",
          "model_module_version": "2.0.0",
          "state": {
            "_dom_classes": [],
            "_model_module": "@jupyter-widgets/controls",
            "_model_module_version": "2.0.0",
            "_model_name": "HBoxModel",
            "_view_count": null,
            "_view_module": "@jupyter-widgets/controls",
            "_view_module_version": "2.0.0",
            "_view_name": "HBoxView",
            "box_style": "",
            "children": [
              "IPY_MODEL_e42458663db543a1b87aff32d945be64",
              "IPY_MODEL_037adc8e916a467e8932e3bce7e2b5ae",
              "IPY_MODEL_e824fe3061514c2ea034b754cf181fb5"
            ],
            "layout": "IPY_MODEL_e42170bfbc4046f2a7e9b9e221b6f5a6",
            "tabbable": null,
            "tooltip": null
          }
        },
        "9b760d820ba644469b4fc35c6d8c8d8a": {
          "model_module": "@jupyter-widgets/base",
          "model_name": "LayoutModel",
          "model_module_version": "2.0.0",
          "state": {
            "_model_module": "@jupyter-widgets/base",
            "_model_module_version": "2.0.0",
            "_model_name": "LayoutModel",
            "_view_count": null,
            "_view_module": "@jupyter-widgets/base",
            "_view_module_version": "2.0.0",
            "_view_name": "LayoutView",
            "align_content": null,
            "align_items": null,
            "align_self": null,
            "border_bottom": null,
            "border_left": null,
            "border_right": null,
            "border_top": null,
            "bottom": null,
            "display": null,
            "flex": null,
            "flex_flow": null,
            "grid_area": null,
            "grid_auto_columns": null,
            "grid_auto_flow": null,
            "grid_auto_rows": null,
            "grid_column": null,
            "grid_gap": null,
            "grid_row": null,
            "grid_template_areas": null,
            "grid_template_columns": null,
            "grid_template_rows": null,
            "height": null,
            "justify_content": null,
            "justify_items": null,
            "left": null,
            "margin": null,
            "max_height": null,
            "max_width": null,
            "min_height": null,
            "min_width": null,
            "object_fit": null,
            "object_position": null,
            "order": null,
            "overflow": null,
            "padding": null,
            "right": null,
            "top": null,
            "visibility": null,
            "width": null
          }
        },
        "5da4fc7b0eaf4a7e97053cb9c6dc3a13": {
          "model_module": "@jupyter-widgets/controls",
          "model_name": "ProgressStyleModel",
          "model_module_version": "2.0.0",
          "state": {
            "_model_module": "@jupyter-widgets/controls",
            "_model_module_version": "2.0.0",
            "_model_name": "ProgressStyleModel",
            "_view_count": null,
            "_view_module": "@jupyter-widgets/base",
            "_view_module_version": "2.0.0",
            "_view_name": "StyleView",
            "bar_color": null,
            "description_width": ""
          }
        },
        "fbbb8daf07004a06825093690f43e64c": {
          "model_module": "@jupyter-widgets/base",
          "model_name": "LayoutModel",
          "model_module_version": "2.0.0",
          "state": {
            "_model_module": "@jupyter-widgets/base",
            "_model_module_version": "2.0.0",
            "_model_name": "LayoutModel",
            "_view_count": null,
            "_view_module": "@jupyter-widgets/base",
            "_view_module_version": "2.0.0",
            "_view_name": "LayoutView",
            "align_content": null,
            "align_items": null,
            "align_self": null,
            "border_bottom": null,
            "border_left": null,
            "border_right": null,
            "border_top": null,
            "bottom": null,
            "display": null,
            "flex": null,
            "flex_flow": null,
            "grid_area": null,
            "grid_auto_columns": null,
            "grid_auto_flow": null,
            "grid_auto_rows": null,
            "grid_column": null,
            "grid_gap": null,
            "grid_row": null,
            "grid_template_areas": null,
            "grid_template_columns": null,
            "grid_template_rows": null,
            "height": null,
            "justify_content": null,
            "justify_items": null,
            "left": null,
            "margin": null,
            "max_height": null,
            "max_width": null,
            "min_height": null,
            "min_width": null,
            "object_fit": null,
            "object_position": null,
            "order": null,
            "overflow": null,
            "padding": null,
            "right": null,
            "top": null,
            "visibility": null,
            "width": null
          }
        },
        "3631819c8a1e4a3ead16c379507ce02f": {
          "model_module": "@jupyter-widgets/controls",
          "model_name": "HTMLStyleModel",
          "model_module_version": "2.0.0",
          "state": {
            "_model_module": "@jupyter-widgets/controls",
            "_model_module_version": "2.0.0",
            "_model_name": "HTMLStyleModel",
            "_view_count": null,
            "_view_module": "@jupyter-widgets/base",
            "_view_module_version": "2.0.0",
            "_view_name": "StyleView",
            "background": null,
            "description_width": "",
            "font_size": null,
            "text_color": null
          }
        },
        "e19eaa8b63834814a59aa6a16f5d0882": {
          "model_module": "@jupyter-widgets/base",
          "model_name": "LayoutModel",
          "model_module_version": "2.0.0",
          "state": {
            "_model_module": "@jupyter-widgets/base",
            "_model_module_version": "2.0.0",
            "_model_name": "LayoutModel",
            "_view_count": null,
            "_view_module": "@jupyter-widgets/base",
            "_view_module_version": "2.0.0",
            "_view_name": "LayoutView",
            "align_content": null,
            "align_items": null,
            "align_self": null,
            "border_bottom": null,
            "border_left": null,
            "border_right": null,
            "border_top": null,
            "bottom": null,
            "display": null,
            "flex": null,
            "flex_flow": null,
            "grid_area": null,
            "grid_auto_columns": null,
            "grid_auto_flow": null,
            "grid_auto_rows": null,
            "grid_column": null,
            "grid_gap": null,
            "grid_row": null,
            "grid_template_areas": null,
            "grid_template_columns": null,
            "grid_template_rows": null,
            "height": null,
            "justify_content": null,
            "justify_items": null,
            "left": null,
            "margin": null,
            "max_height": null,
            "max_width": null,
            "min_height": null,
            "min_width": null,
            "object_fit": null,
            "object_position": null,
            "order": null,
            "overflow": null,
            "padding": null,
            "right": null,
            "top": null,
            "visibility": null,
            "width": null
          }
        },
        "f1f13532bd224f2ba3e4b155902e1271": {
          "model_module": "@jupyter-widgets/controls",
          "model_name": "HTMLStyleModel",
          "model_module_version": "2.0.0",
          "state": {
            "_model_module": "@jupyter-widgets/controls",
            "_model_module_version": "2.0.0",
            "_model_name": "HTMLStyleModel",
            "_view_count": null,
            "_view_module": "@jupyter-widgets/base",
            "_view_module_version": "2.0.0",
            "_view_name": "StyleView",
            "background": null,
            "description_width": "",
            "font_size": null,
            "text_color": null
          }
        },
        "d55d8a16f9634f1dae00c9d1427cd03f": {
          "model_module": "@jupyter-widgets/controls",
          "model_name": "HTMLModel",
          "model_module_version": "2.0.0",
          "state": {
            "_dom_classes": [],
            "_model_module": "@jupyter-widgets/controls",
            "_model_module_version": "2.0.0",
            "_model_name": "HTMLModel",
            "_view_count": null,
            "_view_module": "@jupyter-widgets/controls",
            "_view_module_version": "2.0.0",
            "_view_name": "HTMLView",
            "description": "",
            "description_allow_html": false,
            "layout": "IPY_MODEL_fbbb8daf07004a06825093690f43e64c",
            "placeholder": "​",
            "style": "IPY_MODEL_3631819c8a1e4a3ead16c379507ce02f",
            "tabbable": null,
            "tooltip": null,
            "value": "README.md: 100%"
          }
        },
        "1bf63f6b71814c65b9707235c0f293a7": {
          "model_module": "@jupyter-widgets/controls",
          "model_name": "FloatProgressModel",
          "model_module_version": "2.0.0",
          "state": {
            "_dom_classes": [],
            "_model_module": "@jupyter-widgets/controls",
            "_model_module_version": "2.0.0",
            "_model_name": "FloatProgressModel",
            "_view_count": null,
            "_view_module": "@jupyter-widgets/controls",
            "_view_module_version": "2.0.0",
            "_view_name": "ProgressView",
            "bar_style": "success",
            "description": "",
            "description_allow_html": false,
            "layout": "IPY_MODEL_9b760d820ba644469b4fc35c6d8c8d8a",
            "max": 10621,
            "min": 0,
            "orientation": "horizontal",
            "style": "IPY_MODEL_5da4fc7b0eaf4a7e97053cb9c6dc3a13",
            "tabbable": null,
            "tooltip": null,
            "value": 10621
          }
        },
        "c8b03d11733f4b939b4fef08b283d58b": {
          "model_module": "@jupyter-widgets/controls",
          "model_name": "HTMLModel",
          "model_module_version": "2.0.0",
          "state": {
            "_dom_classes": [],
            "_model_module": "@jupyter-widgets/controls",
            "_model_module_version": "2.0.0",
            "_model_name": "HTMLModel",
            "_view_count": null,
            "_view_module": "@jupyter-widgets/controls",
            "_view_module_version": "2.0.0",
            "_view_name": "HTMLView",
            "description": "",
            "description_allow_html": false,
            "layout": "IPY_MODEL_e19eaa8b63834814a59aa6a16f5d0882",
            "placeholder": "​",
            "style": "IPY_MODEL_f1f13532bd224f2ba3e4b155902e1271",
            "tabbable": null,
            "tooltip": null,
            "value": " 10.6k/10.6k [00:00&lt;00:00, 518kB/s]"
          }
        },
        "b962231a1bba4576a2162afff2fbe553": {
          "model_module": "@jupyter-widgets/base",
          "model_name": "LayoutModel",
          "model_module_version": "2.0.0",
          "state": {
            "_model_module": "@jupyter-widgets/base",
            "_model_module_version": "2.0.0",
            "_model_name": "LayoutModel",
            "_view_count": null,
            "_view_module": "@jupyter-widgets/base",
            "_view_module_version": "2.0.0",
            "_view_name": "LayoutView",
            "align_content": null,
            "align_items": null,
            "align_self": null,
            "border_bottom": null,
            "border_left": null,
            "border_right": null,
            "border_top": null,
            "bottom": null,
            "display": null,
            "flex": null,
            "flex_flow": null,
            "grid_area": null,
            "grid_auto_columns": null,
            "grid_auto_flow": null,
            "grid_auto_rows": null,
            "grid_column": null,
            "grid_gap": null,
            "grid_row": null,
            "grid_template_areas": null,
            "grid_template_columns": null,
            "grid_template_rows": null,
            "height": null,
            "justify_content": null,
            "justify_items": null,
            "left": null,
            "margin": null,
            "max_height": null,
            "max_width": null,
            "min_height": null,
            "min_width": null,
            "object_fit": null,
            "object_position": null,
            "order": null,
            "overflow": null,
            "padding": null,
            "right": null,
            "top": null,
            "visibility": null,
            "width": null
          }
        },
        "5e7748a1d3bc411e8dcb0a3e40efca4c": {
          "model_module": "@jupyter-widgets/controls",
          "model_name": "HBoxModel",
          "model_module_version": "2.0.0",
          "state": {
            "_dom_classes": [],
            "_model_module": "@jupyter-widgets/controls",
            "_model_module_version": "2.0.0",
            "_model_name": "HBoxModel",
            "_view_count": null,
            "_view_module": "@jupyter-widgets/controls",
            "_view_module_version": "2.0.0",
            "_view_name": "HBoxView",
            "box_style": "",
            "children": [
              "IPY_MODEL_d55d8a16f9634f1dae00c9d1427cd03f",
              "IPY_MODEL_1bf63f6b71814c65b9707235c0f293a7",
              "IPY_MODEL_c8b03d11733f4b939b4fef08b283d58b"
            ],
            "layout": "IPY_MODEL_b962231a1bba4576a2162afff2fbe553",
            "tabbable": null,
            "tooltip": null
          }
        },
        "456793e5e1ba4bad8496312268af1833": {
          "model_module": "@jupyter-widgets/base",
          "model_name": "LayoutModel",
          "model_module_version": "2.0.0",
          "state": {
            "_model_module": "@jupyter-widgets/base",
            "_model_module_version": "2.0.0",
            "_model_name": "LayoutModel",
            "_view_count": null,
            "_view_module": "@jupyter-widgets/base",
            "_view_module_version": "2.0.0",
            "_view_name": "LayoutView",
            "align_content": null,
            "align_items": null,
            "align_self": null,
            "border_bottom": null,
            "border_left": null,
            "border_right": null,
            "border_top": null,
            "bottom": null,
            "display": null,
            "flex": null,
            "flex_flow": null,
            "grid_area": null,
            "grid_auto_columns": null,
            "grid_auto_flow": null,
            "grid_auto_rows": null,
            "grid_column": null,
            "grid_gap": null,
            "grid_row": null,
            "grid_template_areas": null,
            "grid_template_columns": null,
            "grid_template_rows": null,
            "height": null,
            "justify_content": null,
            "justify_items": null,
            "left": null,
            "margin": null,
            "max_height": null,
            "max_width": null,
            "min_height": null,
            "min_width": null,
            "object_fit": null,
            "object_position": null,
            "order": null,
            "overflow": null,
            "padding": null,
            "right": null,
            "top": null,
            "visibility": null,
            "width": null
          }
        },
        "b4f9f8039b41459296eb5144d35adcd0": {
          "model_module": "@jupyter-widgets/controls",
          "model_name": "ProgressStyleModel",
          "model_module_version": "2.0.0",
          "state": {
            "_model_module": "@jupyter-widgets/controls",
            "_model_module_version": "2.0.0",
            "_model_name": "ProgressStyleModel",
            "_view_count": null,
            "_view_module": "@jupyter-widgets/base",
            "_view_module_version": "2.0.0",
            "_view_name": "StyleView",
            "bar_color": null,
            "description_width": ""
          }
        },
        "e446181c0cb540b19f92a26d969a8453": {
          "model_module": "@jupyter-widgets/base",
          "model_name": "LayoutModel",
          "model_module_version": "2.0.0",
          "state": {
            "_model_module": "@jupyter-widgets/base",
            "_model_module_version": "2.0.0",
            "_model_name": "LayoutModel",
            "_view_count": null,
            "_view_module": "@jupyter-widgets/base",
            "_view_module_version": "2.0.0",
            "_view_name": "LayoutView",
            "align_content": null,
            "align_items": null,
            "align_self": null,
            "border_bottom": null,
            "border_left": null,
            "border_right": null,
            "border_top": null,
            "bottom": null,
            "display": null,
            "flex": null,
            "flex_flow": null,
            "grid_area": null,
            "grid_auto_columns": null,
            "grid_auto_flow": null,
            "grid_auto_rows": null,
            "grid_column": null,
            "grid_gap": null,
            "grid_row": null,
            "grid_template_areas": null,
            "grid_template_columns": null,
            "grid_template_rows": null,
            "height": null,
            "justify_content": null,
            "justify_items": null,
            "left": null,
            "margin": null,
            "max_height": null,
            "max_width": null,
            "min_height": null,
            "min_width": null,
            "object_fit": null,
            "object_position": null,
            "order": null,
            "overflow": null,
            "padding": null,
            "right": null,
            "top": null,
            "visibility": null,
            "width": null
          }
        },
        "05810675779e41e5b260ebd5d8da0eab": {
          "model_module": "@jupyter-widgets/controls",
          "model_name": "HTMLStyleModel",
          "model_module_version": "2.0.0",
          "state": {
            "_model_module": "@jupyter-widgets/controls",
            "_model_module_version": "2.0.0",
            "_model_name": "HTMLStyleModel",
            "_view_count": null,
            "_view_module": "@jupyter-widgets/base",
            "_view_module_version": "2.0.0",
            "_view_name": "StyleView",
            "background": null,
            "description_width": "",
            "font_size": null,
            "text_color": null
          }
        },
        "4edbf6407a5d40c697edc045e3249649": {
          "model_module": "@jupyter-widgets/base",
          "model_name": "LayoutModel",
          "model_module_version": "2.0.0",
          "state": {
            "_model_module": "@jupyter-widgets/base",
            "_model_module_version": "2.0.0",
            "_model_name": "LayoutModel",
            "_view_count": null,
            "_view_module": "@jupyter-widgets/base",
            "_view_module_version": "2.0.0",
            "_view_name": "LayoutView",
            "align_content": null,
            "align_items": null,
            "align_self": null,
            "border_bottom": null,
            "border_left": null,
            "border_right": null,
            "border_top": null,
            "bottom": null,
            "display": null,
            "flex": null,
            "flex_flow": null,
            "grid_area": null,
            "grid_auto_columns": null,
            "grid_auto_flow": null,
            "grid_auto_rows": null,
            "grid_column": null,
            "grid_gap": null,
            "grid_row": null,
            "grid_template_areas": null,
            "grid_template_columns": null,
            "grid_template_rows": null,
            "height": null,
            "justify_content": null,
            "justify_items": null,
            "left": null,
            "margin": null,
            "max_height": null,
            "max_width": null,
            "min_height": null,
            "min_width": null,
            "object_fit": null,
            "object_position": null,
            "order": null,
            "overflow": null,
            "padding": null,
            "right": null,
            "top": null,
            "visibility": null,
            "width": null
          }
        },
        "30ed816acac74cd88a52bfba947776f1": {
          "model_module": "@jupyter-widgets/controls",
          "model_name": "HTMLStyleModel",
          "model_module_version": "2.0.0",
          "state": {
            "_model_module": "@jupyter-widgets/controls",
            "_model_module_version": "2.0.0",
            "_model_name": "HTMLStyleModel",
            "_view_count": null,
            "_view_module": "@jupyter-widgets/base",
            "_view_module_version": "2.0.0",
            "_view_name": "StyleView",
            "background": null,
            "description_width": "",
            "font_size": null,
            "text_color": null
          }
        },
        "631d28941f9a47959e155a78d7957b7b": {
          "model_module": "@jupyter-widgets/controls",
          "model_name": "HTMLModel",
          "model_module_version": "2.0.0",
          "state": {
            "_dom_classes": [],
            "_model_module": "@jupyter-widgets/controls",
            "_model_module_version": "2.0.0",
            "_model_name": "HTMLModel",
            "_view_count": null,
            "_view_module": "@jupyter-widgets/controls",
            "_view_module_version": "2.0.0",
            "_view_name": "HTMLView",
            "description": "",
            "description_allow_html": false,
            "layout": "IPY_MODEL_e446181c0cb540b19f92a26d969a8453",
            "placeholder": "​",
            "style": "IPY_MODEL_05810675779e41e5b260ebd5d8da0eab",
            "tabbable": null,
            "tooltip": null,
            "value": "sentence_bert_config.json: 100%"
          }
        },
        "e60a7546c87f4eeb9c936437fe4778f1": {
          "model_module": "@jupyter-widgets/controls",
          "model_name": "FloatProgressModel",
          "model_module_version": "2.0.0",
          "state": {
            "_dom_classes": [],
            "_model_module": "@jupyter-widgets/controls",
            "_model_module_version": "2.0.0",
            "_model_name": "FloatProgressModel",
            "_view_count": null,
            "_view_module": "@jupyter-widgets/controls",
            "_view_module_version": "2.0.0",
            "_view_name": "ProgressView",
            "bar_style": "success",
            "description": "",
            "description_allow_html": false,
            "layout": "IPY_MODEL_456793e5e1ba4bad8496312268af1833",
            "max": 53,
            "min": 0,
            "orientation": "horizontal",
            "style": "IPY_MODEL_b4f9f8039b41459296eb5144d35adcd0",
            "tabbable": null,
            "tooltip": null,
            "value": 53
          }
        },
        "42e9d3ecb2f9491a9bb73ae24c036425": {
          "model_module": "@jupyter-widgets/controls",
          "model_name": "HTMLModel",
          "model_module_version": "2.0.0",
          "state": {
            "_dom_classes": [],
            "_model_module": "@jupyter-widgets/controls",
            "_model_module_version": "2.0.0",
            "_model_name": "HTMLModel",
            "_view_count": null,
            "_view_module": "@jupyter-widgets/controls",
            "_view_module_version": "2.0.0",
            "_view_name": "HTMLView",
            "description": "",
            "description_allow_html": false,
            "layout": "IPY_MODEL_4edbf6407a5d40c697edc045e3249649",
            "placeholder": "​",
            "style": "IPY_MODEL_30ed816acac74cd88a52bfba947776f1",
            "tabbable": null,
            "tooltip": null,
            "value": " 53.0/53.0 [00:00&lt;00:00, 2.07kB/s]"
          }
        },
        "44c402b423694b80ad6f6e45a936821b": {
          "model_module": "@jupyter-widgets/base",
          "model_name": "LayoutModel",
          "model_module_version": "2.0.0",
          "state": {
            "_model_module": "@jupyter-widgets/base",
            "_model_module_version": "2.0.0",
            "_model_name": "LayoutModel",
            "_view_count": null,
            "_view_module": "@jupyter-widgets/base",
            "_view_module_version": "2.0.0",
            "_view_name": "LayoutView",
            "align_content": null,
            "align_items": null,
            "align_self": null,
            "border_bottom": null,
            "border_left": null,
            "border_right": null,
            "border_top": null,
            "bottom": null,
            "display": null,
            "flex": null,
            "flex_flow": null,
            "grid_area": null,
            "grid_auto_columns": null,
            "grid_auto_flow": null,
            "grid_auto_rows": null,
            "grid_column": null,
            "grid_gap": null,
            "grid_row": null,
            "grid_template_areas": null,
            "grid_template_columns": null,
            "grid_template_rows": null,
            "height": null,
            "justify_content": null,
            "justify_items": null,
            "left": null,
            "margin": null,
            "max_height": null,
            "max_width": null,
            "min_height": null,
            "min_width": null,
            "object_fit": null,
            "object_position": null,
            "order": null,
            "overflow": null,
            "padding": null,
            "right": null,
            "top": null,
            "visibility": null,
            "width": null
          }
        },
        "1daea191599745a383003c0a07e05dc2": {
          "model_module": "@jupyter-widgets/controls",
          "model_name": "HBoxModel",
          "model_module_version": "2.0.0",
          "state": {
            "_dom_classes": [],
            "_model_module": "@jupyter-widgets/controls",
            "_model_module_version": "2.0.0",
            "_model_name": "HBoxModel",
            "_view_count": null,
            "_view_module": "@jupyter-widgets/controls",
            "_view_module_version": "2.0.0",
            "_view_name": "HBoxView",
            "box_style": "",
            "children": [
              "IPY_MODEL_631d28941f9a47959e155a78d7957b7b",
              "IPY_MODEL_e60a7546c87f4eeb9c936437fe4778f1",
              "IPY_MODEL_42e9d3ecb2f9491a9bb73ae24c036425"
            ],
            "layout": "IPY_MODEL_44c402b423694b80ad6f6e45a936821b",
            "tabbable": null,
            "tooltip": null
          }
        },
        "8a211884ee4d4635909665805770defb": {
          "model_module": "@jupyter-widgets/base",
          "model_name": "LayoutModel",
          "model_module_version": "2.0.0",
          "state": {
            "_model_module": "@jupyter-widgets/base",
            "_model_module_version": "2.0.0",
            "_model_name": "LayoutModel",
            "_view_count": null,
            "_view_module": "@jupyter-widgets/base",
            "_view_module_version": "2.0.0",
            "_view_name": "LayoutView",
            "align_content": null,
            "align_items": null,
            "align_self": null,
            "border_bottom": null,
            "border_left": null,
            "border_right": null,
            "border_top": null,
            "bottom": null,
            "display": null,
            "flex": null,
            "flex_flow": null,
            "grid_area": null,
            "grid_auto_columns": null,
            "grid_auto_flow": null,
            "grid_auto_rows": null,
            "grid_column": null,
            "grid_gap": null,
            "grid_row": null,
            "grid_template_areas": null,
            "grid_template_columns": null,
            "grid_template_rows": null,
            "height": null,
            "justify_content": null,
            "justify_items": null,
            "left": null,
            "margin": null,
            "max_height": null,
            "max_width": null,
            "min_height": null,
            "min_width": null,
            "object_fit": null,
            "object_position": null,
            "order": null,
            "overflow": null,
            "padding": null,
            "right": null,
            "top": null,
            "visibility": null,
            "width": null
          }
        },
        "c05f4a59a1de490fba0661ec933294eb": {
          "model_module": "@jupyter-widgets/controls",
          "model_name": "ProgressStyleModel",
          "model_module_version": "2.0.0",
          "state": {
            "_model_module": "@jupyter-widgets/controls",
            "_model_module_version": "2.0.0",
            "_model_name": "ProgressStyleModel",
            "_view_count": null,
            "_view_module": "@jupyter-widgets/base",
            "_view_module_version": "2.0.0",
            "_view_name": "StyleView",
            "bar_color": null,
            "description_width": ""
          }
        },
        "7f1ab2b30ab646b7821eaa1511f7afc6": {
          "model_module": "@jupyter-widgets/base",
          "model_name": "LayoutModel",
          "model_module_version": "2.0.0",
          "state": {
            "_model_module": "@jupyter-widgets/base",
            "_model_module_version": "2.0.0",
            "_model_name": "LayoutModel",
            "_view_count": null,
            "_view_module": "@jupyter-widgets/base",
            "_view_module_version": "2.0.0",
            "_view_name": "LayoutView",
            "align_content": null,
            "align_items": null,
            "align_self": null,
            "border_bottom": null,
            "border_left": null,
            "border_right": null,
            "border_top": null,
            "bottom": null,
            "display": null,
            "flex": null,
            "flex_flow": null,
            "grid_area": null,
            "grid_auto_columns": null,
            "grid_auto_flow": null,
            "grid_auto_rows": null,
            "grid_column": null,
            "grid_gap": null,
            "grid_row": null,
            "grid_template_areas": null,
            "grid_template_columns": null,
            "grid_template_rows": null,
            "height": null,
            "justify_content": null,
            "justify_items": null,
            "left": null,
            "margin": null,
            "max_height": null,
            "max_width": null,
            "min_height": null,
            "min_width": null,
            "object_fit": null,
            "object_position": null,
            "order": null,
            "overflow": null,
            "padding": null,
            "right": null,
            "top": null,
            "visibility": null,
            "width": null
          }
        },
        "d6b29c02b5d24d72a287616b90abf03f": {
          "model_module": "@jupyter-widgets/controls",
          "model_name": "HTMLStyleModel",
          "model_module_version": "2.0.0",
          "state": {
            "_model_module": "@jupyter-widgets/controls",
            "_model_module_version": "2.0.0",
            "_model_name": "HTMLStyleModel",
            "_view_count": null,
            "_view_module": "@jupyter-widgets/base",
            "_view_module_version": "2.0.0",
            "_view_name": "StyleView",
            "background": null,
            "description_width": "",
            "font_size": null,
            "text_color": null
          }
        },
        "c031e3e50e3343c19d709441f7f67d8a": {
          "model_module": "@jupyter-widgets/base",
          "model_name": "LayoutModel",
          "model_module_version": "2.0.0",
          "state": {
            "_model_module": "@jupyter-widgets/base",
            "_model_module_version": "2.0.0",
            "_model_name": "LayoutModel",
            "_view_count": null,
            "_view_module": "@jupyter-widgets/base",
            "_view_module_version": "2.0.0",
            "_view_name": "LayoutView",
            "align_content": null,
            "align_items": null,
            "align_self": null,
            "border_bottom": null,
            "border_left": null,
            "border_right": null,
            "border_top": null,
            "bottom": null,
            "display": null,
            "flex": null,
            "flex_flow": null,
            "grid_area": null,
            "grid_auto_columns": null,
            "grid_auto_flow": null,
            "grid_auto_rows": null,
            "grid_column": null,
            "grid_gap": null,
            "grid_row": null,
            "grid_template_areas": null,
            "grid_template_columns": null,
            "grid_template_rows": null,
            "height": null,
            "justify_content": null,
            "justify_items": null,
            "left": null,
            "margin": null,
            "max_height": null,
            "max_width": null,
            "min_height": null,
            "min_width": null,
            "object_fit": null,
            "object_position": null,
            "order": null,
            "overflow": null,
            "padding": null,
            "right": null,
            "top": null,
            "visibility": null,
            "width": null
          }
        },
        "a619b9c00d314c1fbc91523da92132fd": {
          "model_module": "@jupyter-widgets/controls",
          "model_name": "HTMLStyleModel",
          "model_module_version": "2.0.0",
          "state": {
            "_model_module": "@jupyter-widgets/controls",
            "_model_module_version": "2.0.0",
            "_model_name": "HTMLStyleModel",
            "_view_count": null,
            "_view_module": "@jupyter-widgets/base",
            "_view_module_version": "2.0.0",
            "_view_name": "StyleView",
            "background": null,
            "description_width": "",
            "font_size": null,
            "text_color": null
          }
        },
        "3148dadaedc543489ee87cd3869a0e12": {
          "model_module": "@jupyter-widgets/controls",
          "model_name": "HTMLModel",
          "model_module_version": "2.0.0",
          "state": {
            "_dom_classes": [],
            "_model_module": "@jupyter-widgets/controls",
            "_model_module_version": "2.0.0",
            "_model_name": "HTMLModel",
            "_view_count": null,
            "_view_module": "@jupyter-widgets/controls",
            "_view_module_version": "2.0.0",
            "_view_name": "HTMLView",
            "description": "",
            "description_allow_html": false,
            "layout": "IPY_MODEL_7f1ab2b30ab646b7821eaa1511f7afc6",
            "placeholder": "​",
            "style": "IPY_MODEL_d6b29c02b5d24d72a287616b90abf03f",
            "tabbable": null,
            "tooltip": null,
            "value": "config.json: 100%"
          }
        },
        "30e214800ad74e94ad329ceb8af98edb": {
          "model_module": "@jupyter-widgets/controls",
          "model_name": "FloatProgressModel",
          "model_module_version": "2.0.0",
          "state": {
            "_dom_classes": [],
            "_model_module": "@jupyter-widgets/controls",
            "_model_module_version": "2.0.0",
            "_model_name": "FloatProgressModel",
            "_view_count": null,
            "_view_module": "@jupyter-widgets/controls",
            "_view_module_version": "2.0.0",
            "_view_name": "ProgressView",
            "bar_style": "success",
            "description": "",
            "description_allow_html": false,
            "layout": "IPY_MODEL_8a211884ee4d4635909665805770defb",
            "max": 571,
            "min": 0,
            "orientation": "horizontal",
            "style": "IPY_MODEL_c05f4a59a1de490fba0661ec933294eb",
            "tabbable": null,
            "tooltip": null,
            "value": 571
          }
        },
        "900e7c46b9d545dd8be6a8c5a069d711": {
          "model_module": "@jupyter-widgets/controls",
          "model_name": "HTMLModel",
          "model_module_version": "2.0.0",
          "state": {
            "_dom_classes": [],
            "_model_module": "@jupyter-widgets/controls",
            "_model_module_version": "2.0.0",
            "_model_name": "HTMLModel",
            "_view_count": null,
            "_view_module": "@jupyter-widgets/controls",
            "_view_module_version": "2.0.0",
            "_view_name": "HTMLView",
            "description": "",
            "description_allow_html": false,
            "layout": "IPY_MODEL_c031e3e50e3343c19d709441f7f67d8a",
            "placeholder": "​",
            "style": "IPY_MODEL_a619b9c00d314c1fbc91523da92132fd",
            "tabbable": null,
            "tooltip": null,
            "value": " 571/571 [00:00&lt;00:00, 30.2kB/s]"
          }
        },
        "8092c77058f24f509872ca88aa7ab684": {
          "model_module": "@jupyter-widgets/base",
          "model_name": "LayoutModel",
          "model_module_version": "2.0.0",
          "state": {
            "_model_module": "@jupyter-widgets/base",
            "_model_module_version": "2.0.0",
            "_model_name": "LayoutModel",
            "_view_count": null,
            "_view_module": "@jupyter-widgets/base",
            "_view_module_version": "2.0.0",
            "_view_name": "LayoutView",
            "align_content": null,
            "align_items": null,
            "align_self": null,
            "border_bottom": null,
            "border_left": null,
            "border_right": null,
            "border_top": null,
            "bottom": null,
            "display": null,
            "flex": null,
            "flex_flow": null,
            "grid_area": null,
            "grid_auto_columns": null,
            "grid_auto_flow": null,
            "grid_auto_rows": null,
            "grid_column": null,
            "grid_gap": null,
            "grid_row": null,
            "grid_template_areas": null,
            "grid_template_columns": null,
            "grid_template_rows": null,
            "height": null,
            "justify_content": null,
            "justify_items": null,
            "left": null,
            "margin": null,
            "max_height": null,
            "max_width": null,
            "min_height": null,
            "min_width": null,
            "object_fit": null,
            "object_position": null,
            "order": null,
            "overflow": null,
            "padding": null,
            "right": null,
            "top": null,
            "visibility": null,
            "width": null
          }
        },
        "4b712e7ed7114d6f8be643d21d197e07": {
          "model_module": "@jupyter-widgets/controls",
          "model_name": "HBoxModel",
          "model_module_version": "2.0.0",
          "state": {
            "_dom_classes": [],
            "_model_module": "@jupyter-widgets/controls",
            "_model_module_version": "2.0.0",
            "_model_name": "HBoxModel",
            "_view_count": null,
            "_view_module": "@jupyter-widgets/controls",
            "_view_module_version": "2.0.0",
            "_view_name": "HBoxView",
            "box_style": "",
            "children": [
              "IPY_MODEL_3148dadaedc543489ee87cd3869a0e12",
              "IPY_MODEL_30e214800ad74e94ad329ceb8af98edb",
              "IPY_MODEL_900e7c46b9d545dd8be6a8c5a069d711"
            ],
            "layout": "IPY_MODEL_8092c77058f24f509872ca88aa7ab684",
            "tabbable": null,
            "tooltip": null
          }
        },
        "fce6c0dc393d4f39bfa40a35b785e93c": {
          "model_module": "@jupyter-widgets/base",
          "model_name": "LayoutModel",
          "model_module_version": "2.0.0",
          "state": {
            "_model_module": "@jupyter-widgets/base",
            "_model_module_version": "2.0.0",
            "_model_name": "LayoutModel",
            "_view_count": null,
            "_view_module": "@jupyter-widgets/base",
            "_view_module_version": "2.0.0",
            "_view_name": "LayoutView",
            "align_content": null,
            "align_items": null,
            "align_self": null,
            "border_bottom": null,
            "border_left": null,
            "border_right": null,
            "border_top": null,
            "bottom": null,
            "display": null,
            "flex": null,
            "flex_flow": null,
            "grid_area": null,
            "grid_auto_columns": null,
            "grid_auto_flow": null,
            "grid_auto_rows": null,
            "grid_column": null,
            "grid_gap": null,
            "grid_row": null,
            "grid_template_areas": null,
            "grid_template_columns": null,
            "grid_template_rows": null,
            "height": null,
            "justify_content": null,
            "justify_items": null,
            "left": null,
            "margin": null,
            "max_height": null,
            "max_width": null,
            "min_height": null,
            "min_width": null,
            "object_fit": null,
            "object_position": null,
            "order": null,
            "overflow": null,
            "padding": null,
            "right": null,
            "top": null,
            "visibility": null,
            "width": null
          }
        },
        "8669964d90b249fdb59181b00b3063cd": {
          "model_module": "@jupyter-widgets/controls",
          "model_name": "ProgressStyleModel",
          "model_module_version": "2.0.0",
          "state": {
            "_model_module": "@jupyter-widgets/controls",
            "_model_module_version": "2.0.0",
            "_model_name": "ProgressStyleModel",
            "_view_count": null,
            "_view_module": "@jupyter-widgets/base",
            "_view_module_version": "2.0.0",
            "_view_name": "StyleView",
            "bar_color": null,
            "description_width": ""
          }
        },
        "ff22449b82994d2ab45851145de4312b": {
          "model_module": "@jupyter-widgets/base",
          "model_name": "LayoutModel",
          "model_module_version": "2.0.0",
          "state": {
            "_model_module": "@jupyter-widgets/base",
            "_model_module_version": "2.0.0",
            "_model_name": "LayoutModel",
            "_view_count": null,
            "_view_module": "@jupyter-widgets/base",
            "_view_module_version": "2.0.0",
            "_view_name": "LayoutView",
            "align_content": null,
            "align_items": null,
            "align_self": null,
            "border_bottom": null,
            "border_left": null,
            "border_right": null,
            "border_top": null,
            "bottom": null,
            "display": null,
            "flex": null,
            "flex_flow": null,
            "grid_area": null,
            "grid_auto_columns": null,
            "grid_auto_flow": null,
            "grid_auto_rows": null,
            "grid_column": null,
            "grid_gap": null,
            "grid_row": null,
            "grid_template_areas": null,
            "grid_template_columns": null,
            "grid_template_rows": null,
            "height": null,
            "justify_content": null,
            "justify_items": null,
            "left": null,
            "margin": null,
            "max_height": null,
            "max_width": null,
            "min_height": null,
            "min_width": null,
            "object_fit": null,
            "object_position": null,
            "order": null,
            "overflow": null,
            "padding": null,
            "right": null,
            "top": null,
            "visibility": null,
            "width": null
          }
        },
        "6bc3f0a182824cfc99e7aa3364e1ff83": {
          "model_module": "@jupyter-widgets/controls",
          "model_name": "HTMLStyleModel",
          "model_module_version": "2.0.0",
          "state": {
            "_model_module": "@jupyter-widgets/controls",
            "_model_module_version": "2.0.0",
            "_model_name": "HTMLStyleModel",
            "_view_count": null,
            "_view_module": "@jupyter-widgets/base",
            "_view_module_version": "2.0.0",
            "_view_name": "StyleView",
            "background": null,
            "description_width": "",
            "font_size": null,
            "text_color": null
          }
        },
        "6c85cc7b95de48cd9a72db6f89f4fde0": {
          "model_module": "@jupyter-widgets/base",
          "model_name": "LayoutModel",
          "model_module_version": "2.0.0",
          "state": {
            "_model_module": "@jupyter-widgets/base",
            "_model_module_version": "2.0.0",
            "_model_name": "LayoutModel",
            "_view_count": null,
            "_view_module": "@jupyter-widgets/base",
            "_view_module_version": "2.0.0",
            "_view_name": "LayoutView",
            "align_content": null,
            "align_items": null,
            "align_self": null,
            "border_bottom": null,
            "border_left": null,
            "border_right": null,
            "border_top": null,
            "bottom": null,
            "display": null,
            "flex": null,
            "flex_flow": null,
            "grid_area": null,
            "grid_auto_columns": null,
            "grid_auto_flow": null,
            "grid_auto_rows": null,
            "grid_column": null,
            "grid_gap": null,
            "grid_row": null,
            "grid_template_areas": null,
            "grid_template_columns": null,
            "grid_template_rows": null,
            "height": null,
            "justify_content": null,
            "justify_items": null,
            "left": null,
            "margin": null,
            "max_height": null,
            "max_width": null,
            "min_height": null,
            "min_width": null,
            "object_fit": null,
            "object_position": null,
            "order": null,
            "overflow": null,
            "padding": null,
            "right": null,
            "top": null,
            "visibility": null,
            "width": null
          }
        },
        "e6342a26a583440f8bd686c947a014a4": {
          "model_module": "@jupyter-widgets/controls",
          "model_name": "HTMLStyleModel",
          "model_module_version": "2.0.0",
          "state": {
            "_model_module": "@jupyter-widgets/controls",
            "_model_module_version": "2.0.0",
            "_model_name": "HTMLStyleModel",
            "_view_count": null,
            "_view_module": "@jupyter-widgets/base",
            "_view_module_version": "2.0.0",
            "_view_name": "StyleView",
            "background": null,
            "description_width": "",
            "font_size": null,
            "text_color": null
          }
        },
        "99c0308269c74bb09e7cb9fea950ed27": {
          "model_module": "@jupyter-widgets/controls",
          "model_name": "HTMLModel",
          "model_module_version": "2.0.0",
          "state": {
            "_dom_classes": [],
            "_model_module": "@jupyter-widgets/controls",
            "_model_module_version": "2.0.0",
            "_model_name": "HTMLModel",
            "_view_count": null,
            "_view_module": "@jupyter-widgets/controls",
            "_view_module_version": "2.0.0",
            "_view_name": "HTMLView",
            "description": "",
            "description_allow_html": false,
            "layout": "IPY_MODEL_ff22449b82994d2ab45851145de4312b",
            "placeholder": "​",
            "style": "IPY_MODEL_6bc3f0a182824cfc99e7aa3364e1ff83",
            "tabbable": null,
            "tooltip": null,
            "value": "model.safetensors: 100%"
          }
        },
        "e720b9f57ec244feaf2e1470cf846aba": {
          "model_module": "@jupyter-widgets/controls",
          "model_name": "FloatProgressModel",
          "model_module_version": "2.0.0",
          "state": {
            "_dom_classes": [],
            "_model_module": "@jupyter-widgets/controls",
            "_model_module_version": "2.0.0",
            "_model_name": "FloatProgressModel",
            "_view_count": null,
            "_view_module": "@jupyter-widgets/controls",
            "_view_module_version": "2.0.0",
            "_view_name": "ProgressView",
            "bar_style": "success",
            "description": "",
            "description_allow_html": false,
            "layout": "IPY_MODEL_fce6c0dc393d4f39bfa40a35b785e93c",
            "max": 437971872,
            "min": 0,
            "orientation": "horizontal",
            "style": "IPY_MODEL_8669964d90b249fdb59181b00b3063cd",
            "tabbable": null,
            "tooltip": null,
            "value": 437971872
          }
        },
        "a551d323d10346e9b0e684ac9be8ff39": {
          "model_module": "@jupyter-widgets/controls",
          "model_name": "HTMLModel",
          "model_module_version": "2.0.0",
          "state": {
            "_dom_classes": [],
            "_model_module": "@jupyter-widgets/controls",
            "_model_module_version": "2.0.0",
            "_model_name": "HTMLModel",
            "_view_count": null,
            "_view_module": "@jupyter-widgets/controls",
            "_view_module_version": "2.0.0",
            "_view_name": "HTMLView",
            "description": "",
            "description_allow_html": false,
            "layout": "IPY_MODEL_6c85cc7b95de48cd9a72db6f89f4fde0",
            "placeholder": "​",
            "style": "IPY_MODEL_e6342a26a583440f8bd686c947a014a4",
            "tabbable": null,
            "tooltip": null,
            "value": " 438M/438M [00:09&lt;00:00, 89.8MB/s]"
          }
        },
        "60b3cf8dd5924287a6feeb7f09f58121": {
          "model_module": "@jupyter-widgets/base",
          "model_name": "LayoutModel",
          "model_module_version": "2.0.0",
          "state": {
            "_model_module": "@jupyter-widgets/base",
            "_model_module_version": "2.0.0",
            "_model_name": "LayoutModel",
            "_view_count": null,
            "_view_module": "@jupyter-widgets/base",
            "_view_module_version": "2.0.0",
            "_view_name": "LayoutView",
            "align_content": null,
            "align_items": null,
            "align_self": null,
            "border_bottom": null,
            "border_left": null,
            "border_right": null,
            "border_top": null,
            "bottom": null,
            "display": null,
            "flex": null,
            "flex_flow": null,
            "grid_area": null,
            "grid_auto_columns": null,
            "grid_auto_flow": null,
            "grid_auto_rows": null,
            "grid_column": null,
            "grid_gap": null,
            "grid_row": null,
            "grid_template_areas": null,
            "grid_template_columns": null,
            "grid_template_rows": null,
            "height": null,
            "justify_content": null,
            "justify_items": null,
            "left": null,
            "margin": null,
            "max_height": null,
            "max_width": null,
            "min_height": null,
            "min_width": null,
            "object_fit": null,
            "object_position": null,
            "order": null,
            "overflow": null,
            "padding": null,
            "right": null,
            "top": null,
            "visibility": null,
            "width": null
          }
        },
        "5da765711b874427a5107ddd49742bab": {
          "model_module": "@jupyter-widgets/controls",
          "model_name": "HBoxModel",
          "model_module_version": "2.0.0",
          "state": {
            "_dom_classes": [],
            "_model_module": "@jupyter-widgets/controls",
            "_model_module_version": "2.0.0",
            "_model_name": "HBoxModel",
            "_view_count": null,
            "_view_module": "@jupyter-widgets/controls",
            "_view_module_version": "2.0.0",
            "_view_name": "HBoxView",
            "box_style": "",
            "children": [
              "IPY_MODEL_99c0308269c74bb09e7cb9fea950ed27",
              "IPY_MODEL_e720b9f57ec244feaf2e1470cf846aba",
              "IPY_MODEL_a551d323d10346e9b0e684ac9be8ff39"
            ],
            "layout": "IPY_MODEL_60b3cf8dd5924287a6feeb7f09f58121",
            "tabbable": null,
            "tooltip": null
          }
        },
        "7b2092f3e3a44a08a230f6536ef04747": {
          "model_module": "@jupyter-widgets/base",
          "model_name": "LayoutModel",
          "model_module_version": "2.0.0",
          "state": {
            "_model_module": "@jupyter-widgets/base",
            "_model_module_version": "2.0.0",
            "_model_name": "LayoutModel",
            "_view_count": null,
            "_view_module": "@jupyter-widgets/base",
            "_view_module_version": "2.0.0",
            "_view_name": "LayoutView",
            "align_content": null,
            "align_items": null,
            "align_self": null,
            "border_bottom": null,
            "border_left": null,
            "border_right": null,
            "border_top": null,
            "bottom": null,
            "display": null,
            "flex": null,
            "flex_flow": null,
            "grid_area": null,
            "grid_auto_columns": null,
            "grid_auto_flow": null,
            "grid_auto_rows": null,
            "grid_column": null,
            "grid_gap": null,
            "grid_row": null,
            "grid_template_areas": null,
            "grid_template_columns": null,
            "grid_template_rows": null,
            "height": null,
            "justify_content": null,
            "justify_items": null,
            "left": null,
            "margin": null,
            "max_height": null,
            "max_width": null,
            "min_height": null,
            "min_width": null,
            "object_fit": null,
            "object_position": null,
            "order": null,
            "overflow": null,
            "padding": null,
            "right": null,
            "top": null,
            "visibility": null,
            "width": null
          }
        },
        "fe350dee4fba48a09c0f40d380886917": {
          "model_module": "@jupyter-widgets/controls",
          "model_name": "ProgressStyleModel",
          "model_module_version": "2.0.0",
          "state": {
            "_model_module": "@jupyter-widgets/controls",
            "_model_module_version": "2.0.0",
            "_model_name": "ProgressStyleModel",
            "_view_count": null,
            "_view_module": "@jupyter-widgets/base",
            "_view_module_version": "2.0.0",
            "_view_name": "StyleView",
            "bar_color": null,
            "description_width": ""
          }
        },
        "9a04c131d3784a3e870c15418ce0c617": {
          "model_module": "@jupyter-widgets/base",
          "model_name": "LayoutModel",
          "model_module_version": "2.0.0",
          "state": {
            "_model_module": "@jupyter-widgets/base",
            "_model_module_version": "2.0.0",
            "_model_name": "LayoutModel",
            "_view_count": null,
            "_view_module": "@jupyter-widgets/base",
            "_view_module_version": "2.0.0",
            "_view_name": "LayoutView",
            "align_content": null,
            "align_items": null,
            "align_self": null,
            "border_bottom": null,
            "border_left": null,
            "border_right": null,
            "border_top": null,
            "bottom": null,
            "display": null,
            "flex": null,
            "flex_flow": null,
            "grid_area": null,
            "grid_auto_columns": null,
            "grid_auto_flow": null,
            "grid_auto_rows": null,
            "grid_column": null,
            "grid_gap": null,
            "grid_row": null,
            "grid_template_areas": null,
            "grid_template_columns": null,
            "grid_template_rows": null,
            "height": null,
            "justify_content": null,
            "justify_items": null,
            "left": null,
            "margin": null,
            "max_height": null,
            "max_width": null,
            "min_height": null,
            "min_width": null,
            "object_fit": null,
            "object_position": null,
            "order": null,
            "overflow": null,
            "padding": null,
            "right": null,
            "top": null,
            "visibility": null,
            "width": null
          }
        },
        "d25cad1c906e45bf89eac72530b83f2a": {
          "model_module": "@jupyter-widgets/controls",
          "model_name": "HTMLStyleModel",
          "model_module_version": "2.0.0",
          "state": {
            "_model_module": "@jupyter-widgets/controls",
            "_model_module_version": "2.0.0",
            "_model_name": "HTMLStyleModel",
            "_view_count": null,
            "_view_module": "@jupyter-widgets/base",
            "_view_module_version": "2.0.0",
            "_view_name": "StyleView",
            "background": null,
            "description_width": "",
            "font_size": null,
            "text_color": null
          }
        },
        "bc99090222534792aa8afd69d6ef53b3": {
          "model_module": "@jupyter-widgets/base",
          "model_name": "LayoutModel",
          "model_module_version": "2.0.0",
          "state": {
            "_model_module": "@jupyter-widgets/base",
            "_model_module_version": "2.0.0",
            "_model_name": "LayoutModel",
            "_view_count": null,
            "_view_module": "@jupyter-widgets/base",
            "_view_module_version": "2.0.0",
            "_view_name": "LayoutView",
            "align_content": null,
            "align_items": null,
            "align_self": null,
            "border_bottom": null,
            "border_left": null,
            "border_right": null,
            "border_top": null,
            "bottom": null,
            "display": null,
            "flex": null,
            "flex_flow": null,
            "grid_area": null,
            "grid_auto_columns": null,
            "grid_auto_flow": null,
            "grid_auto_rows": null,
            "grid_column": null,
            "grid_gap": null,
            "grid_row": null,
            "grid_template_areas": null,
            "grid_template_columns": null,
            "grid_template_rows": null,
            "height": null,
            "justify_content": null,
            "justify_items": null,
            "left": null,
            "margin": null,
            "max_height": null,
            "max_width": null,
            "min_height": null,
            "min_width": null,
            "object_fit": null,
            "object_position": null,
            "order": null,
            "overflow": null,
            "padding": null,
            "right": null,
            "top": null,
            "visibility": null,
            "width": null
          }
        },
        "0155711a682f4f3ba96d6e309ae7ffc1": {
          "model_module": "@jupyter-widgets/controls",
          "model_name": "HTMLStyleModel",
          "model_module_version": "2.0.0",
          "state": {
            "_model_module": "@jupyter-widgets/controls",
            "_model_module_version": "2.0.0",
            "_model_name": "HTMLStyleModel",
            "_view_count": null,
            "_view_module": "@jupyter-widgets/base",
            "_view_module_version": "2.0.0",
            "_view_name": "StyleView",
            "background": null,
            "description_width": "",
            "font_size": null,
            "text_color": null
          }
        },
        "1b945b5abd6e470ca96b4be235c6fdc7": {
          "model_module": "@jupyter-widgets/controls",
          "model_name": "HTMLModel",
          "model_module_version": "2.0.0",
          "state": {
            "_dom_classes": [],
            "_model_module": "@jupyter-widgets/controls",
            "_model_module_version": "2.0.0",
            "_model_name": "HTMLModel",
            "_view_count": null,
            "_view_module": "@jupyter-widgets/controls",
            "_view_module_version": "2.0.0",
            "_view_name": "HTMLView",
            "description": "",
            "description_allow_html": false,
            "layout": "IPY_MODEL_9a04c131d3784a3e870c15418ce0c617",
            "placeholder": "​",
            "style": "IPY_MODEL_d25cad1c906e45bf89eac72530b83f2a",
            "tabbable": null,
            "tooltip": null,
            "value": "tokenizer_config.json: 100%"
          }
        },
        "c04d09eee9f540f49efbb402c6edd336": {
          "model_module": "@jupyter-widgets/controls",
          "model_name": "FloatProgressModel",
          "model_module_version": "2.0.0",
          "state": {
            "_dom_classes": [],
            "_model_module": "@jupyter-widgets/controls",
            "_model_module_version": "2.0.0",
            "_model_name": "FloatProgressModel",
            "_view_count": null,
            "_view_module": "@jupyter-widgets/controls",
            "_view_module_version": "2.0.0",
            "_view_name": "ProgressView",
            "bar_style": "success",
            "description": "",
            "description_allow_html": false,
            "layout": "IPY_MODEL_7b2092f3e3a44a08a230f6536ef04747",
            "max": 363,
            "min": 0,
            "orientation": "horizontal",
            "style": "IPY_MODEL_fe350dee4fba48a09c0f40d380886917",
            "tabbable": null,
            "tooltip": null,
            "value": 363
          }
        },
        "bbd06d5b11ae4e80bbf2b8964efc8ad7": {
          "model_module": "@jupyter-widgets/controls",
          "model_name": "HTMLModel",
          "model_module_version": "2.0.0",
          "state": {
            "_dom_classes": [],
            "_model_module": "@jupyter-widgets/controls",
            "_model_module_version": "2.0.0",
            "_model_name": "HTMLModel",
            "_view_count": null,
            "_view_module": "@jupyter-widgets/controls",
            "_view_module_version": "2.0.0",
            "_view_name": "HTMLView",
            "description": "",
            "description_allow_html": false,
            "layout": "IPY_MODEL_bc99090222534792aa8afd69d6ef53b3",
            "placeholder": "​",
            "style": "IPY_MODEL_0155711a682f4f3ba96d6e309ae7ffc1",
            "tabbable": null,
            "tooltip": null,
            "value": " 363/363 [00:00&lt;00:00, 9.25kB/s]"
          }
        },
        "265d1b4454f4423188c6db0ad059cfa9": {
          "model_module": "@jupyter-widgets/base",
          "model_name": "LayoutModel",
          "model_module_version": "2.0.0",
          "state": {
            "_model_module": "@jupyter-widgets/base",
            "_model_module_version": "2.0.0",
            "_model_name": "LayoutModel",
            "_view_count": null,
            "_view_module": "@jupyter-widgets/base",
            "_view_module_version": "2.0.0",
            "_view_name": "LayoutView",
            "align_content": null,
            "align_items": null,
            "align_self": null,
            "border_bottom": null,
            "border_left": null,
            "border_right": null,
            "border_top": null,
            "bottom": null,
            "display": null,
            "flex": null,
            "flex_flow": null,
            "grid_area": null,
            "grid_auto_columns": null,
            "grid_auto_flow": null,
            "grid_auto_rows": null,
            "grid_column": null,
            "grid_gap": null,
            "grid_row": null,
            "grid_template_areas": null,
            "grid_template_columns": null,
            "grid_template_rows": null,
            "height": null,
            "justify_content": null,
            "justify_items": null,
            "left": null,
            "margin": null,
            "max_height": null,
            "max_width": null,
            "min_height": null,
            "min_width": null,
            "object_fit": null,
            "object_position": null,
            "order": null,
            "overflow": null,
            "padding": null,
            "right": null,
            "top": null,
            "visibility": null,
            "width": null
          }
        },
        "57e4079c5ef944c3b1f948b33baa42bf": {
          "model_module": "@jupyter-widgets/controls",
          "model_name": "HBoxModel",
          "model_module_version": "2.0.0",
          "state": {
            "_dom_classes": [],
            "_model_module": "@jupyter-widgets/controls",
            "_model_module_version": "2.0.0",
            "_model_name": "HBoxModel",
            "_view_count": null,
            "_view_module": "@jupyter-widgets/controls",
            "_view_module_version": "2.0.0",
            "_view_name": "HBoxView",
            "box_style": "",
            "children": [
              "IPY_MODEL_1b945b5abd6e470ca96b4be235c6fdc7",
              "IPY_MODEL_c04d09eee9f540f49efbb402c6edd336",
              "IPY_MODEL_bbd06d5b11ae4e80bbf2b8964efc8ad7"
            ],
            "layout": "IPY_MODEL_265d1b4454f4423188c6db0ad059cfa9",
            "tabbable": null,
            "tooltip": null
          }
        },
        "3999be61b48c4f8b93c12132e81cd974": {
          "model_module": "@jupyter-widgets/base",
          "model_name": "LayoutModel",
          "model_module_version": "2.0.0",
          "state": {
            "_model_module": "@jupyter-widgets/base",
            "_model_module_version": "2.0.0",
            "_model_name": "LayoutModel",
            "_view_count": null,
            "_view_module": "@jupyter-widgets/base",
            "_view_module_version": "2.0.0",
            "_view_name": "LayoutView",
            "align_content": null,
            "align_items": null,
            "align_self": null,
            "border_bottom": null,
            "border_left": null,
            "border_right": null,
            "border_top": null,
            "bottom": null,
            "display": null,
            "flex": null,
            "flex_flow": null,
            "grid_area": null,
            "grid_auto_columns": null,
            "grid_auto_flow": null,
            "grid_auto_rows": null,
            "grid_column": null,
            "grid_gap": null,
            "grid_row": null,
            "grid_template_areas": null,
            "grid_template_columns": null,
            "grid_template_rows": null,
            "height": null,
            "justify_content": null,
            "justify_items": null,
            "left": null,
            "margin": null,
            "max_height": null,
            "max_width": null,
            "min_height": null,
            "min_width": null,
            "object_fit": null,
            "object_position": null,
            "order": null,
            "overflow": null,
            "padding": null,
            "right": null,
            "top": null,
            "visibility": null,
            "width": null
          }
        },
        "76657507f3214c4e9cd643a0719e7f37": {
          "model_module": "@jupyter-widgets/controls",
          "model_name": "ProgressStyleModel",
          "model_module_version": "2.0.0",
          "state": {
            "_model_module": "@jupyter-widgets/controls",
            "_model_module_version": "2.0.0",
            "_model_name": "ProgressStyleModel",
            "_view_count": null,
            "_view_module": "@jupyter-widgets/base",
            "_view_module_version": "2.0.0",
            "_view_name": "StyleView",
            "bar_color": null,
            "description_width": ""
          }
        },
        "560339e3dfbb4cacae7b303b1a64a78c": {
          "model_module": "@jupyter-widgets/base",
          "model_name": "LayoutModel",
          "model_module_version": "2.0.0",
          "state": {
            "_model_module": "@jupyter-widgets/base",
            "_model_module_version": "2.0.0",
            "_model_name": "LayoutModel",
            "_view_count": null,
            "_view_module": "@jupyter-widgets/base",
            "_view_module_version": "2.0.0",
            "_view_name": "LayoutView",
            "align_content": null,
            "align_items": null,
            "align_self": null,
            "border_bottom": null,
            "border_left": null,
            "border_right": null,
            "border_top": null,
            "bottom": null,
            "display": null,
            "flex": null,
            "flex_flow": null,
            "grid_area": null,
            "grid_auto_columns": null,
            "grid_auto_flow": null,
            "grid_auto_rows": null,
            "grid_column": null,
            "grid_gap": null,
            "grid_row": null,
            "grid_template_areas": null,
            "grid_template_columns": null,
            "grid_template_rows": null,
            "height": null,
            "justify_content": null,
            "justify_items": null,
            "left": null,
            "margin": null,
            "max_height": null,
            "max_width": null,
            "min_height": null,
            "min_width": null,
            "object_fit": null,
            "object_position": null,
            "order": null,
            "overflow": null,
            "padding": null,
            "right": null,
            "top": null,
            "visibility": null,
            "width": null
          }
        },
        "1459d1d1c4cc43bf9ec950e2e2651018": {
          "model_module": "@jupyter-widgets/controls",
          "model_name": "HTMLStyleModel",
          "model_module_version": "2.0.0",
          "state": {
            "_model_module": "@jupyter-widgets/controls",
            "_model_module_version": "2.0.0",
            "_model_name": "HTMLStyleModel",
            "_view_count": null,
            "_view_module": "@jupyter-widgets/base",
            "_view_module_version": "2.0.0",
            "_view_name": "StyleView",
            "background": null,
            "description_width": "",
            "font_size": null,
            "text_color": null
          }
        },
        "aff64ed7d1754e19922e2617d00ad756": {
          "model_module": "@jupyter-widgets/base",
          "model_name": "LayoutModel",
          "model_module_version": "2.0.0",
          "state": {
            "_model_module": "@jupyter-widgets/base",
            "_model_module_version": "2.0.0",
            "_model_name": "LayoutModel",
            "_view_count": null,
            "_view_module": "@jupyter-widgets/base",
            "_view_module_version": "2.0.0",
            "_view_name": "LayoutView",
            "align_content": null,
            "align_items": null,
            "align_self": null,
            "border_bottom": null,
            "border_left": null,
            "border_right": null,
            "border_top": null,
            "bottom": null,
            "display": null,
            "flex": null,
            "flex_flow": null,
            "grid_area": null,
            "grid_auto_columns": null,
            "grid_auto_flow": null,
            "grid_auto_rows": null,
            "grid_column": null,
            "grid_gap": null,
            "grid_row": null,
            "grid_template_areas": null,
            "grid_template_columns": null,
            "grid_template_rows": null,
            "height": null,
            "justify_content": null,
            "justify_items": null,
            "left": null,
            "margin": null,
            "max_height": null,
            "max_width": null,
            "min_height": null,
            "min_width": null,
            "object_fit": null,
            "object_position": null,
            "order": null,
            "overflow": null,
            "padding": null,
            "right": null,
            "top": null,
            "visibility": null,
            "width": null
          }
        },
        "5c78075313634dedb8cf91c8d7e1c88c": {
          "model_module": "@jupyter-widgets/controls",
          "model_name": "HTMLStyleModel",
          "model_module_version": "2.0.0",
          "state": {
            "_model_module": "@jupyter-widgets/controls",
            "_model_module_version": "2.0.0",
            "_model_name": "HTMLStyleModel",
            "_view_count": null,
            "_view_module": "@jupyter-widgets/base",
            "_view_module_version": "2.0.0",
            "_view_name": "StyleView",
            "background": null,
            "description_width": "",
            "font_size": null,
            "text_color": null
          }
        },
        "15fae5ffac7f4871b5fc9163a5bdb4e0": {
          "model_module": "@jupyter-widgets/controls",
          "model_name": "HTMLModel",
          "model_module_version": "2.0.0",
          "state": {
            "_dom_classes": [],
            "_model_module": "@jupyter-widgets/controls",
            "_model_module_version": "2.0.0",
            "_model_name": "HTMLModel",
            "_view_count": null,
            "_view_module": "@jupyter-widgets/controls",
            "_view_module_version": "2.0.0",
            "_view_name": "HTMLView",
            "description": "",
            "description_allow_html": false,
            "layout": "IPY_MODEL_560339e3dfbb4cacae7b303b1a64a78c",
            "placeholder": "​",
            "style": "IPY_MODEL_1459d1d1c4cc43bf9ec950e2e2651018",
            "tabbable": null,
            "tooltip": null,
            "value": "vocab.txt: 100%"
          }
        },
        "56e3281f6bc84d12a26b81ac1841719d": {
          "model_module": "@jupyter-widgets/controls",
          "model_name": "FloatProgressModel",
          "model_module_version": "2.0.0",
          "state": {
            "_dom_classes": [],
            "_model_module": "@jupyter-widgets/controls",
            "_model_module_version": "2.0.0",
            "_model_name": "FloatProgressModel",
            "_view_count": null,
            "_view_module": "@jupyter-widgets/controls",
            "_view_module_version": "2.0.0",
            "_view_name": "ProgressView",
            "bar_style": "success",
            "description": "",
            "description_allow_html": false,
            "layout": "IPY_MODEL_3999be61b48c4f8b93c12132e81cd974",
            "max": 231536,
            "min": 0,
            "orientation": "horizontal",
            "style": "IPY_MODEL_76657507f3214c4e9cd643a0719e7f37",
            "tabbable": null,
            "tooltip": null,
            "value": 231536
          }
        },
        "18929846d6d24847abf96aa6b474df76": {
          "model_module": "@jupyter-widgets/controls",
          "model_name": "HTMLModel",
          "model_module_version": "2.0.0",
          "state": {
            "_dom_classes": [],
            "_model_module": "@jupyter-widgets/controls",
            "_model_module_version": "2.0.0",
            "_model_name": "HTMLModel",
            "_view_count": null,
            "_view_module": "@jupyter-widgets/controls",
            "_view_module_version": "2.0.0",
            "_view_name": "HTMLView",
            "description": "",
            "description_allow_html": false,
            "layout": "IPY_MODEL_aff64ed7d1754e19922e2617d00ad756",
            "placeholder": "​",
            "style": "IPY_MODEL_5c78075313634dedb8cf91c8d7e1c88c",
            "tabbable": null,
            "tooltip": null,
            "value": " 232k/232k [00:00&lt;00:00, 4.37MB/s]"
          }
        },
        "78f20bd1a22044f2bfde93598f611f0d": {
          "model_module": "@jupyter-widgets/base",
          "model_name": "LayoutModel",
          "model_module_version": "2.0.0",
          "state": {
            "_model_module": "@jupyter-widgets/base",
            "_model_module_version": "2.0.0",
            "_model_name": "LayoutModel",
            "_view_count": null,
            "_view_module": "@jupyter-widgets/base",
            "_view_module_version": "2.0.0",
            "_view_name": "LayoutView",
            "align_content": null,
            "align_items": null,
            "align_self": null,
            "border_bottom": null,
            "border_left": null,
            "border_right": null,
            "border_top": null,
            "bottom": null,
            "display": null,
            "flex": null,
            "flex_flow": null,
            "grid_area": null,
            "grid_auto_columns": null,
            "grid_auto_flow": null,
            "grid_auto_rows": null,
            "grid_column": null,
            "grid_gap": null,
            "grid_row": null,
            "grid_template_areas": null,
            "grid_template_columns": null,
            "grid_template_rows": null,
            "height": null,
            "justify_content": null,
            "justify_items": null,
            "left": null,
            "margin": null,
            "max_height": null,
            "max_width": null,
            "min_height": null,
            "min_width": null,
            "object_fit": null,
            "object_position": null,
            "order": null,
            "overflow": null,
            "padding": null,
            "right": null,
            "top": null,
            "visibility": null,
            "width": null
          }
        },
        "6e5984b551d642639995a2f4ab7d73a8": {
          "model_module": "@jupyter-widgets/controls",
          "model_name": "HBoxModel",
          "model_module_version": "2.0.0",
          "state": {
            "_dom_classes": [],
            "_model_module": "@jupyter-widgets/controls",
            "_model_module_version": "2.0.0",
            "_model_name": "HBoxModel",
            "_view_count": null,
            "_view_module": "@jupyter-widgets/controls",
            "_view_module_version": "2.0.0",
            "_view_name": "HBoxView",
            "box_style": "",
            "children": [
              "IPY_MODEL_15fae5ffac7f4871b5fc9163a5bdb4e0",
              "IPY_MODEL_56e3281f6bc84d12a26b81ac1841719d",
              "IPY_MODEL_18929846d6d24847abf96aa6b474df76"
            ],
            "layout": "IPY_MODEL_78f20bd1a22044f2bfde93598f611f0d",
            "tabbable": null,
            "tooltip": null
          }
        },
        "084a3f4c17aa4e059f062531de08c888": {
          "model_module": "@jupyter-widgets/base",
          "model_name": "LayoutModel",
          "model_module_version": "2.0.0",
          "state": {
            "_model_module": "@jupyter-widgets/base",
            "_model_module_version": "2.0.0",
            "_model_name": "LayoutModel",
            "_view_count": null,
            "_view_module": "@jupyter-widgets/base",
            "_view_module_version": "2.0.0",
            "_view_name": "LayoutView",
            "align_content": null,
            "align_items": null,
            "align_self": null,
            "border_bottom": null,
            "border_left": null,
            "border_right": null,
            "border_top": null,
            "bottom": null,
            "display": null,
            "flex": null,
            "flex_flow": null,
            "grid_area": null,
            "grid_auto_columns": null,
            "grid_auto_flow": null,
            "grid_auto_rows": null,
            "grid_column": null,
            "grid_gap": null,
            "grid_row": null,
            "grid_template_areas": null,
            "grid_template_columns": null,
            "grid_template_rows": null,
            "height": null,
            "justify_content": null,
            "justify_items": null,
            "left": null,
            "margin": null,
            "max_height": null,
            "max_width": null,
            "min_height": null,
            "min_width": null,
            "object_fit": null,
            "object_position": null,
            "order": null,
            "overflow": null,
            "padding": null,
            "right": null,
            "top": null,
            "visibility": null,
            "width": null
          }
        },
        "8bc2b6fb22944c0a9402000df4e4dcc6": {
          "model_module": "@jupyter-widgets/controls",
          "model_name": "ProgressStyleModel",
          "model_module_version": "2.0.0",
          "state": {
            "_model_module": "@jupyter-widgets/controls",
            "_model_module_version": "2.0.0",
            "_model_name": "ProgressStyleModel",
            "_view_count": null,
            "_view_module": "@jupyter-widgets/base",
            "_view_module_version": "2.0.0",
            "_view_name": "StyleView",
            "bar_color": null,
            "description_width": ""
          }
        },
        "a7e650759fea49f3a373d45094935e5c": {
          "model_module": "@jupyter-widgets/base",
          "model_name": "LayoutModel",
          "model_module_version": "2.0.0",
          "state": {
            "_model_module": "@jupyter-widgets/base",
            "_model_module_version": "2.0.0",
            "_model_name": "LayoutModel",
            "_view_count": null,
            "_view_module": "@jupyter-widgets/base",
            "_view_module_version": "2.0.0",
            "_view_name": "LayoutView",
            "align_content": null,
            "align_items": null,
            "align_self": null,
            "border_bottom": null,
            "border_left": null,
            "border_right": null,
            "border_top": null,
            "bottom": null,
            "display": null,
            "flex": null,
            "flex_flow": null,
            "grid_area": null,
            "grid_auto_columns": null,
            "grid_auto_flow": null,
            "grid_auto_rows": null,
            "grid_column": null,
            "grid_gap": null,
            "grid_row": null,
            "grid_template_areas": null,
            "grid_template_columns": null,
            "grid_template_rows": null,
            "height": null,
            "justify_content": null,
            "justify_items": null,
            "left": null,
            "margin": null,
            "max_height": null,
            "max_width": null,
            "min_height": null,
            "min_width": null,
            "object_fit": null,
            "object_position": null,
            "order": null,
            "overflow": null,
            "padding": null,
            "right": null,
            "top": null,
            "visibility": null,
            "width": null
          }
        },
        "f039eeefcae94a7792233faf1d365523": {
          "model_module": "@jupyter-widgets/controls",
          "model_name": "HTMLStyleModel",
          "model_module_version": "2.0.0",
          "state": {
            "_model_module": "@jupyter-widgets/controls",
            "_model_module_version": "2.0.0",
            "_model_name": "HTMLStyleModel",
            "_view_count": null,
            "_view_module": "@jupyter-widgets/base",
            "_view_module_version": "2.0.0",
            "_view_name": "StyleView",
            "background": null,
            "description_width": "",
            "font_size": null,
            "text_color": null
          }
        },
        "b927b34142ee4f1f96597cce23839077": {
          "model_module": "@jupyter-widgets/base",
          "model_name": "LayoutModel",
          "model_module_version": "2.0.0",
          "state": {
            "_model_module": "@jupyter-widgets/base",
            "_model_module_version": "2.0.0",
            "_model_name": "LayoutModel",
            "_view_count": null,
            "_view_module": "@jupyter-widgets/base",
            "_view_module_version": "2.0.0",
            "_view_name": "LayoutView",
            "align_content": null,
            "align_items": null,
            "align_self": null,
            "border_bottom": null,
            "border_left": null,
            "border_right": null,
            "border_top": null,
            "bottom": null,
            "display": null,
            "flex": null,
            "flex_flow": null,
            "grid_area": null,
            "grid_auto_columns": null,
            "grid_auto_flow": null,
            "grid_auto_rows": null,
            "grid_column": null,
            "grid_gap": null,
            "grid_row": null,
            "grid_template_areas": null,
            "grid_template_columns": null,
            "grid_template_rows": null,
            "height": null,
            "justify_content": null,
            "justify_items": null,
            "left": null,
            "margin": null,
            "max_height": null,
            "max_width": null,
            "min_height": null,
            "min_width": null,
            "object_fit": null,
            "object_position": null,
            "order": null,
            "overflow": null,
            "padding": null,
            "right": null,
            "top": null,
            "visibility": null,
            "width": null
          }
        },
        "1c9cc283960b499c8d07d715c760ed4a": {
          "model_module": "@jupyter-widgets/controls",
          "model_name": "HTMLStyleModel",
          "model_module_version": "2.0.0",
          "state": {
            "_model_module": "@jupyter-widgets/controls",
            "_model_module_version": "2.0.0",
            "_model_name": "HTMLStyleModel",
            "_view_count": null,
            "_view_module": "@jupyter-widgets/base",
            "_view_module_version": "2.0.0",
            "_view_name": "StyleView",
            "background": null,
            "description_width": "",
            "font_size": null,
            "text_color": null
          }
        },
        "adc4de1afb58422b9704f4cb9cbdf901": {
          "model_module": "@jupyter-widgets/controls",
          "model_name": "HTMLModel",
          "model_module_version": "2.0.0",
          "state": {
            "_dom_classes": [],
            "_model_module": "@jupyter-widgets/controls",
            "_model_module_version": "2.0.0",
            "_model_name": "HTMLModel",
            "_view_count": null,
            "_view_module": "@jupyter-widgets/controls",
            "_view_module_version": "2.0.0",
            "_view_name": "HTMLView",
            "description": "",
            "description_allow_html": false,
            "layout": "IPY_MODEL_a7e650759fea49f3a373d45094935e5c",
            "placeholder": "​",
            "style": "IPY_MODEL_f039eeefcae94a7792233faf1d365523",
            "tabbable": null,
            "tooltip": null,
            "value": "tokenizer.json: 100%"
          }
        },
        "e3af0f8eeac74bc498cab170bc45c21a": {
          "model_module": "@jupyter-widgets/controls",
          "model_name": "FloatProgressModel",
          "model_module_version": "2.0.0",
          "state": {
            "_dom_classes": [],
            "_model_module": "@jupyter-widgets/controls",
            "_model_module_version": "2.0.0",
            "_model_name": "FloatProgressModel",
            "_view_count": null,
            "_view_module": "@jupyter-widgets/controls",
            "_view_module_version": "2.0.0",
            "_view_name": "ProgressView",
            "bar_style": "success",
            "description": "",
            "description_allow_html": false,
            "layout": "IPY_MODEL_084a3f4c17aa4e059f062531de08c888",
            "max": 466021,
            "min": 0,
            "orientation": "horizontal",
            "style": "IPY_MODEL_8bc2b6fb22944c0a9402000df4e4dcc6",
            "tabbable": null,
            "tooltip": null,
            "value": 466021
          }
        },
        "f80cfaebb9ab4f318b1bba4897b24f0b": {
          "model_module": "@jupyter-widgets/controls",
          "model_name": "HTMLModel",
          "model_module_version": "2.0.0",
          "state": {
            "_dom_classes": [],
            "_model_module": "@jupyter-widgets/controls",
            "_model_module_version": "2.0.0",
            "_model_name": "HTMLModel",
            "_view_count": null,
            "_view_module": "@jupyter-widgets/controls",
            "_view_module_version": "2.0.0",
            "_view_name": "HTMLView",
            "description": "",
            "description_allow_html": false,
            "layout": "IPY_MODEL_b927b34142ee4f1f96597cce23839077",
            "placeholder": "​",
            "style": "IPY_MODEL_1c9cc283960b499c8d07d715c760ed4a",
            "tabbable": null,
            "tooltip": null,
            "value": " 466k/466k [00:00&lt;00:00, 15.3MB/s]"
          }
        },
        "9d0221fea3ab4c6f9acf538fcb0a9539": {
          "model_module": "@jupyter-widgets/base",
          "model_name": "LayoutModel",
          "model_module_version": "2.0.0",
          "state": {
            "_model_module": "@jupyter-widgets/base",
            "_model_module_version": "2.0.0",
            "_model_name": "LayoutModel",
            "_view_count": null,
            "_view_module": "@jupyter-widgets/base",
            "_view_module_version": "2.0.0",
            "_view_name": "LayoutView",
            "align_content": null,
            "align_items": null,
            "align_self": null,
            "border_bottom": null,
            "border_left": null,
            "border_right": null,
            "border_top": null,
            "bottom": null,
            "display": null,
            "flex": null,
            "flex_flow": null,
            "grid_area": null,
            "grid_auto_columns": null,
            "grid_auto_flow": null,
            "grid_auto_rows": null,
            "grid_column": null,
            "grid_gap": null,
            "grid_row": null,
            "grid_template_areas": null,
            "grid_template_columns": null,
            "grid_template_rows": null,
            "height": null,
            "justify_content": null,
            "justify_items": null,
            "left": null,
            "margin": null,
            "max_height": null,
            "max_width": null,
            "min_height": null,
            "min_width": null,
            "object_fit": null,
            "object_position": null,
            "order": null,
            "overflow": null,
            "padding": null,
            "right": null,
            "top": null,
            "visibility": null,
            "width": null
          }
        },
        "51f734022d7847108e8430d419e87f89": {
          "model_module": "@jupyter-widgets/controls",
          "model_name": "HBoxModel",
          "model_module_version": "2.0.0",
          "state": {
            "_dom_classes": [],
            "_model_module": "@jupyter-widgets/controls",
            "_model_module_version": "2.0.0",
            "_model_name": "HBoxModel",
            "_view_count": null,
            "_view_module": "@jupyter-widgets/controls",
            "_view_module_version": "2.0.0",
            "_view_name": "HBoxView",
            "box_style": "",
            "children": [
              "IPY_MODEL_adc4de1afb58422b9704f4cb9cbdf901",
              "IPY_MODEL_e3af0f8eeac74bc498cab170bc45c21a",
              "IPY_MODEL_f80cfaebb9ab4f318b1bba4897b24f0b"
            ],
            "layout": "IPY_MODEL_9d0221fea3ab4c6f9acf538fcb0a9539",
            "tabbable": null,
            "tooltip": null
          }
        },
        "4568cabd4dc44a08992e88f1290aaa32": {
          "model_module": "@jupyter-widgets/base",
          "model_name": "LayoutModel",
          "model_module_version": "2.0.0",
          "state": {
            "_model_module": "@jupyter-widgets/base",
            "_model_module_version": "2.0.0",
            "_model_name": "LayoutModel",
            "_view_count": null,
            "_view_module": "@jupyter-widgets/base",
            "_view_module_version": "2.0.0",
            "_view_name": "LayoutView",
            "align_content": null,
            "align_items": null,
            "align_self": null,
            "border_bottom": null,
            "border_left": null,
            "border_right": null,
            "border_top": null,
            "bottom": null,
            "display": null,
            "flex": null,
            "flex_flow": null,
            "grid_area": null,
            "grid_auto_columns": null,
            "grid_auto_flow": null,
            "grid_auto_rows": null,
            "grid_column": null,
            "grid_gap": null,
            "grid_row": null,
            "grid_template_areas": null,
            "grid_template_columns": null,
            "grid_template_rows": null,
            "height": null,
            "justify_content": null,
            "justify_items": null,
            "left": null,
            "margin": null,
            "max_height": null,
            "max_width": null,
            "min_height": null,
            "min_width": null,
            "object_fit": null,
            "object_position": null,
            "order": null,
            "overflow": null,
            "padding": null,
            "right": null,
            "top": null,
            "visibility": null,
            "width": null
          }
        },
        "f67cb7ab3e3e4cd89b6e7722b744909c": {
          "model_module": "@jupyter-widgets/controls",
          "model_name": "ProgressStyleModel",
          "model_module_version": "2.0.0",
          "state": {
            "_model_module": "@jupyter-widgets/controls",
            "_model_module_version": "2.0.0",
            "_model_name": "ProgressStyleModel",
            "_view_count": null,
            "_view_module": "@jupyter-widgets/base",
            "_view_module_version": "2.0.0",
            "_view_name": "StyleView",
            "bar_color": null,
            "description_width": ""
          }
        },
        "bcce33adea9043f8b8992f00c881fa67": {
          "model_module": "@jupyter-widgets/base",
          "model_name": "LayoutModel",
          "model_module_version": "2.0.0",
          "state": {
            "_model_module": "@jupyter-widgets/base",
            "_model_module_version": "2.0.0",
            "_model_name": "LayoutModel",
            "_view_count": null,
            "_view_module": "@jupyter-widgets/base",
            "_view_module_version": "2.0.0",
            "_view_name": "LayoutView",
            "align_content": null,
            "align_items": null,
            "align_self": null,
            "border_bottom": null,
            "border_left": null,
            "border_right": null,
            "border_top": null,
            "bottom": null,
            "display": null,
            "flex": null,
            "flex_flow": null,
            "grid_area": null,
            "grid_auto_columns": null,
            "grid_auto_flow": null,
            "grid_auto_rows": null,
            "grid_column": null,
            "grid_gap": null,
            "grid_row": null,
            "grid_template_areas": null,
            "grid_template_columns": null,
            "grid_template_rows": null,
            "height": null,
            "justify_content": null,
            "justify_items": null,
            "left": null,
            "margin": null,
            "max_height": null,
            "max_width": null,
            "min_height": null,
            "min_width": null,
            "object_fit": null,
            "object_position": null,
            "order": null,
            "overflow": null,
            "padding": null,
            "right": null,
            "top": null,
            "visibility": null,
            "width": null
          }
        },
        "564a38afd14e44e2b1a72eb41077eb0e": {
          "model_module": "@jupyter-widgets/controls",
          "model_name": "HTMLStyleModel",
          "model_module_version": "2.0.0",
          "state": {
            "_model_module": "@jupyter-widgets/controls",
            "_model_module_version": "2.0.0",
            "_model_name": "HTMLStyleModel",
            "_view_count": null,
            "_view_module": "@jupyter-widgets/base",
            "_view_module_version": "2.0.0",
            "_view_name": "StyleView",
            "background": null,
            "description_width": "",
            "font_size": null,
            "text_color": null
          }
        },
        "7352d68a32934197a95970d65bf019a6": {
          "model_module": "@jupyter-widgets/base",
          "model_name": "LayoutModel",
          "model_module_version": "2.0.0",
          "state": {
            "_model_module": "@jupyter-widgets/base",
            "_model_module_version": "2.0.0",
            "_model_name": "LayoutModel",
            "_view_count": null,
            "_view_module": "@jupyter-widgets/base",
            "_view_module_version": "2.0.0",
            "_view_name": "LayoutView",
            "align_content": null,
            "align_items": null,
            "align_self": null,
            "border_bottom": null,
            "border_left": null,
            "border_right": null,
            "border_top": null,
            "bottom": null,
            "display": null,
            "flex": null,
            "flex_flow": null,
            "grid_area": null,
            "grid_auto_columns": null,
            "grid_auto_flow": null,
            "grid_auto_rows": null,
            "grid_column": null,
            "grid_gap": null,
            "grid_row": null,
            "grid_template_areas": null,
            "grid_template_columns": null,
            "grid_template_rows": null,
            "height": null,
            "justify_content": null,
            "justify_items": null,
            "left": null,
            "margin": null,
            "max_height": null,
            "max_width": null,
            "min_height": null,
            "min_width": null,
            "object_fit": null,
            "object_position": null,
            "order": null,
            "overflow": null,
            "padding": null,
            "right": null,
            "top": null,
            "visibility": null,
            "width": null
          }
        },
        "41f90ba03750418b9ec4bc6174822783": {
          "model_module": "@jupyter-widgets/controls",
          "model_name": "HTMLStyleModel",
          "model_module_version": "2.0.0",
          "state": {
            "_model_module": "@jupyter-widgets/controls",
            "_model_module_version": "2.0.0",
            "_model_name": "HTMLStyleModel",
            "_view_count": null,
            "_view_module": "@jupyter-widgets/base",
            "_view_module_version": "2.0.0",
            "_view_name": "StyleView",
            "background": null,
            "description_width": "",
            "font_size": null,
            "text_color": null
          }
        },
        "d73c228cf6a448959346b0912ca264e9": {
          "model_module": "@jupyter-widgets/controls",
          "model_name": "HTMLModel",
          "model_module_version": "2.0.0",
          "state": {
            "_dom_classes": [],
            "_model_module": "@jupyter-widgets/controls",
            "_model_module_version": "2.0.0",
            "_model_name": "HTMLModel",
            "_view_count": null,
            "_view_module": "@jupyter-widgets/controls",
            "_view_module_version": "2.0.0",
            "_view_name": "HTMLView",
            "description": "",
            "description_allow_html": false,
            "layout": "IPY_MODEL_bcce33adea9043f8b8992f00c881fa67",
            "placeholder": "​",
            "style": "IPY_MODEL_564a38afd14e44e2b1a72eb41077eb0e",
            "tabbable": null,
            "tooltip": null,
            "value": "special_tokens_map.json: 100%"
          }
        },
        "0aa41cc9298e4a099cf71f4ca264a954": {
          "model_module": "@jupyter-widgets/controls",
          "model_name": "FloatProgressModel",
          "model_module_version": "2.0.0",
          "state": {
            "_dom_classes": [],
            "_model_module": "@jupyter-widgets/controls",
            "_model_module_version": "2.0.0",
            "_model_name": "FloatProgressModel",
            "_view_count": null,
            "_view_module": "@jupyter-widgets/controls",
            "_view_module_version": "2.0.0",
            "_view_name": "ProgressView",
            "bar_style": "success",
            "description": "",
            "description_allow_html": false,
            "layout": "IPY_MODEL_4568cabd4dc44a08992e88f1290aaa32",
            "max": 239,
            "min": 0,
            "orientation": "horizontal",
            "style": "IPY_MODEL_f67cb7ab3e3e4cd89b6e7722b744909c",
            "tabbable": null,
            "tooltip": null,
            "value": 239
          }
        },
        "c1acf2bec153470899f8379543ba3e43": {
          "model_module": "@jupyter-widgets/controls",
          "model_name": "HTMLModel",
          "model_module_version": "2.0.0",
          "state": {
            "_dom_classes": [],
            "_model_module": "@jupyter-widgets/controls",
            "_model_module_version": "2.0.0",
            "_model_name": "HTMLModel",
            "_view_count": null,
            "_view_module": "@jupyter-widgets/controls",
            "_view_module_version": "2.0.0",
            "_view_name": "HTMLView",
            "description": "",
            "description_allow_html": false,
            "layout": "IPY_MODEL_7352d68a32934197a95970d65bf019a6",
            "placeholder": "​",
            "style": "IPY_MODEL_41f90ba03750418b9ec4bc6174822783",
            "tabbable": null,
            "tooltip": null,
            "value": " 239/239 [00:00&lt;00:00, 8.19kB/s]"
          }
        },
        "8cd95f0489094bd2b64a259ad61aa95a": {
          "model_module": "@jupyter-widgets/base",
          "model_name": "LayoutModel",
          "model_module_version": "2.0.0",
          "state": {
            "_model_module": "@jupyter-widgets/base",
            "_model_module_version": "2.0.0",
            "_model_name": "LayoutModel",
            "_view_count": null,
            "_view_module": "@jupyter-widgets/base",
            "_view_module_version": "2.0.0",
            "_view_name": "LayoutView",
            "align_content": null,
            "align_items": null,
            "align_self": null,
            "border_bottom": null,
            "border_left": null,
            "border_right": null,
            "border_top": null,
            "bottom": null,
            "display": null,
            "flex": null,
            "flex_flow": null,
            "grid_area": null,
            "grid_auto_columns": null,
            "grid_auto_flow": null,
            "grid_auto_rows": null,
            "grid_column": null,
            "grid_gap": null,
            "grid_row": null,
            "grid_template_areas": null,
            "grid_template_columns": null,
            "grid_template_rows": null,
            "height": null,
            "justify_content": null,
            "justify_items": null,
            "left": null,
            "margin": null,
            "max_height": null,
            "max_width": null,
            "min_height": null,
            "min_width": null,
            "object_fit": null,
            "object_position": null,
            "order": null,
            "overflow": null,
            "padding": null,
            "right": null,
            "top": null,
            "visibility": null,
            "width": null
          }
        },
        "0a4b12eda1cd4955a50d615a5f93d803": {
          "model_module": "@jupyter-widgets/controls",
          "model_name": "HBoxModel",
          "model_module_version": "2.0.0",
          "state": {
            "_dom_classes": [],
            "_model_module": "@jupyter-widgets/controls",
            "_model_module_version": "2.0.0",
            "_model_name": "HBoxModel",
            "_view_count": null,
            "_view_module": "@jupyter-widgets/controls",
            "_view_module_version": "2.0.0",
            "_view_name": "HBoxView",
            "box_style": "",
            "children": [
              "IPY_MODEL_d73c228cf6a448959346b0912ca264e9",
              "IPY_MODEL_0aa41cc9298e4a099cf71f4ca264a954",
              "IPY_MODEL_c1acf2bec153470899f8379543ba3e43"
            ],
            "layout": "IPY_MODEL_8cd95f0489094bd2b64a259ad61aa95a",
            "tabbable": null,
            "tooltip": null
          }
        },
        "3735a6c62caf4763af19bd2df09b9bb4": {
          "model_module": "@jupyter-widgets/base",
          "model_name": "LayoutModel",
          "model_module_version": "2.0.0",
          "state": {
            "_model_module": "@jupyter-widgets/base",
            "_model_module_version": "2.0.0",
            "_model_name": "LayoutModel",
            "_view_count": null,
            "_view_module": "@jupyter-widgets/base",
            "_view_module_version": "2.0.0",
            "_view_name": "LayoutView",
            "align_content": null,
            "align_items": null,
            "align_self": null,
            "border_bottom": null,
            "border_left": null,
            "border_right": null,
            "border_top": null,
            "bottom": null,
            "display": null,
            "flex": null,
            "flex_flow": null,
            "grid_area": null,
            "grid_auto_columns": null,
            "grid_auto_flow": null,
            "grid_auto_rows": null,
            "grid_column": null,
            "grid_gap": null,
            "grid_row": null,
            "grid_template_areas": null,
            "grid_template_columns": null,
            "grid_template_rows": null,
            "height": null,
            "justify_content": null,
            "justify_items": null,
            "left": null,
            "margin": null,
            "max_height": null,
            "max_width": null,
            "min_height": null,
            "min_width": null,
            "object_fit": null,
            "object_position": null,
            "order": null,
            "overflow": null,
            "padding": null,
            "right": null,
            "top": null,
            "visibility": null,
            "width": null
          }
        },
        "01ba0fdcfd4e495bb538ac54e93fc214": {
          "model_module": "@jupyter-widgets/controls",
          "model_name": "ProgressStyleModel",
          "model_module_version": "2.0.0",
          "state": {
            "_model_module": "@jupyter-widgets/controls",
            "_model_module_version": "2.0.0",
            "_model_name": "ProgressStyleModel",
            "_view_count": null,
            "_view_module": "@jupyter-widgets/base",
            "_view_module_version": "2.0.0",
            "_view_name": "StyleView",
            "bar_color": null,
            "description_width": ""
          }
        },
        "8ef08b18812345c5bc29f8296a2194c9": {
          "model_module": "@jupyter-widgets/base",
          "model_name": "LayoutModel",
          "model_module_version": "2.0.0",
          "state": {
            "_model_module": "@jupyter-widgets/base",
            "_model_module_version": "2.0.0",
            "_model_name": "LayoutModel",
            "_view_count": null,
            "_view_module": "@jupyter-widgets/base",
            "_view_module_version": "2.0.0",
            "_view_name": "LayoutView",
            "align_content": null,
            "align_items": null,
            "align_self": null,
            "border_bottom": null,
            "border_left": null,
            "border_right": null,
            "border_top": null,
            "bottom": null,
            "display": null,
            "flex": null,
            "flex_flow": null,
            "grid_area": null,
            "grid_auto_columns": null,
            "grid_auto_flow": null,
            "grid_auto_rows": null,
            "grid_column": null,
            "grid_gap": null,
            "grid_row": null,
            "grid_template_areas": null,
            "grid_template_columns": null,
            "grid_template_rows": null,
            "height": null,
            "justify_content": null,
            "justify_items": null,
            "left": null,
            "margin": null,
            "max_height": null,
            "max_width": null,
            "min_height": null,
            "min_width": null,
            "object_fit": null,
            "object_position": null,
            "order": null,
            "overflow": null,
            "padding": null,
            "right": null,
            "top": null,
            "visibility": null,
            "width": null
          }
        },
        "8b3059cf58a34fda8d105ac34fd1d1e6": {
          "model_module": "@jupyter-widgets/controls",
          "model_name": "HTMLStyleModel",
          "model_module_version": "2.0.0",
          "state": {
            "_model_module": "@jupyter-widgets/controls",
            "_model_module_version": "2.0.0",
            "_model_name": "HTMLStyleModel",
            "_view_count": null,
            "_view_module": "@jupyter-widgets/base",
            "_view_module_version": "2.0.0",
            "_view_name": "StyleView",
            "background": null,
            "description_width": "",
            "font_size": null,
            "text_color": null
          }
        },
        "176bce2ed0964629acba8d6ad27aaa11": {
          "model_module": "@jupyter-widgets/base",
          "model_name": "LayoutModel",
          "model_module_version": "2.0.0",
          "state": {
            "_model_module": "@jupyter-widgets/base",
            "_model_module_version": "2.0.0",
            "_model_name": "LayoutModel",
            "_view_count": null,
            "_view_module": "@jupyter-widgets/base",
            "_view_module_version": "2.0.0",
            "_view_name": "LayoutView",
            "align_content": null,
            "align_items": null,
            "align_self": null,
            "border_bottom": null,
            "border_left": null,
            "border_right": null,
            "border_top": null,
            "bottom": null,
            "display": null,
            "flex": null,
            "flex_flow": null,
            "grid_area": null,
            "grid_auto_columns": null,
            "grid_auto_flow": null,
            "grid_auto_rows": null,
            "grid_column": null,
            "grid_gap": null,
            "grid_row": null,
            "grid_template_areas": null,
            "grid_template_columns": null,
            "grid_template_rows": null,
            "height": null,
            "justify_content": null,
            "justify_items": null,
            "left": null,
            "margin": null,
            "max_height": null,
            "max_width": null,
            "min_height": null,
            "min_width": null,
            "object_fit": null,
            "object_position": null,
            "order": null,
            "overflow": null,
            "padding": null,
            "right": null,
            "top": null,
            "visibility": null,
            "width": null
          }
        },
        "109b32e714fb44eaa908c8b6074c9a4f": {
          "model_module": "@jupyter-widgets/controls",
          "model_name": "HTMLStyleModel",
          "model_module_version": "2.0.0",
          "state": {
            "_model_module": "@jupyter-widgets/controls",
            "_model_module_version": "2.0.0",
            "_model_name": "HTMLStyleModel",
            "_view_count": null,
            "_view_module": "@jupyter-widgets/base",
            "_view_module_version": "2.0.0",
            "_view_name": "StyleView",
            "background": null,
            "description_width": "",
            "font_size": null,
            "text_color": null
          }
        },
        "6cf6e637c1cb4aa5a637f9280ae21ade": {
          "model_module": "@jupyter-widgets/controls",
          "model_name": "HTMLModel",
          "model_module_version": "2.0.0",
          "state": {
            "_dom_classes": [],
            "_model_module": "@jupyter-widgets/controls",
            "_model_module_version": "2.0.0",
            "_model_name": "HTMLModel",
            "_view_count": null,
            "_view_module": "@jupyter-widgets/controls",
            "_view_module_version": "2.0.0",
            "_view_name": "HTMLView",
            "description": "",
            "description_allow_html": false,
            "layout": "IPY_MODEL_8ef08b18812345c5bc29f8296a2194c9",
            "placeholder": "​",
            "style": "IPY_MODEL_8b3059cf58a34fda8d105ac34fd1d1e6",
            "tabbable": null,
            "tooltip": null,
            "value": "1_Pooling/config.json: 100%"
          }
        },
        "8b1c027b053f4f9498fff1785628873b": {
          "model_module": "@jupyter-widgets/controls",
          "model_name": "FloatProgressModel",
          "model_module_version": "2.0.0",
          "state": {
            "_dom_classes": [],
            "_model_module": "@jupyter-widgets/controls",
            "_model_module_version": "2.0.0",
            "_model_name": "FloatProgressModel",
            "_view_count": null,
            "_view_module": "@jupyter-widgets/controls",
            "_view_module_version": "2.0.0",
            "_view_name": "ProgressView",
            "bar_style": "success",
            "description": "",
            "description_allow_html": false,
            "layout": "IPY_MODEL_3735a6c62caf4763af19bd2df09b9bb4",
            "max": 190,
            "min": 0,
            "orientation": "horizontal",
            "style": "IPY_MODEL_01ba0fdcfd4e495bb538ac54e93fc214",
            "tabbable": null,
            "tooltip": null,
            "value": 190
          }
        },
        "9f2e34fb14aa4600966ad706dad49dc3": {
          "model_module": "@jupyter-widgets/controls",
          "model_name": "HTMLModel",
          "model_module_version": "2.0.0",
          "state": {
            "_dom_classes": [],
            "_model_module": "@jupyter-widgets/controls",
            "_model_module_version": "2.0.0",
            "_model_name": "HTMLModel",
            "_view_count": null,
            "_view_module": "@jupyter-widgets/controls",
            "_view_module_version": "2.0.0",
            "_view_name": "HTMLView",
            "description": "",
            "description_allow_html": false,
            "layout": "IPY_MODEL_176bce2ed0964629acba8d6ad27aaa11",
            "placeholder": "​",
            "style": "IPY_MODEL_109b32e714fb44eaa908c8b6074c9a4f",
            "tabbable": null,
            "tooltip": null,
            "value": " 190/190 [00:00&lt;00:00, 5.82kB/s]"
          }
        },
        "31ad4fa017884c67a0cc4359415d4500": {
          "model_module": "@jupyter-widgets/base",
          "model_name": "LayoutModel",
          "model_module_version": "2.0.0",
          "state": {
            "_model_module": "@jupyter-widgets/base",
            "_model_module_version": "2.0.0",
            "_model_name": "LayoutModel",
            "_view_count": null,
            "_view_module": "@jupyter-widgets/base",
            "_view_module_version": "2.0.0",
            "_view_name": "LayoutView",
            "align_content": null,
            "align_items": null,
            "align_self": null,
            "border_bottom": null,
            "border_left": null,
            "border_right": null,
            "border_top": null,
            "bottom": null,
            "display": null,
            "flex": null,
            "flex_flow": null,
            "grid_area": null,
            "grid_auto_columns": null,
            "grid_auto_flow": null,
            "grid_auto_rows": null,
            "grid_column": null,
            "grid_gap": null,
            "grid_row": null,
            "grid_template_areas": null,
            "grid_template_columns": null,
            "grid_template_rows": null,
            "height": null,
            "justify_content": null,
            "justify_items": null,
            "left": null,
            "margin": null,
            "max_height": null,
            "max_width": null,
            "min_height": null,
            "min_width": null,
            "object_fit": null,
            "object_position": null,
            "order": null,
            "overflow": null,
            "padding": null,
            "right": null,
            "top": null,
            "visibility": null,
            "width": null
          }
        },
        "ceaef908e2f44f38a01a354afc3c64e3": {
          "model_module": "@jupyter-widgets/controls",
          "model_name": "HBoxModel",
          "model_module_version": "2.0.0",
          "state": {
            "_dom_classes": [],
            "_model_module": "@jupyter-widgets/controls",
            "_model_module_version": "2.0.0",
            "_model_name": "HBoxModel",
            "_view_count": null,
            "_view_module": "@jupyter-widgets/controls",
            "_view_module_version": "2.0.0",
            "_view_name": "HBoxView",
            "box_style": "",
            "children": [
              "IPY_MODEL_6cf6e637c1cb4aa5a637f9280ae21ade",
              "IPY_MODEL_8b1c027b053f4f9498fff1785628873b",
              "IPY_MODEL_9f2e34fb14aa4600966ad706dad49dc3"
            ],
            "layout": "IPY_MODEL_31ad4fa017884c67a0cc4359415d4500",
            "tabbable": null,
            "tooltip": null
          }
        }
      }
    },
    "kaggle": {
      "accelerator": "none",
      "dataSources": [
        {
          "sourceId": 9499741,
          "sourceType": "datasetVersion",
          "datasetId": 5781178
        }
      ],
      "isInternetEnabled": true,
      "language": "python",
      "sourceType": "notebook",
      "isGpuEnabled": false
    }
  },
  "nbformat_minor": 0,
  "nbformat": 4,
  "cells": [
    {
      "cell_type": "markdown",
      "metadata": {
        "id": "view-in-github",
        "colab_type": "text"
      },
      "source": [
        "<a href=\"https://colab.research.google.com/github/Om-Tiwari/GraphRAG-chatDoctor/blob/main/GRAPH_RAG.ipynb\" target=\"_parent\"><img src=\"https://colab.research.google.com/assets/colab-badge.svg\" alt=\"Open In Colab\"/></a>"
      ]
    },
    {
      "cell_type": "code",
      "source": [
        "!pip install --upgrade --quiet langchain jq langchain-community langchain-huggingface langchain-groq langchain-experimental neo4j tiktoken yfiles_jupyter_graphs sentence_transformers\n",
        "!pip -q install nltk rouge-score sentence-transformers scikit-learn python-Levenshtein"
      ],
      "metadata": {
        "id": "QtDZaa2i-Pnj",
        "colab": {
          "base_uri": "https://localhost:8080/"
        },
        "outputId": "98a4f4a3-2621-4cad-da67-544ea7ab79f5",
        "execution": {
          "iopub.status.busy": "2024-09-28T03:55:39.897739Z",
          "iopub.execute_input": "2024-09-28T03:55:39.898243Z",
          "iopub.status.idle": "2024-09-28T03:56:10.027241Z",
          "shell.execute_reply.started": "2024-09-28T03:55:39.898187Z",
          "shell.execute_reply": "2024-09-28T03:56:10.025667Z"
        },
        "trusted": true
      },
      "execution_count": 1,
      "outputs": [
        {
          "output_type": "stream",
          "name": "stdout",
          "text": [
            "\u001b[2K     \u001b[90m━━━━━━━━━━━━━━━━━━━━━━━━━━━━━━━━━━━━━━━━\u001b[0m \u001b[32m50.4/50.4 kB\u001b[0m \u001b[31m440.5 kB/s\u001b[0m eta \u001b[36m0:00:00\u001b[0m\n",
            "\u001b[2K   \u001b[90m━━━━━━━━━━━━━━━━━━━━━━━━━━━━━━━━━━━━━━━━\u001b[0m \u001b[32m1.0/1.0 MB\u001b[0m \u001b[31m7.2 MB/s\u001b[0m eta \u001b[36m0:00:00\u001b[0m\n",
            "\u001b[2K   \u001b[90m━━━━━━━━━━━━━━━━━━━━━━━━━━━━━━━━━━━━━━━━\u001b[0m \u001b[32m737.4/737.4 kB\u001b[0m \u001b[31m33.6 MB/s\u001b[0m eta \u001b[36m0:00:00\u001b[0m\n",
            "\u001b[2K   \u001b[90m━━━━━━━━━━━━━━━━━━━━━━━━━━━━━━━━━━━━━━━━\u001b[0m \u001b[32m2.4/2.4 MB\u001b[0m \u001b[31m37.6 MB/s\u001b[0m eta \u001b[36m0:00:00\u001b[0m\n",
            "\u001b[2K   \u001b[90m━━━━━━━━━━━━━━━━━━━━━━━━━━━━━━━━━━━━━━━━\u001b[0m \u001b[32m208.1/208.1 kB\u001b[0m \u001b[31m5.8 MB/s\u001b[0m eta \u001b[36m0:00:00\u001b[0m\n",
            "\u001b[2K   \u001b[90m━━━━━━━━━━━━━━━━━━━━━━━━━━━━━━━━━━━━━━━━\u001b[0m \u001b[32m296.6/296.6 kB\u001b[0m \u001b[31m11.3 MB/s\u001b[0m eta \u001b[36m0:00:00\u001b[0m\n",
            "\u001b[2K   \u001b[90m━━━━━━━━━━━━━━━━━━━━━━━━━━━━━━━━━━━━━━━━\u001b[0m \u001b[32m1.1/1.1 MB\u001b[0m \u001b[31m10.6 MB/s\u001b[0m eta \u001b[36m0:00:00\u001b[0m\n",
            "\u001b[2K   \u001b[90m━━━━━━━━━━━━━━━━━━━━━━━━━━━━━━━━━━━━━━━━\u001b[0m \u001b[32m15.6/15.6 MB\u001b[0m \u001b[31m23.8 MB/s\u001b[0m eta \u001b[36m0:00:00\u001b[0m\n",
            "\u001b[2K   \u001b[90m━━━━━━━━━━━━━━━━━━━━━━━━━━━━━━━━━━━━━━━━\u001b[0m \u001b[32m245.3/245.3 kB\u001b[0m \u001b[31m11.6 MB/s\u001b[0m eta \u001b[36m0:00:00\u001b[0m\n",
            "\u001b[2K   \u001b[90m━━━━━━━━━━━━━━━━━━━━━━━━━━━━━━━━━━━━━━━━\u001b[0m \u001b[32m106.5/106.5 kB\u001b[0m \u001b[31m2.5 MB/s\u001b[0m eta \u001b[36m0:00:00\u001b[0m\n",
            "\u001b[2K   \u001b[90m━━━━━━━━━━━━━━━━━━━━━━━━━━━━━━━━━━━━━━━━\u001b[0m \u001b[32m139.8/139.8 kB\u001b[0m \u001b[31m4.5 MB/s\u001b[0m eta \u001b[36m0:00:00\u001b[0m\n",
            "\u001b[2K   \u001b[90m━━━━━━━━━━━━━━━━━━━━━━━━━━━━━━━━━━━━━━━━\u001b[0m \u001b[32m399.9/399.9 kB\u001b[0m \u001b[31m12.1 MB/s\u001b[0m eta \u001b[36m0:00:00\u001b[0m\n",
            "\u001b[2K   \u001b[90m━━━━━━━━━━━━━━━━━━━━━━━━━━━━━━━━━━━━━━━━\u001b[0m \u001b[32m292.2/292.2 kB\u001b[0m \u001b[31m4.1 MB/s\u001b[0m eta \u001b[36m0:00:00\u001b[0m\n",
            "\u001b[2K   \u001b[90m━━━━━━━━━━━━━━━━━━━━━━━━━━━━━━━━━━━━━━━━\u001b[0m \u001b[32m76.4/76.4 kB\u001b[0m \u001b[31m5.6 MB/s\u001b[0m eta \u001b[36m0:00:00\u001b[0m\n",
            "\u001b[2K   \u001b[90m━━━━━━━━━━━━━━━━━━━━━━━━━━━━━━━━━━━━━━━━\u001b[0m \u001b[32m77.9/77.9 kB\u001b[0m \u001b[31m4.9 MB/s\u001b[0m eta \u001b[36m0:00:00\u001b[0m\n",
            "\u001b[2K   \u001b[90m━━━━━━━━━━━━━━━━━━━━━━━━━━━━━━━━━━━━━━━━\u001b[0m \u001b[32m49.3/49.3 kB\u001b[0m \u001b[31m1.3 MB/s\u001b[0m eta \u001b[36m0:00:00\u001b[0m\n",
            "\u001b[2K   \u001b[90m━━━━━━━━━━━━━━━━━━━━━━━━━━━━━━━━━━━━━━━━\u001b[0m \u001b[32m141.9/141.9 kB\u001b[0m \u001b[31m10.5 MB/s\u001b[0m eta \u001b[36m0:00:00\u001b[0m\n",
            "\u001b[2K   \u001b[90m━━━━━━━━━━━━━━━━━━━━━━━━━━━━━━━━━━━━━━━━\u001b[0m \u001b[32m2.3/2.3 MB\u001b[0m \u001b[31m65.5 MB/s\u001b[0m eta \u001b[36m0:00:00\u001b[0m\n",
            "\u001b[2K   \u001b[90m━━━━━━━━━━━━━━━━━━━━━━━━━━━━━━━━━━━━━━━━\u001b[0m \u001b[32m58.3/58.3 kB\u001b[0m \u001b[31m3.8 MB/s\u001b[0m eta \u001b[36m0:00:00\u001b[0m\n",
            "\u001b[?25h  Preparing metadata (setup.py) ... \u001b[?25l\u001b[?25hdone\n",
            "\u001b[2K   \u001b[90m━━━━━━━━━━━━━━━━━━━━━━━━━━━━━━━━━━━━━━━━\u001b[0m \u001b[32m162.6/162.6 kB\u001b[0m \u001b[31m1.9 MB/s\u001b[0m eta \u001b[36m0:00:00\u001b[0m\n",
            "\u001b[2K   \u001b[90m━━━━━━━━━━━━━━━━━━━━━━━━━━━━━━━━━━━━━━━━\u001b[0m \u001b[32m3.1/3.1 MB\u001b[0m \u001b[31m20.2 MB/s\u001b[0m eta \u001b[36m0:00:00\u001b[0m\n",
            "\u001b[?25h  Building wheel for rouge-score (setup.py) ... \u001b[?25l\u001b[?25hdone\n"
          ]
        }
      ]
    },
    {
      "cell_type": "code",
      "source": [
        "from langchain_core.runnables import (\n",
        "    RunnableBranch,\n",
        "    RunnableLambda,\n",
        "    RunnableParallel,\n",
        "    RunnablePassthrough,\n",
        ")\n",
        "from langchain_core.prompts import ChatPromptTemplate\n",
        "from langchain_core.prompts.prompt import PromptTemplate\n",
        "from pydantic import BaseModel, Field\n",
        "from typing import Tuple, List, Optional\n",
        "from langchain_core.messages import AIMessage, HumanMessage\n",
        "from langchain_core.output_parsers import StrOutputParser\n",
        "import os\n",
        "from langchain_community.graphs import Neo4jGraph\n",
        "from langchain_community.document_loaders import JSONLoader\n",
        "from langchain.text_splitter import TokenTextSplitter\n",
        "from langchain_groq import ChatGroq\n",
        "from langchain_experimental.graph_transformers import LLMGraphTransformer\n",
        "from neo4j import GraphDatabase\n",
        "from yfiles_jupyter_graphs import GraphWidget\n",
        "from langchain_community.vectorstores import Neo4jVector\n",
        "from langchain_huggingface.embeddings import HuggingFaceEmbeddings\n",
        "from langchain_community.vectorstores.neo4j_vector import remove_lucene_chars\n",
        "from langchain_core.runnables import ConfigurableField, RunnableParallel, RunnablePassthrough\n",
        "\n",
        "# Importing necessary for testing libraries\n",
        "from nltk.translate.bleu_score import sentence_bleu\n",
        "from rouge_score import rouge_scorer\n",
        "from sentence_transformers import SentenceTransformer\n",
        "from sklearn.metrics.pairwise import cosine_similarity\n",
        "import Levenshtein\n",
        "\n",
        "try:\n",
        "  import google.colab\n",
        "  from google.colab import output\n",
        "  output.enable_custom_widget_manager()\n",
        "except:\n",
        "  pass\n",
        "\n",
        "from tqdm.autonotebook import tqdm, trange"
      ],
      "metadata": {
        "id": "6LiFA237-RCY",
        "execution": {
          "iopub.status.busy": "2024-09-28T03:56:10.029624Z",
          "iopub.execute_input": "2024-09-28T03:56:10.030039Z",
          "iopub.status.idle": "2024-09-28T03:56:12.43637Z",
          "shell.execute_reply.started": "2024-09-28T03:56:10.029996Z",
          "shell.execute_reply": "2024-09-28T03:56:12.4354Z"
        },
        "trusted": true
      },
      "execution_count": 6,
      "outputs": []
    },
    {
      "cell_type": "code",
      "source": [
        "os.environ[\"NEO4J_URI\"] = \"neo4j+s://xxx.databases.neo4j.io\"\n",
        "os.environ[\"NEO4J_USERNAME\"] = \"neo4j\"\n",
        "os.environ[\"NEO4J_PASSWORD\"] = \"<password>\"\n",
        "os.environ[\"GROQ_API_KEY\"] = \"gsk_...\""
      ],
      "metadata": {
        "id": "wzOAAT14_nuc",
        "execution": {
          "iopub.status.busy": "2024-09-28T03:56:12.437912Z",
          "iopub.execute_input": "2024-09-28T03:56:12.438738Z",
          "iopub.status.idle": "2024-09-28T03:56:17.120942Z",
          "shell.execute_reply.started": "2024-09-28T03:56:12.438678Z",
          "shell.execute_reply": "2024-09-28T03:56:17.119825Z"
        },
        "trusted": true
      },
      "execution_count": null,
      "outputs": []
    },
    {
      "cell_type": "code",
      "source": [
        "loader = JSONLoader(\n",
        "    file_path=\"/content/train_2kchat.jsonl\",\n",
        "    jq_schema=\".chat\",\n",
        "    text_content=False,\n",
        "    json_lines=True,\n",
        ")\n",
        "\n",
        "docs = loader.load()\n",
        "# docs_length = 2000 JSON\n",
        "\n",
        "# Define chunking strategy\n",
        "text_splitter = TokenTextSplitter(chunk_size=1024, chunk_overlap=24)\n",
        "documents = text_splitter.split_documents(docs)\n",
        "print(docs[51])\n",
        "len(documents)\n"
      ],
      "metadata": {
        "id": "MkVrzTDUCMc4",
        "execution": {
          "iopub.status.busy": "2024-09-28T04:35:59.098392Z",
          "iopub.execute_input": "2024-09-28T04:35:59.098857Z",
          "iopub.status.idle": "2024-09-28T04:35:59.116735Z",
          "shell.execute_reply.started": "2024-09-28T04:35:59.098812Z",
          "shell.execute_reply": "2024-09-28T04:35:59.115249Z"
        },
        "trusted": true,
        "outputId": "0131951e-3ddb-47d5-b6f8-4c4d0055d815",
        "colab": {
          "base_uri": "https://localhost:8080/"
        }
      },
      "execution_count": 10,
      "outputs": [
        {
          "output_type": "stream",
          "name": "stdout",
          "text": [
            "page_content='[{'input': [{'role': 'user', 'content': 'Hello doctor, I have been going to a dentist about a tooth that is sore. They started a root canal but then did not finish. I have gone back several times and every time they open up the tooth and insert medicine. My tooth is in agony right now. I am just wondering if this is a standard procedure during a root canal? Should not the dentist remove the nerves so I am not in so much pain? Or is it the standard procedure to fight the infection first and then remove the nerves?'}], 'ideal': 'Hello. I understand your concern. The number of sittings in the root canal procedure depends on the amount and extent of infection. If the infection is more, the tooth is opened up and medicated  ChatDoctor.  Antibiotics and painkillers will be prescribed for the next three days to control the pain and infection. After three days, the root canal treatment can be done painlessly, once the nerve had died. From your query and the details provided, it seems like you are having a challenging tooth (quite a lot of infection, curved roots, pulp stones, etc.). A clear picture of your tooth x-ray will help to identify the problem. Talk to your dentist and get to know, what is causing this pain and delay in treatment. I hope this helps. '}]' metadata={'source': '/content/train_2kchat.jsonl', 'seq_num': 52}\n"
          ]
        },
        {
          "output_type": "execute_result",
          "data": {
            "text/plain": [
              "2000"
            ]
          },
          "metadata": {},
          "execution_count": 10
        }
      ]
    },
    {
      "cell_type": "code",
      "source": [
        "llm = ChatGroq(temperature=0, model_name=\"llama-3.1-70b-versatile\")\n",
        "\n",
        "prompt = ChatPromptTemplate.from_template((\n",
        "  \"\"\"\n",
        "You are a knowledge graph engineer working on an AI Doctor project that aims to extract structured medical data from patient inquiries and responses. Your task is to extract key information relevant to the patient's medical condition from the following text input.\n",
        "\n",
        "Instructions for Extraction:\n",
        "\n",
        "Disease: Identify the primary medical condition or diagnosis mentioned in the user query.\n",
        "Symptoms: List the symptoms experienced by the patient, specifying any severity or duration provided.\n",
        "Treatment History: Document any treatments or medications the patient has received, including dosages and duration.\n",
        "Medical History: Include any relevant past medical history that may impact the current condition.\n",
        "Family History: Note any pertinent family medical history if mentioned.\n",
        "Lifestyle Factors: Identify any lifestyle information, such as substance use (e.g., drugs, alcohol), diet, or exercise habits.\n",
        "Recommendations: Include any recommendations or advice given by the doctor in the ideal response.\n",
        "  \"\"\"\n",
        "  )\n",
        ")\n",
        "\n",
        "\n",
        "llm_transformer = LLMGraphTransformer(\n",
        "    llm=llm,\n",
        "    )"
      ],
      "metadata": {
        "id": "fTTNr3o5DFma",
        "execution": {
          "iopub.status.busy": "2024-09-28T04:36:04.422435Z",
          "iopub.execute_input": "2024-09-28T04:36:04.422929Z",
          "iopub.status.idle": "2024-09-28T04:36:04.466469Z",
          "shell.execute_reply.started": "2024-09-28T04:36:04.422883Z",
          "shell.execute_reply": "2024-09-28T04:36:04.465292Z"
        },
        "trusted": true
      },
      "execution_count": null,
      "outputs": []
    },
    {
      "cell_type": "code",
      "source": [
        "graph = Neo4jGraph()\n",
        "\n",
        "graph_documents = llm_transformer.convert_to_graph_documents(documents)"
      ],
      "metadata": {
        "execution": {
          "iopub.status.busy": "2024-09-28T04:36:05.824558Z",
          "iopub.execute_input": "2024-09-28T04:36:05.825037Z",
          "iopub.status.idle": "2024-09-28T04:36:38.361097Z",
          "shell.execute_reply.started": "2024-09-28T04:36:05.824993Z",
          "shell.execute_reply": "2024-09-28T04:36:38.359922Z"
        },
        "trusted": true,
        "id": "iB0ZWBWWeoO_"
      },
      "execution_count": null,
      "outputs": []
    },
    {
      "cell_type": "code",
      "source": [
        "graph.add_graph_documents(\n",
        "    graph_documents=[],\n",
        "    baseEntityLabel=True,\n",
        "    include_source=True\n",
        ")"
      ],
      "metadata": {
        "id": "RTPAX8uyCdgy"
      },
      "execution_count": null,
      "outputs": []
    },
    {
      "cell_type": "code",
      "source": [
        "# directly show the graph resulting from the given Cypher query\n",
        "default_cypher = \"MATCH (s)-[r:!MENTIONS]->(t) RETURN s,r,t\"\n",
        "\n",
        "def showGraph(cypher: str = default_cypher):\n",
        "    # create a neo4j session to run queries\n",
        "    driver = GraphDatabase.driver(\n",
        "        uri = os.environ[\"NEO4J_URI\"],\n",
        "        auth = (os.environ[\"NEO4J_USERNAME\"],\n",
        "                os.environ[\"NEO4J_PASSWORD\"]))\n",
        "    session = driver.session()\n",
        "    widget = GraphWidget(graph = session.run(cypher).graph())\n",
        "    widget.node_label_mapping = 'id'\n",
        "    #display(widget)\n",
        "    return widget\n",
        "\n",
        "showGraph()"
      ],
      "metadata": {
        "colab": {
          "base_uri": "https://localhost:8080/",
          "height": 817,
          "referenced_widgets": [
            "0edc5c962bd346ca85ee46d82fc55399",
            "4ada399236004de08cc5d9fa4d94dd6f"
          ]
        },
        "id": "0rn6G-8UEh5A",
        "outputId": "14c6ca7d-7d1b-48dc-83af-068baa7be080",
        "execution": {
          "iopub.status.busy": "2024-09-28T04:36:40.236414Z",
          "iopub.execute_input": "2024-09-28T04:36:40.236867Z",
          "iopub.status.idle": "2024-09-28T04:36:42.858789Z",
          "shell.execute_reply.started": "2024-09-28T04:36:40.236823Z",
          "shell.execute_reply": "2024-09-28T04:36:42.85763Z"
        },
        "trusted": true
      },
      "execution_count": null,
      "outputs": [
        {
          "output_type": "display_data",
          "data": {
            "text/plain": [
              "GraphWidget(layout=Layout(height='800px', width='100%'))"
            ],
            "application/vnd.jupyter.widget-view+json": {
              "version_major": 2,
              "version_minor": 0,
              "model_id": "0edc5c962bd346ca85ee46d82fc55399"
            }
          },
          "metadata": {
            "application/vnd.jupyter.widget-view+json": {
              "colab": {
                "custom_widget_manager": {
                  "url": "https://ssl.gstatic.com/colaboratory-static/widgets/colab-cdn-widget-manager/2b70e893a8ba7c0f/manager.min.js"
                }
              }
            }
          }
        }
      ]
    },
    {
      "cell_type": "code",
      "source": [
        "vector_index = Neo4jVector.from_existing_graph(\n",
        "    HuggingFaceEmbeddings(),\n",
        "    search_type=\"hybrid\",\n",
        "    node_label=\"Document\",\n",
        "    text_node_properties=[\"text\"],\n",
        "    embedding_node_property=\"embedding\"\n",
        ")"
      ],
      "metadata": {
        "colab": {
          "base_uri": "https://localhost:8080/",
          "height": 72,
          "referenced_widgets": [
            "7ccd9735b6574ae1af463f887d2ee91f",
            "f680342074a446f3860b9fdcbe35b948",
            "49dfa1f46b0742c28a6a84a23a81581d",
            "0285f5e0bf974fd8824988803bd81720",
            "de63c7f565704a9d93c845e2d41ac9e2",
            "751d292f2f2e45278d3dff9300545bf5",
            "98dab7d87e1e4ec19bc52b77d2900f84",
            "0ab0d4650cf94983a15615a7ca5da803",
            "6fe44fb85dbf448793f1338730faa784",
            "10f3b109629649d792f6431dd139b0f7",
            "cfe19e05362a403f85b0261a48cdbbda",
            "e65f1b4c46254686b0d4aa4966e9c9cb",
            "8da70deba34f4e3192261b98892dfca1",
            "e252e3af375e4653bb8915e0523f91de",
            "b4f4a79ddff34fa7b61e1dc5a5a27d03",
            "a991c0a280804d799a8cfb6e89c4c420",
            "66ce7bd4030d4036afb6dd21a8a756fe",
            "e42458663db543a1b87aff32d945be64",
            "037adc8e916a467e8932e3bce7e2b5ae",
            "e824fe3061514c2ea034b754cf181fb5",
            "e42170bfbc4046f2a7e9b9e221b6f5a6",
            "e851634384a04ba485489fd1628eddbe",
            "9b760d820ba644469b4fc35c6d8c8d8a",
            "5da4fc7b0eaf4a7e97053cb9c6dc3a13",
            "fbbb8daf07004a06825093690f43e64c",
            "3631819c8a1e4a3ead16c379507ce02f",
            "e19eaa8b63834814a59aa6a16f5d0882",
            "f1f13532bd224f2ba3e4b155902e1271",
            "d55d8a16f9634f1dae00c9d1427cd03f",
            "1bf63f6b71814c65b9707235c0f293a7",
            "c8b03d11733f4b939b4fef08b283d58b",
            "b962231a1bba4576a2162afff2fbe553",
            "5e7748a1d3bc411e8dcb0a3e40efca4c",
            "456793e5e1ba4bad8496312268af1833",
            "b4f9f8039b41459296eb5144d35adcd0",
            "e446181c0cb540b19f92a26d969a8453",
            "05810675779e41e5b260ebd5d8da0eab",
            "4edbf6407a5d40c697edc045e3249649",
            "30ed816acac74cd88a52bfba947776f1",
            "631d28941f9a47959e155a78d7957b7b",
            "e60a7546c87f4eeb9c936437fe4778f1",
            "42e9d3ecb2f9491a9bb73ae24c036425",
            "44c402b423694b80ad6f6e45a936821b",
            "1daea191599745a383003c0a07e05dc2",
            "8a211884ee4d4635909665805770defb",
            "c05f4a59a1de490fba0661ec933294eb",
            "7f1ab2b30ab646b7821eaa1511f7afc6",
            "d6b29c02b5d24d72a287616b90abf03f",
            "c031e3e50e3343c19d709441f7f67d8a",
            "a619b9c00d314c1fbc91523da92132fd",
            "3148dadaedc543489ee87cd3869a0e12",
            "30e214800ad74e94ad329ceb8af98edb",
            "900e7c46b9d545dd8be6a8c5a069d711",
            "8092c77058f24f509872ca88aa7ab684",
            "4b712e7ed7114d6f8be643d21d197e07",
            "fce6c0dc393d4f39bfa40a35b785e93c",
            "8669964d90b249fdb59181b00b3063cd",
            "ff22449b82994d2ab45851145de4312b",
            "6bc3f0a182824cfc99e7aa3364e1ff83",
            "6c85cc7b95de48cd9a72db6f89f4fde0",
            "e6342a26a583440f8bd686c947a014a4",
            "99c0308269c74bb09e7cb9fea950ed27",
            "e720b9f57ec244feaf2e1470cf846aba",
            "a551d323d10346e9b0e684ac9be8ff39",
            "60b3cf8dd5924287a6feeb7f09f58121",
            "5da765711b874427a5107ddd49742bab",
            "7b2092f3e3a44a08a230f6536ef04747",
            "fe350dee4fba48a09c0f40d380886917",
            "9a04c131d3784a3e870c15418ce0c617",
            "d25cad1c906e45bf89eac72530b83f2a",
            "bc99090222534792aa8afd69d6ef53b3",
            "0155711a682f4f3ba96d6e309ae7ffc1",
            "1b945b5abd6e470ca96b4be235c6fdc7",
            "c04d09eee9f540f49efbb402c6edd336",
            "bbd06d5b11ae4e80bbf2b8964efc8ad7",
            "265d1b4454f4423188c6db0ad059cfa9",
            "57e4079c5ef944c3b1f948b33baa42bf",
            "3999be61b48c4f8b93c12132e81cd974",
            "76657507f3214c4e9cd643a0719e7f37",
            "560339e3dfbb4cacae7b303b1a64a78c",
            "1459d1d1c4cc43bf9ec950e2e2651018",
            "aff64ed7d1754e19922e2617d00ad756",
            "5c78075313634dedb8cf91c8d7e1c88c",
            "15fae5ffac7f4871b5fc9163a5bdb4e0",
            "56e3281f6bc84d12a26b81ac1841719d",
            "18929846d6d24847abf96aa6b474df76",
            "78f20bd1a22044f2bfde93598f611f0d",
            "6e5984b551d642639995a2f4ab7d73a8",
            "084a3f4c17aa4e059f062531de08c888",
            "8bc2b6fb22944c0a9402000df4e4dcc6",
            "a7e650759fea49f3a373d45094935e5c",
            "f039eeefcae94a7792233faf1d365523",
            "b927b34142ee4f1f96597cce23839077",
            "1c9cc283960b499c8d07d715c760ed4a",
            "adc4de1afb58422b9704f4cb9cbdf901",
            "e3af0f8eeac74bc498cab170bc45c21a",
            "f80cfaebb9ab4f318b1bba4897b24f0b",
            "9d0221fea3ab4c6f9acf538fcb0a9539",
            "51f734022d7847108e8430d419e87f89",
            "4568cabd4dc44a08992e88f1290aaa32",
            "f67cb7ab3e3e4cd89b6e7722b744909c",
            "bcce33adea9043f8b8992f00c881fa67",
            "564a38afd14e44e2b1a72eb41077eb0e",
            "7352d68a32934197a95970d65bf019a6",
            "41f90ba03750418b9ec4bc6174822783",
            "d73c228cf6a448959346b0912ca264e9",
            "0aa41cc9298e4a099cf71f4ca264a954",
            "c1acf2bec153470899f8379543ba3e43",
            "8cd95f0489094bd2b64a259ad61aa95a",
            "0a4b12eda1cd4955a50d615a5f93d803",
            "3735a6c62caf4763af19bd2df09b9bb4",
            "01ba0fdcfd4e495bb538ac54e93fc214",
            "8ef08b18812345c5bc29f8296a2194c9",
            "8b3059cf58a34fda8d105ac34fd1d1e6",
            "176bce2ed0964629acba8d6ad27aaa11",
            "109b32e714fb44eaa908c8b6074c9a4f",
            "6cf6e637c1cb4aa5a637f9280ae21ade",
            "8b1c027b053f4f9498fff1785628873b",
            "9f2e34fb14aa4600966ad706dad49dc3",
            "31ad4fa017884c67a0cc4359415d4500",
            "ceaef908e2f44f38a01a354afc3c64e3"
          ]
        },
        "id": "K3Wx9gdiHrVx",
        "outputId": "dd0798a7-bae6-4ed1-8cb6-ec7a48ecfd9a",
        "execution": {
          "iopub.status.busy": "2024-09-28T04:36:42.861363Z",
          "iopub.execute_input": "2024-09-28T04:36:42.862337Z",
          "iopub.status.idle": "2024-09-28T04:37:21.503775Z",
          "shell.execute_reply.started": "2024-09-28T04:36:42.862278Z",
          "shell.execute_reply": "2024-09-28T04:37:21.50255Z"
        },
        "trusted": true
      },
      "execution_count": null,
      "outputs": [
        {
          "output_type": "display_data",
          "data": {
            "text/plain": [
              "modules.json:   0%|          | 0.00/349 [00:00<?, ?B/s]"
            ],
            "application/vnd.jupyter.widget-view+json": {
              "version_major": 2,
              "version_minor": 0,
              "model_id": "7ccd9735b6574ae1af463f887d2ee91f"
            }
          },
          "metadata": {
            "application/vnd.jupyter.widget-view+json": {
              "colab": {
                "custom_widget_manager": {
                  "url": "https://ssl.gstatic.com/colaboratory-static/widgets/colab-cdn-widget-manager/2b70e893a8ba7c0f/manager.min.js"
                }
              }
            }
          }
        },
        {
          "output_type": "display_data",
          "data": {
            "text/plain": [
              "config_sentence_transformers.json:   0%|          | 0.00/116 [00:00<?, ?B/s]"
            ],
            "application/vnd.jupyter.widget-view+json": {
              "version_major": 2,
              "version_minor": 0,
              "model_id": "e851634384a04ba485489fd1628eddbe"
            }
          },
          "metadata": {
            "application/vnd.jupyter.widget-view+json": {
              "colab": {
                "custom_widget_manager": {
                  "url": "https://ssl.gstatic.com/colaboratory-static/widgets/colab-cdn-widget-manager/2b70e893a8ba7c0f/manager.min.js"
                }
              }
            }
          }
        },
        {
          "output_type": "display_data",
          "data": {
            "text/plain": [
              "README.md:   0%|          | 0.00/10.6k [00:00<?, ?B/s]"
            ],
            "application/vnd.jupyter.widget-view+json": {
              "version_major": 2,
              "version_minor": 0,
              "model_id": "5e7748a1d3bc411e8dcb0a3e40efca4c"
            }
          },
          "metadata": {
            "application/vnd.jupyter.widget-view+json": {
              "colab": {
                "custom_widget_manager": {
                  "url": "https://ssl.gstatic.com/colaboratory-static/widgets/colab-cdn-widget-manager/2b70e893a8ba7c0f/manager.min.js"
                }
              }
            }
          }
        },
        {
          "output_type": "display_data",
          "data": {
            "text/plain": [
              "sentence_bert_config.json:   0%|          | 0.00/53.0 [00:00<?, ?B/s]"
            ],
            "application/vnd.jupyter.widget-view+json": {
              "version_major": 2,
              "version_minor": 0,
              "model_id": "1daea191599745a383003c0a07e05dc2"
            }
          },
          "metadata": {
            "application/vnd.jupyter.widget-view+json": {
              "colab": {
                "custom_widget_manager": {
                  "url": "https://ssl.gstatic.com/colaboratory-static/widgets/colab-cdn-widget-manager/2b70e893a8ba7c0f/manager.min.js"
                }
              }
            }
          }
        },
        {
          "output_type": "display_data",
          "data": {
            "text/plain": [
              "config.json:   0%|          | 0.00/571 [00:00<?, ?B/s]"
            ],
            "application/vnd.jupyter.widget-view+json": {
              "version_major": 2,
              "version_minor": 0,
              "model_id": "4b712e7ed7114d6f8be643d21d197e07"
            }
          },
          "metadata": {
            "application/vnd.jupyter.widget-view+json": {
              "colab": {
                "custom_widget_manager": {
                  "url": "https://ssl.gstatic.com/colaboratory-static/widgets/colab-cdn-widget-manager/2b70e893a8ba7c0f/manager.min.js"
                }
              }
            }
          }
        },
        {
          "output_type": "display_data",
          "data": {
            "text/plain": [
              "model.safetensors:   0%|          | 0.00/438M [00:00<?, ?B/s]"
            ],
            "application/vnd.jupyter.widget-view+json": {
              "version_major": 2,
              "version_minor": 0,
              "model_id": "5da765711b874427a5107ddd49742bab"
            }
          },
          "metadata": {
            "application/vnd.jupyter.widget-view+json": {
              "colab": {
                "custom_widget_manager": {
                  "url": "https://ssl.gstatic.com/colaboratory-static/widgets/colab-cdn-widget-manager/2b70e893a8ba7c0f/manager.min.js"
                }
              }
            }
          }
        },
        {
          "output_type": "display_data",
          "data": {
            "text/plain": [
              "tokenizer_config.json:   0%|          | 0.00/363 [00:00<?, ?B/s]"
            ],
            "application/vnd.jupyter.widget-view+json": {
              "version_major": 2,
              "version_minor": 0,
              "model_id": "57e4079c5ef944c3b1f948b33baa42bf"
            }
          },
          "metadata": {
            "application/vnd.jupyter.widget-view+json": {
              "colab": {
                "custom_widget_manager": {
                  "url": "https://ssl.gstatic.com/colaboratory-static/widgets/colab-cdn-widget-manager/2b70e893a8ba7c0f/manager.min.js"
                }
              }
            }
          }
        },
        {
          "output_type": "display_data",
          "data": {
            "text/plain": [
              "vocab.txt:   0%|          | 0.00/232k [00:00<?, ?B/s]"
            ],
            "application/vnd.jupyter.widget-view+json": {
              "version_major": 2,
              "version_minor": 0,
              "model_id": "6e5984b551d642639995a2f4ab7d73a8"
            }
          },
          "metadata": {
            "application/vnd.jupyter.widget-view+json": {
              "colab": {
                "custom_widget_manager": {
                  "url": "https://ssl.gstatic.com/colaboratory-static/widgets/colab-cdn-widget-manager/2b70e893a8ba7c0f/manager.min.js"
                }
              }
            }
          }
        },
        {
          "output_type": "display_data",
          "data": {
            "text/plain": [
              "tokenizer.json:   0%|          | 0.00/466k [00:00<?, ?B/s]"
            ],
            "application/vnd.jupyter.widget-view+json": {
              "version_major": 2,
              "version_minor": 0,
              "model_id": "51f734022d7847108e8430d419e87f89"
            }
          },
          "metadata": {
            "application/vnd.jupyter.widget-view+json": {
              "colab": {
                "custom_widget_manager": {
                  "url": "https://ssl.gstatic.com/colaboratory-static/widgets/colab-cdn-widget-manager/2b70e893a8ba7c0f/manager.min.js"
                }
              }
            }
          }
        },
        {
          "output_type": "display_data",
          "data": {
            "text/plain": [
              "special_tokens_map.json:   0%|          | 0.00/239 [00:00<?, ?B/s]"
            ],
            "application/vnd.jupyter.widget-view+json": {
              "version_major": 2,
              "version_minor": 0,
              "model_id": "0a4b12eda1cd4955a50d615a5f93d803"
            }
          },
          "metadata": {
            "application/vnd.jupyter.widget-view+json": {
              "colab": {
                "custom_widget_manager": {
                  "url": "https://ssl.gstatic.com/colaboratory-static/widgets/colab-cdn-widget-manager/2b70e893a8ba7c0f/manager.min.js"
                }
              }
            }
          }
        },
        {
          "output_type": "stream",
          "name": "stderr",
          "text": [
            "/usr/local/lib/python3.10/dist-packages/transformers/tokenization_utils_base.py:1601: FutureWarning: `clean_up_tokenization_spaces` was not set. It will be set to `True` by default. This behavior will be depracted in transformers v4.45, and will be then set to `False` by default. For more details check this issue: https://github.com/huggingface/transformers/issues/31884\n",
            "  warnings.warn(\n"
          ]
        },
        {
          "output_type": "display_data",
          "data": {
            "text/plain": [
              "1_Pooling/config.json:   0%|          | 0.00/190 [00:00<?, ?B/s]"
            ],
            "application/vnd.jupyter.widget-view+json": {
              "version_major": 2,
              "version_minor": 0,
              "model_id": "ceaef908e2f44f38a01a354afc3c64e3"
            }
          },
          "metadata": {}
        }
      ]
    },
    {
      "cell_type": "code",
      "source": [
        "# Retriever\n",
        "\n",
        "graph.query(\n",
        "    \"CREATE FULLTEXT INDEX entity IF NOT EXISTS FOR (e:__Entity__) ON EACH [e.id]\")\n",
        "\n",
        "# Extract entities from text\n",
        "class Entities(BaseModel):\n",
        "    \"\"\"Identifying information about entities.\"\"\"\n",
        "\n",
        "    names: List[str] = Field(\n",
        "        ...,\n",
        "        description=\"All the Cases, Drug, Reaction, Outcome, Therapy, AgeGroup, Symptom, Condition, Diagnosis, Treatment appear in the text\",\n",
        "    )\n",
        "\n",
        "prompt = ChatPromptTemplate.from_messages(\n",
        "    [\n",
        "        (\n",
        "            \"system\",\n",
        "            \"\"\"You are a friendly senior medical expert. Please answer the medical questions based on the patient's description in a Natural way, include your resoning on how you came to the conclusion to problem conclusion you have come into, your response format will be in two section\n",
        "            `response`\n",
        "            \\n\n",
        "            `reasoning`\n",
        "            \"\"\",\n",
        "        ),\n",
        "        (\n",
        "            \"human\",\n",
        "            \"input: {question}\",\n",
        "        ),\n",
        "    ]\n",
        ")\n",
        "\n",
        "\n",
        "entity_chain = prompt | llm.with_structured_output(Entities)"
      ],
      "metadata": {
        "id": "3tJDDL-XIDuP",
        "execution": {
          "iopub.status.busy": "2024-09-28T04:38:35.827891Z",
          "iopub.execute_input": "2024-09-28T04:38:35.828402Z",
          "iopub.status.idle": "2024-09-28T04:38:36.35403Z",
          "shell.execute_reply.started": "2024-09-28T04:38:35.828358Z",
          "shell.execute_reply": "2024-09-28T04:38:36.352919Z"
        },
        "trusted": true
      },
      "execution_count": null,
      "outputs": []
    },
    {
      "cell_type": "code",
      "source": [
        "q = \"\"\"\n",
        "This morning, I woke up feeling like the room was violently spinning every time I tried to move, especially when I sat up or changed positions.\n",
        "It wasn’t a mild dizziness—it was intense enough that I had to hold on to things to avoid falling.\n",
        "When I tried to walk to the bathroom, I felt incredibly unsteady, almost like I couldn’t control my balance, and this triggered a wave of nausea.\n",
        "I thought I might vomit, but I couldn’t. I also noticed a slight pressure in my ear, though it’s not painful.\n",
        "I took some painkillers and slept for a few hours, but the sensation didn’t improve much. Oddly enough, if I stay completely still—lying down or sitting—it seems fine.\n",
        "But as soon as I try to move, especially getting up or turning my head, the dizziness is unbearable. I’ve had some mild stomach discomfort and bloating too, though I’m not sure if that’s related.\n",
        "Strangely, after I went to the bathroom, the dizziness seemed to decrease slightly, but it quickly returned when I moved again. Could this be connected to my ear or something else entirely? I’m concerned because it’s persistent.\n",
        "\"\"\""
      ],
      "metadata": {
        "execution": {
          "iopub.status.busy": "2024-09-28T04:48:13.989018Z",
          "iopub.execute_input": "2024-09-28T04:48:13.989573Z",
          "iopub.status.idle": "2024-09-28T04:48:13.996065Z",
          "shell.execute_reply.started": "2024-09-28T04:48:13.989498Z",
          "shell.execute_reply": "2024-09-28T04:48:13.994752Z"
        },
        "trusted": true,
        "id": "4Xe6vxAEeoPC"
      },
      "execution_count": null,
      "outputs": []
    },
    {
      "cell_type": "code",
      "source": [
        "entity_chain.invoke({\"question\": q}).names"
      ],
      "metadata": {
        "colab": {
          "base_uri": "https://localhost:8080/"
        },
        "id": "vveIaWRDItWC",
        "outputId": "8a43d69e-d387-4918-e87a-633fbe9ae346",
        "execution": {
          "iopub.status.busy": "2024-09-28T04:48:20.629079Z",
          "iopub.execute_input": "2024-09-28T04:48:20.629576Z",
          "iopub.status.idle": "2024-09-28T04:48:22.051754Z",
          "shell.execute_reply.started": "2024-09-28T04:48:20.62953Z",
          "shell.execute_reply": "2024-09-28T04:48:22.050353Z"
        },
        "trusted": true
      },
      "execution_count": null,
      "outputs": [
        {
          "output_type": "execute_result",
          "data": {
            "text/plain": [
              "['dizziness',\n",
              " 'nausea',\n",
              " 'vomiting',\n",
              " 'ear pressure',\n",
              " 'stomach discomfort',\n",
              " 'bloating',\n",
              " 'balance control',\n",
              " 'spinning sensation',\n",
              " 'unsteadiness',\n",
              " 'painkillers',\n",
              " 'persistent dizziness']"
            ]
          },
          "metadata": {},
          "execution_count": 86
        }
      ]
    },
    {
      "cell_type": "code",
      "source": [
        "def generate_full_text_query(input: str) -> str:\n",
        "    \"\"\"\n",
        "    Generate a full-text search query for a given input string.\n",
        "\n",
        "    This function constructs a query string suitable for a full-text search.\n",
        "    It processes the input string by splitting it into words and appending a\n",
        "    similarity threshold (~2 changed characters) to each word, then combines\n",
        "    them using the AND operator. Useful for mapping entities from user questions\n",
        "    to database values, and allows for some misspelings.\n",
        "    \"\"\"\n",
        "    full_text_query = \"\"\n",
        "    words = [el for el in remove_lucene_chars(input).split() if el]\n",
        "    for word in words[:-1]:\n",
        "        full_text_query += f\" {word}~2 AND\"\n",
        "    full_text_query += f\" {words[-1]}~2\"\n",
        "    return full_text_query.strip()\n",
        "\n",
        "# Fulltext index query\n",
        "def structured_retriever(question: str) -> str:\n",
        "    \"\"\"\n",
        "    Collects the neighborhood of entities mentioned\n",
        "    in the question\n",
        "    \"\"\"\n",
        "    result = \"\"\n",
        "    entities = entity_chain.invoke({\"question\": question})\n",
        "    for entity in entities.names:\n",
        "        response = graph.query(\n",
        "            \"\"\"CALL db.index.fulltext.queryNodes('entity', $query, {limit:2})\n",
        "            YIELD node,score\n",
        "            CALL {\n",
        "              WITH node\n",
        "              MATCH (node)-[r:!MENTIONS]->(neighbor)\n",
        "              RETURN node.id + ' - ' + type(r) + ' -> ' + neighbor.id AS output\n",
        "              UNION ALL\n",
        "              WITH node\n",
        "              MATCH (node)<-[r:!MENTIONS]-(neighbor)\n",
        "              RETURN neighbor.id + ' - ' + type(r) + ' -> ' +  node.id AS output\n",
        "            }\n",
        "            RETURN output LIMIT 50\n",
        "            \"\"\",\n",
        "            {\"query\": generate_full_text_query(entity)},\n",
        "        )\n",
        "        result += \"\\n\".join([el['output'] for el in response])\n",
        "    return result"
      ],
      "metadata": {
        "id": "DWy8ePVvIzVS",
        "execution": {
          "iopub.status.busy": "2024-09-28T04:48:22.053781Z",
          "iopub.execute_input": "2024-09-28T04:48:22.054198Z",
          "iopub.status.idle": "2024-09-28T04:48:22.065515Z",
          "shell.execute_reply.started": "2024-09-28T04:48:22.054139Z",
          "shell.execute_reply": "2024-09-28T04:48:22.064357Z"
        },
        "trusted": true
      },
      "execution_count": null,
      "outputs": []
    },
    {
      "cell_type": "code",
      "source": [
        "print(structured_retriever(q))"
      ],
      "metadata": {
        "colab": {
          "base_uri": "https://localhost:8080/"
        },
        "id": "x7_0HNKyI-Vb",
        "outputId": "67851104-fd9e-4933-e1dd-fc54d426a96d",
        "execution": {
          "iopub.status.busy": "2024-09-28T04:48:22.067041Z",
          "iopub.execute_input": "2024-09-28T04:48:22.067579Z",
          "iopub.status.idle": "2024-09-28T04:48:25.334949Z",
          "shell.execute_reply.started": "2024-09-28T04:48:22.067483Z",
          "shell.execute_reply": "2024-09-28T04:48:25.333756Z"
        },
        "trusted": true
      },
      "execution_count": null,
      "outputs": [
        {
          "output_type": "stream",
          "name": "stderr",
          "text": [
            "WARNING:neo4j.notifications:Received notification from DBMS server: {severity: WARNING} {code: Neo.ClientNotification.Statement.FeatureDeprecationWarning} {category: DEPRECATION} {title: This feature is deprecated and will be removed in future versions.} {description: CALL subquery without a variable scope clause is now deprecated. Use CALL (node, node) { ... }} {position: line: 3, column: 13, offset: 104} for query: \"CALL db.index.fulltext.queryNodes('entity', $query, {limit:2})\\n            YIELD node,score\\n            CALL {\\n              WITH node\\n              MATCH (node)-[r:!MENTIONS]->(neighbor)\\n              RETURN node.id + ' - ' + type(r) + ' -> ' + neighbor.id AS output\\n              UNION ALL\\n              WITH node\\n              MATCH (node)<-[r:!MENTIONS]-(neighbor)\\n              RETURN neighbor.id + ' - ' + type(r) + ' -> ' +  node.id AS output\\n            }\\n            RETURN output LIMIT 50\\n            \"\n",
            "WARNING:neo4j.notifications:Received notification from DBMS server: {severity: WARNING} {code: Neo.ClientNotification.Statement.FeatureDeprecationWarning} {category: DEPRECATION} {title: This feature is deprecated and will be removed in future versions.} {description: CALL subquery without a variable scope clause is now deprecated. Use CALL (node, node) { ... }} {position: line: 3, column: 13, offset: 104} for query: \"CALL db.index.fulltext.queryNodes('entity', $query, {limit:2})\\n            YIELD node,score\\n            CALL {\\n              WITH node\\n              MATCH (node)-[r:!MENTIONS]->(neighbor)\\n              RETURN node.id + ' - ' + type(r) + ' -> ' + neighbor.id AS output\\n              UNION ALL\\n              WITH node\\n              MATCH (node)<-[r:!MENTIONS]-(neighbor)\\n              RETURN neighbor.id + ' - ' + type(r) + ' -> ' +  node.id AS output\\n            }\\n            RETURN output LIMIT 50\\n            \"\n",
            "WARNING:neo4j.notifications:Received notification from DBMS server: {severity: WARNING} {code: Neo.ClientNotification.Statement.FeatureDeprecationWarning} {category: DEPRECATION} {title: This feature is deprecated and will be removed in future versions.} {description: CALL subquery without a variable scope clause is now deprecated. Use CALL (node, node) { ... }} {position: line: 3, column: 13, offset: 104} for query: \"CALL db.index.fulltext.queryNodes('entity', $query, {limit:2})\\n            YIELD node,score\\n            CALL {\\n              WITH node\\n              MATCH (node)-[r:!MENTIONS]->(neighbor)\\n              RETURN node.id + ' - ' + type(r) + ' -> ' + neighbor.id AS output\\n              UNION ALL\\n              WITH node\\n              MATCH (node)<-[r:!MENTIONS]-(neighbor)\\n              RETURN neighbor.id + ' - ' + type(r) + ' -> ' +  node.id AS output\\n            }\\n            RETURN output LIMIT 50\\n            \"\n",
            "WARNING:neo4j.notifications:Received notification from DBMS server: {severity: WARNING} {code: Neo.ClientNotification.Statement.FeatureDeprecationWarning} {category: DEPRECATION} {title: This feature is deprecated and will be removed in future versions.} {description: CALL subquery without a variable scope clause is now deprecated. Use CALL (node, node) { ... }} {position: line: 3, column: 13, offset: 104} for query: \"CALL db.index.fulltext.queryNodes('entity', $query, {limit:2})\\n            YIELD node,score\\n            CALL {\\n              WITH node\\n              MATCH (node)-[r:!MENTIONS]->(neighbor)\\n              RETURN node.id + ' - ' + type(r) + ' -> ' + neighbor.id AS output\\n              UNION ALL\\n              WITH node\\n              MATCH (node)<-[r:!MENTIONS]-(neighbor)\\n              RETURN neighbor.id + ' - ' + type(r) + ' -> ' +  node.id AS output\\n            }\\n            RETURN output LIMIT 50\\n            \"\n",
            "WARNING:neo4j.notifications:Received notification from DBMS server: {severity: WARNING} {code: Neo.ClientNotification.Statement.FeatureDeprecationWarning} {category: DEPRECATION} {title: This feature is deprecated and will be removed in future versions.} {description: CALL subquery without a variable scope clause is now deprecated. Use CALL (node, node) { ... }} {position: line: 3, column: 13, offset: 104} for query: \"CALL db.index.fulltext.queryNodes('entity', $query, {limit:2})\\n            YIELD node,score\\n            CALL {\\n              WITH node\\n              MATCH (node)-[r:!MENTIONS]->(neighbor)\\n              RETURN node.id + ' - ' + type(r) + ' -> ' + neighbor.id AS output\\n              UNION ALL\\n              WITH node\\n              MATCH (node)<-[r:!MENTIONS]-(neighbor)\\n              RETURN neighbor.id + ' - ' + type(r) + ' -> ' +  node.id AS output\\n            }\\n            RETURN output LIMIT 50\\n            \"\n",
            "WARNING:neo4j.notifications:Received notification from DBMS server: {severity: WARNING} {code: Neo.ClientNotification.Statement.FeatureDeprecationWarning} {category: DEPRECATION} {title: This feature is deprecated and will be removed in future versions.} {description: CALL subquery without a variable scope clause is now deprecated. Use CALL (node, node) { ... }} {position: line: 3, column: 13, offset: 104} for query: \"CALL db.index.fulltext.queryNodes('entity', $query, {limit:2})\\n            YIELD node,score\\n            CALL {\\n              WITH node\\n              MATCH (node)-[r:!MENTIONS]->(neighbor)\\n              RETURN node.id + ' - ' + type(r) + ' -> ' + neighbor.id AS output\\n              UNION ALL\\n              WITH node\\n              MATCH (node)<-[r:!MENTIONS]-(neighbor)\\n              RETURN neighbor.id + ' - ' + type(r) + ' -> ' +  node.id AS output\\n            }\\n            RETURN output LIMIT 50\\n            \"\n",
            "WARNING:neo4j.notifications:Received notification from DBMS server: {severity: WARNING} {code: Neo.ClientNotification.Statement.FeatureDeprecationWarning} {category: DEPRECATION} {title: This feature is deprecated and will be removed in future versions.} {description: CALL subquery without a variable scope clause is now deprecated. Use CALL (node, node) { ... }} {position: line: 3, column: 13, offset: 104} for query: \"CALL db.index.fulltext.queryNodes('entity', $query, {limit:2})\\n            YIELD node,score\\n            CALL {\\n              WITH node\\n              MATCH (node)-[r:!MENTIONS]->(neighbor)\\n              RETURN node.id + ' - ' + type(r) + ' -> ' + neighbor.id AS output\\n              UNION ALL\\n              WITH node\\n              MATCH (node)<-[r:!MENTIONS]-(neighbor)\\n              RETURN neighbor.id + ' - ' + type(r) + ' -> ' +  node.id AS output\\n            }\\n            RETURN output LIMIT 50\\n            \"\n",
            "WARNING:neo4j.notifications:Received notification from DBMS server: {severity: WARNING} {code: Neo.ClientNotification.Statement.FeatureDeprecationWarning} {category: DEPRECATION} {title: This feature is deprecated and will be removed in future versions.} {description: CALL subquery without a variable scope clause is now deprecated. Use CALL (node, node) { ... }} {position: line: 3, column: 13, offset: 104} for query: \"CALL db.index.fulltext.queryNodes('entity', $query, {limit:2})\\n            YIELD node,score\\n            CALL {\\n              WITH node\\n              MATCH (node)-[r:!MENTIONS]->(neighbor)\\n              RETURN node.id + ' - ' + type(r) + ' -> ' + neighbor.id AS output\\n              UNION ALL\\n              WITH node\\n              MATCH (node)<-[r:!MENTIONS]-(neighbor)\\n              RETURN neighbor.id + ' - ' + type(r) + ' -> ' +  node.id AS output\\n            }\\n            RETURN output LIMIT 50\\n            \"\n",
            "WARNING:neo4j.notifications:Received notification from DBMS server: {severity: WARNING} {code: Neo.ClientNotification.Statement.FeatureDeprecationWarning} {category: DEPRECATION} {title: This feature is deprecated and will be removed in future versions.} {description: CALL subquery without a variable scope clause is now deprecated. Use CALL (node, node) { ... }} {position: line: 3, column: 13, offset: 104} for query: \"CALL db.index.fulltext.queryNodes('entity', $query, {limit:2})\\n            YIELD node,score\\n            CALL {\\n              WITH node\\n              MATCH (node)-[r:!MENTIONS]->(neighbor)\\n              RETURN node.id + ' - ' + type(r) + ' -> ' + neighbor.id AS output\\n              UNION ALL\\n              WITH node\\n              MATCH (node)<-[r:!MENTIONS]-(neighbor)\\n              RETURN neighbor.id + ' - ' + type(r) + ' -> ' +  node.id AS output\\n            }\\n            RETURN output LIMIT 50\\n            \"\n",
            "WARNING:neo4j.notifications:Received notification from DBMS server: {severity: WARNING} {code: Neo.ClientNotification.Statement.FeatureDeprecationWarning} {category: DEPRECATION} {title: This feature is deprecated and will be removed in future versions.} {description: CALL subquery without a variable scope clause is now deprecated. Use CALL (node, node) { ... }} {position: line: 3, column: 13, offset: 104} for query: \"CALL db.index.fulltext.queryNodes('entity', $query, {limit:2})\\n            YIELD node,score\\n            CALL {\\n              WITH node\\n              MATCH (node)-[r:!MENTIONS]->(neighbor)\\n              RETURN node.id + ' - ' + type(r) + ' -> ' + neighbor.id AS output\\n              UNION ALL\\n              WITH node\\n              MATCH (node)<-[r:!MENTIONS]-(neighbor)\\n              RETURN neighbor.id + ' - ' + type(r) + ' -> ' +  node.id AS output\\n            }\\n            RETURN output LIMIT 50\\n            \"\n",
            "WARNING:neo4j.notifications:Received notification from DBMS server: {severity: WARNING} {code: Neo.ClientNotification.Statement.FeatureDeprecationWarning} {category: DEPRECATION} {title: This feature is deprecated and will be removed in future versions.} {description: CALL subquery without a variable scope clause is now deprecated. Use CALL (node, node) { ... }} {position: line: 3, column: 13, offset: 104} for query: \"CALL db.index.fulltext.queryNodes('entity', $query, {limit:2})\\n            YIELD node,score\\n            CALL {\\n              WITH node\\n              MATCH (node)-[r:!MENTIONS]->(neighbor)\\n              RETURN node.id + ' - ' + type(r) + ' -> ' + neighbor.id AS output\\n              UNION ALL\\n              WITH node\\n              MATCH (node)<-[r:!MENTIONS]-(neighbor)\\n              RETURN neighbor.id + ' - ' + type(r) + ' -> ' +  node.id AS output\\n            }\\n            RETURN output LIMIT 50\\n            \"\n"
          ]
        },
        {
          "output_type": "stream",
          "name": "stdout",
          "text": [
            "\n"
          ]
        }
      ]
    },
    {
      "cell_type": "code",
      "source": [
        "def retriever(question: str):\n",
        "    print(f\"Search query: {question}\")\n",
        "    structured_data = structured_retriever(question)\n",
        "    unstructured_data = [el.page_content for el in vector_index.similarity_search(question)]\n",
        "    final_data = f\"\"\"Structured data:\n",
        "{structured_data}\n",
        "Unstructured data:\n",
        "{\"#Document \". join(unstructured_data)}\n",
        "    \"\"\"\n",
        "    return final_data"
      ],
      "metadata": {
        "id": "Fxmb539zJDeK",
        "execution": {
          "iopub.status.busy": "2024-09-28T04:48:25.337734Z",
          "iopub.execute_input": "2024-09-28T04:48:25.338142Z",
          "iopub.status.idle": "2024-09-28T04:48:25.344766Z",
          "shell.execute_reply.started": "2024-09-28T04:48:25.338098Z",
          "shell.execute_reply": "2024-09-28T04:48:25.343502Z"
        },
        "trusted": true
      },
      "execution_count": null,
      "outputs": []
    },
    {
      "cell_type": "code",
      "source": [
        "# Condense a chat history and follow-up question into a standalone question\n",
        "_template = \"\"\"Given the following conversation and a follow up question, rephrase the follow up question to be a standalone question,\n",
        "in its original language.\n",
        "Chat History:\n",
        "{chat_history}\n",
        "Follow Up Input: {question}\n",
        "Standalone question:\"\"\"  # noqa: E501\n",
        "CONDENSE_QUESTION_PROMPT = PromptTemplate.from_template(_template)\n",
        "\n",
        "def _format_chat_history(chat_history: List[Tuple[str, str]]) -> List:\n",
        "    buffer = []\n",
        "    for human, ai in chat_history:\n",
        "        buffer.append(HumanMessage(content=human))\n",
        "        buffer.append(AIMessage(content=ai))\n",
        "    return buffer\n",
        "\n",
        "_search_query = RunnableBranch(\n",
        "    # If input includes chat_history, we condense it with the follow-up question\n",
        "    (\n",
        "        RunnableLambda(lambda x: bool(x.get(\"chat_history\"))).with_config(\n",
        "            run_name=\"HasChatHistoryCheck\"\n",
        "        ),  # Condense follow-up question and chat into a standalone_question\n",
        "        RunnablePassthrough.assign(\n",
        "            chat_history=lambda x: _format_chat_history(x[\"chat_history\"])\n",
        "        )\n",
        "        | CONDENSE_QUESTION_PROMPT\n",
        "        | ChatMistralAI(temperature=0)\n",
        "        | StrOutputParser(),\n",
        "    ),\n",
        "    # Else, we have no chat history, so just pass through the question\n",
        "    RunnableLambda(lambda x : x[\"question\"]),\n",
        ")"
      ],
      "metadata": {
        "id": "uR5l_a-ZJTrr",
        "execution": {
          "iopub.status.busy": "2024-09-28T04:48:25.346294Z",
          "iopub.execute_input": "2024-09-28T04:48:25.346694Z",
          "iopub.status.idle": "2024-09-28T04:48:25.389768Z",
          "shell.execute_reply.started": "2024-09-28T04:48:25.346645Z",
          "shell.execute_reply": "2024-09-28T04:48:25.388436Z"
        },
        "trusted": true
      },
      "execution_count": null,
      "outputs": []
    },
    {
      "cell_type": "code",
      "source": [
        "template = \"\"\"Answer the question based only on the following context:\n",
        "{context}\n",
        "\n",
        "Question: {question}\n",
        "Use natural language and be concise.\n",
        "Answer:\"\"\"\n",
        "prompt = ChatPromptTemplate.from_template(template)\n",
        "\n",
        "chain = (\n",
        "    RunnableParallel(\n",
        "        {\n",
        "            \"context\": _search_query | retriever,\n",
        "            \"question\": RunnablePassthrough(),\n",
        "        }\n",
        "    )\n",
        "    | prompt\n",
        "    | llm\n",
        "    | StrOutputParser()\n",
        ")"
      ],
      "metadata": {
        "id": "SaWW9pdoJiS-",
        "execution": {
          "iopub.status.busy": "2024-09-28T04:48:25.391509Z",
          "iopub.execute_input": "2024-09-28T04:48:25.391971Z",
          "iopub.status.idle": "2024-09-28T04:48:25.404563Z",
          "shell.execute_reply.started": "2024-09-28T04:48:25.391925Z",
          "shell.execute_reply": "2024-09-28T04:48:25.403269Z"
        },
        "trusted": true
      },
      "execution_count": null,
      "outputs": []
    },
    {
      "cell_type": "code",
      "source": [
        "question = input()\n",
        "while question != \"exit\":\n",
        "    res = chain.invoke({\"question\": question, \"chat_history\": chat_history})\n",
        "    print(res)\n",
        "    chat_history.append((question, str(res)))\n",
        "    question = input()"
      ],
      "metadata": {
        "id": "p0mC0pKBKWYo",
        "execution": {
          "iopub.status.busy": "2024-09-28T04:48:34.211193Z",
          "iopub.execute_input": "2024-09-28T04:48:34.211611Z",
          "iopub.status.idle": "2024-09-28T04:48:34.217007Z",
          "shell.execute_reply.started": "2024-09-28T04:48:34.211569Z",
          "shell.execute_reply": "2024-09-28T04:48:34.215681Z"
        },
        "trusted": true
      },
      "execution_count": null,
      "outputs": []
    },
    {
      "cell_type": "code",
      "source": [
        "res = chain.invoke({\"question\": q})\n",
        "print(res)"
      ],
      "metadata": {
        "id": "59O29wmDJmaE",
        "execution": {
          "iopub.status.busy": "2024-09-28T04:48:25.419945Z",
          "iopub.execute_input": "2024-09-28T04:48:25.420527Z",
          "iopub.status.idle": "2024-09-28T04:48:34.207882Z",
          "shell.execute_reply.started": "2024-09-28T04:48:25.420456Z",
          "shell.execute_reply": "2024-09-28T04:48:34.206601Z"
        },
        "trusted": true,
        "colab": {
          "base_uri": "https://localhost:8080/"
        },
        "outputId": "a8ac75c3-75ce-46f3-ab82-c00aae28a820"
      },
      "execution_count": null,
      "outputs": [
        {
          "output_type": "stream",
          "name": "stdout",
          "text": [
            "Search query: This morning, I woke up feeling like the room was violently spinning every time I tried to move, especially when I sat up or changed positions. It wasn’t a mild dizziness—it was intense enough that I had to hold on to things to avoid falling. When I tried to walk to the bathroom, I felt incredibly unsteady, almost like I couldn’t control my balance, and this triggered a wave of nausea. I thought I might vomit, but I couldn’t. I also noticed a slight pressure in my ear, though it’s not painful. I took some painkillers and slept for a few hours, but the sensation didn’t improve much. Oddly enough, if I stay completely still—lying down or sitting—it seems fine. But as soon as I try to move, especially getting up or turning my head, the dizziness is unbearable. I’ve had some mild stomach discomfort and bloating too, though I’m not sure if that’s related. Strangely, after I went to the bathroom, the dizziness seemed to decrease slightly, but it quickly returned when I moved again. Could this be connected to my ear or something else entirely? I’m concerned because it’s persistent.\n"
          ]
        },
        {
          "output_type": "stream",
          "name": "stderr",
          "text": [
            "WARNING:neo4j.notifications:Received notification from DBMS server: {severity: WARNING} {code: Neo.ClientNotification.Statement.FeatureDeprecationWarning} {category: DEPRECATION} {title: This feature is deprecated and will be removed in future versions.} {description: CALL subquery without a variable scope clause is now deprecated. Use CALL (node, node) { ... }} {position: line: 3, column: 13, offset: 104} for query: \"CALL db.index.fulltext.queryNodes('entity', $query, {limit:2})\\n            YIELD node,score\\n            CALL {\\n              WITH node\\n              MATCH (node)-[r:!MENTIONS]->(neighbor)\\n              RETURN node.id + ' - ' + type(r) + ' -> ' + neighbor.id AS output\\n              UNION ALL\\n              WITH node\\n              MATCH (node)<-[r:!MENTIONS]-(neighbor)\\n              RETURN neighbor.id + ' - ' + type(r) + ' -> ' +  node.id AS output\\n            }\\n            RETURN output LIMIT 50\\n            \"\n",
            "WARNING:neo4j.notifications:Received notification from DBMS server: {severity: WARNING} {code: Neo.ClientNotification.Statement.FeatureDeprecationWarning} {category: DEPRECATION} {title: This feature is deprecated and will be removed in future versions.} {description: CALL subquery without a variable scope clause is now deprecated. Use CALL (node, node) { ... }} {position: line: 3, column: 13, offset: 104} for query: \"CALL db.index.fulltext.queryNodes('entity', $query, {limit:2})\\n            YIELD node,score\\n            CALL {\\n              WITH node\\n              MATCH (node)-[r:!MENTIONS]->(neighbor)\\n              RETURN node.id + ' - ' + type(r) + ' -> ' + neighbor.id AS output\\n              UNION ALL\\n              WITH node\\n              MATCH (node)<-[r:!MENTIONS]-(neighbor)\\n              RETURN neighbor.id + ' - ' + type(r) + ' -> ' +  node.id AS output\\n            }\\n            RETURN output LIMIT 50\\n            \"\n",
            "WARNING:neo4j.notifications:Received notification from DBMS server: {severity: WARNING} {code: Neo.ClientNotification.Statement.FeatureDeprecationWarning} {category: DEPRECATION} {title: This feature is deprecated and will be removed in future versions.} {description: CALL subquery without a variable scope clause is now deprecated. Use CALL (node, node) { ... }} {position: line: 3, column: 13, offset: 104} for query: \"CALL db.index.fulltext.queryNodes('entity', $query, {limit:2})\\n            YIELD node,score\\n            CALL {\\n              WITH node\\n              MATCH (node)-[r:!MENTIONS]->(neighbor)\\n              RETURN node.id + ' - ' + type(r) + ' -> ' + neighbor.id AS output\\n              UNION ALL\\n              WITH node\\n              MATCH (node)<-[r:!MENTIONS]-(neighbor)\\n              RETURN neighbor.id + ' - ' + type(r) + ' -> ' +  node.id AS output\\n            }\\n            RETURN output LIMIT 50\\n            \"\n",
            "WARNING:neo4j.notifications:Received notification from DBMS server: {severity: WARNING} {code: Neo.ClientNotification.Statement.FeatureDeprecationWarning} {category: DEPRECATION} {title: This feature is deprecated and will be removed in future versions.} {description: CALL subquery without a variable scope clause is now deprecated. Use CALL (node, node) { ... }} {position: line: 3, column: 13, offset: 104} for query: \"CALL db.index.fulltext.queryNodes('entity', $query, {limit:2})\\n            YIELD node,score\\n            CALL {\\n              WITH node\\n              MATCH (node)-[r:!MENTIONS]->(neighbor)\\n              RETURN node.id + ' - ' + type(r) + ' -> ' + neighbor.id AS output\\n              UNION ALL\\n              WITH node\\n              MATCH (node)<-[r:!MENTIONS]-(neighbor)\\n              RETURN neighbor.id + ' - ' + type(r) + ' -> ' +  node.id AS output\\n            }\\n            RETURN output LIMIT 50\\n            \"\n",
            "WARNING:neo4j.notifications:Received notification from DBMS server: {severity: WARNING} {code: Neo.ClientNotification.Statement.FeatureDeprecationWarning} {category: DEPRECATION} {title: This feature is deprecated and will be removed in future versions.} {description: CALL subquery without a variable scope clause is now deprecated. Use CALL (node, node) { ... }} {position: line: 3, column: 13, offset: 104} for query: \"CALL db.index.fulltext.queryNodes('entity', $query, {limit:2})\\n            YIELD node,score\\n            CALL {\\n              WITH node\\n              MATCH (node)-[r:!MENTIONS]->(neighbor)\\n              RETURN node.id + ' - ' + type(r) + ' -> ' + neighbor.id AS output\\n              UNION ALL\\n              WITH node\\n              MATCH (node)<-[r:!MENTIONS]-(neighbor)\\n              RETURN neighbor.id + ' - ' + type(r) + ' -> ' +  node.id AS output\\n            }\\n            RETURN output LIMIT 50\\n            \"\n",
            "WARNING:neo4j.notifications:Received notification from DBMS server: {severity: WARNING} {code: Neo.ClientNotification.Statement.FeatureDeprecationWarning} {category: DEPRECATION} {title: This feature is deprecated and will be removed in future versions.} {description: CALL subquery without a variable scope clause is now deprecated. Use CALL (node, node) { ... }} {position: line: 3, column: 13, offset: 104} for query: \"CALL db.index.fulltext.queryNodes('entity', $query, {limit:2})\\n            YIELD node,score\\n            CALL {\\n              WITH node\\n              MATCH (node)-[r:!MENTIONS]->(neighbor)\\n              RETURN node.id + ' - ' + type(r) + ' -> ' + neighbor.id AS output\\n              UNION ALL\\n              WITH node\\n              MATCH (node)<-[r:!MENTIONS]-(neighbor)\\n              RETURN neighbor.id + ' - ' + type(r) + ' -> ' +  node.id AS output\\n            }\\n            RETURN output LIMIT 50\\n            \"\n",
            "WARNING:neo4j.notifications:Received notification from DBMS server: {severity: WARNING} {code: Neo.ClientNotification.Statement.FeatureDeprecationWarning} {category: DEPRECATION} {title: This feature is deprecated and will be removed in future versions.} {description: CALL subquery without a variable scope clause is now deprecated. Use CALL (node, node) { ... }} {position: line: 3, column: 13, offset: 104} for query: \"CALL db.index.fulltext.queryNodes('entity', $query, {limit:2})\\n            YIELD node,score\\n            CALL {\\n              WITH node\\n              MATCH (node)-[r:!MENTIONS]->(neighbor)\\n              RETURN node.id + ' - ' + type(r) + ' -> ' + neighbor.id AS output\\n              UNION ALL\\n              WITH node\\n              MATCH (node)<-[r:!MENTIONS]-(neighbor)\\n              RETURN neighbor.id + ' - ' + type(r) + ' -> ' +  node.id AS output\\n            }\\n            RETURN output LIMIT 50\\n            \"\n",
            "WARNING:neo4j.notifications:Received notification from DBMS server: {severity: WARNING} {code: Neo.ClientNotification.Statement.FeatureDeprecationWarning} {category: DEPRECATION} {title: This feature is deprecated and will be removed in future versions.} {description: CALL subquery without a variable scope clause is now deprecated. Use CALL (node, node) { ... }} {position: line: 3, column: 13, offset: 104} for query: \"CALL db.index.fulltext.queryNodes('entity', $query, {limit:2})\\n            YIELD node,score\\n            CALL {\\n              WITH node\\n              MATCH (node)-[r:!MENTIONS]->(neighbor)\\n              RETURN node.id + ' - ' + type(r) + ' -> ' + neighbor.id AS output\\n              UNION ALL\\n              WITH node\\n              MATCH (node)<-[r:!MENTIONS]-(neighbor)\\n              RETURN neighbor.id + ' - ' + type(r) + ' -> ' +  node.id AS output\\n            }\\n            RETURN output LIMIT 50\\n            \"\n",
            "WARNING:neo4j.notifications:Received notification from DBMS server: {severity: WARNING} {code: Neo.ClientNotification.Statement.FeatureDeprecationWarning} {category: DEPRECATION} {title: This feature is deprecated and will be removed in future versions.} {description: CALL subquery without a variable scope clause is now deprecated. Use CALL (node, node) { ... }} {position: line: 3, column: 13, offset: 104} for query: \"CALL db.index.fulltext.queryNodes('entity', $query, {limit:2})\\n            YIELD node,score\\n            CALL {\\n              WITH node\\n              MATCH (node)-[r:!MENTIONS]->(neighbor)\\n              RETURN node.id + ' - ' + type(r) + ' -> ' + neighbor.id AS output\\n              UNION ALL\\n              WITH node\\n              MATCH (node)<-[r:!MENTIONS]-(neighbor)\\n              RETURN neighbor.id + ' - ' + type(r) + ' -> ' +  node.id AS output\\n            }\\n            RETURN output LIMIT 50\\n            \"\n",
            "WARNING:neo4j.notifications:Received notification from DBMS server: {severity: WARNING} {code: Neo.ClientNotification.Statement.FeatureDeprecationWarning} {category: DEPRECATION} {title: This feature is deprecated and will be removed in future versions.} {description: CALL subquery without a variable scope clause is now deprecated. Use CALL (node, node) { ... }} {position: line: 3, column: 13, offset: 104} for query: \"CALL db.index.fulltext.queryNodes('entity', $query, {limit:2})\\n            YIELD node,score\\n            CALL {\\n              WITH node\\n              MATCH (node)-[r:!MENTIONS]->(neighbor)\\n              RETURN node.id + ' - ' + type(r) + ' -> ' + neighbor.id AS output\\n              UNION ALL\\n              WITH node\\n              MATCH (node)<-[r:!MENTIONS]-(neighbor)\\n              RETURN neighbor.id + ' - ' + type(r) + ' -> ' +  node.id AS output\\n            }\\n            RETURN output LIMIT 50\\n            \"\n",
            "WARNING:neo4j.notifications:Received notification from DBMS server: {severity: WARNING} {code: Neo.ClientNotification.Statement.FeatureDeprecationWarning} {category: DEPRECATION} {title: This feature is deprecated and will be removed in future versions.} {description: CALL subquery without a variable scope clause is now deprecated. Use CALL (node, node) { ... }} {position: line: 3, column: 13, offset: 104} for query: \"CALL db.index.fulltext.queryNodes('entity', $query, {limit:2})\\n            YIELD node,score\\n            CALL {\\n              WITH node\\n              MATCH (node)-[r:!MENTIONS]->(neighbor)\\n              RETURN node.id + ' - ' + type(r) + ' -> ' + neighbor.id AS output\\n              UNION ALL\\n              WITH node\\n              MATCH (node)<-[r:!MENTIONS]-(neighbor)\\n              RETURN neighbor.id + ' - ' + type(r) + ' -> ' +  node.id AS output\\n            }\\n            RETURN output LIMIT 50\\n            \"\n",
            "WARNING:neo4j.notifications:Received notification from DBMS server: {severity: WARNING} {code: Neo.ClientNotification.Statement.FeatureDeprecationWarning} {category: DEPRECATION} {title: This feature is deprecated and will be removed in future versions.} {description: CALL subquery without a variable scope clause is now deprecated. Use CALL () { ... }} {position: line: 1, column: 1, offset: 0} for query: \"CALL { CALL db.index.vector.queryNodes($index, $k, $embedding) YIELD node, score WITH collect({node:node, score:score}) AS nodes, max(score) AS max UNWIND nodes AS n RETURN n.node AS node, (n.score / max) AS score UNION CALL db.index.fulltext.queryNodes($keyword_index, $query, {limit: $k}) YIELD node, score WITH collect({node:node, score:score}) AS nodes, max(score) AS max UNWIND nodes AS n RETURN n.node AS node, (n.score / max) AS score } WITH node, max(score) AS score ORDER BY score DESC LIMIT $k RETURN reduce(str='', k IN ['text'] | str + '\\\\n' + k + ': ' + coalesce(node[k], '')) AS text, node {.*, `embedding`: Null, id: Null, `text`: Null} AS metadata, score\"\n"
          ]
        },
        {
          "output_type": "stream",
          "name": "stdout",
          "text": [
            "Hello. I read carefully your question and would recommend consulting first with an ENT specialist in order to exclude a possible inner ear disorder, which could trigger this clinical situation. The symptoms you described, such as intense dizziness, nausea, and pressure in the ear, are suggestive of a possible inner ear issue.\n"
          ]
        }
      ]
    },
    {
      "cell_type": "code",
      "source": [
        "# Define the function to calculate all metrics\n",
        "def evaluate_all_metrics(reference, hypothesis):\n",
        "    results = {}\n",
        "\n",
        "    # 1. BLEU Score\n",
        "    reference_tokens = [reference.split()]  # BLEU expects a list of reference sentences\n",
        "    hypothesis_tokens = hypothesis.split()\n",
        "    bleu_score = sentence_bleu(reference_tokens, hypothesis_tokens)\n",
        "    results['BLEU'] = bleu_score\n",
        "\n",
        "    # 2. ROUGE Scores\n",
        "    scorer = rouge_scorer.RougeScorer(['rouge1', 'rougeL'], use_stemmer=True)\n",
        "    rouge_scores = scorer.score(reference, hypothesis)\n",
        "    results['ROUGE-1'] = rouge_scores['rouge1'].fmeasure  # F1 score for unigram overlap\n",
        "    results['ROUGE-L'] = rouge_scores['rougeL'].fmeasure  # F1 score for longest common subsequence\n",
        "\n",
        "    # 3. Cosine Similarity (Semantic)\n",
        "    model = SentenceTransformer('sentence-transformers/msmarco-distilbert-cos-v5')  # Small and efficient model\n",
        "    embeddings = model.encode([reference, hypothesis])\n",
        "    cosine_sim = cosine_similarity([embeddings[0]], [embeddings[1]])[0][0]\n",
        "    results['Cosine Similarity'] = cosine_sim\n",
        "\n",
        "    # 4. Levenshtein Distance\n",
        "    levenshtein_distance = Levenshtein.distance(reference, hypothesis)\n",
        "    results['Levenshtein Distance'] = levenshtein_distance\n",
        "\n",
        "    return results"
      ],
      "metadata": {
        "execution": {
          "iopub.status.busy": "2024-09-28T04:48:48.31541Z",
          "iopub.execute_input": "2024-09-28T04:48:48.315895Z",
          "iopub.status.idle": "2024-09-28T04:48:48.327868Z",
          "shell.execute_reply.started": "2024-09-28T04:48:48.31584Z",
          "shell.execute_reply": "2024-09-28T04:48:48.326543Z"
        },
        "trusted": true,
        "id": "R6od0dioeoPG"
      },
      "execution_count": null,
      "outputs": []
    },
    {
      "cell_type": "code",
      "source": [
        "ideal_res_doc, question_user, response = [], [], []\n",
        "print(len(docs))\n",
        "for i in range(len(docs)):\n",
        "  text = docs[i].page_content\n",
        "  if 'content\\':' in text:\n",
        "    extracted_text = text.split('content\\':')[1].strip()\n",
        "    split_parts = extracted_text.split(\"'ideal':\")\n",
        "    query = split_parts[0].strip()[:-3].strip()\n",
        "    ideal_response = split_parts[1].strip()[:-2].strip()\n",
        "    question_user.append(query)\n",
        "    ideal_res_doc.append(ideal_response)"
      ],
      "metadata": {
        "execution": {
          "iopub.status.busy": "2024-09-28T04:49:04.583779Z",
          "iopub.execute_input": "2024-09-28T04:49:04.58432Z",
          "iopub.status.idle": "2024-09-28T04:49:04.590966Z",
          "shell.execute_reply.started": "2024-09-28T04:49:04.584272Z",
          "shell.execute_reply": "2024-09-28T04:49:04.589579Z"
        },
        "trusted": true,
        "id": "M7KhVjRZeoPG",
        "colab": {
          "base_uri": "https://localhost:8080/"
        },
        "collapsed": true,
        "outputId": "2ebcbdd8-3feb-405f-db65-edc52d96a96f"
      },
      "execution_count": null,
      "outputs": [
        {
          "output_type": "stream",
          "name": "stdout",
          "text": [
            "2000\n",
            "SUiiii -----> 0\n",
            "SUiiii -----> 1\n",
            "SUiiii -----> 2\n",
            "SUiiii -----> 3\n",
            "SUiiii -----> 4\n",
            "SUiiii -----> 5\n",
            "SUiiii -----> 6\n",
            "SUiiii -----> 7\n",
            "SUiiii -----> 8\n",
            "SUiiii -----> 9\n",
            "SUiiii -----> 10\n",
            "SUiiii -----> 11\n",
            "SUiiii -----> 12\n",
            "SUiiii -----> 13\n",
            "SUiiii -----> 14\n",
            "SUiiii -----> 15\n",
            "SUiiii -----> 16\n",
            "SUiiii -----> 17\n",
            "SUiiii -----> 18\n",
            "SUiiii -----> 19\n",
            "SUiiii -----> 20\n",
            "SUiiii -----> 21\n",
            "SUiiii -----> 22\n",
            "SUiiii -----> 23\n",
            "SUiiii -----> 24\n",
            "SUiiii -----> 25\n",
            "SUiiii -----> 26\n",
            "SUiiii -----> 27\n",
            "SUiiii -----> 28\n",
            "SUiiii -----> 29\n",
            "SUiiii -----> 30\n",
            "SUiiii -----> 31\n",
            "SUiiii -----> 32\n",
            "SUiiii -----> 33\n",
            "SUiiii -----> 34\n",
            "SUiiii -----> 35\n",
            "SUiiii -----> 36\n",
            "SUiiii -----> 37\n",
            "SUiiii -----> 38\n",
            "SUiiii -----> 39\n",
            "SUiiii -----> 40\n",
            "SUiiii -----> 41\n",
            "SUiiii -----> 42\n",
            "SUiiii -----> 43\n",
            "SUiiii -----> 44\n",
            "SUiiii -----> 45\n",
            "SUiiii -----> 46\n",
            "SUiiii -----> 47\n",
            "SUiiii -----> 48\n",
            "SUiiii -----> 49\n",
            "SUiiii -----> 50\n",
            "SUiiii -----> 51\n",
            "SUiiii -----> 52\n",
            "SUiiii -----> 53\n",
            "SUiiii -----> 54\n",
            "SUiiii -----> 55\n",
            "SUiiii -----> 56\n",
            "SUiiii -----> 57\n",
            "SUiiii -----> 58\n",
            "SUiiii -----> 59\n",
            "SUiiii -----> 60\n",
            "SUiiii -----> 61\n",
            "SUiiii -----> 62\n",
            "SUiiii -----> 63\n",
            "SUiiii -----> 64\n",
            "SUiiii -----> 65\n",
            "SUiiii -----> 66\n",
            "SUiiii -----> 67\n",
            "SUiiii -----> 68\n",
            "SUiiii -----> 69\n",
            "SUiiii -----> 70\n",
            "SUiiii -----> 71\n",
            "SUiiii -----> 72\n",
            "SUiiii -----> 73\n",
            "SUiiii -----> 74\n",
            "SUiiii -----> 75\n",
            "SUiiii -----> 76\n",
            "SUiiii -----> 77\n",
            "SUiiii -----> 78\n",
            "SUiiii -----> 79\n",
            "SUiiii -----> 80\n",
            "SUiiii -----> 81\n",
            "SUiiii -----> 82\n",
            "SUiiii -----> 83\n",
            "SUiiii -----> 84\n",
            "SUiiii -----> 85\n",
            "SUiiii -----> 86\n",
            "SUiiii -----> 87\n",
            "SUiiii -----> 88\n",
            "SUiiii -----> 89\n",
            "SUiiii -----> 90\n",
            "SUiiii -----> 91\n",
            "SUiiii -----> 92\n",
            "SUiiii -----> 93\n",
            "SUiiii -----> 94\n",
            "SUiiii -----> 95\n",
            "SUiiii -----> 96\n",
            "SUiiii -----> 97\n",
            "SUiiii -----> 98\n",
            "SUiiii -----> 99\n",
            "SUiiii -----> 100\n",
            "SUiiii -----> 101\n",
            "SUiiii -----> 102\n",
            "SUiiii -----> 103\n",
            "SUiiii -----> 104\n",
            "SUiiii -----> 105\n",
            "SUiiii -----> 106\n",
            "SUiiii -----> 107\n",
            "SUiiii -----> 108\n",
            "SUiiii -----> 109\n",
            "SUiiii -----> 110\n",
            "SUiiii -----> 111\n",
            "SUiiii -----> 112\n",
            "SUiiii -----> 113\n",
            "SUiiii -----> 114\n",
            "SUiiii -----> 115\n",
            "SUiiii -----> 116\n",
            "SUiiii -----> 117\n",
            "SUiiii -----> 118\n",
            "SUiiii -----> 119\n",
            "SUiiii -----> 120\n",
            "SUiiii -----> 121\n",
            "SUiiii -----> 122\n",
            "SUiiii -----> 123\n",
            "SUiiii -----> 124\n",
            "SUiiii -----> 125\n",
            "SUiiii -----> 126\n",
            "SUiiii -----> 127\n",
            "SUiiii -----> 128\n",
            "SUiiii -----> 129\n",
            "SUiiii -----> 130\n",
            "SUiiii -----> 131\n",
            "SUiiii -----> 132\n",
            "SUiiii -----> 133\n",
            "SUiiii -----> 134\n",
            "SUiiii -----> 135\n",
            "SUiiii -----> 136\n",
            "SUiiii -----> 137\n",
            "SUiiii -----> 138\n",
            "SUiiii -----> 139\n",
            "SUiiii -----> 140\n",
            "SUiiii -----> 141\n",
            "SUiiii -----> 142\n",
            "SUiiii -----> 143\n",
            "SUiiii -----> 144\n",
            "SUiiii -----> 145\n",
            "SUiiii -----> 146\n",
            "SUiiii -----> 147\n",
            "SUiiii -----> 148\n",
            "SUiiii -----> 149\n",
            "SUiiii -----> 150\n",
            "SUiiii -----> 151\n",
            "SUiiii -----> 152\n",
            "SUiiii -----> 153\n",
            "SUiiii -----> 154\n",
            "SUiiii -----> 155\n",
            "SUiiii -----> 156\n",
            "SUiiii -----> 157\n",
            "SUiiii -----> 158\n",
            "SUiiii -----> 159\n",
            "SUiiii -----> 160\n",
            "SUiiii -----> 161\n",
            "SUiiii -----> 162\n",
            "SUiiii -----> 163\n",
            "SUiiii -----> 164\n",
            "SUiiii -----> 165\n",
            "SUiiii -----> 166\n",
            "SUiiii -----> 167\n",
            "SUiiii -----> 168\n",
            "SUiiii -----> 169\n",
            "SUiiii -----> 170\n",
            "SUiiii -----> 171\n",
            "SUiiii -----> 172\n",
            "SUiiii -----> 173\n",
            "SUiiii -----> 174\n",
            "SUiiii -----> 175\n",
            "SUiiii -----> 176\n",
            "SUiiii -----> 177\n",
            "SUiiii -----> 178\n",
            "SUiiii -----> 179\n",
            "SUiiii -----> 180\n",
            "SUiiii -----> 181\n",
            "SUiiii -----> 182\n",
            "SUiiii -----> 183\n",
            "SUiiii -----> 184\n",
            "SUiiii -----> 185\n",
            "SUiiii -----> 186\n",
            "SUiiii -----> 187\n",
            "SUiiii -----> 188\n",
            "SUiiii -----> 189\n",
            "SUiiii -----> 190\n",
            "SUiiii -----> 191\n",
            "SUiiii -----> 192\n",
            "SUiiii -----> 193\n",
            "SUiiii -----> 194\n",
            "SUiiii -----> 195\n",
            "SUiiii -----> 196\n",
            "SUiiii -----> 197\n",
            "SUiiii -----> 198\n",
            "SUiiii -----> 199\n",
            "SUiiii -----> 200\n",
            "SUiiii -----> 201\n",
            "SUiiii -----> 202\n",
            "SUiiii -----> 203\n",
            "SUiiii -----> 204\n",
            "SUiiii -----> 205\n",
            "SUiiii -----> 206\n",
            "SUiiii -----> 207\n",
            "SUiiii -----> 208\n",
            "SUiiii -----> 209\n",
            "SUiiii -----> 210\n",
            "SUiiii -----> 211\n",
            "SUiiii -----> 212\n",
            "SUiiii -----> 213\n",
            "SUiiii -----> 214\n",
            "SUiiii -----> 215\n",
            "SUiiii -----> 216\n",
            "SUiiii -----> 217\n",
            "SUiiii -----> 218\n",
            "SUiiii -----> 219\n",
            "SUiiii -----> 220\n",
            "SUiiii -----> 221\n",
            "SUiiii -----> 222\n",
            "SUiiii -----> 223\n",
            "SUiiii -----> 224\n",
            "SUiiii -----> 225\n",
            "SUiiii -----> 226\n",
            "SUiiii -----> 227\n",
            "SUiiii -----> 228\n",
            "SUiiii -----> 229\n",
            "SUiiii -----> 230\n",
            "SUiiii -----> 231\n",
            "SUiiii -----> 232\n",
            "SUiiii -----> 233\n",
            "SUiiii -----> 234\n",
            "SUiiii -----> 235\n",
            "SUiiii -----> 236\n",
            "SUiiii -----> 237\n",
            "SUiiii -----> 238\n",
            "SUiiii -----> 239\n",
            "SUiiii -----> 240\n",
            "SUiiii -----> 241\n",
            "SUiiii -----> 242\n",
            "SUiiii -----> 243\n",
            "SUiiii -----> 244\n",
            "SUiiii -----> 245\n",
            "SUiiii -----> 246\n",
            "SUiiii -----> 247\n",
            "SUiiii -----> 248\n",
            "SUiiii -----> 249\n",
            "SUiiii -----> 250\n",
            "SUiiii -----> 251\n",
            "SUiiii -----> 252\n",
            "SUiiii -----> 253\n",
            "SUiiii -----> 254\n",
            "SUiiii -----> 255\n",
            "SUiiii -----> 256\n",
            "SUiiii -----> 257\n",
            "SUiiii -----> 258\n",
            "SUiiii -----> 259\n",
            "SUiiii -----> 260\n",
            "SUiiii -----> 261\n",
            "SUiiii -----> 262\n",
            "SUiiii -----> 263\n",
            "SUiiii -----> 264\n",
            "SUiiii -----> 265\n",
            "SUiiii -----> 266\n",
            "SUiiii -----> 267\n",
            "SUiiii -----> 268\n",
            "SUiiii -----> 269\n",
            "SUiiii -----> 270\n",
            "SUiiii -----> 271\n",
            "SUiiii -----> 272\n",
            "SUiiii -----> 273\n",
            "SUiiii -----> 274\n",
            "SUiiii -----> 275\n",
            "SUiiii -----> 276\n",
            "SUiiii -----> 277\n",
            "SUiiii -----> 278\n",
            "SUiiii -----> 279\n",
            "SUiiii -----> 280\n",
            "SUiiii -----> 281\n",
            "SUiiii -----> 282\n",
            "SUiiii -----> 283\n",
            "SUiiii -----> 284\n",
            "SUiiii -----> 285\n",
            "SUiiii -----> 286\n",
            "SUiiii -----> 287\n",
            "SUiiii -----> 288\n",
            "SUiiii -----> 289\n",
            "SUiiii -----> 290\n",
            "SUiiii -----> 291\n",
            "SUiiii -----> 292\n",
            "SUiiii -----> 293\n",
            "SUiiii -----> 294\n",
            "SUiiii -----> 295\n",
            "SUiiii -----> 296\n",
            "SUiiii -----> 297\n",
            "SUiiii -----> 298\n",
            "SUiiii -----> 299\n",
            "SUiiii -----> 300\n",
            "SUiiii -----> 301\n",
            "SUiiii -----> 302\n",
            "SUiiii -----> 303\n",
            "SUiiii -----> 304\n",
            "SUiiii -----> 305\n",
            "SUiiii -----> 306\n",
            "SUiiii -----> 307\n",
            "SUiiii -----> 308\n",
            "SUiiii -----> 309\n",
            "SUiiii -----> 310\n",
            "SUiiii -----> 311\n",
            "SUiiii -----> 312\n",
            "SUiiii -----> 313\n",
            "SUiiii -----> 314\n",
            "SUiiii -----> 315\n",
            "SUiiii -----> 316\n",
            "SUiiii -----> 317\n",
            "SUiiii -----> 318\n",
            "SUiiii -----> 319\n",
            "SUiiii -----> 320\n",
            "SUiiii -----> 321\n",
            "SUiiii -----> 322\n",
            "SUiiii -----> 323\n",
            "SUiiii -----> 324\n",
            "SUiiii -----> 325\n",
            "SUiiii -----> 326\n",
            "SUiiii -----> 327\n",
            "SUiiii -----> 328\n",
            "SUiiii -----> 329\n",
            "SUiiii -----> 330\n",
            "SUiiii -----> 331\n",
            "SUiiii -----> 332\n",
            "SUiiii -----> 333\n",
            "SUiiii -----> 334\n",
            "SUiiii -----> 335\n",
            "SUiiii -----> 336\n",
            "SUiiii -----> 337\n",
            "SUiiii -----> 338\n",
            "SUiiii -----> 339\n",
            "SUiiii -----> 340\n",
            "SUiiii -----> 341\n",
            "SUiiii -----> 342\n",
            "SUiiii -----> 343\n",
            "SUiiii -----> 344\n",
            "SUiiii -----> 345\n",
            "SUiiii -----> 346\n",
            "SUiiii -----> 347\n",
            "SUiiii -----> 348\n",
            "SUiiii -----> 349\n",
            "SUiiii -----> 350\n",
            "SUiiii -----> 351\n",
            "SUiiii -----> 352\n",
            "SUiiii -----> 353\n",
            "SUiiii -----> 354\n",
            "SUiiii -----> 355\n",
            "SUiiii -----> 356\n",
            "SUiiii -----> 357\n",
            "SUiiii -----> 358\n",
            "SUiiii -----> 359\n",
            "SUiiii -----> 360\n",
            "SUiiii -----> 361\n",
            "SUiiii -----> 362\n",
            "SUiiii -----> 363\n",
            "SUiiii -----> 364\n",
            "SUiiii -----> 365\n",
            "SUiiii -----> 366\n",
            "SUiiii -----> 367\n",
            "SUiiii -----> 368\n",
            "SUiiii -----> 369\n",
            "SUiiii -----> 370\n",
            "SUiiii -----> 371\n",
            "SUiiii -----> 372\n",
            "SUiiii -----> 373\n",
            "SUiiii -----> 374\n",
            "SUiiii -----> 375\n",
            "SUiiii -----> 376\n",
            "SUiiii -----> 377\n",
            "SUiiii -----> 378\n",
            "SUiiii -----> 379\n",
            "SUiiii -----> 380\n",
            "SUiiii -----> 381\n",
            "SUiiii -----> 382\n",
            "SUiiii -----> 383\n",
            "SUiiii -----> 384\n",
            "SUiiii -----> 385\n",
            "SUiiii -----> 386\n",
            "SUiiii -----> 387\n",
            "SUiiii -----> 388\n",
            "SUiiii -----> 389\n",
            "SUiiii -----> 390\n",
            "SUiiii -----> 391\n",
            "SUiiii -----> 392\n",
            "SUiiii -----> 393\n",
            "SUiiii -----> 394\n",
            "SUiiii -----> 395\n",
            "SUiiii -----> 396\n",
            "SUiiii -----> 397\n",
            "SUiiii -----> 398\n",
            "SUiiii -----> 399\n",
            "SUiiii -----> 400\n",
            "SUiiii -----> 401\n",
            "SUiiii -----> 402\n",
            "SUiiii -----> 403\n",
            "SUiiii -----> 404\n",
            "SUiiii -----> 405\n",
            "SUiiii -----> 406\n",
            "SUiiii -----> 407\n",
            "SUiiii -----> 408\n",
            "SUiiii -----> 409\n",
            "SUiiii -----> 410\n",
            "SUiiii -----> 411\n",
            "SUiiii -----> 412\n",
            "SUiiii -----> 413\n",
            "SUiiii -----> 414\n",
            "SUiiii -----> 415\n",
            "SUiiii -----> 416\n",
            "SUiiii -----> 417\n",
            "SUiiii -----> 418\n",
            "SUiiii -----> 419\n",
            "SUiiii -----> 420\n",
            "SUiiii -----> 421\n",
            "SUiiii -----> 422\n",
            "SUiiii -----> 423\n",
            "SUiiii -----> 424\n",
            "SUiiii -----> 425\n",
            "SUiiii -----> 426\n",
            "SUiiii -----> 427\n",
            "SUiiii -----> 428\n",
            "SUiiii -----> 429\n",
            "SUiiii -----> 430\n",
            "SUiiii -----> 431\n",
            "SUiiii -----> 432\n",
            "SUiiii -----> 433\n",
            "SUiiii -----> 434\n",
            "SUiiii -----> 435\n",
            "SUiiii -----> 436\n",
            "SUiiii -----> 437\n",
            "SUiiii -----> 438\n",
            "SUiiii -----> 439\n",
            "SUiiii -----> 440\n",
            "SUiiii -----> 441\n",
            "SUiiii -----> 442\n",
            "SUiiii -----> 443\n",
            "SUiiii -----> 444\n",
            "SUiiii -----> 445\n",
            "SUiiii -----> 446\n",
            "SUiiii -----> 447\n",
            "SUiiii -----> 448\n",
            "SUiiii -----> 449\n",
            "SUiiii -----> 450\n",
            "SUiiii -----> 451\n",
            "SUiiii -----> 452\n",
            "SUiiii -----> 453\n",
            "SUiiii -----> 454\n",
            "SUiiii -----> 455\n",
            "SUiiii -----> 456\n",
            "SUiiii -----> 457\n",
            "SUiiii -----> 458\n",
            "SUiiii -----> 459\n",
            "SUiiii -----> 460\n",
            "SUiiii -----> 461\n",
            "SUiiii -----> 462\n",
            "SUiiii -----> 463\n",
            "SUiiii -----> 464\n",
            "SUiiii -----> 465\n",
            "SUiiii -----> 466\n",
            "SUiiii -----> 467\n",
            "SUiiii -----> 468\n",
            "SUiiii -----> 469\n",
            "SUiiii -----> 470\n",
            "SUiiii -----> 471\n",
            "SUiiii -----> 472\n",
            "SUiiii -----> 473\n",
            "SUiiii -----> 474\n",
            "SUiiii -----> 475\n",
            "SUiiii -----> 476\n",
            "SUiiii -----> 477\n",
            "SUiiii -----> 478\n",
            "SUiiii -----> 479\n",
            "SUiiii -----> 480\n",
            "SUiiii -----> 481\n",
            "SUiiii -----> 482\n",
            "SUiiii -----> 483\n",
            "SUiiii -----> 484\n",
            "SUiiii -----> 485\n",
            "SUiiii -----> 486\n",
            "SUiiii -----> 487\n",
            "SUiiii -----> 488\n",
            "SUiiii -----> 489\n",
            "SUiiii -----> 490\n",
            "SUiiii -----> 491\n",
            "SUiiii -----> 492\n",
            "SUiiii -----> 493\n",
            "SUiiii -----> 494\n",
            "SUiiii -----> 495\n",
            "SUiiii -----> 496\n",
            "SUiiii -----> 497\n",
            "SUiiii -----> 498\n",
            "SUiiii -----> 499\n",
            "SUiiii -----> 500\n",
            "SUiiii -----> 501\n",
            "SUiiii -----> 502\n",
            "SUiiii -----> 503\n",
            "SUiiii -----> 504\n",
            "SUiiii -----> 505\n",
            "SUiiii -----> 506\n",
            "SUiiii -----> 507\n",
            "SUiiii -----> 508\n",
            "SUiiii -----> 509\n",
            "SUiiii -----> 510\n",
            "SUiiii -----> 511\n",
            "SUiiii -----> 512\n",
            "SUiiii -----> 513\n",
            "SUiiii -----> 514\n",
            "SUiiii -----> 515\n",
            "SUiiii -----> 516\n",
            "SUiiii -----> 517\n",
            "SUiiii -----> 518\n",
            "SUiiii -----> 519\n",
            "SUiiii -----> 520\n",
            "SUiiii -----> 521\n",
            "SUiiii -----> 522\n",
            "SUiiii -----> 523\n",
            "SUiiii -----> 524\n",
            "SUiiii -----> 525\n",
            "SUiiii -----> 526\n",
            "SUiiii -----> 527\n",
            "SUiiii -----> 528\n",
            "SUiiii -----> 529\n",
            "SUiiii -----> 530\n",
            "SUiiii -----> 531\n",
            "SUiiii -----> 532\n",
            "SUiiii -----> 533\n",
            "SUiiii -----> 534\n",
            "SUiiii -----> 535\n",
            "SUiiii -----> 536\n",
            "SUiiii -----> 537\n",
            "SUiiii -----> 538\n",
            "SUiiii -----> 539\n",
            "SUiiii -----> 540\n",
            "SUiiii -----> 541\n",
            "SUiiii -----> 542\n",
            "SUiiii -----> 543\n",
            "SUiiii -----> 544\n",
            "SUiiii -----> 545\n",
            "SUiiii -----> 546\n",
            "SUiiii -----> 547\n",
            "SUiiii -----> 548\n",
            "SUiiii -----> 549\n",
            "SUiiii -----> 550\n",
            "SUiiii -----> 551\n",
            "SUiiii -----> 552\n",
            "SUiiii -----> 553\n",
            "SUiiii -----> 554\n",
            "SUiiii -----> 555\n",
            "SUiiii -----> 556\n",
            "SUiiii -----> 557\n",
            "SUiiii -----> 558\n",
            "SUiiii -----> 559\n",
            "SUiiii -----> 560\n",
            "SUiiii -----> 561\n",
            "SUiiii -----> 562\n",
            "SUiiii -----> 563\n",
            "SUiiii -----> 564\n",
            "SUiiii -----> 565\n",
            "SUiiii -----> 566\n",
            "SUiiii -----> 567\n",
            "SUiiii -----> 568\n",
            "SUiiii -----> 569\n",
            "SUiiii -----> 570\n",
            "SUiiii -----> 571\n",
            "SUiiii -----> 572\n",
            "SUiiii -----> 573\n",
            "SUiiii -----> 574\n",
            "SUiiii -----> 575\n",
            "SUiiii -----> 576\n",
            "SUiiii -----> 577\n",
            "SUiiii -----> 578\n",
            "SUiiii -----> 579\n",
            "SUiiii -----> 580\n",
            "SUiiii -----> 581\n",
            "SUiiii -----> 582\n",
            "SUiiii -----> 583\n",
            "SUiiii -----> 584\n",
            "SUiiii -----> 585\n",
            "SUiiii -----> 586\n",
            "SUiiii -----> 587\n",
            "SUiiii -----> 588\n",
            "SUiiii -----> 589\n",
            "SUiiii -----> 590\n",
            "SUiiii -----> 591\n",
            "SUiiii -----> 592\n",
            "SUiiii -----> 593\n",
            "SUiiii -----> 594\n",
            "SUiiii -----> 595\n",
            "SUiiii -----> 596\n",
            "SUiiii -----> 597\n",
            "SUiiii -----> 598\n",
            "SUiiii -----> 599\n",
            "SUiiii -----> 600\n",
            "SUiiii -----> 601\n",
            "SUiiii -----> 602\n",
            "SUiiii -----> 603\n",
            "SUiiii -----> 604\n",
            "SUiiii -----> 605\n",
            "SUiiii -----> 606\n",
            "SUiiii -----> 607\n",
            "SUiiii -----> 608\n",
            "SUiiii -----> 609\n",
            "SUiiii -----> 610\n",
            "SUiiii -----> 611\n",
            "SUiiii -----> 612\n",
            "SUiiii -----> 613\n",
            "SUiiii -----> 614\n",
            "SUiiii -----> 615\n",
            "SUiiii -----> 616\n",
            "SUiiii -----> 617\n",
            "SUiiii -----> 618\n",
            "SUiiii -----> 619\n",
            "SUiiii -----> 620\n",
            "SUiiii -----> 621\n",
            "SUiiii -----> 622\n",
            "SUiiii -----> 623\n",
            "SUiiii -----> 624\n",
            "SUiiii -----> 625\n",
            "SUiiii -----> 626\n",
            "SUiiii -----> 627\n",
            "SUiiii -----> 628\n",
            "SUiiii -----> 629\n",
            "SUiiii -----> 630\n",
            "SUiiii -----> 631\n",
            "SUiiii -----> 632\n",
            "SUiiii -----> 633\n",
            "SUiiii -----> 634\n",
            "SUiiii -----> 635\n",
            "SUiiii -----> 636\n",
            "SUiiii -----> 637\n",
            "SUiiii -----> 638\n",
            "SUiiii -----> 639\n",
            "SUiiii -----> 640\n",
            "SUiiii -----> 641\n",
            "SUiiii -----> 642\n",
            "SUiiii -----> 643\n",
            "SUiiii -----> 644\n",
            "SUiiii -----> 645\n",
            "SUiiii -----> 646\n",
            "SUiiii -----> 647\n",
            "SUiiii -----> 648\n",
            "SUiiii -----> 649\n",
            "SUiiii -----> 650\n",
            "SUiiii -----> 651\n",
            "SUiiii -----> 652\n",
            "SUiiii -----> 653\n",
            "SUiiii -----> 654\n",
            "SUiiii -----> 655\n",
            "SUiiii -----> 656\n",
            "SUiiii -----> 657\n",
            "SUiiii -----> 658\n",
            "SUiiii -----> 659\n",
            "SUiiii -----> 660\n",
            "SUiiii -----> 661\n",
            "SUiiii -----> 662\n",
            "SUiiii -----> 663\n",
            "SUiiii -----> 664\n",
            "SUiiii -----> 665\n",
            "SUiiii -----> 666\n",
            "SUiiii -----> 667\n",
            "SUiiii -----> 668\n",
            "SUiiii -----> 669\n",
            "SUiiii -----> 670\n",
            "SUiiii -----> 671\n",
            "SUiiii -----> 672\n",
            "SUiiii -----> 673\n",
            "SUiiii -----> 674\n",
            "SUiiii -----> 675\n",
            "SUiiii -----> 676\n",
            "SUiiii -----> 677\n",
            "SUiiii -----> 678\n",
            "SUiiii -----> 679\n",
            "SUiiii -----> 680\n",
            "SUiiii -----> 681\n",
            "SUiiii -----> 682\n",
            "SUiiii -----> 683\n",
            "SUiiii -----> 684\n",
            "SUiiii -----> 685\n",
            "SUiiii -----> 686\n",
            "SUiiii -----> 687\n",
            "SUiiii -----> 688\n",
            "SUiiii -----> 689\n",
            "SUiiii -----> 690\n",
            "SUiiii -----> 691\n",
            "SUiiii -----> 692\n",
            "SUiiii -----> 693\n",
            "SUiiii -----> 694\n",
            "SUiiii -----> 695\n",
            "SUiiii -----> 696\n",
            "SUiiii -----> 697\n",
            "SUiiii -----> 698\n",
            "SUiiii -----> 699\n",
            "SUiiii -----> 700\n",
            "SUiiii -----> 701\n",
            "SUiiii -----> 702\n",
            "SUiiii -----> 703\n",
            "SUiiii -----> 704\n",
            "SUiiii -----> 705\n",
            "SUiiii -----> 706\n",
            "SUiiii -----> 707\n",
            "SUiiii -----> 708\n",
            "SUiiii -----> 709\n",
            "SUiiii -----> 710\n",
            "SUiiii -----> 711\n",
            "SUiiii -----> 712\n",
            "SUiiii -----> 713\n",
            "SUiiii -----> 714\n",
            "SUiiii -----> 715\n",
            "SUiiii -----> 716\n",
            "SUiiii -----> 717\n",
            "SUiiii -----> 718\n",
            "SUiiii -----> 719\n",
            "SUiiii -----> 720\n",
            "SUiiii -----> 721\n",
            "SUiiii -----> 722\n",
            "SUiiii -----> 723\n",
            "SUiiii -----> 724\n",
            "SUiiii -----> 725\n",
            "SUiiii -----> 726\n",
            "SUiiii -----> 727\n",
            "SUiiii -----> 728\n",
            "SUiiii -----> 729\n",
            "SUiiii -----> 730\n",
            "SUiiii -----> 731\n",
            "SUiiii -----> 732\n",
            "SUiiii -----> 733\n",
            "SUiiii -----> 734\n",
            "SUiiii -----> 735\n",
            "SUiiii -----> 736\n",
            "SUiiii -----> 737\n",
            "SUiiii -----> 738\n",
            "SUiiii -----> 739\n",
            "SUiiii -----> 740\n",
            "SUiiii -----> 741\n",
            "SUiiii -----> 742\n",
            "SUiiii -----> 743\n",
            "SUiiii -----> 744\n",
            "SUiiii -----> 745\n",
            "SUiiii -----> 746\n",
            "SUiiii -----> 747\n",
            "SUiiii -----> 748\n",
            "SUiiii -----> 749\n",
            "SUiiii -----> 750\n",
            "SUiiii -----> 751\n",
            "SUiiii -----> 752\n",
            "SUiiii -----> 753\n",
            "SUiiii -----> 754\n",
            "SUiiii -----> 755\n",
            "SUiiii -----> 756\n",
            "SUiiii -----> 757\n",
            "SUiiii -----> 758\n",
            "SUiiii -----> 759\n",
            "SUiiii -----> 760\n",
            "SUiiii -----> 761\n",
            "SUiiii -----> 762\n",
            "SUiiii -----> 763\n",
            "SUiiii -----> 764\n",
            "SUiiii -----> 765\n",
            "SUiiii -----> 766\n",
            "SUiiii -----> 767\n",
            "SUiiii -----> 768\n",
            "SUiiii -----> 769\n",
            "SUiiii -----> 770\n",
            "SUiiii -----> 771\n",
            "SUiiii -----> 772\n",
            "SUiiii -----> 773\n",
            "SUiiii -----> 774\n",
            "SUiiii -----> 775\n",
            "SUiiii -----> 776\n",
            "SUiiii -----> 777\n",
            "SUiiii -----> 778\n",
            "SUiiii -----> 779\n",
            "SUiiii -----> 780\n",
            "SUiiii -----> 781\n",
            "SUiiii -----> 782\n",
            "SUiiii -----> 783\n",
            "SUiiii -----> 784\n",
            "SUiiii -----> 785\n",
            "SUiiii -----> 786\n",
            "SUiiii -----> 787\n",
            "SUiiii -----> 788\n",
            "SUiiii -----> 789\n",
            "SUiiii -----> 790\n",
            "SUiiii -----> 791\n",
            "SUiiii -----> 792\n",
            "SUiiii -----> 793\n",
            "SUiiii -----> 794\n",
            "SUiiii -----> 795\n",
            "SUiiii -----> 796\n",
            "SUiiii -----> 797\n",
            "SUiiii -----> 798\n",
            "SUiiii -----> 799\n",
            "SUiiii -----> 800\n",
            "SUiiii -----> 801\n",
            "SUiiii -----> 802\n",
            "SUiiii -----> 803\n",
            "SUiiii -----> 804\n",
            "SUiiii -----> 805\n",
            "SUiiii -----> 806\n",
            "SUiiii -----> 807\n",
            "SUiiii -----> 808\n",
            "SUiiii -----> 809\n",
            "SUiiii -----> 810\n",
            "SUiiii -----> 811\n",
            "SUiiii -----> 812\n",
            "SUiiii -----> 813\n",
            "SUiiii -----> 814\n",
            "SUiiii -----> 815\n",
            "SUiiii -----> 816\n",
            "SUiiii -----> 817\n",
            "SUiiii -----> 818\n",
            "SUiiii -----> 819\n",
            "SUiiii -----> 820\n",
            "SUiiii -----> 821\n",
            "SUiiii -----> 822\n",
            "SUiiii -----> 823\n",
            "SUiiii -----> 824\n",
            "SUiiii -----> 825\n",
            "SUiiii -----> 826\n",
            "SUiiii -----> 827\n",
            "SUiiii -----> 828\n",
            "SUiiii -----> 829\n",
            "SUiiii -----> 830\n",
            "SUiiii -----> 831\n",
            "SUiiii -----> 832\n",
            "SUiiii -----> 833\n",
            "SUiiii -----> 834\n",
            "SUiiii -----> 835\n",
            "SUiiii -----> 836\n",
            "SUiiii -----> 837\n",
            "SUiiii -----> 838\n",
            "SUiiii -----> 839\n",
            "SUiiii -----> 840\n",
            "SUiiii -----> 841\n",
            "SUiiii -----> 842\n",
            "SUiiii -----> 843\n",
            "SUiiii -----> 844\n",
            "SUiiii -----> 845\n",
            "SUiiii -----> 846\n",
            "SUiiii -----> 847\n",
            "SUiiii -----> 848\n",
            "SUiiii -----> 849\n",
            "SUiiii -----> 850\n",
            "SUiiii -----> 851\n",
            "SUiiii -----> 852\n",
            "SUiiii -----> 853\n",
            "SUiiii -----> 854\n",
            "SUiiii -----> 855\n",
            "SUiiii -----> 856\n",
            "SUiiii -----> 857\n",
            "SUiiii -----> 858\n",
            "SUiiii -----> 859\n",
            "SUiiii -----> 860\n",
            "SUiiii -----> 861\n",
            "SUiiii -----> 862\n",
            "SUiiii -----> 863\n",
            "SUiiii -----> 864\n",
            "SUiiii -----> 865\n",
            "SUiiii -----> 866\n",
            "SUiiii -----> 867\n",
            "SUiiii -----> 868\n",
            "SUiiii -----> 869\n",
            "SUiiii -----> 870\n",
            "SUiiii -----> 871\n",
            "SUiiii -----> 872\n",
            "SUiiii -----> 873\n",
            "SUiiii -----> 874\n",
            "SUiiii -----> 875\n",
            "SUiiii -----> 876\n",
            "SUiiii -----> 877\n",
            "SUiiii -----> 878\n",
            "SUiiii -----> 879\n",
            "SUiiii -----> 880\n",
            "SUiiii -----> 881\n",
            "SUiiii -----> 882\n",
            "SUiiii -----> 883\n",
            "SUiiii -----> 884\n",
            "SUiiii -----> 885\n",
            "SUiiii -----> 886\n",
            "SUiiii -----> 887\n",
            "SUiiii -----> 888\n",
            "SUiiii -----> 889\n",
            "SUiiii -----> 890\n",
            "SUiiii -----> 891\n",
            "SUiiii -----> 892\n",
            "SUiiii -----> 893\n",
            "SUiiii -----> 894\n",
            "SUiiii -----> 895\n",
            "SUiiii -----> 896\n",
            "SUiiii -----> 897\n",
            "SUiiii -----> 898\n",
            "SUiiii -----> 899\n",
            "SUiiii -----> 900\n",
            "SUiiii -----> 901\n",
            "SUiiii -----> 902\n",
            "SUiiii -----> 903\n",
            "SUiiii -----> 904\n",
            "SUiiii -----> 905\n",
            "SUiiii -----> 906\n",
            "SUiiii -----> 907\n",
            "SUiiii -----> 908\n",
            "SUiiii -----> 909\n",
            "SUiiii -----> 910\n",
            "SUiiii -----> 911\n",
            "SUiiii -----> 912\n",
            "SUiiii -----> 913\n",
            "SUiiii -----> 914\n",
            "SUiiii -----> 915\n",
            "SUiiii -----> 916\n",
            "SUiiii -----> 917\n",
            "SUiiii -----> 918\n",
            "SUiiii -----> 919\n",
            "SUiiii -----> 920\n",
            "SUiiii -----> 921\n",
            "SUiiii -----> 922\n",
            "SUiiii -----> 923\n",
            "SUiiii -----> 924\n",
            "SUiiii -----> 925\n",
            "SUiiii -----> 926\n",
            "SUiiii -----> 927\n",
            "SUiiii -----> 928\n",
            "SUiiii -----> 929\n",
            "SUiiii -----> 930\n",
            "SUiiii -----> 931\n",
            "SUiiii -----> 932\n",
            "SUiiii -----> 933\n",
            "SUiiii -----> 934\n",
            "SUiiii -----> 935\n",
            "SUiiii -----> 936\n",
            "SUiiii -----> 937\n",
            "SUiiii -----> 938\n",
            "SUiiii -----> 939\n",
            "SUiiii -----> 940\n",
            "SUiiii -----> 941\n",
            "SUiiii -----> 942\n",
            "SUiiii -----> 943\n",
            "SUiiii -----> 944\n",
            "SUiiii -----> 945\n",
            "SUiiii -----> 946\n",
            "SUiiii -----> 947\n",
            "SUiiii -----> 948\n",
            "SUiiii -----> 949\n",
            "SUiiii -----> 950\n",
            "SUiiii -----> 951\n",
            "SUiiii -----> 952\n",
            "SUiiii -----> 953\n",
            "SUiiii -----> 954\n",
            "SUiiii -----> 955\n",
            "SUiiii -----> 956\n",
            "SUiiii -----> 957\n",
            "SUiiii -----> 958\n",
            "SUiiii -----> 959\n",
            "SUiiii -----> 960\n",
            "SUiiii -----> 961\n",
            "SUiiii -----> 962\n",
            "SUiiii -----> 963\n",
            "SUiiii -----> 964\n",
            "SUiiii -----> 965\n",
            "SUiiii -----> 966\n",
            "SUiiii -----> 967\n",
            "SUiiii -----> 968\n",
            "SUiiii -----> 969\n",
            "SUiiii -----> 970\n",
            "SUiiii -----> 971\n",
            "SUiiii -----> 972\n",
            "SUiiii -----> 973\n",
            "SUiiii -----> 974\n",
            "SUiiii -----> 975\n",
            "SUiiii -----> 976\n",
            "SUiiii -----> 977\n",
            "SUiiii -----> 978\n",
            "SUiiii -----> 979\n",
            "SUiiii -----> 980\n",
            "SUiiii -----> 981\n",
            "SUiiii -----> 982\n",
            "SUiiii -----> 983\n",
            "SUiiii -----> 984\n",
            "SUiiii -----> 985\n",
            "SUiiii -----> 986\n",
            "SUiiii -----> 987\n",
            "SUiiii -----> 988\n",
            "SUiiii -----> 989\n",
            "SUiiii -----> 990\n",
            "SUiiii -----> 991\n",
            "SUiiii -----> 992\n",
            "SUiiii -----> 993\n",
            "SUiiii -----> 994\n",
            "SUiiii -----> 995\n",
            "SUiiii -----> 996\n",
            "SUiiii -----> 997\n",
            "SUiiii -----> 998\n",
            "SUiiii -----> 999\n",
            "SUiiii -----> 1000\n",
            "SUiiii -----> 1001\n",
            "SUiiii -----> 1002\n",
            "SUiiii -----> 1003\n",
            "SUiiii -----> 1004\n",
            "SUiiii -----> 1005\n",
            "SUiiii -----> 1006\n",
            "SUiiii -----> 1007\n",
            "SUiiii -----> 1008\n",
            "SUiiii -----> 1009\n",
            "SUiiii -----> 1010\n",
            "SUiiii -----> 1011\n",
            "SUiiii -----> 1012\n",
            "SUiiii -----> 1013\n",
            "SUiiii -----> 1014\n",
            "SUiiii -----> 1015\n",
            "SUiiii -----> 1016\n",
            "SUiiii -----> 1017\n",
            "SUiiii -----> 1018\n",
            "SUiiii -----> 1019\n",
            "SUiiii -----> 1020\n",
            "SUiiii -----> 1021\n",
            "SUiiii -----> 1022\n",
            "SUiiii -----> 1023\n",
            "SUiiii -----> 1024\n",
            "SUiiii -----> 1025\n",
            "SUiiii -----> 1026\n",
            "SUiiii -----> 1027\n",
            "SUiiii -----> 1028\n",
            "SUiiii -----> 1029\n",
            "SUiiii -----> 1030\n",
            "SUiiii -----> 1031\n",
            "SUiiii -----> 1032\n",
            "SUiiii -----> 1033\n",
            "SUiiii -----> 1034\n",
            "SUiiii -----> 1035\n",
            "SUiiii -----> 1036\n",
            "SUiiii -----> 1037\n",
            "SUiiii -----> 1038\n",
            "SUiiii -----> 1039\n",
            "SUiiii -----> 1040\n",
            "SUiiii -----> 1041\n",
            "SUiiii -----> 1042\n",
            "SUiiii -----> 1043\n",
            "SUiiii -----> 1044\n",
            "SUiiii -----> 1045\n",
            "SUiiii -----> 1046\n",
            "SUiiii -----> 1047\n",
            "SUiiii -----> 1048\n",
            "SUiiii -----> 1049\n",
            "SUiiii -----> 1050\n",
            "SUiiii -----> 1051\n",
            "SUiiii -----> 1052\n",
            "SUiiii -----> 1053\n",
            "SUiiii -----> 1054\n",
            "SUiiii -----> 1055\n",
            "SUiiii -----> 1056\n",
            "SUiiii -----> 1057\n",
            "SUiiii -----> 1058\n",
            "SUiiii -----> 1059\n",
            "SUiiii -----> 1060\n",
            "SUiiii -----> 1061\n",
            "SUiiii -----> 1062\n",
            "SUiiii -----> 1063\n",
            "SUiiii -----> 1064\n",
            "SUiiii -----> 1065\n",
            "SUiiii -----> 1066\n",
            "SUiiii -----> 1067\n",
            "SUiiii -----> 1068\n",
            "SUiiii -----> 1069\n",
            "SUiiii -----> 1070\n",
            "SUiiii -----> 1071\n",
            "SUiiii -----> 1072\n",
            "SUiiii -----> 1073\n",
            "SUiiii -----> 1074\n",
            "SUiiii -----> 1075\n",
            "SUiiii -----> 1076\n",
            "SUiiii -----> 1077\n",
            "SUiiii -----> 1078\n",
            "SUiiii -----> 1079\n",
            "SUiiii -----> 1080\n",
            "SUiiii -----> 1081\n",
            "SUiiii -----> 1082\n",
            "SUiiii -----> 1083\n",
            "SUiiii -----> 1084\n",
            "SUiiii -----> 1085\n",
            "SUiiii -----> 1086\n",
            "SUiiii -----> 1087\n",
            "SUiiii -----> 1088\n",
            "SUiiii -----> 1089\n",
            "SUiiii -----> 1090\n",
            "SUiiii -----> 1091\n",
            "SUiiii -----> 1092\n",
            "SUiiii -----> 1093\n",
            "SUiiii -----> 1094\n",
            "SUiiii -----> 1095\n",
            "SUiiii -----> 1096\n",
            "SUiiii -----> 1097\n",
            "SUiiii -----> 1098\n",
            "SUiiii -----> 1099\n",
            "SUiiii -----> 1100\n",
            "SUiiii -----> 1101\n",
            "SUiiii -----> 1102\n",
            "SUiiii -----> 1103\n",
            "SUiiii -----> 1104\n",
            "SUiiii -----> 1105\n",
            "SUiiii -----> 1106\n",
            "SUiiii -----> 1107\n",
            "SUiiii -----> 1108\n",
            "SUiiii -----> 1109\n",
            "SUiiii -----> 1110\n",
            "SUiiii -----> 1111\n",
            "SUiiii -----> 1112\n",
            "SUiiii -----> 1113\n",
            "SUiiii -----> 1114\n",
            "SUiiii -----> 1115\n",
            "SUiiii -----> 1116\n",
            "SUiiii -----> 1117\n",
            "SUiiii -----> 1118\n",
            "SUiiii -----> 1119\n",
            "SUiiii -----> 1120\n",
            "SUiiii -----> 1121\n",
            "SUiiii -----> 1122\n",
            "SUiiii -----> 1123\n",
            "SUiiii -----> 1124\n",
            "SUiiii -----> 1125\n",
            "SUiiii -----> 1126\n",
            "SUiiii -----> 1127\n",
            "SUiiii -----> 1128\n",
            "SUiiii -----> 1129\n",
            "SUiiii -----> 1130\n",
            "SUiiii -----> 1131\n",
            "SUiiii -----> 1132\n",
            "SUiiii -----> 1133\n",
            "SUiiii -----> 1134\n",
            "SUiiii -----> 1135\n",
            "SUiiii -----> 1136\n",
            "SUiiii -----> 1137\n",
            "SUiiii -----> 1138\n",
            "SUiiii -----> 1139\n",
            "SUiiii -----> 1140\n",
            "SUiiii -----> 1141\n",
            "SUiiii -----> 1142\n",
            "SUiiii -----> 1143\n",
            "SUiiii -----> 1144\n",
            "SUiiii -----> 1145\n",
            "SUiiii -----> 1146\n",
            "SUiiii -----> 1147\n",
            "SUiiii -----> 1148\n",
            "SUiiii -----> 1149\n",
            "SUiiii -----> 1150\n",
            "SUiiii -----> 1151\n",
            "SUiiii -----> 1152\n",
            "SUiiii -----> 1153\n",
            "SUiiii -----> 1154\n",
            "SUiiii -----> 1155\n",
            "SUiiii -----> 1156\n",
            "SUiiii -----> 1157\n",
            "SUiiii -----> 1158\n",
            "SUiiii -----> 1159\n",
            "SUiiii -----> 1160\n",
            "SUiiii -----> 1161\n",
            "SUiiii -----> 1162\n",
            "SUiiii -----> 1163\n",
            "SUiiii -----> 1164\n",
            "SUiiii -----> 1165\n",
            "SUiiii -----> 1166\n",
            "SUiiii -----> 1167\n",
            "SUiiii -----> 1168\n",
            "SUiiii -----> 1169\n",
            "SUiiii -----> 1170\n",
            "SUiiii -----> 1171\n",
            "SUiiii -----> 1172\n",
            "SUiiii -----> 1173\n",
            "SUiiii -----> 1174\n",
            "SUiiii -----> 1175\n",
            "SUiiii -----> 1176\n",
            "SUiiii -----> 1177\n",
            "SUiiii -----> 1178\n",
            "SUiiii -----> 1179\n",
            "SUiiii -----> 1180\n",
            "SUiiii -----> 1181\n",
            "SUiiii -----> 1182\n",
            "SUiiii -----> 1183\n",
            "SUiiii -----> 1184\n",
            "SUiiii -----> 1185\n",
            "SUiiii -----> 1186\n",
            "SUiiii -----> 1187\n",
            "SUiiii -----> 1188\n",
            "SUiiii -----> 1189\n",
            "SUiiii -----> 1190\n",
            "SUiiii -----> 1191\n",
            "SUiiii -----> 1192\n",
            "SUiiii -----> 1193\n",
            "SUiiii -----> 1194\n",
            "SUiiii -----> 1195\n",
            "SUiiii -----> 1196\n",
            "SUiiii -----> 1197\n",
            "SUiiii -----> 1198\n",
            "SUiiii -----> 1199\n",
            "SUiiii -----> 1200\n",
            "SUiiii -----> 1201\n",
            "SUiiii -----> 1202\n",
            "SUiiii -----> 1203\n",
            "SUiiii -----> 1204\n",
            "SUiiii -----> 1205\n",
            "SUiiii -----> 1206\n",
            "SUiiii -----> 1207\n",
            "SUiiii -----> 1208\n",
            "SUiiii -----> 1209\n",
            "SUiiii -----> 1210\n",
            "SUiiii -----> 1211\n",
            "SUiiii -----> 1212\n",
            "SUiiii -----> 1213\n",
            "SUiiii -----> 1214\n",
            "SUiiii -----> 1215\n",
            "SUiiii -----> 1216\n",
            "SUiiii -----> 1217\n",
            "SUiiii -----> 1218\n",
            "SUiiii -----> 1219\n",
            "SUiiii -----> 1220\n",
            "SUiiii -----> 1221\n",
            "SUiiii -----> 1222\n",
            "SUiiii -----> 1223\n",
            "SUiiii -----> 1224\n",
            "SUiiii -----> 1225\n",
            "SUiiii -----> 1226\n",
            "SUiiii -----> 1227\n",
            "SUiiii -----> 1228\n",
            "SUiiii -----> 1229\n",
            "SUiiii -----> 1230\n",
            "SUiiii -----> 1231\n",
            "SUiiii -----> 1232\n",
            "SUiiii -----> 1233\n",
            "SUiiii -----> 1234\n",
            "SUiiii -----> 1235\n",
            "SUiiii -----> 1236\n",
            "SUiiii -----> 1237\n",
            "SUiiii -----> 1238\n",
            "SUiiii -----> 1239\n",
            "SUiiii -----> 1240\n",
            "SUiiii -----> 1241\n",
            "SUiiii -----> 1242\n",
            "SUiiii -----> 1243\n",
            "SUiiii -----> 1244\n",
            "SUiiii -----> 1245\n",
            "SUiiii -----> 1246\n",
            "SUiiii -----> 1247\n",
            "SUiiii -----> 1248\n",
            "SUiiii -----> 1249\n",
            "SUiiii -----> 1250\n",
            "SUiiii -----> 1251\n",
            "SUiiii -----> 1252\n",
            "SUiiii -----> 1253\n",
            "SUiiii -----> 1254\n",
            "SUiiii -----> 1255\n",
            "SUiiii -----> 1256\n",
            "SUiiii -----> 1257\n",
            "SUiiii -----> 1258\n",
            "SUiiii -----> 1259\n",
            "SUiiii -----> 1260\n",
            "SUiiii -----> 1261\n",
            "SUiiii -----> 1262\n",
            "SUiiii -----> 1263\n",
            "SUiiii -----> 1264\n",
            "SUiiii -----> 1265\n",
            "SUiiii -----> 1266\n",
            "SUiiii -----> 1267\n",
            "SUiiii -----> 1268\n",
            "SUiiii -----> 1269\n",
            "SUiiii -----> 1270\n",
            "SUiiii -----> 1271\n",
            "SUiiii -----> 1272\n",
            "SUiiii -----> 1273\n",
            "SUiiii -----> 1274\n",
            "SUiiii -----> 1275\n",
            "SUiiii -----> 1276\n",
            "SUiiii -----> 1277\n",
            "SUiiii -----> 1278\n",
            "SUiiii -----> 1279\n",
            "SUiiii -----> 1280\n",
            "SUiiii -----> 1281\n",
            "SUiiii -----> 1282\n",
            "SUiiii -----> 1283\n",
            "SUiiii -----> 1284\n",
            "SUiiii -----> 1285\n",
            "SUiiii -----> 1286\n",
            "SUiiii -----> 1287\n",
            "SUiiii -----> 1288\n",
            "SUiiii -----> 1289\n",
            "SUiiii -----> 1290\n",
            "SUiiii -----> 1291\n",
            "SUiiii -----> 1292\n",
            "SUiiii -----> 1293\n",
            "SUiiii -----> 1294\n",
            "SUiiii -----> 1295\n",
            "SUiiii -----> 1296\n",
            "SUiiii -----> 1297\n",
            "SUiiii -----> 1298\n",
            "SUiiii -----> 1299\n",
            "SUiiii -----> 1300\n",
            "SUiiii -----> 1301\n",
            "SUiiii -----> 1302\n",
            "SUiiii -----> 1303\n",
            "SUiiii -----> 1304\n",
            "SUiiii -----> 1305\n",
            "SUiiii -----> 1306\n",
            "SUiiii -----> 1307\n",
            "SUiiii -----> 1308\n",
            "SUiiii -----> 1309\n",
            "SUiiii -----> 1310\n",
            "SUiiii -----> 1311\n",
            "SUiiii -----> 1312\n",
            "SUiiii -----> 1313\n",
            "SUiiii -----> 1314\n",
            "SUiiii -----> 1315\n",
            "SUiiii -----> 1316\n",
            "SUiiii -----> 1317\n",
            "SUiiii -----> 1318\n",
            "SUiiii -----> 1319\n",
            "SUiiii -----> 1320\n",
            "SUiiii -----> 1321\n",
            "SUiiii -----> 1322\n",
            "SUiiii -----> 1323\n",
            "SUiiii -----> 1324\n",
            "SUiiii -----> 1325\n",
            "SUiiii -----> 1326\n",
            "SUiiii -----> 1327\n",
            "SUiiii -----> 1328\n",
            "SUiiii -----> 1329\n",
            "SUiiii -----> 1330\n",
            "SUiiii -----> 1331\n",
            "SUiiii -----> 1332\n",
            "SUiiii -----> 1333\n",
            "SUiiii -----> 1334\n",
            "SUiiii -----> 1335\n",
            "SUiiii -----> 1336\n",
            "SUiiii -----> 1337\n",
            "SUiiii -----> 1338\n",
            "SUiiii -----> 1339\n",
            "SUiiii -----> 1340\n",
            "SUiiii -----> 1341\n",
            "SUiiii -----> 1342\n",
            "SUiiii -----> 1343\n",
            "SUiiii -----> 1344\n",
            "SUiiii -----> 1345\n",
            "SUiiii -----> 1346\n",
            "SUiiii -----> 1347\n",
            "SUiiii -----> 1348\n",
            "SUiiii -----> 1349\n",
            "SUiiii -----> 1350\n",
            "SUiiii -----> 1351\n",
            "SUiiii -----> 1352\n",
            "SUiiii -----> 1353\n",
            "SUiiii -----> 1354\n",
            "SUiiii -----> 1355\n",
            "SUiiii -----> 1356\n",
            "SUiiii -----> 1357\n",
            "SUiiii -----> 1358\n",
            "SUiiii -----> 1359\n",
            "SUiiii -----> 1360\n",
            "SUiiii -----> 1361\n",
            "SUiiii -----> 1362\n",
            "SUiiii -----> 1363\n",
            "SUiiii -----> 1364\n",
            "SUiiii -----> 1365\n",
            "SUiiii -----> 1366\n",
            "SUiiii -----> 1367\n",
            "SUiiii -----> 1368\n",
            "SUiiii -----> 1369\n",
            "SUiiii -----> 1370\n",
            "SUiiii -----> 1371\n",
            "SUiiii -----> 1372\n",
            "SUiiii -----> 1373\n",
            "SUiiii -----> 1374\n",
            "SUiiii -----> 1375\n",
            "SUiiii -----> 1376\n",
            "SUiiii -----> 1377\n",
            "SUiiii -----> 1378\n",
            "SUiiii -----> 1379\n",
            "SUiiii -----> 1380\n",
            "SUiiii -----> 1381\n",
            "SUiiii -----> 1382\n",
            "SUiiii -----> 1383\n",
            "SUiiii -----> 1384\n",
            "SUiiii -----> 1385\n",
            "SUiiii -----> 1386\n",
            "SUiiii -----> 1387\n",
            "SUiiii -----> 1388\n",
            "SUiiii -----> 1389\n",
            "SUiiii -----> 1390\n",
            "SUiiii -----> 1391\n",
            "SUiiii -----> 1392\n",
            "SUiiii -----> 1393\n",
            "SUiiii -----> 1394\n",
            "SUiiii -----> 1395\n",
            "SUiiii -----> 1396\n",
            "SUiiii -----> 1397\n",
            "SUiiii -----> 1398\n",
            "SUiiii -----> 1399\n",
            "SUiiii -----> 1400\n",
            "SUiiii -----> 1401\n",
            "SUiiii -----> 1402\n",
            "SUiiii -----> 1403\n",
            "SUiiii -----> 1404\n",
            "SUiiii -----> 1405\n",
            "SUiiii -----> 1406\n",
            "SUiiii -----> 1407\n",
            "SUiiii -----> 1408\n",
            "SUiiii -----> 1409\n",
            "SUiiii -----> 1410\n",
            "SUiiii -----> 1411\n",
            "SUiiii -----> 1412\n",
            "SUiiii -----> 1413\n",
            "SUiiii -----> 1414\n",
            "SUiiii -----> 1415\n",
            "SUiiii -----> 1416\n",
            "SUiiii -----> 1417\n",
            "SUiiii -----> 1418\n",
            "SUiiii -----> 1419\n",
            "SUiiii -----> 1420\n",
            "SUiiii -----> 1421\n",
            "SUiiii -----> 1422\n",
            "SUiiii -----> 1423\n",
            "SUiiii -----> 1424\n",
            "SUiiii -----> 1425\n",
            "SUiiii -----> 1426\n",
            "SUiiii -----> 1427\n",
            "SUiiii -----> 1428\n",
            "SUiiii -----> 1429\n",
            "SUiiii -----> 1430\n",
            "SUiiii -----> 1431\n",
            "SUiiii -----> 1432\n",
            "SUiiii -----> 1433\n",
            "SUiiii -----> 1434\n",
            "SUiiii -----> 1435\n",
            "SUiiii -----> 1436\n",
            "SUiiii -----> 1437\n",
            "SUiiii -----> 1438\n",
            "SUiiii -----> 1439\n",
            "SUiiii -----> 1440\n",
            "SUiiii -----> 1441\n",
            "SUiiii -----> 1442\n",
            "SUiiii -----> 1443\n",
            "SUiiii -----> 1444\n",
            "SUiiii -----> 1445\n",
            "SUiiii -----> 1446\n",
            "SUiiii -----> 1447\n",
            "SUiiii -----> 1448\n",
            "SUiiii -----> 1449\n",
            "SUiiii -----> 1450\n",
            "SUiiii -----> 1451\n",
            "SUiiii -----> 1452\n",
            "SUiiii -----> 1453\n",
            "SUiiii -----> 1454\n",
            "SUiiii -----> 1455\n",
            "SUiiii -----> 1456\n",
            "SUiiii -----> 1457\n",
            "SUiiii -----> 1458\n",
            "SUiiii -----> 1459\n",
            "SUiiii -----> 1460\n",
            "SUiiii -----> 1461\n",
            "SUiiii -----> 1462\n",
            "SUiiii -----> 1463\n",
            "SUiiii -----> 1464\n",
            "SUiiii -----> 1465\n",
            "SUiiii -----> 1466\n",
            "SUiiii -----> 1467\n",
            "SUiiii -----> 1468\n",
            "SUiiii -----> 1469\n",
            "SUiiii -----> 1470\n",
            "SUiiii -----> 1471\n",
            "SUiiii -----> 1472\n",
            "SUiiii -----> 1473\n",
            "SUiiii -----> 1474\n",
            "SUiiii -----> 1475\n",
            "SUiiii -----> 1476\n",
            "SUiiii -----> 1477\n",
            "SUiiii -----> 1478\n",
            "SUiiii -----> 1479\n",
            "SUiiii -----> 1480\n",
            "SUiiii -----> 1481\n",
            "SUiiii -----> 1482\n",
            "SUiiii -----> 1483\n",
            "SUiiii -----> 1484\n",
            "SUiiii -----> 1485\n",
            "SUiiii -----> 1486\n",
            "SUiiii -----> 1487\n",
            "SUiiii -----> 1488\n",
            "SUiiii -----> 1489\n",
            "SUiiii -----> 1490\n",
            "SUiiii -----> 1491\n",
            "SUiiii -----> 1492\n",
            "SUiiii -----> 1493\n",
            "SUiiii -----> 1494\n",
            "SUiiii -----> 1495\n",
            "SUiiii -----> 1496\n",
            "SUiiii -----> 1497\n",
            "SUiiii -----> 1498\n",
            "SUiiii -----> 1499\n",
            "SUiiii -----> 1500\n",
            "SUiiii -----> 1501\n",
            "SUiiii -----> 1502\n",
            "SUiiii -----> 1503\n",
            "SUiiii -----> 1504\n",
            "SUiiii -----> 1505\n",
            "SUiiii -----> 1506\n",
            "SUiiii -----> 1507\n",
            "SUiiii -----> 1508\n",
            "SUiiii -----> 1509\n",
            "SUiiii -----> 1510\n",
            "SUiiii -----> 1511\n",
            "SUiiii -----> 1512\n",
            "SUiiii -----> 1513\n",
            "SUiiii -----> 1514\n",
            "SUiiii -----> 1515\n",
            "SUiiii -----> 1516\n",
            "SUiiii -----> 1517\n",
            "SUiiii -----> 1518\n",
            "SUiiii -----> 1519\n",
            "SUiiii -----> 1520\n",
            "SUiiii -----> 1521\n",
            "SUiiii -----> 1522\n",
            "SUiiii -----> 1523\n",
            "SUiiii -----> 1524\n",
            "SUiiii -----> 1525\n",
            "SUiiii -----> 1526\n",
            "SUiiii -----> 1527\n",
            "SUiiii -----> 1528\n",
            "SUiiii -----> 1529\n",
            "SUiiii -----> 1530\n",
            "SUiiii -----> 1531\n",
            "SUiiii -----> 1532\n",
            "SUiiii -----> 1533\n",
            "SUiiii -----> 1534\n",
            "SUiiii -----> 1535\n",
            "SUiiii -----> 1536\n",
            "SUiiii -----> 1537\n",
            "SUiiii -----> 1538\n",
            "SUiiii -----> 1539\n",
            "SUiiii -----> 1540\n",
            "SUiiii -----> 1541\n",
            "SUiiii -----> 1542\n",
            "SUiiii -----> 1543\n",
            "SUiiii -----> 1544\n",
            "SUiiii -----> 1545\n",
            "SUiiii -----> 1546\n",
            "SUiiii -----> 1547\n",
            "SUiiii -----> 1548\n",
            "SUiiii -----> 1549\n",
            "SUiiii -----> 1550\n",
            "SUiiii -----> 1551\n",
            "SUiiii -----> 1552\n",
            "SUiiii -----> 1553\n",
            "SUiiii -----> 1554\n",
            "SUiiii -----> 1555\n",
            "SUiiii -----> 1556\n",
            "SUiiii -----> 1557\n",
            "SUiiii -----> 1558\n",
            "SUiiii -----> 1559\n",
            "SUiiii -----> 1560\n",
            "SUiiii -----> 1561\n",
            "SUiiii -----> 1562\n",
            "SUiiii -----> 1563\n",
            "SUiiii -----> 1564\n",
            "SUiiii -----> 1565\n",
            "SUiiii -----> 1566\n",
            "SUiiii -----> 1567\n",
            "SUiiii -----> 1568\n",
            "SUiiii -----> 1569\n",
            "SUiiii -----> 1570\n",
            "SUiiii -----> 1571\n",
            "SUiiii -----> 1572\n",
            "SUiiii -----> 1573\n",
            "SUiiii -----> 1574\n",
            "SUiiii -----> 1575\n",
            "SUiiii -----> 1576\n",
            "SUiiii -----> 1577\n",
            "SUiiii -----> 1578\n",
            "SUiiii -----> 1579\n",
            "SUiiii -----> 1580\n",
            "SUiiii -----> 1581\n",
            "SUiiii -----> 1582\n",
            "SUiiii -----> 1583\n",
            "SUiiii -----> 1584\n",
            "SUiiii -----> 1585\n",
            "SUiiii -----> 1586\n",
            "SUiiii -----> 1587\n",
            "SUiiii -----> 1588\n",
            "SUiiii -----> 1589\n",
            "SUiiii -----> 1590\n",
            "SUiiii -----> 1591\n",
            "SUiiii -----> 1592\n",
            "SUiiii -----> 1593\n",
            "SUiiii -----> 1594\n",
            "SUiiii -----> 1595\n",
            "SUiiii -----> 1596\n",
            "SUiiii -----> 1597\n",
            "SUiiii -----> 1598\n",
            "SUiiii -----> 1599\n",
            "SUiiii -----> 1600\n",
            "SUiiii -----> 1601\n",
            "SUiiii -----> 1602\n",
            "SUiiii -----> 1603\n",
            "SUiiii -----> 1604\n",
            "SUiiii -----> 1605\n",
            "SUiiii -----> 1606\n",
            "SUiiii -----> 1607\n",
            "SUiiii -----> 1608\n",
            "SUiiii -----> 1609\n",
            "SUiiii -----> 1610\n",
            "SUiiii -----> 1611\n",
            "SUiiii -----> 1612\n",
            "SUiiii -----> 1613\n",
            "SUiiii -----> 1614\n",
            "SUiiii -----> 1615\n",
            "SUiiii -----> 1616\n",
            "SUiiii -----> 1617\n",
            "SUiiii -----> 1618\n",
            "SUiiii -----> 1619\n",
            "SUiiii -----> 1620\n",
            "SUiiii -----> 1621\n",
            "SUiiii -----> 1622\n",
            "SUiiii -----> 1623\n",
            "SUiiii -----> 1624\n",
            "SUiiii -----> 1625\n",
            "SUiiii -----> 1626\n",
            "SUiiii -----> 1627\n",
            "SUiiii -----> 1628\n",
            "SUiiii -----> 1629\n",
            "SUiiii -----> 1630\n",
            "SUiiii -----> 1631\n",
            "SUiiii -----> 1632\n",
            "SUiiii -----> 1633\n",
            "SUiiii -----> 1634\n",
            "SUiiii -----> 1635\n",
            "SUiiii -----> 1636\n",
            "SUiiii -----> 1637\n",
            "SUiiii -----> 1638\n",
            "SUiiii -----> 1639\n",
            "SUiiii -----> 1640\n",
            "SUiiii -----> 1641\n",
            "SUiiii -----> 1642\n",
            "SUiiii -----> 1643\n",
            "SUiiii -----> 1644\n",
            "SUiiii -----> 1645\n",
            "SUiiii -----> 1646\n",
            "SUiiii -----> 1647\n",
            "SUiiii -----> 1648\n",
            "SUiiii -----> 1649\n",
            "SUiiii -----> 1650\n",
            "SUiiii -----> 1651\n",
            "SUiiii -----> 1652\n",
            "SUiiii -----> 1653\n",
            "SUiiii -----> 1654\n",
            "SUiiii -----> 1655\n",
            "SUiiii -----> 1656\n",
            "SUiiii -----> 1657\n",
            "SUiiii -----> 1658\n",
            "SUiiii -----> 1659\n",
            "SUiiii -----> 1660\n",
            "SUiiii -----> 1661\n",
            "SUiiii -----> 1662\n",
            "SUiiii -----> 1663\n",
            "SUiiii -----> 1664\n",
            "SUiiii -----> 1665\n",
            "SUiiii -----> 1666\n",
            "SUiiii -----> 1667\n",
            "SUiiii -----> 1668\n",
            "SUiiii -----> 1669\n",
            "SUiiii -----> 1670\n",
            "SUiiii -----> 1671\n",
            "SUiiii -----> 1672\n",
            "SUiiii -----> 1673\n",
            "SUiiii -----> 1674\n",
            "SUiiii -----> 1675\n",
            "SUiiii -----> 1676\n",
            "SUiiii -----> 1677\n",
            "SUiiii -----> 1678\n",
            "SUiiii -----> 1679\n",
            "SUiiii -----> 1680\n",
            "SUiiii -----> 1681\n",
            "SUiiii -----> 1682\n",
            "SUiiii -----> 1683\n",
            "SUiiii -----> 1684\n",
            "SUiiii -----> 1685\n",
            "SUiiii -----> 1686\n",
            "SUiiii -----> 1687\n",
            "SUiiii -----> 1688\n",
            "SUiiii -----> 1689\n",
            "SUiiii -----> 1690\n",
            "SUiiii -----> 1691\n",
            "SUiiii -----> 1692\n",
            "SUiiii -----> 1693\n",
            "SUiiii -----> 1694\n",
            "SUiiii -----> 1695\n",
            "SUiiii -----> 1696\n",
            "SUiiii -----> 1697\n",
            "SUiiii -----> 1698\n",
            "SUiiii -----> 1699\n",
            "SUiiii -----> 1700\n",
            "SUiiii -----> 1701\n",
            "SUiiii -----> 1702\n",
            "SUiiii -----> 1703\n",
            "SUiiii -----> 1704\n",
            "SUiiii -----> 1705\n",
            "SUiiii -----> 1706\n",
            "SUiiii -----> 1707\n",
            "SUiiii -----> 1708\n",
            "SUiiii -----> 1709\n",
            "SUiiii -----> 1710\n",
            "SUiiii -----> 1711\n",
            "SUiiii -----> 1712\n",
            "SUiiii -----> 1713\n",
            "SUiiii -----> 1714\n",
            "SUiiii -----> 1715\n",
            "SUiiii -----> 1716\n",
            "SUiiii -----> 1717\n",
            "SUiiii -----> 1718\n",
            "SUiiii -----> 1719\n",
            "SUiiii -----> 1720\n",
            "SUiiii -----> 1721\n",
            "SUiiii -----> 1722\n",
            "SUiiii -----> 1723\n",
            "SUiiii -----> 1724\n",
            "SUiiii -----> 1725\n",
            "SUiiii -----> 1726\n",
            "SUiiii -----> 1727\n",
            "SUiiii -----> 1728\n",
            "SUiiii -----> 1729\n",
            "SUiiii -----> 1730\n",
            "SUiiii -----> 1731\n",
            "SUiiii -----> 1732\n",
            "SUiiii -----> 1733\n",
            "SUiiii -----> 1734\n",
            "SUiiii -----> 1735\n",
            "SUiiii -----> 1736\n",
            "SUiiii -----> 1737\n",
            "SUiiii -----> 1738\n",
            "SUiiii -----> 1739\n",
            "SUiiii -----> 1740\n",
            "SUiiii -----> 1741\n",
            "SUiiii -----> 1742\n",
            "SUiiii -----> 1743\n",
            "SUiiii -----> 1744\n",
            "SUiiii -----> 1745\n",
            "SUiiii -----> 1746\n",
            "SUiiii -----> 1747\n",
            "SUiiii -----> 1748\n",
            "SUiiii -----> 1749\n",
            "SUiiii -----> 1750\n",
            "SUiiii -----> 1751\n",
            "SUiiii -----> 1752\n",
            "SUiiii -----> 1753\n",
            "SUiiii -----> 1754\n",
            "SUiiii -----> 1755\n",
            "SUiiii -----> 1756\n",
            "SUiiii -----> 1757\n",
            "SUiiii -----> 1758\n",
            "SUiiii -----> 1759\n",
            "SUiiii -----> 1760\n",
            "SUiiii -----> 1761\n",
            "SUiiii -----> 1762\n",
            "SUiiii -----> 1763\n",
            "SUiiii -----> 1764\n",
            "SUiiii -----> 1765\n",
            "SUiiii -----> 1766\n",
            "SUiiii -----> 1767\n",
            "SUiiii -----> 1768\n",
            "SUiiii -----> 1769\n",
            "SUiiii -----> 1770\n",
            "SUiiii -----> 1771\n",
            "SUiiii -----> 1772\n",
            "SUiiii -----> 1773\n",
            "SUiiii -----> 1774\n",
            "SUiiii -----> 1775\n",
            "SUiiii -----> 1776\n",
            "SUiiii -----> 1777\n",
            "SUiiii -----> 1778\n",
            "SUiiii -----> 1779\n",
            "SUiiii -----> 1780\n",
            "SUiiii -----> 1781\n",
            "SUiiii -----> 1782\n",
            "SUiiii -----> 1783\n",
            "SUiiii -----> 1784\n",
            "SUiiii -----> 1785\n",
            "SUiiii -----> 1786\n",
            "SUiiii -----> 1787\n",
            "SUiiii -----> 1788\n",
            "SUiiii -----> 1789\n",
            "SUiiii -----> 1790\n",
            "SUiiii -----> 1791\n",
            "SUiiii -----> 1792\n",
            "SUiiii -----> 1793\n",
            "SUiiii -----> 1794\n",
            "SUiiii -----> 1795\n",
            "SUiiii -----> 1796\n",
            "SUiiii -----> 1797\n",
            "SUiiii -----> 1798\n",
            "SUiiii -----> 1799\n",
            "SUiiii -----> 1800\n",
            "SUiiii -----> 1801\n",
            "SUiiii -----> 1802\n",
            "SUiiii -----> 1803\n",
            "SUiiii -----> 1804\n",
            "SUiiii -----> 1805\n",
            "SUiiii -----> 1806\n",
            "SUiiii -----> 1807\n",
            "SUiiii -----> 1808\n",
            "SUiiii -----> 1809\n",
            "SUiiii -----> 1810\n",
            "SUiiii -----> 1811\n",
            "SUiiii -----> 1812\n",
            "SUiiii -----> 1813\n",
            "SUiiii -----> 1814\n",
            "SUiiii -----> 1815\n",
            "SUiiii -----> 1816\n",
            "SUiiii -----> 1817\n",
            "SUiiii -----> 1818\n",
            "SUiiii -----> 1819\n",
            "SUiiii -----> 1820\n",
            "SUiiii -----> 1821\n",
            "SUiiii -----> 1822\n",
            "SUiiii -----> 1823\n",
            "SUiiii -----> 1824\n",
            "SUiiii -----> 1825\n",
            "SUiiii -----> 1826\n",
            "SUiiii -----> 1827\n",
            "SUiiii -----> 1828\n",
            "SUiiii -----> 1829\n",
            "SUiiii -----> 1830\n",
            "SUiiii -----> 1831\n",
            "SUiiii -----> 1832\n",
            "SUiiii -----> 1833\n",
            "SUiiii -----> 1834\n",
            "SUiiii -----> 1835\n",
            "SUiiii -----> 1836\n",
            "SUiiii -----> 1837\n",
            "SUiiii -----> 1838\n",
            "SUiiii -----> 1839\n",
            "SUiiii -----> 1840\n",
            "SUiiii -----> 1841\n",
            "SUiiii -----> 1842\n",
            "SUiiii -----> 1843\n",
            "SUiiii -----> 1844\n",
            "SUiiii -----> 1845\n",
            "SUiiii -----> 1846\n",
            "SUiiii -----> 1847\n",
            "SUiiii -----> 1848\n",
            "SUiiii -----> 1849\n",
            "SUiiii -----> 1850\n",
            "SUiiii -----> 1851\n",
            "SUiiii -----> 1852\n",
            "SUiiii -----> 1853\n",
            "SUiiii -----> 1854\n",
            "SUiiii -----> 1855\n",
            "SUiiii -----> 1856\n",
            "SUiiii -----> 1857\n",
            "SUiiii -----> 1858\n",
            "SUiiii -----> 1859\n",
            "SUiiii -----> 1860\n",
            "SUiiii -----> 1861\n",
            "SUiiii -----> 1862\n",
            "SUiiii -----> 1863\n",
            "SUiiii -----> 1864\n",
            "SUiiii -----> 1865\n",
            "SUiiii -----> 1866\n",
            "SUiiii -----> 1867\n",
            "SUiiii -----> 1868\n",
            "SUiiii -----> 1869\n",
            "SUiiii -----> 1870\n",
            "SUiiii -----> 1871\n",
            "SUiiii -----> 1872\n",
            "SUiiii -----> 1873\n",
            "SUiiii -----> 1874\n",
            "SUiiii -----> 1875\n",
            "SUiiii -----> 1876\n",
            "SUiiii -----> 1877\n",
            "SUiiii -----> 1878\n",
            "SUiiii -----> 1879\n",
            "SUiiii -----> 1880\n",
            "SUiiii -----> 1881\n",
            "SUiiii -----> 1882\n",
            "SUiiii -----> 1883\n",
            "SUiiii -----> 1884\n",
            "SUiiii -----> 1885\n",
            "SUiiii -----> 1886\n",
            "SUiiii -----> 1887\n",
            "SUiiii -----> 1888\n",
            "SUiiii -----> 1889\n",
            "SUiiii -----> 1890\n",
            "SUiiii -----> 1891\n",
            "SUiiii -----> 1892\n",
            "SUiiii -----> 1893\n",
            "SUiiii -----> 1894\n",
            "SUiiii -----> 1895\n",
            "SUiiii -----> 1896\n",
            "SUiiii -----> 1897\n",
            "SUiiii -----> 1898\n",
            "SUiiii -----> 1899\n",
            "SUiiii -----> 1900\n",
            "SUiiii -----> 1901\n",
            "SUiiii -----> 1902\n",
            "SUiiii -----> 1903\n",
            "SUiiii -----> 1904\n",
            "SUiiii -----> 1905\n",
            "SUiiii -----> 1906\n",
            "SUiiii -----> 1907\n",
            "SUiiii -----> 1908\n",
            "SUiiii -----> 1909\n",
            "SUiiii -----> 1910\n",
            "SUiiii -----> 1911\n",
            "SUiiii -----> 1912\n",
            "SUiiii -----> 1913\n",
            "SUiiii -----> 1914\n",
            "SUiiii -----> 1915\n",
            "SUiiii -----> 1916\n",
            "SUiiii -----> 1917\n",
            "SUiiii -----> 1918\n",
            "SUiiii -----> 1919\n",
            "SUiiii -----> 1920\n",
            "SUiiii -----> 1921\n",
            "SUiiii -----> 1922\n",
            "SUiiii -----> 1923\n",
            "SUiiii -----> 1924\n",
            "SUiiii -----> 1925\n",
            "SUiiii -----> 1926\n",
            "SUiiii -----> 1927\n",
            "SUiiii -----> 1928\n",
            "SUiiii -----> 1929\n",
            "SUiiii -----> 1930\n",
            "SUiiii -----> 1931\n",
            "SUiiii -----> 1932\n",
            "SUiiii -----> 1933\n",
            "SUiiii -----> 1934\n",
            "SUiiii -----> 1935\n",
            "SUiiii -----> 1936\n",
            "SUiiii -----> 1937\n",
            "SUiiii -----> 1938\n",
            "SUiiii -----> 1939\n",
            "SUiiii -----> 1940\n",
            "SUiiii -----> 1941\n",
            "SUiiii -----> 1942\n",
            "SUiiii -----> 1943\n",
            "SUiiii -----> 1944\n",
            "SUiiii -----> 1945\n",
            "SUiiii -----> 1946\n",
            "SUiiii -----> 1947\n",
            "SUiiii -----> 1948\n",
            "SUiiii -----> 1949\n",
            "SUiiii -----> 1950\n",
            "SUiiii -----> 1951\n",
            "SUiiii -----> 1952\n",
            "SUiiii -----> 1953\n",
            "SUiiii -----> 1954\n",
            "SUiiii -----> 1955\n",
            "SUiiii -----> 1956\n",
            "SUiiii -----> 1957\n",
            "SUiiii -----> 1958\n",
            "SUiiii -----> 1959\n",
            "SUiiii -----> 1960\n",
            "SUiiii -----> 1961\n",
            "SUiiii -----> 1962\n",
            "SUiiii -----> 1963\n",
            "SUiiii -----> 1964\n",
            "SUiiii -----> 1965\n",
            "SUiiii -----> 1966\n",
            "SUiiii -----> 1967\n",
            "SUiiii -----> 1968\n",
            "SUiiii -----> 1969\n",
            "SUiiii -----> 1970\n",
            "SUiiii -----> 1971\n",
            "SUiiii -----> 1972\n",
            "SUiiii -----> 1973\n",
            "SUiiii -----> 1974\n",
            "SUiiii -----> 1975\n",
            "SUiiii -----> 1976\n",
            "SUiiii -----> 1977\n",
            "SUiiii -----> 1978\n",
            "SUiiii -----> 1979\n",
            "SUiiii -----> 1980\n",
            "SUiiii -----> 1981\n",
            "SUiiii -----> 1982\n",
            "SUiiii -----> 1983\n",
            "SUiiii -----> 1984\n",
            "SUiiii -----> 1985\n",
            "SUiiii -----> 1986\n",
            "SUiiii -----> 1987\n",
            "SUiiii -----> 1988\n",
            "SUiiii -----> 1989\n",
            "SUiiii -----> 1990\n",
            "SUiiii -----> 1991\n",
            "SUiiii -----> 1992\n",
            "SUiiii -----> 1993\n",
            "SUiiii -----> 1994\n",
            "SUiiii -----> 1995\n",
            "SUiiii -----> 1996\n",
            "SUiiii -----> 1997\n",
            "SUiiii -----> 1998\n",
            "SUiiii -----> 1999\n"
          ]
        }
      ]
    },
    {
      "cell_type": "code",
      "source": [
        "cosSum, bleuSum, rougeSum, LevenshteinSum = 0, 0, 0, 0\n",
        "test_size = 100\n",
        "\n",
        "for i in range(test_size):\n",
        "  res = chain.invoke({\"question\": question_user[i]})\n",
        "  response.append(res)\n",
        "  metrics = evaluate_all_metrics(ideal_res_doc[i], response[i])\n",
        "  cosSum += metrics['Cosine Similarity']\n",
        "  bleuSum += metrics['BLEU']\n",
        "  rougeSum += metrics['ROUGE-L']\n",
        "  LevenshteinSum += metrics['Levenshtein Distance']\n",
        "\n",
        "  print(f\"Done-> {i}\")\n"
      ],
      "metadata": {
        "id": "nr8Ak9fLwtuX",
        "execution": {
          "iopub.status.busy": "2024-09-28T04:49:06.196368Z",
          "iopub.execute_input": "2024-09-28T04:49:06.196818Z",
          "iopub.status.idle": "2024-09-28T04:49:07.427431Z",
          "shell.execute_reply.started": "2024-09-28T04:49:06.196775Z",
          "shell.execute_reply": "2024-09-28T04:49:07.42614Z"
        },
        "trusted": true,
        "colab": {
          "base_uri": "https://localhost:8080/",
          "height": 1000
        },
        "collapsed": true,
        "outputId": "ba7454bf-6e17-40a2-95a9-143abf282981"
      },
      "execution_count": null,
      "outputs": [
        {
          "output_type": "stream",
          "name": "stdout",
          "text": [
            "Search query: 'Hello doctor,I had mumps five months ago and after that, I started to have an infection in my left testes. It was swollen and now it has shrunk to almost half the size of the other one. As I am sexually active, I feel a pain in each of the vas deferens after sex. If I do not have sex for days, they become sensitive. I was treated with Ceftum 500 mg, the first time I had an infection. Now my question is, is there any chance that the infection is still in my body? And, do I need to get examined for it? For the time being, please suggest some precautionary antibiotics for my relief.'\n"
          ]
        },
        {
          "output_type": "stream",
          "name": "stderr",
          "text": [
            "WARNING:neo4j.notifications:Received notification from DBMS server: {severity: WARNING} {code: Neo.ClientNotification.Statement.FeatureDeprecationWarning} {category: DEPRECATION} {title: This feature is deprecated and will be removed in future versions.} {description: CALL subquery without a variable scope clause is now deprecated. Use CALL (node, node) { ... }} {position: line: 3, column: 13, offset: 104} for query: \"CALL db.index.fulltext.queryNodes('entity', $query, {limit:2})\\n            YIELD node,score\\n            CALL {\\n              WITH node\\n              MATCH (node)-[r:!MENTIONS]->(neighbor)\\n              RETURN node.id + ' - ' + type(r) + ' -> ' + neighbor.id AS output\\n              UNION ALL\\n              WITH node\\n              MATCH (node)<-[r:!MENTIONS]-(neighbor)\\n              RETURN neighbor.id + ' - ' + type(r) + ' -> ' +  node.id AS output\\n            }\\n            RETURN output LIMIT 50\\n            \"\n",
            "WARNING:neo4j.notifications:Received notification from DBMS server: {severity: WARNING} {code: Neo.ClientNotification.Statement.FeatureDeprecationWarning} {category: DEPRECATION} {title: This feature is deprecated and will be removed in future versions.} {description: CALL subquery without a variable scope clause is now deprecated. Use CALL (node, node) { ... }} {position: line: 3, column: 13, offset: 104} for query: \"CALL db.index.fulltext.queryNodes('entity', $query, {limit:2})\\n            YIELD node,score\\n            CALL {\\n              WITH node\\n              MATCH (node)-[r:!MENTIONS]->(neighbor)\\n              RETURN node.id + ' - ' + type(r) + ' -> ' + neighbor.id AS output\\n              UNION ALL\\n              WITH node\\n              MATCH (node)<-[r:!MENTIONS]-(neighbor)\\n              RETURN neighbor.id + ' - ' + type(r) + ' -> ' +  node.id AS output\\n            }\\n            RETURN output LIMIT 50\\n            \"\n",
            "WARNING:neo4j.notifications:Received notification from DBMS server: {severity: WARNING} {code: Neo.ClientNotification.Statement.FeatureDeprecationWarning} {category: DEPRECATION} {title: This feature is deprecated and will be removed in future versions.} {description: CALL subquery without a variable scope clause is now deprecated. Use CALL (node, node) { ... }} {position: line: 3, column: 13, offset: 104} for query: \"CALL db.index.fulltext.queryNodes('entity', $query, {limit:2})\\n            YIELD node,score\\n            CALL {\\n              WITH node\\n              MATCH (node)-[r:!MENTIONS]->(neighbor)\\n              RETURN node.id + ' - ' + type(r) + ' -> ' + neighbor.id AS output\\n              UNION ALL\\n              WITH node\\n              MATCH (node)<-[r:!MENTIONS]-(neighbor)\\n              RETURN neighbor.id + ' - ' + type(r) + ' -> ' +  node.id AS output\\n            }\\n            RETURN output LIMIT 50\\n            \"\n",
            "WARNING:neo4j.notifications:Received notification from DBMS server: {severity: WARNING} {code: Neo.ClientNotification.Statement.FeatureDeprecationWarning} {category: DEPRECATION} {title: This feature is deprecated and will be removed in future versions.} {description: CALL subquery without a variable scope clause is now deprecated. Use CALL (node, node) { ... }} {position: line: 3, column: 13, offset: 104} for query: \"CALL db.index.fulltext.queryNodes('entity', $query, {limit:2})\\n            YIELD node,score\\n            CALL {\\n              WITH node\\n              MATCH (node)-[r:!MENTIONS]->(neighbor)\\n              RETURN node.id + ' - ' + type(r) + ' -> ' + neighbor.id AS output\\n              UNION ALL\\n              WITH node\\n              MATCH (node)<-[r:!MENTIONS]-(neighbor)\\n              RETURN neighbor.id + ' - ' + type(r) + ' -> ' +  node.id AS output\\n            }\\n            RETURN output LIMIT 50\\n            \"\n",
            "WARNING:neo4j.notifications:Received notification from DBMS server: {severity: WARNING} {code: Neo.ClientNotification.Statement.FeatureDeprecationWarning} {category: DEPRECATION} {title: This feature is deprecated and will be removed in future versions.} {description: CALL subquery without a variable scope clause is now deprecated. Use CALL (node, node) { ... }} {position: line: 3, column: 13, offset: 104} for query: \"CALL db.index.fulltext.queryNodes('entity', $query, {limit:2})\\n            YIELD node,score\\n            CALL {\\n              WITH node\\n              MATCH (node)-[r:!MENTIONS]->(neighbor)\\n              RETURN node.id + ' - ' + type(r) + ' -> ' + neighbor.id AS output\\n              UNION ALL\\n              WITH node\\n              MATCH (node)<-[r:!MENTIONS]-(neighbor)\\n              RETURN neighbor.id + ' - ' + type(r) + ' -> ' +  node.id AS output\\n            }\\n            RETURN output LIMIT 50\\n            \"\n",
            "WARNING:neo4j.notifications:Received notification from DBMS server: {severity: WARNING} {code: Neo.ClientNotification.Statement.FeatureDeprecationWarning} {category: DEPRECATION} {title: This feature is deprecated and will be removed in future versions.} {description: CALL subquery without a variable scope clause is now deprecated. Use CALL () { ... }} {position: line: 1, column: 1, offset: 0} for query: \"CALL { CALL db.index.vector.queryNodes($index, $k, $embedding) YIELD node, score WITH collect({node:node, score:score}) AS nodes, max(score) AS max UNWIND nodes AS n RETURN n.node AS node, (n.score / max) AS score UNION CALL db.index.fulltext.queryNodes($keyword_index, $query, {limit: $k}) YIELD node, score WITH collect({node:node, score:score}) AS nodes, max(score) AS max UNWIND nodes AS n RETURN n.node AS node, (n.score / max) AS score } WITH node, max(score) AS score ORDER BY score DESC LIMIT $k RETURN reduce(str='', k IN ['text'] | str + '\\\\n' + k + ': ' + coalesce(node[k], '')) AS text, node {.*, `embedding`: Null, id: Null, `text`: Null} AS metadata, score\"\n",
            "/usr/local/lib/python3.10/dist-packages/transformers/tokenization_utils_base.py:1601: FutureWarning: `clean_up_tokenization_spaces` was not set. It will be set to `True` by default. This behavior will be depracted in transformers v4.45, and will be then set to `False` by default. For more details check this issue: https://github.com/huggingface/transformers/issues/31884\n",
            "  warnings.warn(\n"
          ]
        },
        {
          "output_type": "stream",
          "name": "stdout",
          "text": [
            "Done-> 0\n",
            "Search query: 'Hello doctor,I am trying to conceive but my husband and I did cocaine a week ago. How long should my husband and I wait to safely continue to try to get pregnant? How long until it is out of our system? How long does cocaine stay in sperm? Thanks in advance.'\n"
          ]
        },
        {
          "output_type": "stream",
          "name": "stderr",
          "text": [
            "WARNING:neo4j.notifications:Received notification from DBMS server: {severity: WARNING} {code: Neo.ClientNotification.Statement.FeatureDeprecationWarning} {category: DEPRECATION} {title: This feature is deprecated and will be removed in future versions.} {description: CALL subquery without a variable scope clause is now deprecated. Use CALL (node, node) { ... }} {position: line: 3, column: 13, offset: 104} for query: \"CALL db.index.fulltext.queryNodes('entity', $query, {limit:2})\\n            YIELD node,score\\n            CALL {\\n              WITH node\\n              MATCH (node)-[r:!MENTIONS]->(neighbor)\\n              RETURN node.id + ' - ' + type(r) + ' -> ' + neighbor.id AS output\\n              UNION ALL\\n              WITH node\\n              MATCH (node)<-[r:!MENTIONS]-(neighbor)\\n              RETURN neighbor.id + ' - ' + type(r) + ' -> ' +  node.id AS output\\n            }\\n            RETURN output LIMIT 50\\n            \"\n",
            "WARNING:neo4j.notifications:Received notification from DBMS server: {severity: WARNING} {code: Neo.ClientNotification.Statement.FeatureDeprecationWarning} {category: DEPRECATION} {title: This feature is deprecated and will be removed in future versions.} {description: CALL subquery without a variable scope clause is now deprecated. Use CALL (node, node) { ... }} {position: line: 3, column: 13, offset: 104} for query: \"CALL db.index.fulltext.queryNodes('entity', $query, {limit:2})\\n            YIELD node,score\\n            CALL {\\n              WITH node\\n              MATCH (node)-[r:!MENTIONS]->(neighbor)\\n              RETURN node.id + ' - ' + type(r) + ' -> ' + neighbor.id AS output\\n              UNION ALL\\n              WITH node\\n              MATCH (node)<-[r:!MENTIONS]-(neighbor)\\n              RETURN neighbor.id + ' - ' + type(r) + ' -> ' +  node.id AS output\\n            }\\n            RETURN output LIMIT 50\\n            \"\n",
            "WARNING:neo4j.notifications:Received notification from DBMS server: {severity: WARNING} {code: Neo.ClientNotification.Statement.FeatureDeprecationWarning} {category: DEPRECATION} {title: This feature is deprecated and will be removed in future versions.} {description: CALL subquery without a variable scope clause is now deprecated. Use CALL (node, node) { ... }} {position: line: 3, column: 13, offset: 104} for query: \"CALL db.index.fulltext.queryNodes('entity', $query, {limit:2})\\n            YIELD node,score\\n            CALL {\\n              WITH node\\n              MATCH (node)-[r:!MENTIONS]->(neighbor)\\n              RETURN node.id + ' - ' + type(r) + ' -> ' + neighbor.id AS output\\n              UNION ALL\\n              WITH node\\n              MATCH (node)<-[r:!MENTIONS]-(neighbor)\\n              RETURN neighbor.id + ' - ' + type(r) + ' -> ' +  node.id AS output\\n            }\\n            RETURN output LIMIT 50\\n            \"\n",
            "WARNING:neo4j.notifications:Received notification from DBMS server: {severity: WARNING} {code: Neo.ClientNotification.Statement.FeatureDeprecationWarning} {category: DEPRECATION} {title: This feature is deprecated and will be removed in future versions.} {description: CALL subquery without a variable scope clause is now deprecated. Use CALL () { ... }} {position: line: 1, column: 1, offset: 0} for query: \"CALL { CALL db.index.vector.queryNodes($index, $k, $embedding) YIELD node, score WITH collect({node:node, score:score}) AS nodes, max(score) AS max UNWIND nodes AS n RETURN n.node AS node, (n.score / max) AS score UNION CALL db.index.fulltext.queryNodes($keyword_index, $query, {limit: $k}) YIELD node, score WITH collect({node:node, score:score}) AS nodes, max(score) AS max UNWIND nodes AS n RETURN n.node AS node, (n.score / max) AS score } WITH node, max(score) AS score ORDER BY score DESC LIMIT $k RETURN reduce(str='', k IN ['text'] | str + '\\\\n' + k + ': ' + coalesce(node[k], '')) AS text, node {.*, `embedding`: Null, id: Null, `text`: Null} AS metadata, score\"\n",
            "/usr/local/lib/python3.10/dist-packages/transformers/tokenization_utils_base.py:1601: FutureWarning: `clean_up_tokenization_spaces` was not set. It will be set to `True` by default. This behavior will be depracted in transformers v4.45, and will be then set to `False` by default. For more details check this issue: https://github.com/huggingface/transformers/issues/31884\n",
            "  warnings.warn(\n"
          ]
        },
        {
          "output_type": "stream",
          "name": "stdout",
          "text": [
            "Done-> 1\n",
            "Search query: 'Hello doctor,I am currently on the Yaz contraceptive pill. I skipped my sugar pills for around four months and had a breakthrough period this month. I had my period last week, but I still have some residual brown discharge for about a week now. Additionally, I had sex a few days ago and bled during it. Nothing hurts or is sore, I just want to know how long I am going to have the brown discharge and if I should be worried or if I should do anything about it?'\n"
          ]
        },
        {
          "output_type": "stream",
          "name": "stderr",
          "text": [
            "WARNING:neo4j.notifications:Received notification from DBMS server: {severity: WARNING} {code: Neo.ClientNotification.Statement.FeatureDeprecationWarning} {category: DEPRECATION} {title: This feature is deprecated and will be removed in future versions.} {description: CALL subquery without a variable scope clause is now deprecated. Use CALL (node, node) { ... }} {position: line: 3, column: 13, offset: 104} for query: \"CALL db.index.fulltext.queryNodes('entity', $query, {limit:2})\\n            YIELD node,score\\n            CALL {\\n              WITH node\\n              MATCH (node)-[r:!MENTIONS]->(neighbor)\\n              RETURN node.id + ' - ' + type(r) + ' -> ' + neighbor.id AS output\\n              UNION ALL\\n              WITH node\\n              MATCH (node)<-[r:!MENTIONS]-(neighbor)\\n              RETURN neighbor.id + ' - ' + type(r) + ' -> ' +  node.id AS output\\n            }\\n            RETURN output LIMIT 50\\n            \"\n",
            "WARNING:neo4j.notifications:Received notification from DBMS server: {severity: WARNING} {code: Neo.ClientNotification.Statement.FeatureDeprecationWarning} {category: DEPRECATION} {title: This feature is deprecated and will be removed in future versions.} {description: CALL subquery without a variable scope clause is now deprecated. Use CALL (node, node) { ... }} {position: line: 3, column: 13, offset: 104} for query: \"CALL db.index.fulltext.queryNodes('entity', $query, {limit:2})\\n            YIELD node,score\\n            CALL {\\n              WITH node\\n              MATCH (node)-[r:!MENTIONS]->(neighbor)\\n              RETURN node.id + ' - ' + type(r) + ' -> ' + neighbor.id AS output\\n              UNION ALL\\n              WITH node\\n              MATCH (node)<-[r:!MENTIONS]-(neighbor)\\n              RETURN neighbor.id + ' - ' + type(r) + ' -> ' +  node.id AS output\\n            }\\n            RETURN output LIMIT 50\\n            \"\n",
            "WARNING:neo4j.notifications:Received notification from DBMS server: {severity: WARNING} {code: Neo.ClientNotification.Statement.FeatureDeprecationWarning} {category: DEPRECATION} {title: This feature is deprecated and will be removed in future versions.} {description: CALL subquery without a variable scope clause is now deprecated. Use CALL (node, node) { ... }} {position: line: 3, column: 13, offset: 104} for query: \"CALL db.index.fulltext.queryNodes('entity', $query, {limit:2})\\n            YIELD node,score\\n            CALL {\\n              WITH node\\n              MATCH (node)-[r:!MENTIONS]->(neighbor)\\n              RETURN node.id + ' - ' + type(r) + ' -> ' + neighbor.id AS output\\n              UNION ALL\\n              WITH node\\n              MATCH (node)<-[r:!MENTIONS]-(neighbor)\\n              RETURN neighbor.id + ' - ' + type(r) + ' -> ' +  node.id AS output\\n            }\\n            RETURN output LIMIT 50\\n            \"\n",
            "WARNING:neo4j.notifications:Received notification from DBMS server: {severity: WARNING} {code: Neo.ClientNotification.Statement.FeatureDeprecationWarning} {category: DEPRECATION} {title: This feature is deprecated and will be removed in future versions.} {description: CALL subquery without a variable scope clause is now deprecated. Use CALL (node, node) { ... }} {position: line: 3, column: 13, offset: 104} for query: \"CALL db.index.fulltext.queryNodes('entity', $query, {limit:2})\\n            YIELD node,score\\n            CALL {\\n              WITH node\\n              MATCH (node)-[r:!MENTIONS]->(neighbor)\\n              RETURN node.id + ' - ' + type(r) + ' -> ' + neighbor.id AS output\\n              UNION ALL\\n              WITH node\\n              MATCH (node)<-[r:!MENTIONS]-(neighbor)\\n              RETURN neighbor.id + ' - ' + type(r) + ' -> ' +  node.id AS output\\n            }\\n            RETURN output LIMIT 50\\n            \"\n",
            "WARNING:neo4j.notifications:Received notification from DBMS server: {severity: WARNING} {code: Neo.ClientNotification.Statement.FeatureDeprecationWarning} {category: DEPRECATION} {title: This feature is deprecated and will be removed in future versions.} {description: CALL subquery without a variable scope clause is now deprecated. Use CALL (node, node) { ... }} {position: line: 3, column: 13, offset: 104} for query: \"CALL db.index.fulltext.queryNodes('entity', $query, {limit:2})\\n            YIELD node,score\\n            CALL {\\n              WITH node\\n              MATCH (node)-[r:!MENTIONS]->(neighbor)\\n              RETURN node.id + ' - ' + type(r) + ' -> ' + neighbor.id AS output\\n              UNION ALL\\n              WITH node\\n              MATCH (node)<-[r:!MENTIONS]-(neighbor)\\n              RETURN neighbor.id + ' - ' + type(r) + ' -> ' +  node.id AS output\\n            }\\n            RETURN output LIMIT 50\\n            \"\n",
            "WARNING:neo4j.notifications:Received notification from DBMS server: {severity: WARNING} {code: Neo.ClientNotification.Statement.FeatureDeprecationWarning} {category: DEPRECATION} {title: This feature is deprecated and will be removed in future versions.} {description: CALL subquery without a variable scope clause is now deprecated. Use CALL () { ... }} {position: line: 1, column: 1, offset: 0} for query: \"CALL { CALL db.index.vector.queryNodes($index, $k, $embedding) YIELD node, score WITH collect({node:node, score:score}) AS nodes, max(score) AS max UNWIND nodes AS n RETURN n.node AS node, (n.score / max) AS score UNION CALL db.index.fulltext.queryNodes($keyword_index, $query, {limit: $k}) YIELD node, score WITH collect({node:node, score:score}) AS nodes, max(score) AS max UNWIND nodes AS n RETURN n.node AS node, (n.score / max) AS score } WITH node, max(score) AS score ORDER BY score DESC LIMIT $k RETURN reduce(str='', k IN ['text'] | str + '\\\\n' + k + ': ' + coalesce(node[k], '')) AS text, node {.*, `embedding`: Null, id: Null, `text`: Null} AS metadata, score\"\n",
            "/usr/local/lib/python3.10/dist-packages/transformers/tokenization_utils_base.py:1601: FutureWarning: `clean_up_tokenization_spaces` was not set. It will be set to `True` by default. This behavior will be depracted in transformers v4.45, and will be then set to `False` by default. For more details check this issue: https://github.com/huggingface/transformers/issues/31884\n",
            "  warnings.warn(\n"
          ]
        },
        {
          "output_type": "stream",
          "name": "stdout",
          "text": [
            "Done-> 2\n",
            "Search query: 'Hello doctor,My son aged 13 years has got his left eye -11 and right with -8. I am now very worried what good precautions should I take with him. Can you suggest me what should I do?'\n"
          ]
        },
        {
          "output_type": "stream",
          "name": "stderr",
          "text": [
            "WARNING:neo4j.notifications:Received notification from DBMS server: {severity: WARNING} {code: Neo.ClientNotification.Statement.FeatureDeprecationWarning} {category: DEPRECATION} {title: This feature is deprecated and will be removed in future versions.} {description: CALL subquery without a variable scope clause is now deprecated. Use CALL (node, node) { ... }} {position: line: 3, column: 13, offset: 104} for query: \"CALL db.index.fulltext.queryNodes('entity', $query, {limit:2})\\n            YIELD node,score\\n            CALL {\\n              WITH node\\n              MATCH (node)-[r:!MENTIONS]->(neighbor)\\n              RETURN node.id + ' - ' + type(r) + ' -> ' + neighbor.id AS output\\n              UNION ALL\\n              WITH node\\n              MATCH (node)<-[r:!MENTIONS]-(neighbor)\\n              RETURN neighbor.id + ' - ' + type(r) + ' -> ' +  node.id AS output\\n            }\\n            RETURN output LIMIT 50\\n            \"\n",
            "WARNING:neo4j.notifications:Received notification from DBMS server: {severity: WARNING} {code: Neo.ClientNotification.Statement.FeatureDeprecationWarning} {category: DEPRECATION} {title: This feature is deprecated and will be removed in future versions.} {description: CALL subquery without a variable scope clause is now deprecated. Use CALL (node, node) { ... }} {position: line: 3, column: 13, offset: 104} for query: \"CALL db.index.fulltext.queryNodes('entity', $query, {limit:2})\\n            YIELD node,score\\n            CALL {\\n              WITH node\\n              MATCH (node)-[r:!MENTIONS]->(neighbor)\\n              RETURN node.id + ' - ' + type(r) + ' -> ' + neighbor.id AS output\\n              UNION ALL\\n              WITH node\\n              MATCH (node)<-[r:!MENTIONS]-(neighbor)\\n              RETURN neighbor.id + ' - ' + type(r) + ' -> ' +  node.id AS output\\n            }\\n            RETURN output LIMIT 50\\n            \"\n",
            "WARNING:neo4j.notifications:Received notification from DBMS server: {severity: WARNING} {code: Neo.ClientNotification.Statement.FeatureDeprecationWarning} {category: DEPRECATION} {title: This feature is deprecated and will be removed in future versions.} {description: CALL subquery without a variable scope clause is now deprecated. Use CALL (node, node) { ... }} {position: line: 3, column: 13, offset: 104} for query: \"CALL db.index.fulltext.queryNodes('entity', $query, {limit:2})\\n            YIELD node,score\\n            CALL {\\n              WITH node\\n              MATCH (node)-[r:!MENTIONS]->(neighbor)\\n              RETURN node.id + ' - ' + type(r) + ' -> ' + neighbor.id AS output\\n              UNION ALL\\n              WITH node\\n              MATCH (node)<-[r:!MENTIONS]-(neighbor)\\n              RETURN neighbor.id + ' - ' + type(r) + ' -> ' +  node.id AS output\\n            }\\n            RETURN output LIMIT 50\\n            \"\n",
            "WARNING:neo4j.notifications:Received notification from DBMS server: {severity: WARNING} {code: Neo.ClientNotification.Statement.FeatureDeprecationWarning} {category: DEPRECATION} {title: This feature is deprecated and will be removed in future versions.} {description: CALL subquery without a variable scope clause is now deprecated. Use CALL (node, node) { ... }} {position: line: 3, column: 13, offset: 104} for query: \"CALL db.index.fulltext.queryNodes('entity', $query, {limit:2})\\n            YIELD node,score\\n            CALL {\\n              WITH node\\n              MATCH (node)-[r:!MENTIONS]->(neighbor)\\n              RETURN node.id + ' - ' + type(r) + ' -> ' + neighbor.id AS output\\n              UNION ALL\\n              WITH node\\n              MATCH (node)<-[r:!MENTIONS]-(neighbor)\\n              RETURN neighbor.id + ' - ' + type(r) + ' -> ' +  node.id AS output\\n            }\\n            RETURN output LIMIT 50\\n            \"\n",
            "WARNING:neo4j.notifications:Received notification from DBMS server: {severity: WARNING} {code: Neo.ClientNotification.Statement.FeatureDeprecationWarning} {category: DEPRECATION} {title: This feature is deprecated and will be removed in future versions.} {description: CALL subquery without a variable scope clause is now deprecated. Use CALL (node, node) { ... }} {position: line: 3, column: 13, offset: 104} for query: \"CALL db.index.fulltext.queryNodes('entity', $query, {limit:2})\\n            YIELD node,score\\n            CALL {\\n              WITH node\\n              MATCH (node)-[r:!MENTIONS]->(neighbor)\\n              RETURN node.id + ' - ' + type(r) + ' -> ' + neighbor.id AS output\\n              UNION ALL\\n              WITH node\\n              MATCH (node)<-[r:!MENTIONS]-(neighbor)\\n              RETURN neighbor.id + ' - ' + type(r) + ' -> ' +  node.id AS output\\n            }\\n            RETURN output LIMIT 50\\n            \"\n",
            "WARNING:neo4j.notifications:Received notification from DBMS server: {severity: WARNING} {code: Neo.ClientNotification.Statement.FeatureDeprecationWarning} {category: DEPRECATION} {title: This feature is deprecated and will be removed in future versions.} {description: CALL subquery without a variable scope clause is now deprecated. Use CALL () { ... }} {position: line: 1, column: 1, offset: 0} for query: \"CALL { CALL db.index.vector.queryNodes($index, $k, $embedding) YIELD node, score WITH collect({node:node, score:score}) AS nodes, max(score) AS max UNWIND nodes AS n RETURN n.node AS node, (n.score / max) AS score UNION CALL db.index.fulltext.queryNodes($keyword_index, $query, {limit: $k}) YIELD node, score WITH collect({node:node, score:score}) AS nodes, max(score) AS max UNWIND nodes AS n RETURN n.node AS node, (n.score / max) AS score } WITH node, max(score) AS score ORDER BY score DESC LIMIT $k RETURN reduce(str='', k IN ['text'] | str + '\\\\n' + k + ': ' + coalesce(node[k], '')) AS text, node {.*, `embedding`: Null, id: Null, `text`: Null} AS metadata, score\"\n",
            "/usr/local/lib/python3.10/dist-packages/transformers/tokenization_utils_base.py:1601: FutureWarning: `clean_up_tokenization_spaces` was not set. It will be set to `True` by default. This behavior will be depracted in transformers v4.45, and will be then set to `False` by default. For more details check this issue: https://github.com/huggingface/transformers/issues/31884\n",
            "  warnings.warn(\n"
          ]
        },
        {
          "output_type": "stream",
          "name": "stdout",
          "text": [
            "Done-> 3\n",
            "Search query: 'Hello doctor,I just got one side of my wisdom teeth removed both upper and lower six days ago, and I have another one scheduled after two days for the left side. The upper is 100 % fine, which they pulled. The lower they pulled the tooth without removing the root because it was too close to the nerve. I do have some stitching in this area currently on the lower cheek. Noticed a hard lump about 1 inch between my lower jawline and cheek area. Is this normal because of swelling or something else. Currently taking Amoxicillin 500 mg and Ibuprofen 600 mg. Please let me know what this hard lump is, also generally on the lower side where this lump is, remains sore.'\n"
          ]
        },
        {
          "output_type": "stream",
          "name": "stderr",
          "text": [
            "WARNING:neo4j.notifications:Received notification from DBMS server: {severity: WARNING} {code: Neo.ClientNotification.Statement.FeatureDeprecationWarning} {category: DEPRECATION} {title: This feature is deprecated and will be removed in future versions.} {description: CALL subquery without a variable scope clause is now deprecated. Use CALL (node, node) { ... }} {position: line: 3, column: 13, offset: 104} for query: \"CALL db.index.fulltext.queryNodes('entity', $query, {limit:2})\\n            YIELD node,score\\n            CALL {\\n              WITH node\\n              MATCH (node)-[r:!MENTIONS]->(neighbor)\\n              RETURN node.id + ' - ' + type(r) + ' -> ' + neighbor.id AS output\\n              UNION ALL\\n              WITH node\\n              MATCH (node)<-[r:!MENTIONS]-(neighbor)\\n              RETURN neighbor.id + ' - ' + type(r) + ' -> ' +  node.id AS output\\n            }\\n            RETURN output LIMIT 50\\n            \"\n",
            "WARNING:neo4j.notifications:Received notification from DBMS server: {severity: WARNING} {code: Neo.ClientNotification.Statement.FeatureDeprecationWarning} {category: DEPRECATION} {title: This feature is deprecated and will be removed in future versions.} {description: CALL subquery without a variable scope clause is now deprecated. Use CALL (node, node) { ... }} {position: line: 3, column: 13, offset: 104} for query: \"CALL db.index.fulltext.queryNodes('entity', $query, {limit:2})\\n            YIELD node,score\\n            CALL {\\n              WITH node\\n              MATCH (node)-[r:!MENTIONS]->(neighbor)\\n              RETURN node.id + ' - ' + type(r) + ' -> ' + neighbor.id AS output\\n              UNION ALL\\n              WITH node\\n              MATCH (node)<-[r:!MENTIONS]-(neighbor)\\n              RETURN neighbor.id + ' - ' + type(r) + ' -> ' +  node.id AS output\\n            }\\n            RETURN output LIMIT 50\\n            \"\n",
            "WARNING:neo4j.notifications:Received notification from DBMS server: {severity: WARNING} {code: Neo.ClientNotification.Statement.FeatureDeprecationWarning} {category: DEPRECATION} {title: This feature is deprecated and will be removed in future versions.} {description: CALL subquery without a variable scope clause is now deprecated. Use CALL (node, node) { ... }} {position: line: 3, column: 13, offset: 104} for query: \"CALL db.index.fulltext.queryNodes('entity', $query, {limit:2})\\n            YIELD node,score\\n            CALL {\\n              WITH node\\n              MATCH (node)-[r:!MENTIONS]->(neighbor)\\n              RETURN node.id + ' - ' + type(r) + ' -> ' + neighbor.id AS output\\n              UNION ALL\\n              WITH node\\n              MATCH (node)<-[r:!MENTIONS]-(neighbor)\\n              RETURN neighbor.id + ' - ' + type(r) + ' -> ' +  node.id AS output\\n            }\\n            RETURN output LIMIT 50\\n            \"\n",
            "WARNING:neo4j.notifications:Received notification from DBMS server: {severity: WARNING} {code: Neo.ClientNotification.Statement.FeatureDeprecationWarning} {category: DEPRECATION} {title: This feature is deprecated and will be removed in future versions.} {description: CALL subquery without a variable scope clause is now deprecated. Use CALL (node, node) { ... }} {position: line: 3, column: 13, offset: 104} for query: \"CALL db.index.fulltext.queryNodes('entity', $query, {limit:2})\\n            YIELD node,score\\n            CALL {\\n              WITH node\\n              MATCH (node)-[r:!MENTIONS]->(neighbor)\\n              RETURN node.id + ' - ' + type(r) + ' -> ' + neighbor.id AS output\\n              UNION ALL\\n              WITH node\\n              MATCH (node)<-[r:!MENTIONS]-(neighbor)\\n              RETURN neighbor.id + ' - ' + type(r) + ' -> ' +  node.id AS output\\n            }\\n            RETURN output LIMIT 50\\n            \"\n",
            "WARNING:neo4j.notifications:Received notification from DBMS server: {severity: WARNING} {code: Neo.ClientNotification.Statement.FeatureDeprecationWarning} {category: DEPRECATION} {title: This feature is deprecated and will be removed in future versions.} {description: CALL subquery without a variable scope clause is now deprecated. Use CALL (node, node) { ... }} {position: line: 3, column: 13, offset: 104} for query: \"CALL db.index.fulltext.queryNodes('entity', $query, {limit:2})\\n            YIELD node,score\\n            CALL {\\n              WITH node\\n              MATCH (node)-[r:!MENTIONS]->(neighbor)\\n              RETURN node.id + ' - ' + type(r) + ' -> ' + neighbor.id AS output\\n              UNION ALL\\n              WITH node\\n              MATCH (node)<-[r:!MENTIONS]-(neighbor)\\n              RETURN neighbor.id + ' - ' + type(r) + ' -> ' +  node.id AS output\\n            }\\n            RETURN output LIMIT 50\\n            \"\n",
            "WARNING:neo4j.notifications:Received notification from DBMS server: {severity: WARNING} {code: Neo.ClientNotification.Statement.FeatureDeprecationWarning} {category: DEPRECATION} {title: This feature is deprecated and will be removed in future versions.} {description: CALL subquery without a variable scope clause is now deprecated. Use CALL (node, node) { ... }} {position: line: 3, column: 13, offset: 104} for query: \"CALL db.index.fulltext.queryNodes('entity', $query, {limit:2})\\n            YIELD node,score\\n            CALL {\\n              WITH node\\n              MATCH (node)-[r:!MENTIONS]->(neighbor)\\n              RETURN node.id + ' - ' + type(r) + ' -> ' + neighbor.id AS output\\n              UNION ALL\\n              WITH node\\n              MATCH (node)<-[r:!MENTIONS]-(neighbor)\\n              RETURN neighbor.id + ' - ' + type(r) + ' -> ' +  node.id AS output\\n            }\\n            RETURN output LIMIT 50\\n            \"\n",
            "WARNING:neo4j.notifications:Received notification from DBMS server: {severity: WARNING} {code: Neo.ClientNotification.Statement.FeatureDeprecationWarning} {category: DEPRECATION} {title: This feature is deprecated and will be removed in future versions.} {description: CALL subquery without a variable scope clause is now deprecated. Use CALL (node, node) { ... }} {position: line: 3, column: 13, offset: 104} for query: \"CALL db.index.fulltext.queryNodes('entity', $query, {limit:2})\\n            YIELD node,score\\n            CALL {\\n              WITH node\\n              MATCH (node)-[r:!MENTIONS]->(neighbor)\\n              RETURN node.id + ' - ' + type(r) + ' -> ' + neighbor.id AS output\\n              UNION ALL\\n              WITH node\\n              MATCH (node)<-[r:!MENTIONS]-(neighbor)\\n              RETURN neighbor.id + ' - ' + type(r) + ' -> ' +  node.id AS output\\n            }\\n            RETURN output LIMIT 50\\n            \"\n",
            "WARNING:neo4j.notifications:Received notification from DBMS server: {severity: WARNING} {code: Neo.ClientNotification.Statement.FeatureDeprecationWarning} {category: DEPRECATION} {title: This feature is deprecated and will be removed in future versions.} {description: CALL subquery without a variable scope clause is now deprecated. Use CALL (node, node) { ... }} {position: line: 3, column: 13, offset: 104} for query: \"CALL db.index.fulltext.queryNodes('entity', $query, {limit:2})\\n            YIELD node,score\\n            CALL {\\n              WITH node\\n              MATCH (node)-[r:!MENTIONS]->(neighbor)\\n              RETURN node.id + ' - ' + type(r) + ' -> ' + neighbor.id AS output\\n              UNION ALL\\n              WITH node\\n              MATCH (node)<-[r:!MENTIONS]-(neighbor)\\n              RETURN neighbor.id + ' - ' + type(r) + ' -> ' +  node.id AS output\\n            }\\n            RETURN output LIMIT 50\\n            \"\n",
            "WARNING:neo4j.notifications:Received notification from DBMS server: {severity: WARNING} {code: Neo.ClientNotification.Statement.FeatureDeprecationWarning} {category: DEPRECATION} {title: This feature is deprecated and will be removed in future versions.} {description: CALL subquery without a variable scope clause is now deprecated. Use CALL (node, node) { ... }} {position: line: 3, column: 13, offset: 104} for query: \"CALL db.index.fulltext.queryNodes('entity', $query, {limit:2})\\n            YIELD node,score\\n            CALL {\\n              WITH node\\n              MATCH (node)-[r:!MENTIONS]->(neighbor)\\n              RETURN node.id + ' - ' + type(r) + ' -> ' + neighbor.id AS output\\n              UNION ALL\\n              WITH node\\n              MATCH (node)<-[r:!MENTIONS]-(neighbor)\\n              RETURN neighbor.id + ' - ' + type(r) + ' -> ' +  node.id AS output\\n            }\\n            RETURN output LIMIT 50\\n            \"\n",
            "WARNING:neo4j.notifications:Received notification from DBMS server: {severity: WARNING} {code: Neo.ClientNotification.Statement.FeatureDeprecationWarning} {category: DEPRECATION} {title: This feature is deprecated and will be removed in future versions.} {description: CALL subquery without a variable scope clause is now deprecated. Use CALL (node, node) { ... }} {position: line: 3, column: 13, offset: 104} for query: \"CALL db.index.fulltext.queryNodes('entity', $query, {limit:2})\\n            YIELD node,score\\n            CALL {\\n              WITH node\\n              MATCH (node)-[r:!MENTIONS]->(neighbor)\\n              RETURN node.id + ' - ' + type(r) + ' -> ' + neighbor.id AS output\\n              UNION ALL\\n              WITH node\\n              MATCH (node)<-[r:!MENTIONS]-(neighbor)\\n              RETURN neighbor.id + ' - ' + type(r) + ' -> ' +  node.id AS output\\n            }\\n            RETURN output LIMIT 50\\n            \"\n",
            "WARNING:neo4j.notifications:Received notification from DBMS server: {severity: WARNING} {code: Neo.ClientNotification.Statement.FeatureDeprecationWarning} {category: DEPRECATION} {title: This feature is deprecated and will be removed in future versions.} {description: CALL subquery without a variable scope clause is now deprecated. Use CALL (node, node) { ... }} {position: line: 3, column: 13, offset: 104} for query: \"CALL db.index.fulltext.queryNodes('entity', $query, {limit:2})\\n            YIELD node,score\\n            CALL {\\n              WITH node\\n              MATCH (node)-[r:!MENTIONS]->(neighbor)\\n              RETURN node.id + ' - ' + type(r) + ' -> ' + neighbor.id AS output\\n              UNION ALL\\n              WITH node\\n              MATCH (node)<-[r:!MENTIONS]-(neighbor)\\n              RETURN neighbor.id + ' - ' + type(r) + ' -> ' +  node.id AS output\\n            }\\n            RETURN output LIMIT 50\\n            \"\n",
            "WARNING:neo4j.notifications:Received notification from DBMS server: {severity: WARNING} {code: Neo.ClientNotification.Statement.FeatureDeprecationWarning} {category: DEPRECATION} {title: This feature is deprecated and will be removed in future versions.} {description: CALL subquery without a variable scope clause is now deprecated. Use CALL () { ... }} {position: line: 1, column: 1, offset: 0} for query: \"CALL { CALL db.index.vector.queryNodes($index, $k, $embedding) YIELD node, score WITH collect({node:node, score:score}) AS nodes, max(score) AS max UNWIND nodes AS n RETURN n.node AS node, (n.score / max) AS score UNION CALL db.index.fulltext.queryNodes($keyword_index, $query, {limit: $k}) YIELD node, score WITH collect({node:node, score:score}) AS nodes, max(score) AS max UNWIND nodes AS n RETURN n.node AS node, (n.score / max) AS score } WITH node, max(score) AS score ORDER BY score DESC LIMIT $k RETURN reduce(str='', k IN ['text'] | str + '\\\\n' + k + ': ' + coalesce(node[k], '')) AS text, node {.*, `embedding`: Null, id: Null, `text`: Null} AS metadata, score\"\n",
            "/usr/local/lib/python3.10/dist-packages/transformers/tokenization_utils_base.py:1601: FutureWarning: `clean_up_tokenization_spaces` was not set. It will be set to `True` by default. This behavior will be depracted in transformers v4.45, and will be then set to `False` by default. For more details check this issue: https://github.com/huggingface/transformers/issues/31884\n",
            "  warnings.warn(\n"
          ]
        },
        {
          "output_type": "stream",
          "name": "stdout",
          "text": [
            "Done-> 4\n",
            "Search query: 'Hello doctor,I had deep unprotected sex for three minutes with a broken condom with a sex worker who looks younger and healthy and aged between 18. It was my first intercourse with a sex worker and I am worrying about expose to HIV. I have started fearing from the minute where I had broken condom intercourse and she said to me that she does not have HIV and they never allow anyone to have sex without a condom because of fear of getting infected. So there is no need to worry but I cannot believe her and started studying about HIV and its symptoms and I have a feeling of infection because I got red dots in my finger pits and cold and throat infection.I want to know what are the red dots on my finger which I got? I got it tested many times in those three months and got a negative result. I am worrying abt six months test.'\n"
          ]
        },
        {
          "output_type": "stream",
          "name": "stderr",
          "text": [
            "WARNING:neo4j.notifications:Received notification from DBMS server: {severity: WARNING} {code: Neo.ClientNotification.Statement.FeatureDeprecationWarning} {category: DEPRECATION} {title: This feature is deprecated and will be removed in future versions.} {description: CALL subquery without a variable scope clause is now deprecated. Use CALL (node, node) { ... }} {position: line: 3, column: 13, offset: 104} for query: \"CALL db.index.fulltext.queryNodes('entity', $query, {limit:2})\\n            YIELD node,score\\n            CALL {\\n              WITH node\\n              MATCH (node)-[r:!MENTIONS]->(neighbor)\\n              RETURN node.id + ' - ' + type(r) + ' -> ' + neighbor.id AS output\\n              UNION ALL\\n              WITH node\\n              MATCH (node)<-[r:!MENTIONS]-(neighbor)\\n              RETURN neighbor.id + ' - ' + type(r) + ' -> ' +  node.id AS output\\n            }\\n            RETURN output LIMIT 50\\n            \"\n",
            "WARNING:neo4j.notifications:Received notification from DBMS server: {severity: WARNING} {code: Neo.ClientNotification.Statement.FeatureDeprecationWarning} {category: DEPRECATION} {title: This feature is deprecated and will be removed in future versions.} {description: CALL subquery without a variable scope clause is now deprecated. Use CALL (node, node) { ... }} {position: line: 3, column: 13, offset: 104} for query: \"CALL db.index.fulltext.queryNodes('entity', $query, {limit:2})\\n            YIELD node,score\\n            CALL {\\n              WITH node\\n              MATCH (node)-[r:!MENTIONS]->(neighbor)\\n              RETURN node.id + ' - ' + type(r) + ' -> ' + neighbor.id AS output\\n              UNION ALL\\n              WITH node\\n              MATCH (node)<-[r:!MENTIONS]-(neighbor)\\n              RETURN neighbor.id + ' - ' + type(r) + ' -> ' +  node.id AS output\\n            }\\n            RETURN output LIMIT 50\\n            \"\n",
            "WARNING:neo4j.notifications:Received notification from DBMS server: {severity: WARNING} {code: Neo.ClientNotification.Statement.FeatureDeprecationWarning} {category: DEPRECATION} {title: This feature is deprecated and will be removed in future versions.} {description: CALL subquery without a variable scope clause is now deprecated. Use CALL (node, node) { ... }} {position: line: 3, column: 13, offset: 104} for query: \"CALL db.index.fulltext.queryNodes('entity', $query, {limit:2})\\n            YIELD node,score\\n            CALL {\\n              WITH node\\n              MATCH (node)-[r:!MENTIONS]->(neighbor)\\n              RETURN node.id + ' - ' + type(r) + ' -> ' + neighbor.id AS output\\n              UNION ALL\\n              WITH node\\n              MATCH (node)<-[r:!MENTIONS]-(neighbor)\\n              RETURN neighbor.id + ' - ' + type(r) + ' -> ' +  node.id AS output\\n            }\\n            RETURN output LIMIT 50\\n            \"\n",
            "WARNING:neo4j.notifications:Received notification from DBMS server: {severity: WARNING} {code: Neo.ClientNotification.Statement.FeatureDeprecationWarning} {category: DEPRECATION} {title: This feature is deprecated and will be removed in future versions.} {description: CALL subquery without a variable scope clause is now deprecated. Use CALL (node, node) { ... }} {position: line: 3, column: 13, offset: 104} for query: \"CALL db.index.fulltext.queryNodes('entity', $query, {limit:2})\\n            YIELD node,score\\n            CALL {\\n              WITH node\\n              MATCH (node)-[r:!MENTIONS]->(neighbor)\\n              RETURN node.id + ' - ' + type(r) + ' -> ' + neighbor.id AS output\\n              UNION ALL\\n              WITH node\\n              MATCH (node)<-[r:!MENTIONS]-(neighbor)\\n              RETURN neighbor.id + ' - ' + type(r) + ' -> ' +  node.id AS output\\n            }\\n            RETURN output LIMIT 50\\n            \"\n",
            "WARNING:neo4j.notifications:Received notification from DBMS server: {severity: WARNING} {code: Neo.ClientNotification.Statement.FeatureDeprecationWarning} {category: DEPRECATION} {title: This feature is deprecated and will be removed in future versions.} {description: CALL subquery without a variable scope clause is now deprecated. Use CALL (node, node) { ... }} {position: line: 3, column: 13, offset: 104} for query: \"CALL db.index.fulltext.queryNodes('entity', $query, {limit:2})\\n            YIELD node,score\\n            CALL {\\n              WITH node\\n              MATCH (node)-[r:!MENTIONS]->(neighbor)\\n              RETURN node.id + ' - ' + type(r) + ' -> ' + neighbor.id AS output\\n              UNION ALL\\n              WITH node\\n              MATCH (node)<-[r:!MENTIONS]-(neighbor)\\n              RETURN neighbor.id + ' - ' + type(r) + ' -> ' +  node.id AS output\\n            }\\n            RETURN output LIMIT 50\\n            \"\n",
            "WARNING:neo4j.notifications:Received notification from DBMS server: {severity: WARNING} {code: Neo.ClientNotification.Statement.FeatureDeprecationWarning} {category: DEPRECATION} {title: This feature is deprecated and will be removed in future versions.} {description: CALL subquery without a variable scope clause is now deprecated. Use CALL (node, node) { ... }} {position: line: 3, column: 13, offset: 104} for query: \"CALL db.index.fulltext.queryNodes('entity', $query, {limit:2})\\n            YIELD node,score\\n            CALL {\\n              WITH node\\n              MATCH (node)-[r:!MENTIONS]->(neighbor)\\n              RETURN node.id + ' - ' + type(r) + ' -> ' + neighbor.id AS output\\n              UNION ALL\\n              WITH node\\n              MATCH (node)<-[r:!MENTIONS]-(neighbor)\\n              RETURN neighbor.id + ' - ' + type(r) + ' -> ' +  node.id AS output\\n            }\\n            RETURN output LIMIT 50\\n            \"\n",
            "WARNING:neo4j.notifications:Received notification from DBMS server: {severity: WARNING} {code: Neo.ClientNotification.Statement.FeatureDeprecationWarning} {category: DEPRECATION} {title: This feature is deprecated and will be removed in future versions.} {description: CALL subquery without a variable scope clause is now deprecated. Use CALL (node, node) { ... }} {position: line: 3, column: 13, offset: 104} for query: \"CALL db.index.fulltext.queryNodes('entity', $query, {limit:2})\\n            YIELD node,score\\n            CALL {\\n              WITH node\\n              MATCH (node)-[r:!MENTIONS]->(neighbor)\\n              RETURN node.id + ' - ' + type(r) + ' -> ' + neighbor.id AS output\\n              UNION ALL\\n              WITH node\\n              MATCH (node)<-[r:!MENTIONS]-(neighbor)\\n              RETURN neighbor.id + ' - ' + type(r) + ' -> ' +  node.id AS output\\n            }\\n            RETURN output LIMIT 50\\n            \"\n",
            "WARNING:neo4j.notifications:Received notification from DBMS server: {severity: WARNING} {code: Neo.ClientNotification.Statement.FeatureDeprecationWarning} {category: DEPRECATION} {title: This feature is deprecated and will be removed in future versions.} {description: CALL subquery without a variable scope clause is now deprecated. Use CALL (node, node) { ... }} {position: line: 3, column: 13, offset: 104} for query: \"CALL db.index.fulltext.queryNodes('entity', $query, {limit:2})\\n            YIELD node,score\\n            CALL {\\n              WITH node\\n              MATCH (node)-[r:!MENTIONS]->(neighbor)\\n              RETURN node.id + ' - ' + type(r) + ' -> ' + neighbor.id AS output\\n              UNION ALL\\n              WITH node\\n              MATCH (node)<-[r:!MENTIONS]-(neighbor)\\n              RETURN neighbor.id + ' - ' + type(r) + ' -> ' +  node.id AS output\\n            }\\n            RETURN output LIMIT 50\\n            \"\n",
            "WARNING:neo4j.notifications:Received notification from DBMS server: {severity: WARNING} {code: Neo.ClientNotification.Statement.FeatureDeprecationWarning} {category: DEPRECATION} {title: This feature is deprecated and will be removed in future versions.} {description: CALL subquery without a variable scope clause is now deprecated. Use CALL () { ... }} {position: line: 1, column: 1, offset: 0} for query: \"CALL { CALL db.index.vector.queryNodes($index, $k, $embedding) YIELD node, score WITH collect({node:node, score:score}) AS nodes, max(score) AS max UNWIND nodes AS n RETURN n.node AS node, (n.score / max) AS score UNION CALL db.index.fulltext.queryNodes($keyword_index, $query, {limit: $k}) YIELD node, score WITH collect({node:node, score:score}) AS nodes, max(score) AS max UNWIND nodes AS n RETURN n.node AS node, (n.score / max) AS score } WITH node, max(score) AS score ORDER BY score DESC LIMIT $k RETURN reduce(str='', k IN ['text'] | str + '\\\\n' + k + ': ' + coalesce(node[k], '')) AS text, node {.*, `embedding`: Null, id: Null, `text`: Null} AS metadata, score\"\n",
            "/usr/local/lib/python3.10/dist-packages/transformers/tokenization_utils_base.py:1601: FutureWarning: `clean_up_tokenization_spaces` was not set. It will be set to `True` by default. This behavior will be depracted in transformers v4.45, and will be then set to `False` by default. For more details check this issue: https://github.com/huggingface/transformers/issues/31884\n",
            "  warnings.warn(\n"
          ]
        },
        {
          "output_type": "stream",
          "name": "stdout",
          "text": [
            "Done-> 5\n",
            "Search query: 'Hello doctor,I need advice after my second CT chest result. Six months back, I went for a CT scan because I have got chest pain which suddenly comes and goes and I wanted to go for a check-up. The CT showed a right-sided nodule measuring 3 mm and was advised to RPT interval scan in six months. I have done the second CT, the previous nodule is still there and they found another one.In the LLL, a 4 mm nodule is representative of an intrapulmonary lymph node. No suspicious lung lesion. Tiny 3 mm RLL nodule noted. No enlarged lymph nodes. Mild thymic hyperplasia. The partly visualized upper abdominal viscera appear unremarkable. No aggressive bony lesion. They said I do not need to do anything which is strange because there are two nodes now and the second one was not there six months ago. Do I need some kind of medicine therapy to clear my lung from this node or do I need to check if it is growing or not after one year?'\n"
          ]
        },
        {
          "output_type": "stream",
          "name": "stderr",
          "text": [
            "WARNING:neo4j.notifications:Received notification from DBMS server: {severity: WARNING} {code: Neo.ClientNotification.Statement.FeatureDeprecationWarning} {category: DEPRECATION} {title: This feature is deprecated and will be removed in future versions.} {description: CALL subquery without a variable scope clause is now deprecated. Use CALL (node, node) { ... }} {position: line: 3, column: 13, offset: 104} for query: \"CALL db.index.fulltext.queryNodes('entity', $query, {limit:2})\\n            YIELD node,score\\n            CALL {\\n              WITH node\\n              MATCH (node)-[r:!MENTIONS]->(neighbor)\\n              RETURN node.id + ' - ' + type(r) + ' -> ' + neighbor.id AS output\\n              UNION ALL\\n              WITH node\\n              MATCH (node)<-[r:!MENTIONS]-(neighbor)\\n              RETURN neighbor.id + ' - ' + type(r) + ' -> ' +  node.id AS output\\n            }\\n            RETURN output LIMIT 50\\n            \"\n",
            "WARNING:neo4j.notifications:Received notification from DBMS server: {severity: WARNING} {code: Neo.ClientNotification.Statement.FeatureDeprecationWarning} {category: DEPRECATION} {title: This feature is deprecated and will be removed in future versions.} {description: CALL subquery without a variable scope clause is now deprecated. Use CALL (node, node) { ... }} {position: line: 3, column: 13, offset: 104} for query: \"CALL db.index.fulltext.queryNodes('entity', $query, {limit:2})\\n            YIELD node,score\\n            CALL {\\n              WITH node\\n              MATCH (node)-[r:!MENTIONS]->(neighbor)\\n              RETURN node.id + ' - ' + type(r) + ' -> ' + neighbor.id AS output\\n              UNION ALL\\n              WITH node\\n              MATCH (node)<-[r:!MENTIONS]-(neighbor)\\n              RETURN neighbor.id + ' - ' + type(r) + ' -> ' +  node.id AS output\\n            }\\n            RETURN output LIMIT 50\\n            \"\n",
            "WARNING:neo4j.notifications:Received notification from DBMS server: {severity: WARNING} {code: Neo.ClientNotification.Statement.FeatureDeprecationWarning} {category: DEPRECATION} {title: This feature is deprecated and will be removed in future versions.} {description: CALL subquery without a variable scope clause is now deprecated. Use CALL (node, node) { ... }} {position: line: 3, column: 13, offset: 104} for query: \"CALL db.index.fulltext.queryNodes('entity', $query, {limit:2})\\n            YIELD node,score\\n            CALL {\\n              WITH node\\n              MATCH (node)-[r:!MENTIONS]->(neighbor)\\n              RETURN node.id + ' - ' + type(r) + ' -> ' + neighbor.id AS output\\n              UNION ALL\\n              WITH node\\n              MATCH (node)<-[r:!MENTIONS]-(neighbor)\\n              RETURN neighbor.id + ' - ' + type(r) + ' -> ' +  node.id AS output\\n            }\\n            RETURN output LIMIT 50\\n            \"\n",
            "WARNING:neo4j.notifications:Received notification from DBMS server: {severity: WARNING} {code: Neo.ClientNotification.Statement.FeatureDeprecationWarning} {category: DEPRECATION} {title: This feature is deprecated and will be removed in future versions.} {description: CALL subquery without a variable scope clause is now deprecated. Use CALL (node, node) { ... }} {position: line: 3, column: 13, offset: 104} for query: \"CALL db.index.fulltext.queryNodes('entity', $query, {limit:2})\\n            YIELD node,score\\n            CALL {\\n              WITH node\\n              MATCH (node)-[r:!MENTIONS]->(neighbor)\\n              RETURN node.id + ' - ' + type(r) + ' -> ' + neighbor.id AS output\\n              UNION ALL\\n              WITH node\\n              MATCH (node)<-[r:!MENTIONS]-(neighbor)\\n              RETURN neighbor.id + ' - ' + type(r) + ' -> ' +  node.id AS output\\n            }\\n            RETURN output LIMIT 50\\n            \"\n",
            "WARNING:neo4j.notifications:Received notification from DBMS server: {severity: WARNING} {code: Neo.ClientNotification.Statement.FeatureDeprecationWarning} {category: DEPRECATION} {title: This feature is deprecated and will be removed in future versions.} {description: CALL subquery without a variable scope clause is now deprecated. Use CALL (node, node) { ... }} {position: line: 3, column: 13, offset: 104} for query: \"CALL db.index.fulltext.queryNodes('entity', $query, {limit:2})\\n            YIELD node,score\\n            CALL {\\n              WITH node\\n              MATCH (node)-[r:!MENTIONS]->(neighbor)\\n              RETURN node.id + ' - ' + type(r) + ' -> ' + neighbor.id AS output\\n              UNION ALL\\n              WITH node\\n              MATCH (node)<-[r:!MENTIONS]-(neighbor)\\n              RETURN neighbor.id + ' - ' + type(r) + ' -> ' +  node.id AS output\\n            }\\n            RETURN output LIMIT 50\\n            \"\n",
            "WARNING:neo4j.notifications:Received notification from DBMS server: {severity: WARNING} {code: Neo.ClientNotification.Statement.FeatureDeprecationWarning} {category: DEPRECATION} {title: This feature is deprecated and will be removed in future versions.} {description: CALL subquery without a variable scope clause is now deprecated. Use CALL (node, node) { ... }} {position: line: 3, column: 13, offset: 104} for query: \"CALL db.index.fulltext.queryNodes('entity', $query, {limit:2})\\n            YIELD node,score\\n            CALL {\\n              WITH node\\n              MATCH (node)-[r:!MENTIONS]->(neighbor)\\n              RETURN node.id + ' - ' + type(r) + ' -> ' + neighbor.id AS output\\n              UNION ALL\\n              WITH node\\n              MATCH (node)<-[r:!MENTIONS]-(neighbor)\\n              RETURN neighbor.id + ' - ' + type(r) + ' -> ' +  node.id AS output\\n            }\\n            RETURN output LIMIT 50\\n            \"\n",
            "WARNING:neo4j.notifications:Received notification from DBMS server: {severity: WARNING} {code: Neo.ClientNotification.Statement.FeatureDeprecationWarning} {category: DEPRECATION} {title: This feature is deprecated and will be removed in future versions.} {description: CALL subquery without a variable scope clause is now deprecated. Use CALL (node, node) { ... }} {position: line: 3, column: 13, offset: 104} for query: \"CALL db.index.fulltext.queryNodes('entity', $query, {limit:2})\\n            YIELD node,score\\n            CALL {\\n              WITH node\\n              MATCH (node)-[r:!MENTIONS]->(neighbor)\\n              RETURN node.id + ' - ' + type(r) + ' -> ' + neighbor.id AS output\\n              UNION ALL\\n              WITH node\\n              MATCH (node)<-[r:!MENTIONS]-(neighbor)\\n              RETURN neighbor.id + ' - ' + type(r) + ' -> ' +  node.id AS output\\n            }\\n            RETURN output LIMIT 50\\n            \"\n",
            "WARNING:neo4j.notifications:Received notification from DBMS server: {severity: WARNING} {code: Neo.ClientNotification.Statement.FeatureDeprecationWarning} {category: DEPRECATION} {title: This feature is deprecated and will be removed in future versions.} {description: CALL subquery without a variable scope clause is now deprecated. Use CALL (node, node) { ... }} {position: line: 3, column: 13, offset: 104} for query: \"CALL db.index.fulltext.queryNodes('entity', $query, {limit:2})\\n            YIELD node,score\\n            CALL {\\n              WITH node\\n              MATCH (node)-[r:!MENTIONS]->(neighbor)\\n              RETURN node.id + ' - ' + type(r) + ' -> ' + neighbor.id AS output\\n              UNION ALL\\n              WITH node\\n              MATCH (node)<-[r:!MENTIONS]-(neighbor)\\n              RETURN neighbor.id + ' - ' + type(r) + ' -> ' +  node.id AS output\\n            }\\n            RETURN output LIMIT 50\\n            \"\n",
            "WARNING:neo4j.notifications:Received notification from DBMS server: {severity: WARNING} {code: Neo.ClientNotification.Statement.FeatureDeprecationWarning} {category: DEPRECATION} {title: This feature is deprecated and will be removed in future versions.} {description: CALL subquery without a variable scope clause is now deprecated. Use CALL (node, node) { ... }} {position: line: 3, column: 13, offset: 104} for query: \"CALL db.index.fulltext.queryNodes('entity', $query, {limit:2})\\n            YIELD node,score\\n            CALL {\\n              WITH node\\n              MATCH (node)-[r:!MENTIONS]->(neighbor)\\n              RETURN node.id + ' - ' + type(r) + ' -> ' + neighbor.id AS output\\n              UNION ALL\\n              WITH node\\n              MATCH (node)<-[r:!MENTIONS]-(neighbor)\\n              RETURN neighbor.id + ' - ' + type(r) + ' -> ' +  node.id AS output\\n            }\\n            RETURN output LIMIT 50\\n            \"\n",
            "WARNING:neo4j.notifications:Received notification from DBMS server: {severity: WARNING} {code: Neo.ClientNotification.Statement.FeatureDeprecationWarning} {category: DEPRECATION} {title: This feature is deprecated and will be removed in future versions.} {description: CALL subquery without a variable scope clause is now deprecated. Use CALL (node, node) { ... }} {position: line: 3, column: 13, offset: 104} for query: \"CALL db.index.fulltext.queryNodes('entity', $query, {limit:2})\\n            YIELD node,score\\n            CALL {\\n              WITH node\\n              MATCH (node)-[r:!MENTIONS]->(neighbor)\\n              RETURN node.id + ' - ' + type(r) + ' -> ' + neighbor.id AS output\\n              UNION ALL\\n              WITH node\\n              MATCH (node)<-[r:!MENTIONS]-(neighbor)\\n              RETURN neighbor.id + ' - ' + type(r) + ' -> ' +  node.id AS output\\n            }\\n            RETURN output LIMIT 50\\n            \"\n",
            "WARNING:neo4j.notifications:Received notification from DBMS server: {severity: WARNING} {code: Neo.ClientNotification.Statement.FeatureDeprecationWarning} {category: DEPRECATION} {title: This feature is deprecated and will be removed in future versions.} {description: CALL subquery without a variable scope clause is now deprecated. Use CALL (node, node) { ... }} {position: line: 3, column: 13, offset: 104} for query: \"CALL db.index.fulltext.queryNodes('entity', $query, {limit:2})\\n            YIELD node,score\\n            CALL {\\n              WITH node\\n              MATCH (node)-[r:!MENTIONS]->(neighbor)\\n              RETURN node.id + ' - ' + type(r) + ' -> ' + neighbor.id AS output\\n              UNION ALL\\n              WITH node\\n              MATCH (node)<-[r:!MENTIONS]-(neighbor)\\n              RETURN neighbor.id + ' - ' + type(r) + ' -> ' +  node.id AS output\\n            }\\n            RETURN output LIMIT 50\\n            \"\n",
            "WARNING:neo4j.notifications:Received notification from DBMS server: {severity: WARNING} {code: Neo.ClientNotification.Statement.FeatureDeprecationWarning} {category: DEPRECATION} {title: This feature is deprecated and will be removed in future versions.} {description: CALL subquery without a variable scope clause is now deprecated. Use CALL (node, node) { ... }} {position: line: 3, column: 13, offset: 104} for query: \"CALL db.index.fulltext.queryNodes('entity', $query, {limit:2})\\n            YIELD node,score\\n            CALL {\\n              WITH node\\n              MATCH (node)-[r:!MENTIONS]->(neighbor)\\n              RETURN node.id + ' - ' + type(r) + ' -> ' + neighbor.id AS output\\n              UNION ALL\\n              WITH node\\n              MATCH (node)<-[r:!MENTIONS]-(neighbor)\\n              RETURN neighbor.id + ' - ' + type(r) + ' -> ' +  node.id AS output\\n            }\\n            RETURN output LIMIT 50\\n            \"\n",
            "WARNING:neo4j.notifications:Received notification from DBMS server: {severity: WARNING} {code: Neo.ClientNotification.Statement.FeatureDeprecationWarning} {category: DEPRECATION} {title: This feature is deprecated and will be removed in future versions.} {description: CALL subquery without a variable scope clause is now deprecated. Use CALL (node, node) { ... }} {position: line: 3, column: 13, offset: 104} for query: \"CALL db.index.fulltext.queryNodes('entity', $query, {limit:2})\\n            YIELD node,score\\n            CALL {\\n              WITH node\\n              MATCH (node)-[r:!MENTIONS]->(neighbor)\\n              RETURN node.id + ' - ' + type(r) + ' -> ' + neighbor.id AS output\\n              UNION ALL\\n              WITH node\\n              MATCH (node)<-[r:!MENTIONS]-(neighbor)\\n              RETURN neighbor.id + ' - ' + type(r) + ' -> ' +  node.id AS output\\n            }\\n            RETURN output LIMIT 50\\n            \"\n",
            "WARNING:neo4j.notifications:Received notification from DBMS server: {severity: WARNING} {code: Neo.ClientNotification.Statement.FeatureDeprecationWarning} {category: DEPRECATION} {title: This feature is deprecated and will be removed in future versions.} {description: CALL subquery without a variable scope clause is now deprecated. Use CALL () { ... }} {position: line: 1, column: 1, offset: 0} for query: \"CALL { CALL db.index.vector.queryNodes($index, $k, $embedding) YIELD node, score WITH collect({node:node, score:score}) AS nodes, max(score) AS max UNWIND nodes AS n RETURN n.node AS node, (n.score / max) AS score UNION CALL db.index.fulltext.queryNodes($keyword_index, $query, {limit: $k}) YIELD node, score WITH collect({node:node, score:score}) AS nodes, max(score) AS max UNWIND nodes AS n RETURN n.node AS node, (n.score / max) AS score } WITH node, max(score) AS score ORDER BY score DESC LIMIT $k RETURN reduce(str='', k IN ['text'] | str + '\\\\n' + k + ': ' + coalesce(node[k], '')) AS text, node {.*, `embedding`: Null, id: Null, `text`: Null} AS metadata, score\"\n",
            "/usr/local/lib/python3.10/dist-packages/transformers/tokenization_utils_base.py:1601: FutureWarning: `clean_up_tokenization_spaces` was not set. It will be set to `True` by default. This behavior will be depracted in transformers v4.45, and will be then set to `False` by default. For more details check this issue: https://github.com/huggingface/transformers/issues/31884\n",
            "  warnings.warn(\n"
          ]
        },
        {
          "output_type": "stream",
          "name": "stdout",
          "text": [
            "Done-> 6\n",
            "Search query: 'Hi doctor,I had sex for the first time. After that, I did not get my periods yet. I went to a gynecologist. She had taken my blood sample and it was negative. But, still I have not gotten my periods and it has been a week ahead. What could be the reason for my late periods?'\n"
          ]
        },
        {
          "output_type": "stream",
          "name": "stderr",
          "text": [
            "WARNING:neo4j.notifications:Received notification from DBMS server: {severity: WARNING} {code: Neo.ClientNotification.Statement.FeatureDeprecationWarning} {category: DEPRECATION} {title: This feature is deprecated and will be removed in future versions.} {description: CALL subquery without a variable scope clause is now deprecated. Use CALL (node, node) { ... }} {position: line: 3, column: 13, offset: 104} for query: \"CALL db.index.fulltext.queryNodes('entity', $query, {limit:2})\\n            YIELD node,score\\n            CALL {\\n              WITH node\\n              MATCH (node)-[r:!MENTIONS]->(neighbor)\\n              RETURN node.id + ' - ' + type(r) + ' -> ' + neighbor.id AS output\\n              UNION ALL\\n              WITH node\\n              MATCH (node)<-[r:!MENTIONS]-(neighbor)\\n              RETURN neighbor.id + ' - ' + type(r) + ' -> ' +  node.id AS output\\n            }\\n            RETURN output LIMIT 50\\n            \"\n",
            "WARNING:neo4j.notifications:Received notification from DBMS server: {severity: WARNING} {code: Neo.ClientNotification.Statement.FeatureDeprecationWarning} {category: DEPRECATION} {title: This feature is deprecated and will be removed in future versions.} {description: CALL subquery without a variable scope clause is now deprecated. Use CALL (node, node) { ... }} {position: line: 3, column: 13, offset: 104} for query: \"CALL db.index.fulltext.queryNodes('entity', $query, {limit:2})\\n            YIELD node,score\\n            CALL {\\n              WITH node\\n              MATCH (node)-[r:!MENTIONS]->(neighbor)\\n              RETURN node.id + ' - ' + type(r) + ' -> ' + neighbor.id AS output\\n              UNION ALL\\n              WITH node\\n              MATCH (node)<-[r:!MENTIONS]-(neighbor)\\n              RETURN neighbor.id + ' - ' + type(r) + ' -> ' +  node.id AS output\\n            }\\n            RETURN output LIMIT 50\\n            \"\n",
            "WARNING:neo4j.notifications:Received notification from DBMS server: {severity: WARNING} {code: Neo.ClientNotification.Statement.FeatureDeprecationWarning} {category: DEPRECATION} {title: This feature is deprecated and will be removed in future versions.} {description: CALL subquery without a variable scope clause is now deprecated. Use CALL (node, node) { ... }} {position: line: 3, column: 13, offset: 104} for query: \"CALL db.index.fulltext.queryNodes('entity', $query, {limit:2})\\n            YIELD node,score\\n            CALL {\\n              WITH node\\n              MATCH (node)-[r:!MENTIONS]->(neighbor)\\n              RETURN node.id + ' - ' + type(r) + ' -> ' + neighbor.id AS output\\n              UNION ALL\\n              WITH node\\n              MATCH (node)<-[r:!MENTIONS]-(neighbor)\\n              RETURN neighbor.id + ' - ' + type(r) + ' -> ' +  node.id AS output\\n            }\\n            RETURN output LIMIT 50\\n            \"\n",
            "WARNING:neo4j.notifications:Received notification from DBMS server: {severity: WARNING} {code: Neo.ClientNotification.Statement.FeatureDeprecationWarning} {category: DEPRECATION} {title: This feature is deprecated and will be removed in future versions.} {description: CALL subquery without a variable scope clause is now deprecated. Use CALL (node, node) { ... }} {position: line: 3, column: 13, offset: 104} for query: \"CALL db.index.fulltext.queryNodes('entity', $query, {limit:2})\\n            YIELD node,score\\n            CALL {\\n              WITH node\\n              MATCH (node)-[r:!MENTIONS]->(neighbor)\\n              RETURN node.id + ' - ' + type(r) + ' -> ' + neighbor.id AS output\\n              UNION ALL\\n              WITH node\\n              MATCH (node)<-[r:!MENTIONS]-(neighbor)\\n              RETURN neighbor.id + ' - ' + type(r) + ' -> ' +  node.id AS output\\n            }\\n            RETURN output LIMIT 50\\n            \"\n",
            "WARNING:neo4j.notifications:Received notification from DBMS server: {severity: WARNING} {code: Neo.ClientNotification.Statement.FeatureDeprecationWarning} {category: DEPRECATION} {title: This feature is deprecated and will be removed in future versions.} {description: CALL subquery without a variable scope clause is now deprecated. Use CALL () { ... }} {position: line: 1, column: 1, offset: 0} for query: \"CALL { CALL db.index.vector.queryNodes($index, $k, $embedding) YIELD node, score WITH collect({node:node, score:score}) AS nodes, max(score) AS max UNWIND nodes AS n RETURN n.node AS node, (n.score / max) AS score UNION CALL db.index.fulltext.queryNodes($keyword_index, $query, {limit: $k}) YIELD node, score WITH collect({node:node, score:score}) AS nodes, max(score) AS max UNWIND nodes AS n RETURN n.node AS node, (n.score / max) AS score } WITH node, max(score) AS score ORDER BY score DESC LIMIT $k RETURN reduce(str='', k IN ['text'] | str + '\\\\n' + k + ': ' + coalesce(node[k], '')) AS text, node {.*, `embedding`: Null, id: Null, `text`: Null} AS metadata, score\"\n",
            "/usr/local/lib/python3.10/dist-packages/transformers/tokenization_utils_base.py:1601: FutureWarning: `clean_up_tokenization_spaces` was not set. It will be set to `True` by default. This behavior will be depracted in transformers v4.45, and will be then set to `False` by default. For more details check this issue: https://github.com/huggingface/transformers/issues/31884\n",
            "  warnings.warn(\n"
          ]
        },
        {
          "output_type": "stream",
          "name": "stdout",
          "text": [
            "Done-> 7\n",
            "Search query: 'Hello doctor,My friend aged 30 had two drops of phenol mistaking for milk. He vomited and had lot of salt water. Please advice for any side effect.'\n"
          ]
        },
        {
          "output_type": "stream",
          "name": "stderr",
          "text": [
            "WARNING:neo4j.notifications:Received notification from DBMS server: {severity: WARNING} {code: Neo.ClientNotification.Statement.FeatureDeprecationWarning} {category: DEPRECATION} {title: This feature is deprecated and will be removed in future versions.} {description: CALL subquery without a variable scope clause is now deprecated. Use CALL (node, node) { ... }} {position: line: 3, column: 13, offset: 104} for query: \"CALL db.index.fulltext.queryNodes('entity', $query, {limit:2})\\n            YIELD node,score\\n            CALL {\\n              WITH node\\n              MATCH (node)-[r:!MENTIONS]->(neighbor)\\n              RETURN node.id + ' - ' + type(r) + ' -> ' + neighbor.id AS output\\n              UNION ALL\\n              WITH node\\n              MATCH (node)<-[r:!MENTIONS]-(neighbor)\\n              RETURN neighbor.id + ' - ' + type(r) + ' -> ' +  node.id AS output\\n            }\\n            RETURN output LIMIT 50\\n            \"\n",
            "WARNING:neo4j.notifications:Received notification from DBMS server: {severity: WARNING} {code: Neo.ClientNotification.Statement.FeatureDeprecationWarning} {category: DEPRECATION} {title: This feature is deprecated and will be removed in future versions.} {description: CALL subquery without a variable scope clause is now deprecated. Use CALL (node, node) { ... }} {position: line: 3, column: 13, offset: 104} for query: \"CALL db.index.fulltext.queryNodes('entity', $query, {limit:2})\\n            YIELD node,score\\n            CALL {\\n              WITH node\\n              MATCH (node)-[r:!MENTIONS]->(neighbor)\\n              RETURN node.id + ' - ' + type(r) + ' -> ' + neighbor.id AS output\\n              UNION ALL\\n              WITH node\\n              MATCH (node)<-[r:!MENTIONS]-(neighbor)\\n              RETURN neighbor.id + ' - ' + type(r) + ' -> ' +  node.id AS output\\n            }\\n            RETURN output LIMIT 50\\n            \"\n",
            "WARNING:neo4j.notifications:Received notification from DBMS server: {severity: WARNING} {code: Neo.ClientNotification.Statement.FeatureDeprecationWarning} {category: DEPRECATION} {title: This feature is deprecated and will be removed in future versions.} {description: CALL subquery without a variable scope clause is now deprecated. Use CALL (node, node) { ... }} {position: line: 3, column: 13, offset: 104} for query: \"CALL db.index.fulltext.queryNodes('entity', $query, {limit:2})\\n            YIELD node,score\\n            CALL {\\n              WITH node\\n              MATCH (node)-[r:!MENTIONS]->(neighbor)\\n              RETURN node.id + ' - ' + type(r) + ' -> ' + neighbor.id AS output\\n              UNION ALL\\n              WITH node\\n              MATCH (node)<-[r:!MENTIONS]-(neighbor)\\n              RETURN neighbor.id + ' - ' + type(r) + ' -> ' +  node.id AS output\\n            }\\n            RETURN output LIMIT 50\\n            \"\n",
            "WARNING:neo4j.notifications:Received notification from DBMS server: {severity: WARNING} {code: Neo.ClientNotification.Statement.FeatureDeprecationWarning} {category: DEPRECATION} {title: This feature is deprecated and will be removed in future versions.} {description: CALL subquery without a variable scope clause is now deprecated. Use CALL (node, node) { ... }} {position: line: 3, column: 13, offset: 104} for query: \"CALL db.index.fulltext.queryNodes('entity', $query, {limit:2})\\n            YIELD node,score\\n            CALL {\\n              WITH node\\n              MATCH (node)-[r:!MENTIONS]->(neighbor)\\n              RETURN node.id + ' - ' + type(r) + ' -> ' + neighbor.id AS output\\n              UNION ALL\\n              WITH node\\n              MATCH (node)<-[r:!MENTIONS]-(neighbor)\\n              RETURN neighbor.id + ' - ' + type(r) + ' -> ' +  node.id AS output\\n            }\\n            RETURN output LIMIT 50\\n            \"\n",
            "WARNING:neo4j.notifications:Received notification from DBMS server: {severity: WARNING} {code: Neo.ClientNotification.Statement.FeatureDeprecationWarning} {category: DEPRECATION} {title: This feature is deprecated and will be removed in future versions.} {description: CALL subquery without a variable scope clause is now deprecated. Use CALL () { ... }} {position: line: 1, column: 1, offset: 0} for query: \"CALL { CALL db.index.vector.queryNodes($index, $k, $embedding) YIELD node, score WITH collect({node:node, score:score}) AS nodes, max(score) AS max UNWIND nodes AS n RETURN n.node AS node, (n.score / max) AS score UNION CALL db.index.fulltext.queryNodes($keyword_index, $query, {limit: $k}) YIELD node, score WITH collect({node:node, score:score}) AS nodes, max(score) AS max UNWIND nodes AS n RETURN n.node AS node, (n.score / max) AS score } WITH node, max(score) AS score ORDER BY score DESC LIMIT $k RETURN reduce(str='', k IN ['text'] | str + '\\\\n' + k + ': ' + coalesce(node[k], '')) AS text, node {.*, `embedding`: Null, id: Null, `text`: Null} AS metadata, score\"\n",
            "/usr/local/lib/python3.10/dist-packages/transformers/tokenization_utils_base.py:1601: FutureWarning: `clean_up_tokenization_spaces` was not set. It will be set to `True` by default. This behavior will be depracted in transformers v4.45, and will be then set to `False` by default. For more details check this issue: https://github.com/huggingface/transformers/issues/31884\n",
            "  warnings.warn(\n"
          ]
        },
        {
          "output_type": "stream",
          "name": "stdout",
          "text": [
            "Done-> 8\n",
            "Search query: 'Hello doctor,Some mornings during the week I get a quick flash of numbness over my left temple. It is never at night or during the day. It can happen more than once sometimes. If I move, roll over, or get up, I can make it stop. It does not hurt and is very fast. What does this sound like?'\n"
          ]
        },
        {
          "output_type": "stream",
          "name": "stderr",
          "text": [
            "WARNING:neo4j.notifications:Received notification from DBMS server: {severity: WARNING} {code: Neo.ClientNotification.Statement.FeatureDeprecationWarning} {category: DEPRECATION} {title: This feature is deprecated and will be removed in future versions.} {description: CALL subquery without a variable scope clause is now deprecated. Use CALL (node, node) { ... }} {position: line: 3, column: 13, offset: 104} for query: \"CALL db.index.fulltext.queryNodes('entity', $query, {limit:2})\\n            YIELD node,score\\n            CALL {\\n              WITH node\\n              MATCH (node)-[r:!MENTIONS]->(neighbor)\\n              RETURN node.id + ' - ' + type(r) + ' -> ' + neighbor.id AS output\\n              UNION ALL\\n              WITH node\\n              MATCH (node)<-[r:!MENTIONS]-(neighbor)\\n              RETURN neighbor.id + ' - ' + type(r) + ' -> ' +  node.id AS output\\n            }\\n            RETURN output LIMIT 50\\n            \"\n",
            "WARNING:neo4j.notifications:Received notification from DBMS server: {severity: WARNING} {code: Neo.ClientNotification.Statement.FeatureDeprecationWarning} {category: DEPRECATION} {title: This feature is deprecated and will be removed in future versions.} {description: CALL subquery without a variable scope clause is now deprecated. Use CALL (node, node) { ... }} {position: line: 3, column: 13, offset: 104} for query: \"CALL db.index.fulltext.queryNodes('entity', $query, {limit:2})\\n            YIELD node,score\\n            CALL {\\n              WITH node\\n              MATCH (node)-[r:!MENTIONS]->(neighbor)\\n              RETURN node.id + ' - ' + type(r) + ' -> ' + neighbor.id AS output\\n              UNION ALL\\n              WITH node\\n              MATCH (node)<-[r:!MENTIONS]-(neighbor)\\n              RETURN neighbor.id + ' - ' + type(r) + ' -> ' +  node.id AS output\\n            }\\n            RETURN output LIMIT 50\\n            \"\n",
            "WARNING:neo4j.notifications:Received notification from DBMS server: {severity: WARNING} {code: Neo.ClientNotification.Statement.FeatureDeprecationWarning} {category: DEPRECATION} {title: This feature is deprecated and will be removed in future versions.} {description: CALL subquery without a variable scope clause is now deprecated. Use CALL (node, node) { ... }} {position: line: 3, column: 13, offset: 104} for query: \"CALL db.index.fulltext.queryNodes('entity', $query, {limit:2})\\n            YIELD node,score\\n            CALL {\\n              WITH node\\n              MATCH (node)-[r:!MENTIONS]->(neighbor)\\n              RETURN node.id + ' - ' + type(r) + ' -> ' + neighbor.id AS output\\n              UNION ALL\\n              WITH node\\n              MATCH (node)<-[r:!MENTIONS]-(neighbor)\\n              RETURN neighbor.id + ' - ' + type(r) + ' -> ' +  node.id AS output\\n            }\\n            RETURN output LIMIT 50\\n            \"\n",
            "WARNING:neo4j.notifications:Received notification from DBMS server: {severity: WARNING} {code: Neo.ClientNotification.Statement.FeatureDeprecationWarning} {category: DEPRECATION} {title: This feature is deprecated and will be removed in future versions.} {description: CALL subquery without a variable scope clause is now deprecated. Use CALL (node, node) { ... }} {position: line: 3, column: 13, offset: 104} for query: \"CALL db.index.fulltext.queryNodes('entity', $query, {limit:2})\\n            YIELD node,score\\n            CALL {\\n              WITH node\\n              MATCH (node)-[r:!MENTIONS]->(neighbor)\\n              RETURN node.id + ' - ' + type(r) + ' -> ' + neighbor.id AS output\\n              UNION ALL\\n              WITH node\\n              MATCH (node)<-[r:!MENTIONS]-(neighbor)\\n              RETURN neighbor.id + ' - ' + type(r) + ' -> ' +  node.id AS output\\n            }\\n            RETURN output LIMIT 50\\n            \"\n",
            "WARNING:neo4j.notifications:Received notification from DBMS server: {severity: WARNING} {code: Neo.ClientNotification.Statement.FeatureDeprecationWarning} {category: DEPRECATION} {title: This feature is deprecated and will be removed in future versions.} {description: CALL subquery without a variable scope clause is now deprecated. Use CALL (node, node) { ... }} {position: line: 3, column: 13, offset: 104} for query: \"CALL db.index.fulltext.queryNodes('entity', $query, {limit:2})\\n            YIELD node,score\\n            CALL {\\n              WITH node\\n              MATCH (node)-[r:!MENTIONS]->(neighbor)\\n              RETURN node.id + ' - ' + type(r) + ' -> ' + neighbor.id AS output\\n              UNION ALL\\n              WITH node\\n              MATCH (node)<-[r:!MENTIONS]-(neighbor)\\n              RETURN neighbor.id + ' - ' + type(r) + ' -> ' +  node.id AS output\\n            }\\n            RETURN output LIMIT 50\\n            \"\n",
            "WARNING:neo4j.notifications:Received notification from DBMS server: {severity: WARNING} {code: Neo.ClientNotification.Statement.FeatureDeprecationWarning} {category: DEPRECATION} {title: This feature is deprecated and will be removed in future versions.} {description: CALL subquery without a variable scope clause is now deprecated. Use CALL (node, node) { ... }} {position: line: 3, column: 13, offset: 104} for query: \"CALL db.index.fulltext.queryNodes('entity', $query, {limit:2})\\n            YIELD node,score\\n            CALL {\\n              WITH node\\n              MATCH (node)-[r:!MENTIONS]->(neighbor)\\n              RETURN node.id + ' - ' + type(r) + ' -> ' + neighbor.id AS output\\n              UNION ALL\\n              WITH node\\n              MATCH (node)<-[r:!MENTIONS]-(neighbor)\\n              RETURN neighbor.id + ' - ' + type(r) + ' -> ' +  node.id AS output\\n            }\\n            RETURN output LIMIT 50\\n            \"\n",
            "WARNING:neo4j.notifications:Received notification from DBMS server: {severity: WARNING} {code: Neo.ClientNotification.Statement.FeatureDeprecationWarning} {category: DEPRECATION} {title: This feature is deprecated and will be removed in future versions.} {description: CALL subquery without a variable scope clause is now deprecated. Use CALL (node, node) { ... }} {position: line: 3, column: 13, offset: 104} for query: \"CALL db.index.fulltext.queryNodes('entity', $query, {limit:2})\\n            YIELD node,score\\n            CALL {\\n              WITH node\\n              MATCH (node)-[r:!MENTIONS]->(neighbor)\\n              RETURN node.id + ' - ' + type(r) + ' -> ' + neighbor.id AS output\\n              UNION ALL\\n              WITH node\\n              MATCH (node)<-[r:!MENTIONS]-(neighbor)\\n              RETURN neighbor.id + ' - ' + type(r) + ' -> ' +  node.id AS output\\n            }\\n            RETURN output LIMIT 50\\n            \"\n",
            "WARNING:neo4j.notifications:Received notification from DBMS server: {severity: WARNING} {code: Neo.ClientNotification.Statement.FeatureDeprecationWarning} {category: DEPRECATION} {title: This feature is deprecated and will be removed in future versions.} {description: CALL subquery without a variable scope clause is now deprecated. Use CALL (node, node) { ... }} {position: line: 3, column: 13, offset: 104} for query: \"CALL db.index.fulltext.queryNodes('entity', $query, {limit:2})\\n            YIELD node,score\\n            CALL {\\n              WITH node\\n              MATCH (node)-[r:!MENTIONS]->(neighbor)\\n              RETURN node.id + ' - ' + type(r) + ' -> ' + neighbor.id AS output\\n              UNION ALL\\n              WITH node\\n              MATCH (node)<-[r:!MENTIONS]-(neighbor)\\n              RETURN neighbor.id + ' - ' + type(r) + ' -> ' +  node.id AS output\\n            }\\n            RETURN output LIMIT 50\\n            \"\n",
            "WARNING:neo4j.notifications:Received notification from DBMS server: {severity: WARNING} {code: Neo.ClientNotification.Statement.FeatureDeprecationWarning} {category: DEPRECATION} {title: This feature is deprecated and will be removed in future versions.} {description: CALL subquery without a variable scope clause is now deprecated. Use CALL (node, node) { ... }} {position: line: 3, column: 13, offset: 104} for query: \"CALL db.index.fulltext.queryNodes('entity', $query, {limit:2})\\n            YIELD node,score\\n            CALL {\\n              WITH node\\n              MATCH (node)-[r:!MENTIONS]->(neighbor)\\n              RETURN node.id + ' - ' + type(r) + ' -> ' + neighbor.id AS output\\n              UNION ALL\\n              WITH node\\n              MATCH (node)<-[r:!MENTIONS]-(neighbor)\\n              RETURN neighbor.id + ' - ' + type(r) + ' -> ' +  node.id AS output\\n            }\\n            RETURN output LIMIT 50\\n            \"\n",
            "WARNING:neo4j.notifications:Received notification from DBMS server: {severity: WARNING} {code: Neo.ClientNotification.Statement.FeatureDeprecationWarning} {category: DEPRECATION} {title: This feature is deprecated and will be removed in future versions.} {description: CALL subquery without a variable scope clause is now deprecated. Use CALL (node, node) { ... }} {position: line: 3, column: 13, offset: 104} for query: \"CALL db.index.fulltext.queryNodes('entity', $query, {limit:2})\\n            YIELD node,score\\n            CALL {\\n              WITH node\\n              MATCH (node)-[r:!MENTIONS]->(neighbor)\\n              RETURN node.id + ' - ' + type(r) + ' -> ' + neighbor.id AS output\\n              UNION ALL\\n              WITH node\\n              MATCH (node)<-[r:!MENTIONS]-(neighbor)\\n              RETURN neighbor.id + ' - ' + type(r) + ' -> ' +  node.id AS output\\n            }\\n            RETURN output LIMIT 50\\n            \"\n",
            "WARNING:neo4j.notifications:Received notification from DBMS server: {severity: WARNING} {code: Neo.ClientNotification.Statement.FeatureDeprecationWarning} {category: DEPRECATION} {title: This feature is deprecated and will be removed in future versions.} {description: CALL subquery without a variable scope clause is now deprecated. Use CALL () { ... }} {position: line: 1, column: 1, offset: 0} for query: \"CALL { CALL db.index.vector.queryNodes($index, $k, $embedding) YIELD node, score WITH collect({node:node, score:score}) AS nodes, max(score) AS max UNWIND nodes AS n RETURN n.node AS node, (n.score / max) AS score UNION CALL db.index.fulltext.queryNodes($keyword_index, $query, {limit: $k}) YIELD node, score WITH collect({node:node, score:score}) AS nodes, max(score) AS max UNWIND nodes AS n RETURN n.node AS node, (n.score / max) AS score } WITH node, max(score) AS score ORDER BY score DESC LIMIT $k RETURN reduce(str='', k IN ['text'] | str + '\\\\n' + k + ': ' + coalesce(node[k], '')) AS text, node {.*, `embedding`: Null, id: Null, `text`: Null} AS metadata, score\"\n",
            "/usr/local/lib/python3.10/dist-packages/transformers/tokenization_utils_base.py:1601: FutureWarning: `clean_up_tokenization_spaces` was not set. It will be set to `True` by default. This behavior will be depracted in transformers v4.45, and will be then set to `False` by default. For more details check this issue: https://github.com/huggingface/transformers/issues/31884\n",
            "  warnings.warn(\n"
          ]
        },
        {
          "output_type": "stream",
          "name": "stdout",
          "text": [
            "Done-> 9\n",
            "Search query: 'Hi doctor,My last USG report showed intrauterine pregnancy with 8 mm gestation sac, no fetal and yolk sac. Last week I had brown discharge with mild lower abdominal pain and was prescribed Susten 200 mg (oral). Now, I am feeling the pain frequently in the right lower abdomen with mild bleeding and pain. It is less when I lie on bed. What to do?'\n"
          ]
        },
        {
          "output_type": "stream",
          "name": "stderr",
          "text": [
            "WARNING:neo4j.notifications:Received notification from DBMS server: {severity: WARNING} {code: Neo.ClientNotification.Statement.FeatureDeprecationWarning} {category: DEPRECATION} {title: This feature is deprecated and will be removed in future versions.} {description: CALL subquery without a variable scope clause is now deprecated. Use CALL (node, node) { ... }} {position: line: 3, column: 13, offset: 104} for query: \"CALL db.index.fulltext.queryNodes('entity', $query, {limit:2})\\n            YIELD node,score\\n            CALL {\\n              WITH node\\n              MATCH (node)-[r:!MENTIONS]->(neighbor)\\n              RETURN node.id + ' - ' + type(r) + ' -> ' + neighbor.id AS output\\n              UNION ALL\\n              WITH node\\n              MATCH (node)<-[r:!MENTIONS]-(neighbor)\\n              RETURN neighbor.id + ' - ' + type(r) + ' -> ' +  node.id AS output\\n            }\\n            RETURN output LIMIT 50\\n            \"\n",
            "WARNING:neo4j.notifications:Received notification from DBMS server: {severity: WARNING} {code: Neo.ClientNotification.Statement.FeatureDeprecationWarning} {category: DEPRECATION} {title: This feature is deprecated and will be removed in future versions.} {description: CALL subquery without a variable scope clause is now deprecated. Use CALL (node, node) { ... }} {position: line: 3, column: 13, offset: 104} for query: \"CALL db.index.fulltext.queryNodes('entity', $query, {limit:2})\\n            YIELD node,score\\n            CALL {\\n              WITH node\\n              MATCH (node)-[r:!MENTIONS]->(neighbor)\\n              RETURN node.id + ' - ' + type(r) + ' -> ' + neighbor.id AS output\\n              UNION ALL\\n              WITH node\\n              MATCH (node)<-[r:!MENTIONS]-(neighbor)\\n              RETURN neighbor.id + ' - ' + type(r) + ' -> ' +  node.id AS output\\n            }\\n            RETURN output LIMIT 50\\n            \"\n",
            "WARNING:neo4j.notifications:Received notification from DBMS server: {severity: WARNING} {code: Neo.ClientNotification.Statement.FeatureDeprecationWarning} {category: DEPRECATION} {title: This feature is deprecated and will be removed in future versions.} {description: CALL subquery without a variable scope clause is now deprecated. Use CALL (node, node) { ... }} {position: line: 3, column: 13, offset: 104} for query: \"CALL db.index.fulltext.queryNodes('entity', $query, {limit:2})\\n            YIELD node,score\\n            CALL {\\n              WITH node\\n              MATCH (node)-[r:!MENTIONS]->(neighbor)\\n              RETURN node.id + ' - ' + type(r) + ' -> ' + neighbor.id AS output\\n              UNION ALL\\n              WITH node\\n              MATCH (node)<-[r:!MENTIONS]-(neighbor)\\n              RETURN neighbor.id + ' - ' + type(r) + ' -> ' +  node.id AS output\\n            }\\n            RETURN output LIMIT 50\\n            \"\n",
            "WARNING:neo4j.notifications:Received notification from DBMS server: {severity: WARNING} {code: Neo.ClientNotification.Statement.FeatureDeprecationWarning} {category: DEPRECATION} {title: This feature is deprecated and will be removed in future versions.} {description: CALL subquery without a variable scope clause is now deprecated. Use CALL (node, node) { ... }} {position: line: 3, column: 13, offset: 104} for query: \"CALL db.index.fulltext.queryNodes('entity', $query, {limit:2})\\n            YIELD node,score\\n            CALL {\\n              WITH node\\n              MATCH (node)-[r:!MENTIONS]->(neighbor)\\n              RETURN node.id + ' - ' + type(r) + ' -> ' + neighbor.id AS output\\n              UNION ALL\\n              WITH node\\n              MATCH (node)<-[r:!MENTIONS]-(neighbor)\\n              RETURN neighbor.id + ' - ' + type(r) + ' -> ' +  node.id AS output\\n            }\\n            RETURN output LIMIT 50\\n            \"\n",
            "WARNING:neo4j.notifications:Received notification from DBMS server: {severity: WARNING} {code: Neo.ClientNotification.Statement.FeatureDeprecationWarning} {category: DEPRECATION} {title: This feature is deprecated and will be removed in future versions.} {description: CALL subquery without a variable scope clause is now deprecated. Use CALL (node, node) { ... }} {position: line: 3, column: 13, offset: 104} for query: \"CALL db.index.fulltext.queryNodes('entity', $query, {limit:2})\\n            YIELD node,score\\n            CALL {\\n              WITH node\\n              MATCH (node)-[r:!MENTIONS]->(neighbor)\\n              RETURN node.id + ' - ' + type(r) + ' -> ' + neighbor.id AS output\\n              UNION ALL\\n              WITH node\\n              MATCH (node)<-[r:!MENTIONS]-(neighbor)\\n              RETURN neighbor.id + ' - ' + type(r) + ' -> ' +  node.id AS output\\n            }\\n            RETURN output LIMIT 50\\n            \"\n",
            "WARNING:neo4j.notifications:Received notification from DBMS server: {severity: WARNING} {code: Neo.ClientNotification.Statement.FeatureDeprecationWarning} {category: DEPRECATION} {title: This feature is deprecated and will be removed in future versions.} {description: CALL subquery without a variable scope clause is now deprecated. Use CALL (node, node) { ... }} {position: line: 3, column: 13, offset: 104} for query: \"CALL db.index.fulltext.queryNodes('entity', $query, {limit:2})\\n            YIELD node,score\\n            CALL {\\n              WITH node\\n              MATCH (node)-[r:!MENTIONS]->(neighbor)\\n              RETURN node.id + ' - ' + type(r) + ' -> ' + neighbor.id AS output\\n              UNION ALL\\n              WITH node\\n              MATCH (node)<-[r:!MENTIONS]-(neighbor)\\n              RETURN neighbor.id + ' - ' + type(r) + ' -> ' +  node.id AS output\\n            }\\n            RETURN output LIMIT 50\\n            \"\n",
            "WARNING:neo4j.notifications:Received notification from DBMS server: {severity: WARNING} {code: Neo.ClientNotification.Statement.FeatureDeprecationWarning} {category: DEPRECATION} {title: This feature is deprecated and will be removed in future versions.} {description: CALL subquery without a variable scope clause is now deprecated. Use CALL (node, node) { ... }} {position: line: 3, column: 13, offset: 104} for query: \"CALL db.index.fulltext.queryNodes('entity', $query, {limit:2})\\n            YIELD node,score\\n            CALL {\\n              WITH node\\n              MATCH (node)-[r:!MENTIONS]->(neighbor)\\n              RETURN node.id + ' - ' + type(r) + ' -> ' + neighbor.id AS output\\n              UNION ALL\\n              WITH node\\n              MATCH (node)<-[r:!MENTIONS]-(neighbor)\\n              RETURN neighbor.id + ' - ' + type(r) + ' -> ' +  node.id AS output\\n            }\\n            RETURN output LIMIT 50\\n            \"\n",
            "WARNING:neo4j.notifications:Received notification from DBMS server: {severity: WARNING} {code: Neo.ClientNotification.Statement.FeatureDeprecationWarning} {category: DEPRECATION} {title: This feature is deprecated and will be removed in future versions.} {description: CALL subquery without a variable scope clause is now deprecated. Use CALL (node, node) { ... }} {position: line: 3, column: 13, offset: 104} for query: \"CALL db.index.fulltext.queryNodes('entity', $query, {limit:2})\\n            YIELD node,score\\n            CALL {\\n              WITH node\\n              MATCH (node)-[r:!MENTIONS]->(neighbor)\\n              RETURN node.id + ' - ' + type(r) + ' -> ' + neighbor.id AS output\\n              UNION ALL\\n              WITH node\\n              MATCH (node)<-[r:!MENTIONS]-(neighbor)\\n              RETURN neighbor.id + ' - ' + type(r) + ' -> ' +  node.id AS output\\n            }\\n            RETURN output LIMIT 50\\n            \"\n",
            "WARNING:neo4j.notifications:Received notification from DBMS server: {severity: WARNING} {code: Neo.ClientNotification.Statement.FeatureDeprecationWarning} {category: DEPRECATION} {title: This feature is deprecated and will be removed in future versions.} {description: CALL subquery without a variable scope clause is now deprecated. Use CALL (node, node) { ... }} {position: line: 3, column: 13, offset: 104} for query: \"CALL db.index.fulltext.queryNodes('entity', $query, {limit:2})\\n            YIELD node,score\\n            CALL {\\n              WITH node\\n              MATCH (node)-[r:!MENTIONS]->(neighbor)\\n              RETURN node.id + ' - ' + type(r) + ' -> ' + neighbor.id AS output\\n              UNION ALL\\n              WITH node\\n              MATCH (node)<-[r:!MENTIONS]-(neighbor)\\n              RETURN neighbor.id + ' - ' + type(r) + ' -> ' +  node.id AS output\\n            }\\n            RETURN output LIMIT 50\\n            \"\n",
            "WARNING:neo4j.notifications:Received notification from DBMS server: {severity: WARNING} {code: Neo.ClientNotification.Statement.FeatureDeprecationWarning} {category: DEPRECATION} {title: This feature is deprecated and will be removed in future versions.} {description: CALL subquery without a variable scope clause is now deprecated. Use CALL () { ... }} {position: line: 1, column: 1, offset: 0} for query: \"CALL { CALL db.index.vector.queryNodes($index, $k, $embedding) YIELD node, score WITH collect({node:node, score:score}) AS nodes, max(score) AS max UNWIND nodes AS n RETURN n.node AS node, (n.score / max) AS score UNION CALL db.index.fulltext.queryNodes($keyword_index, $query, {limit: $k}) YIELD node, score WITH collect({node:node, score:score}) AS nodes, max(score) AS max UNWIND nodes AS n RETURN n.node AS node, (n.score / max) AS score } WITH node, max(score) AS score ORDER BY score DESC LIMIT $k RETURN reduce(str='', k IN ['text'] | str + '\\\\n' + k + ': ' + coalesce(node[k], '')) AS text, node {.*, `embedding`: Null, id: Null, `text`: Null} AS metadata, score\"\n",
            "/usr/local/lib/python3.10/dist-packages/transformers/tokenization_utils_base.py:1601: FutureWarning: `clean_up_tokenization_spaces` was not set. It will be set to `True` by default. This behavior will be depracted in transformers v4.45, and will be then set to `False` by default. For more details check this issue: https://github.com/huggingface/transformers/issues/31884\n",
            "  warnings.warn(\n"
          ]
        },
        {
          "output_type": "stream",
          "name": "stdout",
          "text": [
            "Done-> 10\n",
            "Search query: \"I'm 40 & I've had glandular fever, shingles, influenza and have an autoimmune condition (Hashimoto's disease). I believe I may be more vulnerable than the average person my age to get Coronavirus, due to my weakened immune system? Should I be self isolating? I am ok to do so\"\n"
          ]
        },
        {
          "output_type": "stream",
          "name": "stderr",
          "text": [
            "WARNING:neo4j.notifications:Received notification from DBMS server: {severity: WARNING} {code: Neo.ClientNotification.Statement.FeatureDeprecationWarning} {category: DEPRECATION} {title: This feature is deprecated and will be removed in future versions.} {description: CALL subquery without a variable scope clause is now deprecated. Use CALL (node, node) { ... }} {position: line: 3, column: 13, offset: 104} for query: \"CALL db.index.fulltext.queryNodes('entity', $query, {limit:2})\\n            YIELD node,score\\n            CALL {\\n              WITH node\\n              MATCH (node)-[r:!MENTIONS]->(neighbor)\\n              RETURN node.id + ' - ' + type(r) + ' -> ' + neighbor.id AS output\\n              UNION ALL\\n              WITH node\\n              MATCH (node)<-[r:!MENTIONS]-(neighbor)\\n              RETURN neighbor.id + ' - ' + type(r) + ' -> ' +  node.id AS output\\n            }\\n            RETURN output LIMIT 50\\n            \"\n",
            "WARNING:neo4j.notifications:Received notification from DBMS server: {severity: WARNING} {code: Neo.ClientNotification.Statement.FeatureDeprecationWarning} {category: DEPRECATION} {title: This feature is deprecated and will be removed in future versions.} {description: CALL subquery without a variable scope clause is now deprecated. Use CALL (node, node) { ... }} {position: line: 3, column: 13, offset: 104} for query: \"CALL db.index.fulltext.queryNodes('entity', $query, {limit:2})\\n            YIELD node,score\\n            CALL {\\n              WITH node\\n              MATCH (node)-[r:!MENTIONS]->(neighbor)\\n              RETURN node.id + ' - ' + type(r) + ' -> ' + neighbor.id AS output\\n              UNION ALL\\n              WITH node\\n              MATCH (node)<-[r:!MENTIONS]-(neighbor)\\n              RETURN neighbor.id + ' - ' + type(r) + ' -> ' +  node.id AS output\\n            }\\n            RETURN output LIMIT 50\\n            \"\n",
            "WARNING:neo4j.notifications:Received notification from DBMS server: {severity: WARNING} {code: Neo.ClientNotification.Statement.FeatureDeprecationWarning} {category: DEPRECATION} {title: This feature is deprecated and will be removed in future versions.} {description: CALL subquery without a variable scope clause is now deprecated. Use CALL (node, node) { ... }} {position: line: 3, column: 13, offset: 104} for query: \"CALL db.index.fulltext.queryNodes('entity', $query, {limit:2})\\n            YIELD node,score\\n            CALL {\\n              WITH node\\n              MATCH (node)-[r:!MENTIONS]->(neighbor)\\n              RETURN node.id + ' - ' + type(r) + ' -> ' + neighbor.id AS output\\n              UNION ALL\\n              WITH node\\n              MATCH (node)<-[r:!MENTIONS]-(neighbor)\\n              RETURN neighbor.id + ' - ' + type(r) + ' -> ' +  node.id AS output\\n            }\\n            RETURN output LIMIT 50\\n            \"\n",
            "WARNING:neo4j.notifications:Received notification from DBMS server: {severity: WARNING} {code: Neo.ClientNotification.Statement.FeatureDeprecationWarning} {category: DEPRECATION} {title: This feature is deprecated and will be removed in future versions.} {description: CALL subquery without a variable scope clause is now deprecated. Use CALL (node, node) { ... }} {position: line: 3, column: 13, offset: 104} for query: \"CALL db.index.fulltext.queryNodes('entity', $query, {limit:2})\\n            YIELD node,score\\n            CALL {\\n              WITH node\\n              MATCH (node)-[r:!MENTIONS]->(neighbor)\\n              RETURN node.id + ' - ' + type(r) + ' -> ' + neighbor.id AS output\\n              UNION ALL\\n              WITH node\\n              MATCH (node)<-[r:!MENTIONS]-(neighbor)\\n              RETURN neighbor.id + ' - ' + type(r) + ' -> ' +  node.id AS output\\n            }\\n            RETURN output LIMIT 50\\n            \"\n",
            "WARNING:neo4j.notifications:Received notification from DBMS server: {severity: WARNING} {code: Neo.ClientNotification.Statement.FeatureDeprecationWarning} {category: DEPRECATION} {title: This feature is deprecated and will be removed in future versions.} {description: CALL subquery without a variable scope clause is now deprecated. Use CALL (node, node) { ... }} {position: line: 3, column: 13, offset: 104} for query: \"CALL db.index.fulltext.queryNodes('entity', $query, {limit:2})\\n            YIELD node,score\\n            CALL {\\n              WITH node\\n              MATCH (node)-[r:!MENTIONS]->(neighbor)\\n              RETURN node.id + ' - ' + type(r) + ' -> ' + neighbor.id AS output\\n              UNION ALL\\n              WITH node\\n              MATCH (node)<-[r:!MENTIONS]-(neighbor)\\n              RETURN neighbor.id + ' - ' + type(r) + ' -> ' +  node.id AS output\\n            }\\n            RETURN output LIMIT 50\\n            \"\n",
            "WARNING:neo4j.notifications:Received notification from DBMS server: {severity: WARNING} {code: Neo.ClientNotification.Statement.FeatureDeprecationWarning} {category: DEPRECATION} {title: This feature is deprecated and will be removed in future versions.} {description: CALL subquery without a variable scope clause is now deprecated. Use CALL (node, node) { ... }} {position: line: 3, column: 13, offset: 104} for query: \"CALL db.index.fulltext.queryNodes('entity', $query, {limit:2})\\n            YIELD node,score\\n            CALL {\\n              WITH node\\n              MATCH (node)-[r:!MENTIONS]->(neighbor)\\n              RETURN node.id + ' - ' + type(r) + ' -> ' + neighbor.id AS output\\n              UNION ALL\\n              WITH node\\n              MATCH (node)<-[r:!MENTIONS]-(neighbor)\\n              RETURN neighbor.id + ' - ' + type(r) + ' -> ' +  node.id AS output\\n            }\\n            RETURN output LIMIT 50\\n            \"\n",
            "WARNING:neo4j.notifications:Received notification from DBMS server: {severity: WARNING} {code: Neo.ClientNotification.Statement.FeatureDeprecationWarning} {category: DEPRECATION} {title: This feature is deprecated and will be removed in future versions.} {description: CALL subquery without a variable scope clause is now deprecated. Use CALL (node, node) { ... }} {position: line: 3, column: 13, offset: 104} for query: \"CALL db.index.fulltext.queryNodes('entity', $query, {limit:2})\\n            YIELD node,score\\n            CALL {\\n              WITH node\\n              MATCH (node)-[r:!MENTIONS]->(neighbor)\\n              RETURN node.id + ' - ' + type(r) + ' -> ' + neighbor.id AS output\\n              UNION ALL\\n              WITH node\\n              MATCH (node)<-[r:!MENTIONS]-(neighbor)\\n              RETURN neighbor.id + ' - ' + type(r) + ' -> ' +  node.id AS output\\n            }\\n            RETURN output LIMIT 50\\n            \"\n",
            "WARNING:neo4j.notifications:Received notification from DBMS server: {severity: WARNING} {code: Neo.ClientNotification.Statement.FeatureDeprecationWarning} {category: DEPRECATION} {title: This feature is deprecated and will be removed in future versions.} {description: CALL subquery without a variable scope clause is now deprecated. Use CALL () { ... }} {position: line: 1, column: 1, offset: 0} for query: \"CALL { CALL db.index.vector.queryNodes($index, $k, $embedding) YIELD node, score WITH collect({node:node, score:score}) AS nodes, max(score) AS max UNWIND nodes AS n RETURN n.node AS node, (n.score / max) AS score UNION CALL db.index.fulltext.queryNodes($keyword_index, $query, {limit: $k}) YIELD node, score WITH collect({node:node, score:score}) AS nodes, max(score) AS max UNWIND nodes AS n RETURN n.node AS node, (n.score / max) AS score } WITH node, max(score) AS score ORDER BY score DESC LIMIT $k RETURN reduce(str='', k IN ['text'] | str + '\\\\n' + k + ': ' + coalesce(node[k], '')) AS text, node {.*, `embedding`: Null, id: Null, `text`: Null} AS metadata, score\"\n",
            "/usr/local/lib/python3.10/dist-packages/transformers/tokenization_utils_base.py:1601: FutureWarning: `clean_up_tokenization_spaces` was not set. It will be set to `True` by default. This behavior will be depracted in transformers v4.45, and will be then set to `False` by default. For more details check this issue: https://github.com/huggingface/transformers/issues/31884\n",
            "  warnings.warn(\n"
          ]
        },
        {
          "output_type": "stream",
          "name": "stdout",
          "text": [
            "Done-> 11\n",
            "Search query: 'Hello doctor,I am a 50-year-old female who has had an elevated ferritin level for many years now. My last ferritin level was 342, 20 days back. My ferritin level has been as high as 390. My TIBC, UIBC, iron, and iron saturation have always been within normal range. My glucose has always ranged from 100 to 104. I was tested for hemochromatosis and results are negative. My doctors keep telling me that we will just watch my ferritin level and I have bloodwork done every six months. I was diagnosed with fibromyalgia last year. I am looking for some answers and some help.'\n"
          ]
        },
        {
          "output_type": "stream",
          "name": "stderr",
          "text": [
            "WARNING:neo4j.notifications:Received notification from DBMS server: {severity: WARNING} {code: Neo.ClientNotification.Statement.FeatureDeprecationWarning} {category: DEPRECATION} {title: This feature is deprecated and will be removed in future versions.} {description: CALL subquery without a variable scope clause is now deprecated. Use CALL (node, node) { ... }} {position: line: 3, column: 13, offset: 104} for query: \"CALL db.index.fulltext.queryNodes('entity', $query, {limit:2})\\n            YIELD node,score\\n            CALL {\\n              WITH node\\n              MATCH (node)-[r:!MENTIONS]->(neighbor)\\n              RETURN node.id + ' - ' + type(r) + ' -> ' + neighbor.id AS output\\n              UNION ALL\\n              WITH node\\n              MATCH (node)<-[r:!MENTIONS]-(neighbor)\\n              RETURN neighbor.id + ' - ' + type(r) + ' -> ' +  node.id AS output\\n            }\\n            RETURN output LIMIT 50\\n            \"\n",
            "WARNING:neo4j.notifications:Received notification from DBMS server: {severity: WARNING} {code: Neo.ClientNotification.Statement.FeatureDeprecationWarning} {category: DEPRECATION} {title: This feature is deprecated and will be removed in future versions.} {description: CALL subquery without a variable scope clause is now deprecated. Use CALL (node, node) { ... }} {position: line: 3, column: 13, offset: 104} for query: \"CALL db.index.fulltext.queryNodes('entity', $query, {limit:2})\\n            YIELD node,score\\n            CALL {\\n              WITH node\\n              MATCH (node)-[r:!MENTIONS]->(neighbor)\\n              RETURN node.id + ' - ' + type(r) + ' -> ' + neighbor.id AS output\\n              UNION ALL\\n              WITH node\\n              MATCH (node)<-[r:!MENTIONS]-(neighbor)\\n              RETURN neighbor.id + ' - ' + type(r) + ' -> ' +  node.id AS output\\n            }\\n            RETURN output LIMIT 50\\n            \"\n",
            "WARNING:neo4j.notifications:Received notification from DBMS server: {severity: WARNING} {code: Neo.ClientNotification.Statement.FeatureDeprecationWarning} {category: DEPRECATION} {title: This feature is deprecated and will be removed in future versions.} {description: CALL subquery without a variable scope clause is now deprecated. Use CALL (node, node) { ... }} {position: line: 3, column: 13, offset: 104} for query: \"CALL db.index.fulltext.queryNodes('entity', $query, {limit:2})\\n            YIELD node,score\\n            CALL {\\n              WITH node\\n              MATCH (node)-[r:!MENTIONS]->(neighbor)\\n              RETURN node.id + ' - ' + type(r) + ' -> ' + neighbor.id AS output\\n              UNION ALL\\n              WITH node\\n              MATCH (node)<-[r:!MENTIONS]-(neighbor)\\n              RETURN neighbor.id + ' - ' + type(r) + ' -> ' +  node.id AS output\\n            }\\n            RETURN output LIMIT 50\\n            \"\n",
            "WARNING:neo4j.notifications:Received notification from DBMS server: {severity: WARNING} {code: Neo.ClientNotification.Statement.FeatureDeprecationWarning} {category: DEPRECATION} {title: This feature is deprecated and will be removed in future versions.} {description: CALL subquery without a variable scope clause is now deprecated. Use CALL (node, node) { ... }} {position: line: 3, column: 13, offset: 104} for query: \"CALL db.index.fulltext.queryNodes('entity', $query, {limit:2})\\n            YIELD node,score\\n            CALL {\\n              WITH node\\n              MATCH (node)-[r:!MENTIONS]->(neighbor)\\n              RETURN node.id + ' - ' + type(r) + ' -> ' + neighbor.id AS output\\n              UNION ALL\\n              WITH node\\n              MATCH (node)<-[r:!MENTIONS]-(neighbor)\\n              RETURN neighbor.id + ' - ' + type(r) + ' -> ' +  node.id AS output\\n            }\\n            RETURN output LIMIT 50\\n            \"\n",
            "WARNING:neo4j.notifications:Received notification from DBMS server: {severity: WARNING} {code: Neo.ClientNotification.Statement.FeatureDeprecationWarning} {category: DEPRECATION} {title: This feature is deprecated and will be removed in future versions.} {description: CALL subquery without a variable scope clause is now deprecated. Use CALL (node, node) { ... }} {position: line: 3, column: 13, offset: 104} for query: \"CALL db.index.fulltext.queryNodes('entity', $query, {limit:2})\\n            YIELD node,score\\n            CALL {\\n              WITH node\\n              MATCH (node)-[r:!MENTIONS]->(neighbor)\\n              RETURN node.id + ' - ' + type(r) + ' -> ' + neighbor.id AS output\\n              UNION ALL\\n              WITH node\\n              MATCH (node)<-[r:!MENTIONS]-(neighbor)\\n              RETURN neighbor.id + ' - ' + type(r) + ' -> ' +  node.id AS output\\n            }\\n            RETURN output LIMIT 50\\n            \"\n",
            "WARNING:neo4j.notifications:Received notification from DBMS server: {severity: WARNING} {code: Neo.ClientNotification.Statement.FeatureDeprecationWarning} {category: DEPRECATION} {title: This feature is deprecated and will be removed in future versions.} {description: CALL subquery without a variable scope clause is now deprecated. Use CALL (node, node) { ... }} {position: line: 3, column: 13, offset: 104} for query: \"CALL db.index.fulltext.queryNodes('entity', $query, {limit:2})\\n            YIELD node,score\\n            CALL {\\n              WITH node\\n              MATCH (node)-[r:!MENTIONS]->(neighbor)\\n              RETURN node.id + ' - ' + type(r) + ' -> ' + neighbor.id AS output\\n              UNION ALL\\n              WITH node\\n              MATCH (node)<-[r:!MENTIONS]-(neighbor)\\n              RETURN neighbor.id + ' - ' + type(r) + ' -> ' +  node.id AS output\\n            }\\n            RETURN output LIMIT 50\\n            \"\n",
            "WARNING:neo4j.notifications:Received notification from DBMS server: {severity: WARNING} {code: Neo.ClientNotification.Statement.FeatureDeprecationWarning} {category: DEPRECATION} {title: This feature is deprecated and will be removed in future versions.} {description: CALL subquery without a variable scope clause is now deprecated. Use CALL (node, node) { ... }} {position: line: 3, column: 13, offset: 104} for query: \"CALL db.index.fulltext.queryNodes('entity', $query, {limit:2})\\n            YIELD node,score\\n            CALL {\\n              WITH node\\n              MATCH (node)-[r:!MENTIONS]->(neighbor)\\n              RETURN node.id + ' - ' + type(r) + ' -> ' + neighbor.id AS output\\n              UNION ALL\\n              WITH node\\n              MATCH (node)<-[r:!MENTIONS]-(neighbor)\\n              RETURN neighbor.id + ' - ' + type(r) + ' -> ' +  node.id AS output\\n            }\\n            RETURN output LIMIT 50\\n            \"\n",
            "WARNING:neo4j.notifications:Received notification from DBMS server: {severity: WARNING} {code: Neo.ClientNotification.Statement.FeatureDeprecationWarning} {category: DEPRECATION} {title: This feature is deprecated and will be removed in future versions.} {description: CALL subquery without a variable scope clause is now deprecated. Use CALL (node, node) { ... }} {position: line: 3, column: 13, offset: 104} for query: \"CALL db.index.fulltext.queryNodes('entity', $query, {limit:2})\\n            YIELD node,score\\n            CALL {\\n              WITH node\\n              MATCH (node)-[r:!MENTIONS]->(neighbor)\\n              RETURN node.id + ' - ' + type(r) + ' -> ' + neighbor.id AS output\\n              UNION ALL\\n              WITH node\\n              MATCH (node)<-[r:!MENTIONS]-(neighbor)\\n              RETURN neighbor.id + ' - ' + type(r) + ' -> ' +  node.id AS output\\n            }\\n            RETURN output LIMIT 50\\n            \"\n",
            "WARNING:neo4j.notifications:Received notification from DBMS server: {severity: WARNING} {code: Neo.ClientNotification.Statement.FeatureDeprecationWarning} {category: DEPRECATION} {title: This feature is deprecated and will be removed in future versions.} {description: CALL subquery without a variable scope clause is now deprecated. Use CALL () { ... }} {position: line: 1, column: 1, offset: 0} for query: \"CALL { CALL db.index.vector.queryNodes($index, $k, $embedding) YIELD node, score WITH collect({node:node, score:score}) AS nodes, max(score) AS max UNWIND nodes AS n RETURN n.node AS node, (n.score / max) AS score UNION CALL db.index.fulltext.queryNodes($keyword_index, $query, {limit: $k}) YIELD node, score WITH collect({node:node, score:score}) AS nodes, max(score) AS max UNWIND nodes AS n RETURN n.node AS node, (n.score / max) AS score } WITH node, max(score) AS score ORDER BY score DESC LIMIT $k RETURN reduce(str='', k IN ['text'] | str + '\\\\n' + k + ': ' + coalesce(node[k], '')) AS text, node {.*, `embedding`: Null, id: Null, `text`: Null} AS metadata, score\"\n",
            "/usr/local/lib/python3.10/dist-packages/transformers/tokenization_utils_base.py:1601: FutureWarning: `clean_up_tokenization_spaces` was not set. It will be set to `True` by default. This behavior will be depracted in transformers v4.45, and will be then set to `False` by default. For more details check this issue: https://github.com/huggingface/transformers/issues/31884\n",
            "  warnings.warn(\n"
          ]
        },
        {
          "output_type": "stream",
          "name": "stdout",
          "text": [
            "Done-> 12\n",
            "Search query: 'Hello doctor,I have had a fishy odor down there since I was in elementary school. I was not sexually active at all either. Just a couple years ago I realized I might have something called bacterial vaginosis. I went to the doctor for it a couple years ago and got prescribed Metronidazole and it did nothing for me. Ever since then I have not really gone to the doctor about it again. I am worried because I have read that BV left untreated can make you infertile. How common is it that this could happen? And do you have any tips for me?'\n"
          ]
        },
        {
          "output_type": "stream",
          "name": "stderr",
          "text": [
            "WARNING:neo4j.notifications:Received notification from DBMS server: {severity: WARNING} {code: Neo.ClientNotification.Statement.FeatureDeprecationWarning} {category: DEPRECATION} {title: This feature is deprecated and will be removed in future versions.} {description: CALL subquery without a variable scope clause is now deprecated. Use CALL (node, node) { ... }} {position: line: 3, column: 13, offset: 104} for query: \"CALL db.index.fulltext.queryNodes('entity', $query, {limit:2})\\n            YIELD node,score\\n            CALL {\\n              WITH node\\n              MATCH (node)-[r:!MENTIONS]->(neighbor)\\n              RETURN node.id + ' - ' + type(r) + ' -> ' + neighbor.id AS output\\n              UNION ALL\\n              WITH node\\n              MATCH (node)<-[r:!MENTIONS]-(neighbor)\\n              RETURN neighbor.id + ' - ' + type(r) + ' -> ' +  node.id AS output\\n            }\\n            RETURN output LIMIT 50\\n            \"\n",
            "WARNING:neo4j.notifications:Received notification from DBMS server: {severity: WARNING} {code: Neo.ClientNotification.Statement.FeatureDeprecationWarning} {category: DEPRECATION} {title: This feature is deprecated and will be removed in future versions.} {description: CALL subquery without a variable scope clause is now deprecated. Use CALL (node, node) { ... }} {position: line: 3, column: 13, offset: 104} for query: \"CALL db.index.fulltext.queryNodes('entity', $query, {limit:2})\\n            YIELD node,score\\n            CALL {\\n              WITH node\\n              MATCH (node)-[r:!MENTIONS]->(neighbor)\\n              RETURN node.id + ' - ' + type(r) + ' -> ' + neighbor.id AS output\\n              UNION ALL\\n              WITH node\\n              MATCH (node)<-[r:!MENTIONS]-(neighbor)\\n              RETURN neighbor.id + ' - ' + type(r) + ' -> ' +  node.id AS output\\n            }\\n            RETURN output LIMIT 50\\n            \"\n",
            "WARNING:neo4j.notifications:Received notification from DBMS server: {severity: WARNING} {code: Neo.ClientNotification.Statement.FeatureDeprecationWarning} {category: DEPRECATION} {title: This feature is deprecated and will be removed in future versions.} {description: CALL subquery without a variable scope clause is now deprecated. Use CALL (node, node) { ... }} {position: line: 3, column: 13, offset: 104} for query: \"CALL db.index.fulltext.queryNodes('entity', $query, {limit:2})\\n            YIELD node,score\\n            CALL {\\n              WITH node\\n              MATCH (node)-[r:!MENTIONS]->(neighbor)\\n              RETURN node.id + ' - ' + type(r) + ' -> ' + neighbor.id AS output\\n              UNION ALL\\n              WITH node\\n              MATCH (node)<-[r:!MENTIONS]-(neighbor)\\n              RETURN neighbor.id + ' - ' + type(r) + ' -> ' +  node.id AS output\\n            }\\n            RETURN output LIMIT 50\\n            \"\n",
            "WARNING:neo4j.notifications:Received notification from DBMS server: {severity: WARNING} {code: Neo.ClientNotification.Statement.FeatureDeprecationWarning} {category: DEPRECATION} {title: This feature is deprecated and will be removed in future versions.} {description: CALL subquery without a variable scope clause is now deprecated. Use CALL () { ... }} {position: line: 1, column: 1, offset: 0} for query: \"CALL { CALL db.index.vector.queryNodes($index, $k, $embedding) YIELD node, score WITH collect({node:node, score:score}) AS nodes, max(score) AS max UNWIND nodes AS n RETURN n.node AS node, (n.score / max) AS score UNION CALL db.index.fulltext.queryNodes($keyword_index, $query, {limit: $k}) YIELD node, score WITH collect({node:node, score:score}) AS nodes, max(score) AS max UNWIND nodes AS n RETURN n.node AS node, (n.score / max) AS score } WITH node, max(score) AS score ORDER BY score DESC LIMIT $k RETURN reduce(str='', k IN ['text'] | str + '\\\\n' + k + ': ' + coalesce(node[k], '')) AS text, node {.*, `embedding`: Null, id: Null, `text`: Null} AS metadata, score\"\n"
          ]
        },
        {
          "output_type": "error",
          "ename": "KeyboardInterrupt",
          "evalue": "",
          "traceback": [
            "\u001b[0;31m---------------------------------------------------------------------------\u001b[0m",
            "\u001b[0;31mKeyboardInterrupt\u001b[0m                         Traceback (most recent call last)",
            "\u001b[0;32m<ipython-input-137-596abc22074a>\u001b[0m in \u001b[0;36m<cell line: 2>\u001b[0;34m()\u001b[0m\n\u001b[1;32m      1\u001b[0m \u001b[0mcosSum\u001b[0m\u001b[0;34m,\u001b[0m \u001b[0mbleuSum\u001b[0m\u001b[0;34m,\u001b[0m \u001b[0mrougeSum\u001b[0m\u001b[0;34m,\u001b[0m \u001b[0mLevenshteinSum\u001b[0m \u001b[0;34m=\u001b[0m \u001b[0;36m0\u001b[0m\u001b[0;34m,\u001b[0m \u001b[0;36m0\u001b[0m\u001b[0;34m,\u001b[0m \u001b[0;36m0\u001b[0m\u001b[0;34m,\u001b[0m \u001b[0;36m0\u001b[0m\u001b[0;34m\u001b[0m\u001b[0;34m\u001b[0m\u001b[0m\n\u001b[1;32m      2\u001b[0m \u001b[0;32mfor\u001b[0m \u001b[0mi\u001b[0m \u001b[0;32min\u001b[0m \u001b[0mrange\u001b[0m\u001b[0;34m(\u001b[0m\u001b[0mlen\u001b[0m\u001b[0;34m(\u001b[0m\u001b[0mideal_res_doc\u001b[0m\u001b[0;34m)\u001b[0m\u001b[0;34m)\u001b[0m\u001b[0;34m:\u001b[0m\u001b[0;34m\u001b[0m\u001b[0;34m\u001b[0m\u001b[0m\n\u001b[0;32m----> 3\u001b[0;31m   \u001b[0mres\u001b[0m \u001b[0;34m=\u001b[0m \u001b[0mchain\u001b[0m\u001b[0;34m.\u001b[0m\u001b[0minvoke\u001b[0m\u001b[0;34m(\u001b[0m\u001b[0;34m{\u001b[0m\u001b[0;34m\"question\"\u001b[0m\u001b[0;34m:\u001b[0m \u001b[0mquestion_user\u001b[0m\u001b[0;34m[\u001b[0m\u001b[0mi\u001b[0m\u001b[0;34m]\u001b[0m\u001b[0;34m}\u001b[0m\u001b[0;34m)\u001b[0m\u001b[0;34m\u001b[0m\u001b[0;34m\u001b[0m\u001b[0m\n\u001b[0m\u001b[1;32m      4\u001b[0m   \u001b[0mresponse\u001b[0m\u001b[0;34m.\u001b[0m\u001b[0mappend\u001b[0m\u001b[0;34m(\u001b[0m\u001b[0mres\u001b[0m\u001b[0;34m)\u001b[0m\u001b[0;34m\u001b[0m\u001b[0;34m\u001b[0m\u001b[0m\n\u001b[1;32m      5\u001b[0m   \u001b[0mmetrics\u001b[0m \u001b[0;34m=\u001b[0m \u001b[0mevaluate_all_metrics\u001b[0m\u001b[0;34m(\u001b[0m\u001b[0mideal_res_doc\u001b[0m\u001b[0;34m[\u001b[0m\u001b[0mi\u001b[0m\u001b[0;34m]\u001b[0m\u001b[0;34m,\u001b[0m \u001b[0mresponse\u001b[0m\u001b[0;34m[\u001b[0m\u001b[0mi\u001b[0m\u001b[0;34m]\u001b[0m\u001b[0;34m)\u001b[0m\u001b[0;34m\u001b[0m\u001b[0;34m\u001b[0m\u001b[0m\n",
            "\u001b[0;32m/usr/local/lib/python3.10/dist-packages/langchain_core/runnables/base.py\u001b[0m in \u001b[0;36minvoke\u001b[0;34m(self, input, config, **kwargs)\u001b[0m\n\u001b[1;32m   3018\u001b[0m                 \u001b[0mcontext\u001b[0m\u001b[0;34m.\u001b[0m\u001b[0mrun\u001b[0m\u001b[0;34m(\u001b[0m\u001b[0m_set_config_context\u001b[0m\u001b[0;34m,\u001b[0m \u001b[0mconfig\u001b[0m\u001b[0;34m)\u001b[0m\u001b[0;34m\u001b[0m\u001b[0;34m\u001b[0m\u001b[0m\n\u001b[1;32m   3019\u001b[0m                 \u001b[0;32mif\u001b[0m \u001b[0mi\u001b[0m \u001b[0;34m==\u001b[0m \u001b[0;36m0\u001b[0m\u001b[0;34m:\u001b[0m\u001b[0;34m\u001b[0m\u001b[0;34m\u001b[0m\u001b[0m\n\u001b[0;32m-> 3020\u001b[0;31m                     \u001b[0minput\u001b[0m \u001b[0;34m=\u001b[0m \u001b[0mcontext\u001b[0m\u001b[0;34m.\u001b[0m\u001b[0mrun\u001b[0m\u001b[0;34m(\u001b[0m\u001b[0mstep\u001b[0m\u001b[0;34m.\u001b[0m\u001b[0minvoke\u001b[0m\u001b[0;34m,\u001b[0m \u001b[0minput\u001b[0m\u001b[0;34m,\u001b[0m \u001b[0mconfig\u001b[0m\u001b[0;34m,\u001b[0m \u001b[0;34m**\u001b[0m\u001b[0mkwargs\u001b[0m\u001b[0;34m)\u001b[0m\u001b[0;34m\u001b[0m\u001b[0;34m\u001b[0m\u001b[0m\n\u001b[0m\u001b[1;32m   3021\u001b[0m                 \u001b[0;32melse\u001b[0m\u001b[0;34m:\u001b[0m\u001b[0;34m\u001b[0m\u001b[0;34m\u001b[0m\u001b[0m\n\u001b[1;32m   3022\u001b[0m                     \u001b[0minput\u001b[0m \u001b[0;34m=\u001b[0m \u001b[0mcontext\u001b[0m\u001b[0;34m.\u001b[0m\u001b[0mrun\u001b[0m\u001b[0;34m(\u001b[0m\u001b[0mstep\u001b[0m\u001b[0;34m.\u001b[0m\u001b[0minvoke\u001b[0m\u001b[0;34m,\u001b[0m \u001b[0minput\u001b[0m\u001b[0;34m,\u001b[0m \u001b[0mconfig\u001b[0m\u001b[0;34m)\u001b[0m\u001b[0;34m\u001b[0m\u001b[0;34m\u001b[0m\u001b[0m\n",
            "\u001b[0;32m/usr/local/lib/python3.10/dist-packages/langchain_core/runnables/base.py\u001b[0m in \u001b[0;36minvoke\u001b[0;34m(self, input, config)\u001b[0m\n\u001b[1;32m   3721\u001b[0m                     \u001b[0;32mfor\u001b[0m \u001b[0mkey\u001b[0m\u001b[0;34m,\u001b[0m \u001b[0mstep\u001b[0m \u001b[0;32min\u001b[0m \u001b[0msteps\u001b[0m\u001b[0;34m.\u001b[0m\u001b[0mitems\u001b[0m\u001b[0;34m(\u001b[0m\u001b[0;34m)\u001b[0m\u001b[0;34m\u001b[0m\u001b[0;34m\u001b[0m\u001b[0m\n\u001b[1;32m   3722\u001b[0m                 ]\n\u001b[0;32m-> 3723\u001b[0;31m                 \u001b[0moutput\u001b[0m \u001b[0;34m=\u001b[0m \u001b[0;34m{\u001b[0m\u001b[0mkey\u001b[0m\u001b[0;34m:\u001b[0m \u001b[0mfuture\u001b[0m\u001b[0;34m.\u001b[0m\u001b[0mresult\u001b[0m\u001b[0;34m(\u001b[0m\u001b[0;34m)\u001b[0m \u001b[0;32mfor\u001b[0m \u001b[0mkey\u001b[0m\u001b[0;34m,\u001b[0m \u001b[0mfuture\u001b[0m \u001b[0;32min\u001b[0m \u001b[0mzip\u001b[0m\u001b[0;34m(\u001b[0m\u001b[0msteps\u001b[0m\u001b[0;34m,\u001b[0m \u001b[0mfutures\u001b[0m\u001b[0;34m)\u001b[0m\u001b[0;34m}\u001b[0m\u001b[0;34m\u001b[0m\u001b[0;34m\u001b[0m\u001b[0m\n\u001b[0m\u001b[1;32m   3724\u001b[0m         \u001b[0;31m# finish the root run\u001b[0m\u001b[0;34m\u001b[0m\u001b[0;34m\u001b[0m\u001b[0m\n\u001b[1;32m   3725\u001b[0m         \u001b[0;32mexcept\u001b[0m \u001b[0mBaseException\u001b[0m \u001b[0;32mas\u001b[0m \u001b[0me\u001b[0m\u001b[0;34m:\u001b[0m\u001b[0;34m\u001b[0m\u001b[0;34m\u001b[0m\u001b[0m\n",
            "\u001b[0;32m/usr/local/lib/python3.10/dist-packages/langchain_core/runnables/base.py\u001b[0m in \u001b[0;36m<dictcomp>\u001b[0;34m(.0)\u001b[0m\n\u001b[1;32m   3721\u001b[0m                     \u001b[0;32mfor\u001b[0m \u001b[0mkey\u001b[0m\u001b[0;34m,\u001b[0m \u001b[0mstep\u001b[0m \u001b[0;32min\u001b[0m \u001b[0msteps\u001b[0m\u001b[0;34m.\u001b[0m\u001b[0mitems\u001b[0m\u001b[0;34m(\u001b[0m\u001b[0;34m)\u001b[0m\u001b[0;34m\u001b[0m\u001b[0;34m\u001b[0m\u001b[0m\n\u001b[1;32m   3722\u001b[0m                 ]\n\u001b[0;32m-> 3723\u001b[0;31m                 \u001b[0moutput\u001b[0m \u001b[0;34m=\u001b[0m \u001b[0;34m{\u001b[0m\u001b[0mkey\u001b[0m\u001b[0;34m:\u001b[0m \u001b[0mfuture\u001b[0m\u001b[0;34m.\u001b[0m\u001b[0mresult\u001b[0m\u001b[0;34m(\u001b[0m\u001b[0;34m)\u001b[0m \u001b[0;32mfor\u001b[0m \u001b[0mkey\u001b[0m\u001b[0;34m,\u001b[0m \u001b[0mfuture\u001b[0m \u001b[0;32min\u001b[0m \u001b[0mzip\u001b[0m\u001b[0;34m(\u001b[0m\u001b[0msteps\u001b[0m\u001b[0;34m,\u001b[0m \u001b[0mfutures\u001b[0m\u001b[0;34m)\u001b[0m\u001b[0;34m}\u001b[0m\u001b[0;34m\u001b[0m\u001b[0;34m\u001b[0m\u001b[0m\n\u001b[0m\u001b[1;32m   3724\u001b[0m         \u001b[0;31m# finish the root run\u001b[0m\u001b[0;34m\u001b[0m\u001b[0;34m\u001b[0m\u001b[0m\n\u001b[1;32m   3725\u001b[0m         \u001b[0;32mexcept\u001b[0m \u001b[0mBaseException\u001b[0m \u001b[0;32mas\u001b[0m \u001b[0me\u001b[0m\u001b[0;34m:\u001b[0m\u001b[0;34m\u001b[0m\u001b[0;34m\u001b[0m\u001b[0m\n",
            "\u001b[0;32m/usr/lib/python3.10/concurrent/futures/_base.py\u001b[0m in \u001b[0;36mresult\u001b[0;34m(self, timeout)\u001b[0m\n\u001b[1;32m    451\u001b[0m                     \u001b[0;32mreturn\u001b[0m \u001b[0mself\u001b[0m\u001b[0;34m.\u001b[0m\u001b[0m__get_result\u001b[0m\u001b[0;34m(\u001b[0m\u001b[0;34m)\u001b[0m\u001b[0;34m\u001b[0m\u001b[0;34m\u001b[0m\u001b[0m\n\u001b[1;32m    452\u001b[0m \u001b[0;34m\u001b[0m\u001b[0m\n\u001b[0;32m--> 453\u001b[0;31m                 \u001b[0mself\u001b[0m\u001b[0;34m.\u001b[0m\u001b[0m_condition\u001b[0m\u001b[0;34m.\u001b[0m\u001b[0mwait\u001b[0m\u001b[0;34m(\u001b[0m\u001b[0mtimeout\u001b[0m\u001b[0;34m)\u001b[0m\u001b[0;34m\u001b[0m\u001b[0;34m\u001b[0m\u001b[0m\n\u001b[0m\u001b[1;32m    454\u001b[0m \u001b[0;34m\u001b[0m\u001b[0m\n\u001b[1;32m    455\u001b[0m                 \u001b[0;32mif\u001b[0m \u001b[0mself\u001b[0m\u001b[0;34m.\u001b[0m\u001b[0m_state\u001b[0m \u001b[0;32min\u001b[0m \u001b[0;34m[\u001b[0m\u001b[0mCANCELLED\u001b[0m\u001b[0;34m,\u001b[0m \u001b[0mCANCELLED_AND_NOTIFIED\u001b[0m\u001b[0;34m]\u001b[0m\u001b[0;34m:\u001b[0m\u001b[0;34m\u001b[0m\u001b[0;34m\u001b[0m\u001b[0m\n",
            "\u001b[0;32m/usr/lib/python3.10/threading.py\u001b[0m in \u001b[0;36mwait\u001b[0;34m(self, timeout)\u001b[0m\n\u001b[1;32m    318\u001b[0m         \u001b[0;32mtry\u001b[0m\u001b[0;34m:\u001b[0m    \u001b[0;31m# restore state no matter what (e.g., KeyboardInterrupt)\u001b[0m\u001b[0;34m\u001b[0m\u001b[0;34m\u001b[0m\u001b[0m\n\u001b[1;32m    319\u001b[0m             \u001b[0;32mif\u001b[0m \u001b[0mtimeout\u001b[0m \u001b[0;32mis\u001b[0m \u001b[0;32mNone\u001b[0m\u001b[0;34m:\u001b[0m\u001b[0;34m\u001b[0m\u001b[0;34m\u001b[0m\u001b[0m\n\u001b[0;32m--> 320\u001b[0;31m                 \u001b[0mwaiter\u001b[0m\u001b[0;34m.\u001b[0m\u001b[0macquire\u001b[0m\u001b[0;34m(\u001b[0m\u001b[0;34m)\u001b[0m\u001b[0;34m\u001b[0m\u001b[0;34m\u001b[0m\u001b[0m\n\u001b[0m\u001b[1;32m    321\u001b[0m                 \u001b[0mgotit\u001b[0m \u001b[0;34m=\u001b[0m \u001b[0;32mTrue\u001b[0m\u001b[0;34m\u001b[0m\u001b[0;34m\u001b[0m\u001b[0m\n\u001b[1;32m    322\u001b[0m             \u001b[0;32melse\u001b[0m\u001b[0;34m:\u001b[0m\u001b[0;34m\u001b[0m\u001b[0;34m\u001b[0m\u001b[0m\n",
            "\u001b[0;31mKeyboardInterrupt\u001b[0m: "
          ]
        }
      ]
    },
    {
      "cell_type": "code",
      "source": [
        "len(response)\n",
        "response[-1]"
      ],
      "metadata": {
        "colab": {
          "base_uri": "https://localhost:8080/",
          "height": 87
        },
        "id": "LPX9pf0QZ_b0",
        "outputId": "d20f906d-c866-4a27-828f-cd952ff6f900"
      },
      "execution_count": null,
      "outputs": [
        {
          "output_type": "execute_result",
          "data": {
            "text/plain": [
              "'Hello. Elevated ferritin could be from congenital hemochromatosis but HFE gene mutation is negative, so it is excluded. Secondly, a hemolytic condition also can be a possibility but serum LDH (lactic acid dehydrogenase) is needed to confirm. If you are having repeated blood transfusion history then provide history regarding that. I suggest you investigate with transferrin saturation as well next time when you investigate for ferritin. Do not worry about high serum ferritin as all other related parameters are also within range. If ferritin constantly remains elevated than phlebotomy can be done to decrease the ferritin level. Once transferrin saturation investigation has been done, provide history regarding that. Take care. For more information consult a hematologist online.'"
            ],
            "application/vnd.google.colaboratory.intrinsic+json": {
              "type": "string"
            }
          },
          "metadata": {},
          "execution_count": 139
        }
      ]
    },
    {
      "cell_type": "code",
      "source": [
        "print(\"Avg Cosine Similarity:\", cosSum/test_size)\n",
        "print(\"Avg BLEU Score:\", bleuSum/test_size)\n",
        "print(\"Avg ROUGE Score:\", rougeSum/test_size)\n",
        "print(\"Avg Levenshtein Distance:\", LevenshteinSum/test_size)"
      ],
      "metadata": {
        "execution": {
          "iopub.status.busy": "2024-09-28T04:49:12.885329Z",
          "iopub.execute_input": "2024-09-28T04:49:12.885824Z",
          "iopub.status.idle": "2024-09-28T04:49:12.893289Z",
          "shell.execute_reply.started": "2024-09-28T04:49:12.885774Z",
          "shell.execute_reply": "2024-09-28T04:49:12.89207Z"
        },
        "trusted": true,
        "id": "tx-uDwvGeoPG",
        "colab": {
          "base_uri": "https://localhost:8080/"
        },
        "outputId": "954ab127-45a0-48b7-8c68-49aaae6b4c73"
      },
      "execution_count": null,
      "outputs": [
        {
          "output_type": "stream",
          "name": "stdout",
          "text": [
            "Avg Cosine Similarity: 0.9594249083445623\n",
            "Avg BLEU Score: 0.809880547025691\n",
            "Avg ROUGE Score: 0.9274377926516716\n",
            "Avg Levenshtein Distance: 82.61538461538461\n"
          ]
        }
      ]
    },
    {
      "cell_type": "code",
      "source": [
        "ideal_res_doc[12]"
      ],
      "metadata": {
        "id": "FflPTA7eeoPG",
        "colab": {
          "base_uri": "https://localhost:8080/",
          "height": 87
        },
        "outputId": "8053f601-a62b-4db7-f389-b4065a0b2cef"
      },
      "execution_count": null,
      "outputs": [
        {
          "output_type": "execute_result",
          "data": {
            "text/plain": [
              "\"'Hello. Elevated ferritin could be from congenital hemochromatosis but HFE gene mutation is negative, so it is excluded (attachment removed to protect patient identity). Secondly, a hemolytic condition also can be a possibility but serum LDH (lactic acid dehy ChatDoctor.  If you are having repeated blood transfusion history then provide history regarding that.  I suggest you investigate with transferrin saturation as well next time when you investigate for ferritin. Do not worry about high serum ferritin as all other related parameters are also within range. If ferritin constantly remains elevated than phlebotomy can be done to decrease the ferritin level. Once transferrin saturation investigation has been done, provide history regarding that. Take care. For more information consult a hematologist online '\""
            ],
            "application/vnd.google.colaboratory.intrinsic+json": {
              "type": "string"
            }
          },
          "metadata": {},
          "execution_count": 144
        }
      ]
    },
    {
      "cell_type": "code",
      "source": [
        "response[]"
      ],
      "metadata": {
        "colab": {
          "base_uri": "https://localhost:8080/",
          "height": 106
        },
        "id": "U_O6hTGJaX1j",
        "outputId": "16cf8680-ae9b-4f76-a4ac-78c6a2ef687d"
      },
      "execution_count": null,
      "outputs": [
        {
          "output_type": "error",
          "ename": "SyntaxError",
          "evalue": "invalid syntax (<ipython-input-145-90e00f8cba21>, line 1)",
          "traceback": [
            "\u001b[0;36m  File \u001b[0;32m\"<ipython-input-145-90e00f8cba21>\"\u001b[0;36m, line \u001b[0;32m1\u001b[0m\n\u001b[0;31m    response[]\u001b[0m\n\u001b[0m             ^\u001b[0m\n\u001b[0;31mSyntaxError\u001b[0m\u001b[0;31m:\u001b[0m invalid syntax\n"
          ]
        }
      ]
    },
    {
      "cell_type": "code",
      "source": [
        "res = chain.invoke({\"question\": 'Hello I am 18 yo girl. I have five brown marks, two of them are 2 cm size and the other three of 0.5 cm. They are irregular in shape. Initial two marks appeared when I was 3 months old and now when I am 18 year old three more for added that are comparatively light and 0.5 cm of size. Are these birthmarks? Will they fade with the time? Do we need to take any precautions so that they do not increase or get added further? Can we also provide any medication to cure them?'})\n",
        "# response.append(res)\n",
        "metrics = evaluate_all_metrics(ideal_res_doc[49], res)\n",
        "print(\"\\n\\n\")\n",
        "print(metrics['Cosine Similarity'])\n",
        "print(metrics['BLEU'])\n",
        "print(metrics['ROUGE-L'])\n",
        "print(metrics['Levenshtein Distance'])\n",
        "print(question_user[49])\n",
        "print(res)\n",
        "print(ideal_res_doc[49])\n"
      ],
      "metadata": {
        "colab": {
          "base_uri": "https://localhost:8080/"
        },
        "id": "q0tROzWoa0ML",
        "outputId": "a1aa7da1-d05b-4e5a-9fb3-887d92283043"
      },
      "execution_count": null,
      "outputs": [
        {
          "output_type": "stream",
          "name": "stdout",
          "text": [
            "Search query: Hello I am 18 yo girl. I have five brown marks, two of them are 2 cm size and the other three of 0.5 cm. They are irregular in shape. Initial two marks appeared when I was 3 months old and now when I am 18 year old three more for added that are comparatively light and 0.5 cm of size. Are these birthmarks? Will they fade with the time? Do we need to take any precautions so that they do not increase or get added further? Can we also provide any medication to cure them?\n"
          ]
        },
        {
          "output_type": "stream",
          "name": "stderr",
          "text": [
            "WARNING:neo4j.notifications:Received notification from DBMS server: {severity: WARNING} {code: Neo.ClientNotification.Statement.FeatureDeprecationWarning} {category: DEPRECATION} {title: This feature is deprecated and will be removed in future versions.} {description: CALL subquery without a variable scope clause is now deprecated. Use CALL (node, node) { ... }} {position: line: 3, column: 13, offset: 104} for query: \"CALL db.index.fulltext.queryNodes('entity', $query, {limit:2})\\n            YIELD node,score\\n            CALL {\\n              WITH node\\n              MATCH (node)-[r:!MENTIONS]->(neighbor)\\n              RETURN node.id + ' - ' + type(r) + ' -> ' + neighbor.id AS output\\n              UNION ALL\\n              WITH node\\n              MATCH (node)<-[r:!MENTIONS]-(neighbor)\\n              RETURN neighbor.id + ' - ' + type(r) + ' -> ' +  node.id AS output\\n            }\\n            RETURN output LIMIT 50\\n            \"\n",
            "WARNING:neo4j.notifications:Received notification from DBMS server: {severity: WARNING} {code: Neo.ClientNotification.Statement.FeatureDeprecationWarning} {category: DEPRECATION} {title: This feature is deprecated and will be removed in future versions.} {description: CALL subquery without a variable scope clause is now deprecated. Use CALL (node, node) { ... }} {position: line: 3, column: 13, offset: 104} for query: \"CALL db.index.fulltext.queryNodes('entity', $query, {limit:2})\\n            YIELD node,score\\n            CALL {\\n              WITH node\\n              MATCH (node)-[r:!MENTIONS]->(neighbor)\\n              RETURN node.id + ' - ' + type(r) + ' -> ' + neighbor.id AS output\\n              UNION ALL\\n              WITH node\\n              MATCH (node)<-[r:!MENTIONS]-(neighbor)\\n              RETURN neighbor.id + ' - ' + type(r) + ' -> ' +  node.id AS output\\n            }\\n            RETURN output LIMIT 50\\n            \"\n",
            "WARNING:neo4j.notifications:Received notification from DBMS server: {severity: WARNING} {code: Neo.ClientNotification.Statement.FeatureDeprecationWarning} {category: DEPRECATION} {title: This feature is deprecated and will be removed in future versions.} {description: CALL subquery without a variable scope clause is now deprecated. Use CALL (node, node) { ... }} {position: line: 3, column: 13, offset: 104} for query: \"CALL db.index.fulltext.queryNodes('entity', $query, {limit:2})\\n            YIELD node,score\\n            CALL {\\n              WITH node\\n              MATCH (node)-[r:!MENTIONS]->(neighbor)\\n              RETURN node.id + ' - ' + type(r) + ' -> ' + neighbor.id AS output\\n              UNION ALL\\n              WITH node\\n              MATCH (node)<-[r:!MENTIONS]-(neighbor)\\n              RETURN neighbor.id + ' - ' + type(r) + ' -> ' +  node.id AS output\\n            }\\n            RETURN output LIMIT 50\\n            \"\n",
            "WARNING:neo4j.notifications:Received notification from DBMS server: {severity: WARNING} {code: Neo.ClientNotification.Statement.FeatureDeprecationWarning} {category: DEPRECATION} {title: This feature is deprecated and will be removed in future versions.} {description: CALL subquery without a variable scope clause is now deprecated. Use CALL (node, node) { ... }} {position: line: 3, column: 13, offset: 104} for query: \"CALL db.index.fulltext.queryNodes('entity', $query, {limit:2})\\n            YIELD node,score\\n            CALL {\\n              WITH node\\n              MATCH (node)-[r:!MENTIONS]->(neighbor)\\n              RETURN node.id + ' - ' + type(r) + ' -> ' + neighbor.id AS output\\n              UNION ALL\\n              WITH node\\n              MATCH (node)<-[r:!MENTIONS]-(neighbor)\\n              RETURN neighbor.id + ' - ' + type(r) + ' -> ' +  node.id AS output\\n            }\\n            RETURN output LIMIT 50\\n            \"\n",
            "WARNING:neo4j.notifications:Received notification from DBMS server: {severity: WARNING} {code: Neo.ClientNotification.Statement.FeatureDeprecationWarning} {category: DEPRECATION} {title: This feature is deprecated and will be removed in future versions.} {description: CALL subquery without a variable scope clause is now deprecated. Use CALL (node, node) { ... }} {position: line: 3, column: 13, offset: 104} for query: \"CALL db.index.fulltext.queryNodes('entity', $query, {limit:2})\\n            YIELD node,score\\n            CALL {\\n              WITH node\\n              MATCH (node)-[r:!MENTIONS]->(neighbor)\\n              RETURN node.id + ' - ' + type(r) + ' -> ' + neighbor.id AS output\\n              UNION ALL\\n              WITH node\\n              MATCH (node)<-[r:!MENTIONS]-(neighbor)\\n              RETURN neighbor.id + ' - ' + type(r) + ' -> ' +  node.id AS output\\n            }\\n            RETURN output LIMIT 50\\n            \"\n",
            "WARNING:neo4j.notifications:Received notification from DBMS server: {severity: WARNING} {code: Neo.ClientNotification.Statement.FeatureDeprecationWarning} {category: DEPRECATION} {title: This feature is deprecated and will be removed in future versions.} {description: CALL subquery without a variable scope clause is now deprecated. Use CALL (node, node) { ... }} {position: line: 3, column: 13, offset: 104} for query: \"CALL db.index.fulltext.queryNodes('entity', $query, {limit:2})\\n            YIELD node,score\\n            CALL {\\n              WITH node\\n              MATCH (node)-[r:!MENTIONS]->(neighbor)\\n              RETURN node.id + ' - ' + type(r) + ' -> ' + neighbor.id AS output\\n              UNION ALL\\n              WITH node\\n              MATCH (node)<-[r:!MENTIONS]-(neighbor)\\n              RETURN neighbor.id + ' - ' + type(r) + ' -> ' +  node.id AS output\\n            }\\n            RETURN output LIMIT 50\\n            \"\n",
            "WARNING:neo4j.notifications:Received notification from DBMS server: {severity: WARNING} {code: Neo.ClientNotification.Statement.FeatureDeprecationWarning} {category: DEPRECATION} {title: This feature is deprecated and will be removed in future versions.} {description: CALL subquery without a variable scope clause is now deprecated. Use CALL (node, node) { ... }} {position: line: 3, column: 13, offset: 104} for query: \"CALL db.index.fulltext.queryNodes('entity', $query, {limit:2})\\n            YIELD node,score\\n            CALL {\\n              WITH node\\n              MATCH (node)-[r:!MENTIONS]->(neighbor)\\n              RETURN node.id + ' - ' + type(r) + ' -> ' + neighbor.id AS output\\n              UNION ALL\\n              WITH node\\n              MATCH (node)<-[r:!MENTIONS]-(neighbor)\\n              RETURN neighbor.id + ' - ' + type(r) + ' -> ' +  node.id AS output\\n            }\\n            RETURN output LIMIT 50\\n            \"\n",
            "WARNING:neo4j.notifications:Received notification from DBMS server: {severity: WARNING} {code: Neo.ClientNotification.Statement.FeatureDeprecationWarning} {category: DEPRECATION} {title: This feature is deprecated and will be removed in future versions.} {description: CALL subquery without a variable scope clause is now deprecated. Use CALL (node, node) { ... }} {position: line: 3, column: 13, offset: 104} for query: \"CALL db.index.fulltext.queryNodes('entity', $query, {limit:2})\\n            YIELD node,score\\n            CALL {\\n              WITH node\\n              MATCH (node)-[r:!MENTIONS]->(neighbor)\\n              RETURN node.id + ' - ' + type(r) + ' -> ' + neighbor.id AS output\\n              UNION ALL\\n              WITH node\\n              MATCH (node)<-[r:!MENTIONS]-(neighbor)\\n              RETURN neighbor.id + ' - ' + type(r) + ' -> ' +  node.id AS output\\n            }\\n            RETURN output LIMIT 50\\n            \"\n",
            "WARNING:neo4j.notifications:Received notification from DBMS server: {severity: WARNING} {code: Neo.ClientNotification.Statement.FeatureDeprecationWarning} {category: DEPRECATION} {title: This feature is deprecated and will be removed in future versions.} {description: CALL subquery without a variable scope clause is now deprecated. Use CALL () { ... }} {position: line: 1, column: 1, offset: 0} for query: \"CALL { CALL db.index.vector.queryNodes($index, $k, $embedding) YIELD node, score WITH collect({node:node, score:score}) AS nodes, max(score) AS max UNWIND nodes AS n RETURN n.node AS node, (n.score / max) AS score UNION CALL db.index.fulltext.queryNodes($keyword_index, $query, {limit: $k}) YIELD node, score WITH collect({node:node, score:score}) AS nodes, max(score) AS max UNWIND nodes AS n RETURN n.node AS node, (n.score / max) AS score } WITH node, max(score) AS score ORDER BY score DESC LIMIT $k RETURN reduce(str='', k IN ['text'] | str + '\\\\n' + k + ': ' + coalesce(node[k], '')) AS text, node {.*, `embedding`: Null, id: Null, `text`: Null} AS metadata, score\"\n",
            "/usr/local/lib/python3.10/dist-packages/transformers/tokenization_utils_base.py:1601: FutureWarning: `clean_up_tokenization_spaces` was not set. It will be set to `True` by default. This behavior will be depracted in transformers v4.45, and will be then set to `False` by default. For more details check this issue: https://github.com/huggingface/transformers/issues/31884\n",
            "  warnings.warn(\n"
          ]
        },
        {
          "output_type": "stream",
          "name": "stdout",
          "text": [
            "\n",
            "\n",
            "\n",
            "0.82958823\n",
            "0.4397645271696075\n",
            "0.6947368421052632\n",
            "98\n",
            "'Hello doctor,We have a 9-month-old baby girl. She has five brown marks, two of them are 2 cm size and the other three of 0.5 cm. They are irregular in shape. Initial two marks appeared when she was 3 months old and now when she is 9 months three more for added that are comparatively light and 0.5 cm of size. Are these birthmarks? Will they fade with the time? Do we need to take any precautions so that they do not increase or get added further? Can we also provide any medication to cure them?'\n",
            "Hi. On the basis of history, it seems to be cafe lait macules. However, I need photographs of the lesion to be sure. Presently, I will not suggest any medications as these are generally harmless. Kindly review with photographs. Take care.\n",
            "'Hi. Please send me a photograph of the lesion. On the basis of history, it seems to be cafe lait macules, but to be sure I need photographs of the lesion. Presently, I will not suggest any medications as baby is small and I need to be sure. Kindly review with photographs.  Take care.'\n"
          ]
        }
      ]
    },
    {
      "cell_type": "code",
      "source": [],
      "metadata": {
        "id": "DmmKd_WGbPiT"
      },
      "execution_count": null,
      "outputs": []
    }
  ]
}